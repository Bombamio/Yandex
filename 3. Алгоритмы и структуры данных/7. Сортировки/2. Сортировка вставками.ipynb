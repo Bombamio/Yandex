{
 "cells": [
  {
   "cell_type": "markdown",
   "id": "6e66ec72",
   "metadata": {},
   "source": [
    "***\n",
    "## Реализация алгоритма сортировки вставками\n",
    "\n",
    "При сортировке вставками массив условно разделяется на две части: левую, отсортированную, и правую, неотсортированную. В начале работы в левой части обязательно есть один элемент — первый в исходном массиве: ведь один элемент всегда «отсортирован»! \n",
    "\n",
    "При выполнении сортировки поочерёдно рассматривают каждый элемент в правой части и по одному переставляют в левую часть так, чтобы после каждой вставки левая часть массива оставалась отсортированной. \n",
    "\n",
    "Чтобы переставить очередной элемент из правой части массива в левую, нужно «освободить для него место» — сдвинуть все элементы, которые больше добавляемого элемента, на одну позицию вправо. После этого переставляемый элемент можно поместить на освободившееся место."
   ]
  },
  {
   "cell_type": "markdown",
   "id": "49d8e464",
   "metadata": {},
   "source": [
    "На каждой итерации берём очередной элемент, сохраняем его значение в переменную `current`. И начинаем поочерёдно сравнивать это значение с элементами, которые расположены левее `current`. \n",
    "\n",
    "Если значение очередного элемента оказывается больше `current`, то этот элемент надо сдвинуть вправо, «освободив место» левее. После этого нужно сравнить `current` со следующим элементом. \n",
    "\n",
    "Для каждого `current` эту проверку надо проводить до тех пор:\n",
    "\n",
    "* пока не найдётся элемент, который меньше или равен `current` (в этой ситуации `current` надо вставить правее найденного элемента);\n",
    "\n",
    "* либо пока при переборе не достигнуто начало массива (это означает, что левее `current` нет элементов, больших, чем сам `current`, и переставлять его не нужно)."
   ]
  },
  {
   "cell_type": "code",
   "execution_count": 1,
   "id": "5262e55d",
   "metadata": {},
   "outputs": [
    {
     "name": "stdout",
     "output_type": "stream",
     "text": [
      "Шаг 1, отсортировано элементов: 2, [2, 9, 11, 7, 1]\n",
      "Шаг 2, отсортировано элементов: 3, [2, 9, 11, 7, 1]\n",
      "Шаг 3, отсортировано элементов: 4, [2, 7, 9, 11, 1]\n",
      "Шаг 4, отсортировано элементов: 5, [1, 2, 7, 9, 11]\n"
     ]
    }
   ],
   "source": [
    "def insertion_sort(arr):\n",
    "    # Проходим по всем элементам массива, начиная со второго.\n",
    "    for i in range(1, len(arr)):\n",
    "        # Сохраняем текущий элемент в переменную current.\n",
    "        current = arr[i]\n",
    "        # Сохраняем индекс предыдущего элемента \n",
    "        # в переменную prev (от previous - предыдущий).\n",
    "        prev = i - 1\n",
    "        # Сравниваем current с предыдущим элементом \n",
    "        # и двигаем предыдущий элемент на одну позицию вправо, \n",
    "        # пока он больше current и не достигнуто начало массива.\n",
    "        while prev >= 0 and arr[prev] > current:\n",
    "            arr[prev + 1] = arr[prev]\n",
    "            prev -= 1\n",
    "        # Вставляем current в отсортированную часть массива на нужное место.\n",
    "        arr[prev + 1] = current \n",
    "        print(f'Шаг {i}, отсортировано элементов: {i + 1}, {arr}')\n",
    "\n",
    "\n",
    "insertion_sort([2, 9, 11, 7, 1])"
   ]
  },
  {
   "cell_type": "code",
   "execution_count": 25,
   "id": "08a5945a",
   "metadata": {},
   "outputs": [
    {
     "name": "stdout",
     "output_type": "stream",
     "text": [
      "2 2 2 1 4 3 3 9 6 7 19\n"
     ]
    }
   ],
   "source": [
    "def sort(\n",
    "        len_data: int,\n",
    "        data: list[int],\n",
    "        len_template: int,\n",
    "        template: list[int]):\n",
    "    \"\"\"Сортировка вставками.\"\"\"\n",
    "    n = 0\n",
    "    for i in range(len_template):\n",
    "        for j in range(len_data):\n",
    "            if data[j] != template[i]:\n",
    "                continue\n",
    "            current = data[j]\n",
    "            data[j] = data[n]\n",
    "            data[n] = current\n",
    "            n += 1\n",
    "    for i in range(n + 1, len_data):\n",
    "        current = data[i]\n",
    "        prev = i - 1\n",
    "        while prev >= n and data[prev] > current:\n",
    "            data[prev + 1] = data[prev]\n",
    "            prev -= 1\n",
    "        data[prev + 1] = current \n",
    "    return [str(i) for i in data]\n",
    "\n",
    "len_data = 11\n",
    "data = [2, 3, 1, 3, 2, 4, 6, 7, 9, 2, 19]\n",
    "len_template = 6\n",
    "template = [2, 1, 4, 3, 9, 6]\n",
    "\n",
    "print(' '.join(sort(len_data, data, len_template, template)))"
   ]
  },
  {
   "cell_type": "markdown",
   "id": "d027c83e",
   "metadata": {},
   "source": [
    "3 3 10 5 9 2 7 6 0 4 8"
   ]
  },
  {
   "cell_type": "code",
   "execution_count": 24,
   "id": "5d28ac29",
   "metadata": {},
   "outputs": [
    {
     "name": "stdout",
     "output_type": "stream",
     "text": [
      "['2', '2', '2', '1', '4', '3', '3', '9', '6', '7', '19']\n"
     ]
    }
   ],
   "source": [
    "a = [2, 2, 2, 1, 4, 3, 3, 9, 6, 7, 19]\n",
    "print([str(i) for i in a])"
   ]
  }
 ],
 "metadata": {
  "kernelspec": {
   "display_name": ".venv",
   "language": "python",
   "name": "python3"
  },
  "language_info": {
   "codemirror_mode": {
    "name": "ipython",
    "version": 3
   },
   "file_extension": ".py",
   "mimetype": "text/x-python",
   "name": "python",
   "nbconvert_exporter": "python",
   "pygments_lexer": "ipython3",
   "version": "3.12.7"
  }
 },
 "nbformat": 4,
 "nbformat_minor": 5
}
