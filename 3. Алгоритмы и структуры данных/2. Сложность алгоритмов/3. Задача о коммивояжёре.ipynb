{
 "cells": [
  {
   "cell_type": "markdown",
   "id": "55ce18d0",
   "metadata": {},
   "source": [
    "## Модуль itertools и генераторы\n",
    "\n",
    "Это задача из области `комбинаторики`. Можно написать комбинирующую программу самостоятельно, но в Python, в [модуле itertools](https://docs.python.org/3/library/itertools.html), есть готовая функция, которая позволяет комбинировать любые последовательности объектов.\n",
    "\n",
    "Название модуля составлено из слов *iter* и *tools*, где *tools* — это «инструменты», а *iter* указывает на то, что функции этого модуля возвращают итерируемые объекты."
   ]
  },
  {
   "cell_type": "code",
   "execution_count": 1,
   "id": "d58a3a3c",
   "metadata": {},
   "outputs": [
    {
     "name": "stdout",
     "output_type": "stream",
     "text": [
      "('Gale', 'Jezero', 'Gusev', 'Meridiani', 'Elysium')\n",
      "('Gale', 'Jezero', 'Gusev', 'Elysium', 'Meridiani')\n",
      "('Gale', 'Jezero', 'Meridiani', 'Gusev', 'Elysium')\n",
      "('Gale', 'Jezero', 'Meridiani', 'Elysium', 'Gusev')\n",
      "('Gale', 'Jezero', 'Elysium', 'Gusev', 'Meridiani')\n",
      "('Gale', 'Jezero', 'Elysium', 'Meridiani', 'Gusev')\n",
      "('Gale', 'Gusev', 'Jezero', 'Meridiani', 'Elysium')\n",
      "('Gale', 'Gusev', 'Jezero', 'Elysium', 'Meridiani')\n",
      "('Gale', 'Gusev', 'Meridiani', 'Jezero', 'Elysium')\n",
      "('Gale', 'Gusev', 'Meridiani', 'Elysium', 'Jezero')\n",
      "('Gale', 'Gusev', 'Elysium', 'Jezero', 'Meridiani')\n",
      "('Gale', 'Gusev', 'Elysium', 'Meridiani', 'Jezero')\n",
      "('Gale', 'Meridiani', 'Jezero', 'Gusev', 'Elysium')\n",
      "('Gale', 'Meridiani', 'Jezero', 'Elysium', 'Gusev')\n",
      "('Gale', 'Meridiani', 'Gusev', 'Jezero', 'Elysium')\n",
      "('Gale', 'Meridiani', 'Gusev', 'Elysium', 'Jezero')\n",
      "('Gale', 'Meridiani', 'Elysium', 'Jezero', 'Gusev')\n",
      "('Gale', 'Meridiani', 'Elysium', 'Gusev', 'Jezero')\n",
      "('Gale', 'Elysium', 'Jezero', 'Gusev', 'Meridiani')\n",
      "('Gale', 'Elysium', 'Jezero', 'Meridiani', 'Gusev')\n",
      "('Gale', 'Elysium', 'Gusev', 'Jezero', 'Meridiani')\n",
      "('Gale', 'Elysium', 'Gusev', 'Meridiani', 'Jezero')\n",
      "('Gale', 'Elysium', 'Meridiani', 'Jezero', 'Gusev')\n",
      "('Gale', 'Elysium', 'Meridiani', 'Gusev', 'Jezero')\n",
      "('Jezero', 'Gale', 'Gusev', 'Meridiani', 'Elysium')\n",
      "('Jezero', 'Gale', 'Gusev', 'Elysium', 'Meridiani')\n",
      "('Jezero', 'Gale', 'Meridiani', 'Gusev', 'Elysium')\n",
      "('Jezero', 'Gale', 'Meridiani', 'Elysium', 'Gusev')\n",
      "('Jezero', 'Gale', 'Elysium', 'Gusev', 'Meridiani')\n",
      "('Jezero', 'Gale', 'Elysium', 'Meridiani', 'Gusev')\n",
      "('Jezero', 'Gusev', 'Gale', 'Meridiani', 'Elysium')\n",
      "('Jezero', 'Gusev', 'Gale', 'Elysium', 'Meridiani')\n",
      "('Jezero', 'Gusev', 'Meridiani', 'Gale', 'Elysium')\n",
      "('Jezero', 'Gusev', 'Meridiani', 'Elysium', 'Gale')\n",
      "('Jezero', 'Gusev', 'Elysium', 'Gale', 'Meridiani')\n",
      "('Jezero', 'Gusev', 'Elysium', 'Meridiani', 'Gale')\n",
      "('Jezero', 'Meridiani', 'Gale', 'Gusev', 'Elysium')\n",
      "('Jezero', 'Meridiani', 'Gale', 'Elysium', 'Gusev')\n",
      "('Jezero', 'Meridiani', 'Gusev', 'Gale', 'Elysium')\n",
      "('Jezero', 'Meridiani', 'Gusev', 'Elysium', 'Gale')\n",
      "('Jezero', 'Meridiani', 'Elysium', 'Gale', 'Gusev')\n",
      "('Jezero', 'Meridiani', 'Elysium', 'Gusev', 'Gale')\n",
      "('Jezero', 'Elysium', 'Gale', 'Gusev', 'Meridiani')\n",
      "('Jezero', 'Elysium', 'Gale', 'Meridiani', 'Gusev')\n",
      "('Jezero', 'Elysium', 'Gusev', 'Gale', 'Meridiani')\n",
      "('Jezero', 'Elysium', 'Gusev', 'Meridiani', 'Gale')\n",
      "('Jezero', 'Elysium', 'Meridiani', 'Gale', 'Gusev')\n",
      "('Jezero', 'Elysium', 'Meridiani', 'Gusev', 'Gale')\n",
      "('Gusev', 'Gale', 'Jezero', 'Meridiani', 'Elysium')\n",
      "('Gusev', 'Gale', 'Jezero', 'Elysium', 'Meridiani')\n",
      "('Gusev', 'Gale', 'Meridiani', 'Jezero', 'Elysium')\n",
      "('Gusev', 'Gale', 'Meridiani', 'Elysium', 'Jezero')\n",
      "('Gusev', 'Gale', 'Elysium', 'Jezero', 'Meridiani')\n",
      "('Gusev', 'Gale', 'Elysium', 'Meridiani', 'Jezero')\n",
      "('Gusev', 'Jezero', 'Gale', 'Meridiani', 'Elysium')\n",
      "('Gusev', 'Jezero', 'Gale', 'Elysium', 'Meridiani')\n",
      "('Gusev', 'Jezero', 'Meridiani', 'Gale', 'Elysium')\n",
      "('Gusev', 'Jezero', 'Meridiani', 'Elysium', 'Gale')\n",
      "('Gusev', 'Jezero', 'Elysium', 'Gale', 'Meridiani')\n",
      "('Gusev', 'Jezero', 'Elysium', 'Meridiani', 'Gale')\n",
      "('Gusev', 'Meridiani', 'Gale', 'Jezero', 'Elysium')\n",
      "('Gusev', 'Meridiani', 'Gale', 'Elysium', 'Jezero')\n",
      "('Gusev', 'Meridiani', 'Jezero', 'Gale', 'Elysium')\n",
      "('Gusev', 'Meridiani', 'Jezero', 'Elysium', 'Gale')\n",
      "('Gusev', 'Meridiani', 'Elysium', 'Gale', 'Jezero')\n",
      "('Gusev', 'Meridiani', 'Elysium', 'Jezero', 'Gale')\n",
      "('Gusev', 'Elysium', 'Gale', 'Jezero', 'Meridiani')\n",
      "('Gusev', 'Elysium', 'Gale', 'Meridiani', 'Jezero')\n",
      "('Gusev', 'Elysium', 'Jezero', 'Gale', 'Meridiani')\n",
      "('Gusev', 'Elysium', 'Jezero', 'Meridiani', 'Gale')\n",
      "('Gusev', 'Elysium', 'Meridiani', 'Gale', 'Jezero')\n",
      "('Gusev', 'Elysium', 'Meridiani', 'Jezero', 'Gale')\n",
      "('Meridiani', 'Gale', 'Jezero', 'Gusev', 'Elysium')\n",
      "('Meridiani', 'Gale', 'Jezero', 'Elysium', 'Gusev')\n",
      "('Meridiani', 'Gale', 'Gusev', 'Jezero', 'Elysium')\n",
      "('Meridiani', 'Gale', 'Gusev', 'Elysium', 'Jezero')\n",
      "('Meridiani', 'Gale', 'Elysium', 'Jezero', 'Gusev')\n",
      "('Meridiani', 'Gale', 'Elysium', 'Gusev', 'Jezero')\n",
      "('Meridiani', 'Jezero', 'Gale', 'Gusev', 'Elysium')\n",
      "('Meridiani', 'Jezero', 'Gale', 'Elysium', 'Gusev')\n",
      "('Meridiani', 'Jezero', 'Gusev', 'Gale', 'Elysium')\n",
      "('Meridiani', 'Jezero', 'Gusev', 'Elysium', 'Gale')\n",
      "('Meridiani', 'Jezero', 'Elysium', 'Gale', 'Gusev')\n",
      "('Meridiani', 'Jezero', 'Elysium', 'Gusev', 'Gale')\n",
      "('Meridiani', 'Gusev', 'Gale', 'Jezero', 'Elysium')\n",
      "('Meridiani', 'Gusev', 'Gale', 'Elysium', 'Jezero')\n",
      "('Meridiani', 'Gusev', 'Jezero', 'Gale', 'Elysium')\n",
      "('Meridiani', 'Gusev', 'Jezero', 'Elysium', 'Gale')\n",
      "('Meridiani', 'Gusev', 'Elysium', 'Gale', 'Jezero')\n",
      "('Meridiani', 'Gusev', 'Elysium', 'Jezero', 'Gale')\n",
      "('Meridiani', 'Elysium', 'Gale', 'Jezero', 'Gusev')\n",
      "('Meridiani', 'Elysium', 'Gale', 'Gusev', 'Jezero')\n",
      "('Meridiani', 'Elysium', 'Jezero', 'Gale', 'Gusev')\n",
      "('Meridiani', 'Elysium', 'Jezero', 'Gusev', 'Gale')\n",
      "('Meridiani', 'Elysium', 'Gusev', 'Gale', 'Jezero')\n",
      "('Meridiani', 'Elysium', 'Gusev', 'Jezero', 'Gale')\n",
      "('Elysium', 'Gale', 'Jezero', 'Gusev', 'Meridiani')\n",
      "('Elysium', 'Gale', 'Jezero', 'Meridiani', 'Gusev')\n",
      "('Elysium', 'Gale', 'Gusev', 'Jezero', 'Meridiani')\n",
      "('Elysium', 'Gale', 'Gusev', 'Meridiani', 'Jezero')\n",
      "('Elysium', 'Gale', 'Meridiani', 'Jezero', 'Gusev')\n",
      "('Elysium', 'Gale', 'Meridiani', 'Gusev', 'Jezero')\n",
      "('Elysium', 'Jezero', 'Gale', 'Gusev', 'Meridiani')\n",
      "('Elysium', 'Jezero', 'Gale', 'Meridiani', 'Gusev')\n",
      "('Elysium', 'Jezero', 'Gusev', 'Gale', 'Meridiani')\n",
      "('Elysium', 'Jezero', 'Gusev', 'Meridiani', 'Gale')\n",
      "('Elysium', 'Jezero', 'Meridiani', 'Gale', 'Gusev')\n",
      "('Elysium', 'Jezero', 'Meridiani', 'Gusev', 'Gale')\n",
      "('Elysium', 'Gusev', 'Gale', 'Jezero', 'Meridiani')\n",
      "('Elysium', 'Gusev', 'Gale', 'Meridiani', 'Jezero')\n",
      "('Elysium', 'Gusev', 'Jezero', 'Gale', 'Meridiani')\n",
      "('Elysium', 'Gusev', 'Jezero', 'Meridiani', 'Gale')\n",
      "('Elysium', 'Gusev', 'Meridiani', 'Gale', 'Jezero')\n",
      "('Elysium', 'Gusev', 'Meridiani', 'Jezero', 'Gale')\n",
      "('Elysium', 'Meridiani', 'Gale', 'Jezero', 'Gusev')\n",
      "('Elysium', 'Meridiani', 'Gale', 'Gusev', 'Jezero')\n",
      "('Elysium', 'Meridiani', 'Jezero', 'Gale', 'Gusev')\n",
      "('Elysium', 'Meridiani', 'Jezero', 'Gusev', 'Gale')\n",
      "('Elysium', 'Meridiani', 'Gusev', 'Gale', 'Jezero')\n",
      "('Elysium', 'Meridiani', 'Gusev', 'Jezero', 'Gale')\n"
     ]
    }
   ],
   "source": [
    "from itertools import permutations\n",
    "\n",
    "places = ('Gale', 'Jezero', 'Gusev', 'Meridiani', 'Elysium')\n",
    "\n",
    "# Получим все возможные комбинации элементов кортежа places...\n",
    "combinations = permutations(places)\n",
    "# ...и проитерируемся по объекту с этими комбинациями:\n",
    "for travel_path in combinations:\n",
    "    print(travel_path)"
   ]
  },
  {
   "cell_type": "markdown",
   "id": "b84060d0",
   "metadata": {},
   "source": [
    "Посмотрим, сколько получилось маршрутов и как они выглядят. Для этого применим функцию `enumerate()` — она получает на вход коллекцию и возвращает итерируемый объект — коллекцию кортежей; каждый кортеж состоит из двух элементов: индекса элемента и его значения."
   ]
  },
  {
   "cell_type": "code",
   "execution_count": 1,
   "id": "6e8e203f",
   "metadata": {},
   "outputs": [
    {
     "name": "stdout",
     "output_type": "stream",
     "text": [
      "0 ('Gale', 'Jezero', 'Gusev', 'Meridiani', 'Elysium')\n",
      "1 ('Gale', 'Jezero', 'Gusev', 'Elysium', 'Meridiani')\n",
      "2 ('Gale', 'Jezero', 'Meridiani', 'Gusev', 'Elysium')\n",
      "3 ('Gale', 'Jezero', 'Meridiani', 'Elysium', 'Gusev')\n",
      "4 ('Gale', 'Jezero', 'Elysium', 'Gusev', 'Meridiani')\n",
      "5 ('Gale', 'Jezero', 'Elysium', 'Meridiani', 'Gusev')\n",
      "6 ('Gale', 'Gusev', 'Jezero', 'Meridiani', 'Elysium')\n",
      "7 ('Gale', 'Gusev', 'Jezero', 'Elysium', 'Meridiani')\n",
      "8 ('Gale', 'Gusev', 'Meridiani', 'Jezero', 'Elysium')\n",
      "9 ('Gale', 'Gusev', 'Meridiani', 'Elysium', 'Jezero')\n",
      "10 ('Gale', 'Gusev', 'Elysium', 'Jezero', 'Meridiani')\n",
      "11 ('Gale', 'Gusev', 'Elysium', 'Meridiani', 'Jezero')\n",
      "12 ('Gale', 'Meridiani', 'Jezero', 'Gusev', 'Elysium')\n",
      "13 ('Gale', 'Meridiani', 'Jezero', 'Elysium', 'Gusev')\n",
      "14 ('Gale', 'Meridiani', 'Gusev', 'Jezero', 'Elysium')\n",
      "15 ('Gale', 'Meridiani', 'Gusev', 'Elysium', 'Jezero')\n",
      "16 ('Gale', 'Meridiani', 'Elysium', 'Jezero', 'Gusev')\n",
      "17 ('Gale', 'Meridiani', 'Elysium', 'Gusev', 'Jezero')\n",
      "18 ('Gale', 'Elysium', 'Jezero', 'Gusev', 'Meridiani')\n",
      "19 ('Gale', 'Elysium', 'Jezero', 'Meridiani', 'Gusev')\n",
      "20 ('Gale', 'Elysium', 'Gusev', 'Jezero', 'Meridiani')\n",
      "21 ('Gale', 'Elysium', 'Gusev', 'Meridiani', 'Jezero')\n",
      "22 ('Gale', 'Elysium', 'Meridiani', 'Jezero', 'Gusev')\n",
      "23 ('Gale', 'Elysium', 'Meridiani', 'Gusev', 'Jezero')\n",
      "24 ('Jezero', 'Gale', 'Gusev', 'Meridiani', 'Elysium')\n",
      "25 ('Jezero', 'Gale', 'Gusev', 'Elysium', 'Meridiani')\n",
      "26 ('Jezero', 'Gale', 'Meridiani', 'Gusev', 'Elysium')\n",
      "27 ('Jezero', 'Gale', 'Meridiani', 'Elysium', 'Gusev')\n",
      "28 ('Jezero', 'Gale', 'Elysium', 'Gusev', 'Meridiani')\n",
      "29 ('Jezero', 'Gale', 'Elysium', 'Meridiani', 'Gusev')\n",
      "30 ('Jezero', 'Gusev', 'Gale', 'Meridiani', 'Elysium')\n",
      "31 ('Jezero', 'Gusev', 'Gale', 'Elysium', 'Meridiani')\n",
      "32 ('Jezero', 'Gusev', 'Meridiani', 'Gale', 'Elysium')\n",
      "33 ('Jezero', 'Gusev', 'Meridiani', 'Elysium', 'Gale')\n",
      "34 ('Jezero', 'Gusev', 'Elysium', 'Gale', 'Meridiani')\n",
      "35 ('Jezero', 'Gusev', 'Elysium', 'Meridiani', 'Gale')\n",
      "36 ('Jezero', 'Meridiani', 'Gale', 'Gusev', 'Elysium')\n",
      "37 ('Jezero', 'Meridiani', 'Gale', 'Elysium', 'Gusev')\n",
      "38 ('Jezero', 'Meridiani', 'Gusev', 'Gale', 'Elysium')\n",
      "39 ('Jezero', 'Meridiani', 'Gusev', 'Elysium', 'Gale')\n",
      "40 ('Jezero', 'Meridiani', 'Elysium', 'Gale', 'Gusev')\n",
      "41 ('Jezero', 'Meridiani', 'Elysium', 'Gusev', 'Gale')\n",
      "42 ('Jezero', 'Elysium', 'Gale', 'Gusev', 'Meridiani')\n",
      "43 ('Jezero', 'Elysium', 'Gale', 'Meridiani', 'Gusev')\n",
      "44 ('Jezero', 'Elysium', 'Gusev', 'Gale', 'Meridiani')\n",
      "45 ('Jezero', 'Elysium', 'Gusev', 'Meridiani', 'Gale')\n",
      "46 ('Jezero', 'Elysium', 'Meridiani', 'Gale', 'Gusev')\n",
      "47 ('Jezero', 'Elysium', 'Meridiani', 'Gusev', 'Gale')\n",
      "48 ('Gusev', 'Gale', 'Jezero', 'Meridiani', 'Elysium')\n",
      "49 ('Gusev', 'Gale', 'Jezero', 'Elysium', 'Meridiani')\n",
      "50 ('Gusev', 'Gale', 'Meridiani', 'Jezero', 'Elysium')\n",
      "51 ('Gusev', 'Gale', 'Meridiani', 'Elysium', 'Jezero')\n",
      "52 ('Gusev', 'Gale', 'Elysium', 'Jezero', 'Meridiani')\n",
      "53 ('Gusev', 'Gale', 'Elysium', 'Meridiani', 'Jezero')\n",
      "54 ('Gusev', 'Jezero', 'Gale', 'Meridiani', 'Elysium')\n",
      "55 ('Gusev', 'Jezero', 'Gale', 'Elysium', 'Meridiani')\n",
      "56 ('Gusev', 'Jezero', 'Meridiani', 'Gale', 'Elysium')\n",
      "57 ('Gusev', 'Jezero', 'Meridiani', 'Elysium', 'Gale')\n",
      "58 ('Gusev', 'Jezero', 'Elysium', 'Gale', 'Meridiani')\n",
      "59 ('Gusev', 'Jezero', 'Elysium', 'Meridiani', 'Gale')\n",
      "60 ('Gusev', 'Meridiani', 'Gale', 'Jezero', 'Elysium')\n",
      "61 ('Gusev', 'Meridiani', 'Gale', 'Elysium', 'Jezero')\n",
      "62 ('Gusev', 'Meridiani', 'Jezero', 'Gale', 'Elysium')\n",
      "63 ('Gusev', 'Meridiani', 'Jezero', 'Elysium', 'Gale')\n",
      "64 ('Gusev', 'Meridiani', 'Elysium', 'Gale', 'Jezero')\n",
      "65 ('Gusev', 'Meridiani', 'Elysium', 'Jezero', 'Gale')\n",
      "66 ('Gusev', 'Elysium', 'Gale', 'Jezero', 'Meridiani')\n",
      "67 ('Gusev', 'Elysium', 'Gale', 'Meridiani', 'Jezero')\n",
      "68 ('Gusev', 'Elysium', 'Jezero', 'Gale', 'Meridiani')\n",
      "69 ('Gusev', 'Elysium', 'Jezero', 'Meridiani', 'Gale')\n",
      "70 ('Gusev', 'Elysium', 'Meridiani', 'Gale', 'Jezero')\n",
      "71 ('Gusev', 'Elysium', 'Meridiani', 'Jezero', 'Gale')\n",
      "72 ('Meridiani', 'Gale', 'Jezero', 'Gusev', 'Elysium')\n",
      "73 ('Meridiani', 'Gale', 'Jezero', 'Elysium', 'Gusev')\n",
      "74 ('Meridiani', 'Gale', 'Gusev', 'Jezero', 'Elysium')\n",
      "75 ('Meridiani', 'Gale', 'Gusev', 'Elysium', 'Jezero')\n",
      "76 ('Meridiani', 'Gale', 'Elysium', 'Jezero', 'Gusev')\n",
      "77 ('Meridiani', 'Gale', 'Elysium', 'Gusev', 'Jezero')\n",
      "78 ('Meridiani', 'Jezero', 'Gale', 'Gusev', 'Elysium')\n",
      "79 ('Meridiani', 'Jezero', 'Gale', 'Elysium', 'Gusev')\n",
      "80 ('Meridiani', 'Jezero', 'Gusev', 'Gale', 'Elysium')\n",
      "81 ('Meridiani', 'Jezero', 'Gusev', 'Elysium', 'Gale')\n",
      "82 ('Meridiani', 'Jezero', 'Elysium', 'Gale', 'Gusev')\n",
      "83 ('Meridiani', 'Jezero', 'Elysium', 'Gusev', 'Gale')\n",
      "84 ('Meridiani', 'Gusev', 'Gale', 'Jezero', 'Elysium')\n",
      "85 ('Meridiani', 'Gusev', 'Gale', 'Elysium', 'Jezero')\n",
      "86 ('Meridiani', 'Gusev', 'Jezero', 'Gale', 'Elysium')\n",
      "87 ('Meridiani', 'Gusev', 'Jezero', 'Elysium', 'Gale')\n",
      "88 ('Meridiani', 'Gusev', 'Elysium', 'Gale', 'Jezero')\n",
      "89 ('Meridiani', 'Gusev', 'Elysium', 'Jezero', 'Gale')\n",
      "90 ('Meridiani', 'Elysium', 'Gale', 'Jezero', 'Gusev')\n",
      "91 ('Meridiani', 'Elysium', 'Gale', 'Gusev', 'Jezero')\n",
      "92 ('Meridiani', 'Elysium', 'Jezero', 'Gale', 'Gusev')\n",
      "93 ('Meridiani', 'Elysium', 'Jezero', 'Gusev', 'Gale')\n",
      "94 ('Meridiani', 'Elysium', 'Gusev', 'Gale', 'Jezero')\n",
      "95 ('Meridiani', 'Elysium', 'Gusev', 'Jezero', 'Gale')\n",
      "96 ('Elysium', 'Gale', 'Jezero', 'Gusev', 'Meridiani')\n",
      "97 ('Elysium', 'Gale', 'Jezero', 'Meridiani', 'Gusev')\n",
      "98 ('Elysium', 'Gale', 'Gusev', 'Jezero', 'Meridiani')\n",
      "99 ('Elysium', 'Gale', 'Gusev', 'Meridiani', 'Jezero')\n",
      "100 ('Elysium', 'Gale', 'Meridiani', 'Jezero', 'Gusev')\n",
      "101 ('Elysium', 'Gale', 'Meridiani', 'Gusev', 'Jezero')\n",
      "102 ('Elysium', 'Jezero', 'Gale', 'Gusev', 'Meridiani')\n",
      "103 ('Elysium', 'Jezero', 'Gale', 'Meridiani', 'Gusev')\n",
      "104 ('Elysium', 'Jezero', 'Gusev', 'Gale', 'Meridiani')\n",
      "105 ('Elysium', 'Jezero', 'Gusev', 'Meridiani', 'Gale')\n",
      "106 ('Elysium', 'Jezero', 'Meridiani', 'Gale', 'Gusev')\n",
      "107 ('Elysium', 'Jezero', 'Meridiani', 'Gusev', 'Gale')\n",
      "108 ('Elysium', 'Gusev', 'Gale', 'Jezero', 'Meridiani')\n",
      "109 ('Elysium', 'Gusev', 'Gale', 'Meridiani', 'Jezero')\n",
      "110 ('Elysium', 'Gusev', 'Jezero', 'Gale', 'Meridiani')\n",
      "111 ('Elysium', 'Gusev', 'Jezero', 'Meridiani', 'Gale')\n",
      "112 ('Elysium', 'Gusev', 'Meridiani', 'Gale', 'Jezero')\n",
      "113 ('Elysium', 'Gusev', 'Meridiani', 'Jezero', 'Gale')\n",
      "114 ('Elysium', 'Meridiani', 'Gale', 'Jezero', 'Gusev')\n",
      "115 ('Elysium', 'Meridiani', 'Gale', 'Gusev', 'Jezero')\n",
      "116 ('Elysium', 'Meridiani', 'Jezero', 'Gale', 'Gusev')\n",
      "117 ('Elysium', 'Meridiani', 'Jezero', 'Gusev', 'Gale')\n",
      "118 ('Elysium', 'Meridiani', 'Gusev', 'Gale', 'Jezero')\n",
      "119 ('Elysium', 'Meridiani', 'Gusev', 'Jezero', 'Gale')\n"
     ]
    }
   ],
   "source": [
    "from itertools import permutations\n",
    "\n",
    "places = ('Gale', 'Jezero', 'Gusev', 'Meridiani', 'Elysium')\n",
    "\n",
    "# Получим все возможные комбинации элементов кортежа places...\n",
    "combinations = permutations(places)\n",
    "# ...и проитерируемся по объекту с этими комбинациями:\n",
    "for path_index, travel_path in enumerate(combinations):\n",
    "    print(path_index, travel_path)"
   ]
  },
  {
   "cell_type": "markdown",
   "id": "feaf1faa",
   "metadata": {},
   "source": [
    "> Функция `permutations()` не так проста: она не создаёт сразу все возможные варианты, а вычисляет каждый вариант только тогда, когда он запрошен программой, — например, на очередной итерации цикла. Это позволяет здорово экономить оперативную память."
   ]
  },
  {
   "cell_type": "markdown",
   "id": "d376cf86",
   "metadata": {},
   "source": [
    "Чтобы вычислить все возможные варианты и потом перебрать их, на обработку входного массива из ста элементов просто не хватит оперативной памяти. И даже если бы оперативная память была безгранична, функция вычисляла бы все комбинации очень долго.\n",
    "\n",
    "Функция `permutations()` не создаёт все комбинации сразу, а генерирует их в тот момент, когда они запрошены программой. Объекты, которые ведут себя подобным образом, в Python называются **генераторами**. Они предоставляют нужное значение только тогда, когда оно понадобится, а не хранят всю последовательность. Это позволяет задействовать минимальное количество оперативной памяти."
   ]
  },
  {
   "cell_type": "markdown",
   "id": "613657de",
   "metadata": {},
   "source": [
    "Для любого маршрута потребуется четыре перемещения от точки к точке: `movements = len(places) - 1`. Создаём цикл с количеством итераций, равным количеству перемещений, и  попарно находим расстояния между точками:\n",
    "\n",
    "* Gusev — Meridiani,\n",
    "\n",
    "* Meridiani — Gale,\n",
    "\n",
    "* Gale — Jezero,\n",
    "\n",
    "* Jezero — Elysium.\n",
    "\n",
    "Из `current_path` получаем первое название и следующее за ним:"
   ]
  },
  {
   "cell_type": "code",
   "execution_count": 5,
   "id": "ac40d81d",
   "metadata": {},
   "outputs": [
    {
     "name": "stdout",
     "output_type": "stream",
     "text": [
      "Gusev Meridiani\n",
      "Meridiani Gale\n",
      "Gale Jezero\n",
      "Jezero Elysium\n"
     ]
    }
   ],
   "source": [
    "current_path = ('Gusev', 'Meridiani', 'Gale', 'Jezero', 'Elysium')\n",
    "movements = len(places) - 1\n",
    "\n",
    "for movement_index in range(movements):\n",
    "    current_place = current_path[movement_index]\n",
    "    next_place = current_path[movement_index + 1]\n",
    "    print(current_place, next_place)"
   ]
  },
  {
   "cell_type": "markdown",
   "id": "6e6882f3",
   "metadata": {},
   "source": [
    "На первой итерации цикла `current_place` — это `'Gusev'`, а `next_place` — это `'Meridiani'`. Чтобы получить расстояние между ними, надо:\n",
    "\n",
    "1. В кортеже `distances` найти строку со всеми расстояниями от Gusev.\n",
    "\n",
    "2. В этой строке найти элемент, в котором записано расстояние от Gusev до Meridiani.\n",
    "\n",
    "Для начала получим индексы элементов `'Gusev'` и `'Meridiani'` в кортеже `places`. Найти индекс элемента по его значению можно методом `index()`:"
   ]
  },
  {
   "cell_type": "code",
   "execution_count": null,
   "id": "4f4b5df5",
   "metadata": {},
   "outputs": [],
   "source": [
    "places = ('Gale', 'Jezero', 'Gusev', 'Meridiani', 'Elysium')\n",
    "\n",
    "current_place_index = places.index('Gusev')\n",
    "next_place_index = places.index('Meridiani')\n",
    "\n",
    "# current_place_index = 2\n",
    "# next_place_index = 3"
   ]
  },
  {
   "cell_type": "markdown",
   "id": "2967bc1a",
   "metadata": {},
   "source": [
    "Вместо строк подставим переменные `current_place` и `next_place`, ведь в цикле будут подставляться разные значения:"
   ]
  },
  {
   "cell_type": "code",
   "execution_count": null,
   "id": "fafc14c5",
   "metadata": {},
   "outputs": [],
   "source": [
    "current_place_index = places.index(current_place)\n",
    "next_place_index = places.index(next_place)"
   ]
  },
  {
   "cell_type": "markdown",
   "id": "aeab21ef",
   "metadata": {},
   "source": [
    "Теперь в кортеже `distances` надо найти элемент, в котором записаны расстояния от `Gusev` до `Meridiani` (эти названия сейчас хранятся в `current_place` и `next_place`)."
   ]
  },
  {
   "cell_type": "code",
   "execution_count": null,
   "id": "bd7f0be2",
   "metadata": {},
   "outputs": [],
   "source": [
    "# Получаем кортеж, где хранятся все расстояния от Gusev до других точек:\n",
    "gusev_distances = distances[current_place_index] \n",
    "# (2230, 5280, 0, 6715, 2540)"
   ]
  },
  {
   "cell_type": "markdown",
   "id": "a5c58c91",
   "metadata": {},
   "source": [
    "Расстояние от `Gusev` до `Meridiani` в этом кортеже указано под тем же индексом, под которым хранится значение `Meridiani` в кортеже `places`. Этот индекс записан в `next_place_index`:"
   ]
  },
  {
   "cell_type": "code",
   "execution_count": null,
   "id": "29f31eef",
   "metadata": {},
   "outputs": [],
   "source": [
    "# Получаем кортеж, где хранятся все расстояния от Gusev до других точек:\n",
    "gusev_distances = distances[current_place_index] \n",
    "\n",
    "# Из этого кортежа получаем расстояние Gusev - Meridiani:\n",
    "gusev_meridiani_path = gusev_distances[next_place_index]\n",
    "# 6715"
   ]
  },
  {
   "cell_type": "markdown",
   "id": "1f0f590b",
   "metadata": {},
   "source": [
    "Получить расстояние от `current_place` до `next_place` можно одним выражением:"
   ]
  },
  {
   "cell_type": "code",
   "execution_count": null,
   "id": "6d2c5fa9",
   "metadata": {},
   "outputs": [],
   "source": [
    "distance = distances[current_place_index][next_place_index]"
   ]
  },
  {
   "cell_type": "markdown",
   "id": "03cb3bc9",
   "metadata": {},
   "source": [
    "***\n",
    "## Запишем всё в коде:"
   ]
  },
  {
   "cell_type": "code",
   "execution_count": 7,
   "id": "87e00546",
   "metadata": {},
   "outputs": [
    {
     "name": "stdout",
     "output_type": "stream",
     "text": [
      "20030\n"
     ]
    }
   ],
   "source": [
    "# Обрабатываем один из маршрутов:\n",
    "current_path = ('Gusev', 'Meridiani', 'Gale', 'Jezero', 'Elysium')\n",
    "\n",
    "# Кортеж с названиями:\n",
    "places = ('Gale', 'Jezero', 'Gusev', 'Meridiani', 'Elysium')\n",
    "\n",
    "# Расстояния между точками:\n",
    "distances = (\n",
    "    (0, 3570, 2230, 6430, 600),  # Расстояния от Gale.\n",
    "    (3570, 0, 5280, 4530, 3315),  # Расстояния от Jezero.\n",
    "    (2230, 5280, 0, 6715, 2540),  # Расстояния от Gusev.\n",
    "    (6430, 4530, 6715, 0, 6400),  # Расстояния от Meridiani.\n",
    "    (600, 3315, 2540, 6400, 0),  # Расстояния от Elysium.\n",
    ")\n",
    "# Количество перемещений между точками.\n",
    "movements = len(places) - 1\n",
    "\n",
    "# Общая длина пути: будем суммировать полученные расстояния\n",
    "# для каждой пары current_place - next_place.\n",
    "current_path_length = 0\n",
    "\n",
    "# Для каждого перемещения от одной точки к другой:\n",
    "for movement_index in range(movements):\n",
    "    # Текущая точка.\n",
    "    current_place = current_path[movement_index]\n",
    "    # Следующая точка.\n",
    "    next_place = current_path[movement_index + 1]\n",
    "    # Индекс текущей точки в кортеже places:\n",
    "    current_place_index = places.index(current_place)\n",
    "    # Индекс следующей точки в кортеже places:\n",
    "    next_place_index = places.index(next_place)\n",
    "    # Расстояние между текущей и следующей точкой:\n",
    "    distance = distances[current_place_index][next_place_index]\n",
    "    # Добавляем расстояние между двумя точками к общему пути.\n",
    "    current_path_length += distance\n",
    "\n",
    "print(current_path_length)"
   ]
  },
  {
   "cell_type": "markdown",
   "id": "89f4ad18",
   "metadata": {},
   "source": [
    "***\n",
    "## Поиск минимального значения"
   ]
  },
  {
   "cell_type": "code",
   "execution_count": null,
   "id": "649e8d18",
   "metadata": {},
   "outputs": [],
   "source": [
    "# Кортеж с названиями:\n",
    "places = ('Gale', 'Jezero', 'Gusev', 'Meridiani', 'Elysium')\n",
    "\n",
    "# Расстояния между точками:\n",
    "distances = (\n",
    "    (0, 3570, 2230, 6430, 600),\n",
    "    (3570, 0, 5280, 4530, 3315),\n",
    "    (2230, 5280, 0, 6715, 2540),\n",
    "    (6430, 4530, 6715, 0, 6400),\n",
    "    (600, 3315, 2540, 6400, 0),\n",
    ")\n",
    "# Количество перемещений между точками.\n",
    "movements = len(places) - 1\n",
    "\n",
    "# Цикл, перебирающий все возможные маршруты:\n",
    "for current_path in permutations(places):\n",
    "    current_path_length = 0\n",
    "    # Цикл, вычисляющий расстояние для отдельного маршрута:\n",
    "    for movement_index in range(movements):\n",
    "        ..."
   ]
  },
  {
   "cell_type": "markdown",
   "id": "49579eac",
   "metadata": {},
   "source": [
    "Внешний цикл будет перебирать все маршруты и вычислять протяжённость каждого из них. Остаётся выбрать наименьшее значение из всех полученных; обозначим его переменной `min_path_length`. \n",
    "\n",
    "Решить эту задачу можно двумя способами:\n",
    "\n",
    "1. Сохранять все расстояния в массив, а в самом конце работы программы найти в этом массиве минимальное значение при помощи функции `min()`.\n",
    "\n",
    "2. На каждом шаге сравнивать текущий результат `current_path_length` с имеющимся `min_path_length` при помощи функции `min()` и меньшее значение сохранять в `min_path_length`: "
   ]
  },
  {
   "cell_type": "code",
   "execution_count": null,
   "id": "7b4bdc4f",
   "metadata": {},
   "outputs": [],
   "source": [
    "min_path_length = min(current_path_length, min_path_length)"
   ]
  },
  {
   "cell_type": "markdown",
   "id": "83f830bf",
   "metadata": {},
   "source": [
    "Для реализации первого варианта потребуется создать список — изменяемую коллекцию, а это дополнительный расход памяти. Для списка из 120 элементов памяти потребуется немного, но если входной массив вырастет, то расход памяти может оказаться вполне значимым. \n",
    "\n",
    "Второй вариант выглядит предпочтительнее, но при первой итерации по внешнему циклу возникнет проблема: протяжённость первого маршрута будет не с чем сравнить, ведь предыдущего значения `min_path_length` не существует. \n",
    "\n",
    "Можно установить `min_path_length = None` и выполнить дополнительную проверку:"
   ]
  },
  {
   "cell_type": "code",
   "execution_count": null,
   "id": "60a56ab1",
   "metadata": {},
   "outputs": [],
   "source": [
    "min_path_length = None\n",
    "\n",
    "for current_path in permutations(places):\n",
    "    current_path_length = ... # Здесь считаем длину маршрута.\n",
    "    if min_path_length is None:  # Если так, то это первая итерация цикла.\n",
    "        min_path_length = current_path_length \n",
    "    else:\n",
    "        min_path_length = min(current_path_length, min_path_length)"
   ]
  },
  {
   "cell_type": "markdown",
   "id": "68720a87",
   "metadata": {},
   "source": [
    "При таком подходе на каждой итерации внешнего цикла придётся выполнять заведомо ненужную проверку `if`-`else`. Это лишняя операция, и лучше обойтись без неё."
   ]
  },
  {
   "cell_type": "markdown",
   "id": "5e448db4",
   "metadata": {},
   "source": [
    "Из модуля `sys` можно импортировать константу `maxsize` — она хранит число, определяющее технические пределы для некоторых вычислений: например, длина последовательности не может быть больше, чем `maxsize`. "
   ]
  },
  {
   "cell_type": "code",
   "execution_count": null,
   "id": "cb78828f",
   "metadata": {},
   "outputs": [
    {
     "name": "stdout",
     "output_type": "stream",
     "text": [
      "9223372036854775807\n"
     ]
    }
   ],
   "source": [
    "from sys import maxsize\n",
    "\n",
    "print(maxsize)"
   ]
  },
  {
   "cell_type": "markdown",
   "id": "d730b627",
   "metadata": {},
   "source": [
    "Если перед выполнением внешнего цикла присвоить переменной `min_path_length` значение `maxsize`, то на первой итерации цикла выражение `min_path_length = min(current_path_length, min_path_length)` отработает без ошибок!"
   ]
  },
  {
   "cell_type": "code",
   "execution_count": null,
   "id": "994d13e3",
   "metadata": {},
   "outputs": [],
   "source": [
    "from sys import maxsize\n",
    "\n",
    "min_path_length = maxsize\n",
    "\n",
    "for current_path in permutations(places):\n",
    "    current_path_length = ... # Здесь считаем длину маршрута.\n",
    "    min_path_length = min(current_path_length, min_path_length)"
   ]
  },
  {
   "cell_type": "markdown",
   "id": "fcfc11af",
   "metadata": {},
   "source": [
    "***\n",
    "## Объединяем код в одну программу"
   ]
  },
  {
   "cell_type": "code",
   "execution_count": 9,
   "id": "1092ef25",
   "metadata": {},
   "outputs": [
    {
     "name": "stdout",
     "output_type": "stream",
     "text": [
      "10675\n"
     ]
    }
   ],
   "source": [
    "from itertools import permutations\n",
    "from sys import maxsize\n",
    "\n",
    "\n",
    "def travel_salesman_problem(places, distances):\n",
    "    movements = len(places) - 1\n",
    "    min_path_length = maxsize\n",
    "    for current_path in permutations(places):\n",
    "        current_path_length = 0\n",
    "        for movement_index in range(movements):\n",
    "            current_place = current_path[movement_index]\n",
    "            next_place = current_path[movement_index + 1]\n",
    "            current_place_index = places.index(current_place)\n",
    "            next_place_index = places.index(next_place)\n",
    "            distance = distances[current_place_index][next_place_index]\n",
    "            current_path_length += distance\n",
    "        min_path_length = min(current_path_length, min_path_length)\n",
    "\n",
    "    return min_path_length\n",
    "\n",
    "\n",
    "if __name__ == '__main__':\n",
    "    # Добавляем к названиям переменных суффикс _example,\n",
    "    # чтобы имена переменных в функции отличались от глобальных переменных.\n",
    "    places_example = ('Gale', 'Jezero', 'Gusev', 'Meridiani', 'Elysium')\n",
    "    distances_example = (\n",
    "        (0, 3570, 2230, 6430, 600),\n",
    "        (3570, 0, 5280, 4530, 3315),\n",
    "        (2230, 5280, 0, 6715, 2540),\n",
    "        (6430, 4530, 6715, 0, 6400),\n",
    "        (600, 3315, 2540, 6400, 0),\n",
    "    )\n",
    "    min_path_length_example = travel_salesman_problem(\n",
    "        places_example, distances_example\n",
    "    )\n",
    "    print(min_path_length_example)"
   ]
  },
  {
   "cell_type": "markdown",
   "id": "4e69f9e9",
   "metadata": {},
   "source": [
    "Самый короткий путь — 10 675 километров. Но расстояния недостаточно: нужно понять, в каком порядке надо объезжать заданные точки. Допишем несколько строк кода."
   ]
  },
  {
   "cell_type": "code",
   "execution_count": 10,
   "id": "b51c5b12",
   "metadata": {},
   "outputs": [
    {
     "name": "stdout",
     "output_type": "stream",
     "text": [
      "10675 ('Gusev', 'Gale', 'Elysium', 'Jezero', 'Meridiani')\n"
     ]
    }
   ],
   "source": [
    "from itertools import permutations\n",
    "from sys import maxsize\n",
    "\n",
    "\n",
    "def travel_salesman_problem(places, distances):\n",
    "    movements = len(places) - 1\n",
    "    # Вводим переменную для хранения самого короткого маршрута.\n",
    "    min_path = None\n",
    "    min_path_length = maxsize\n",
    "    for current_path in permutations(places):\n",
    "        current_path_length = 0\n",
    "        for movement_index in range(movements):\n",
    "            current_place = current_path[movement_index]\n",
    "            next_place = current_path[movement_index + 1]\n",
    "            current_place_index = places.index(current_place)\n",
    "            next_place_index = places.index(next_place)\n",
    "            distance = distances[current_place_index][next_place_index]\n",
    "            current_path_length += distance\n",
    "        # Если полученное расстояние меньше самого короткого пути...\n",
    "        if current_path_length < min_path_length:\n",
    "            # ...назначаем полученное расстояние самым коротким.\n",
    "            min_path_length = current_path_length\n",
    "            # Запоминаем самый короткий маршрут.\n",
    "            min_path = current_path\n",
    "    # Вместо одного значения возвращаем кортеж с двумя значениями: \n",
    "    # расстоянием и самым коротким маршрутом.\n",
    "    return min_path_length, min_path\n",
    "\n",
    "\n",
    "if __name__ == '__main__':\n",
    "    places_example = ('Gale', 'Jezero', 'Gusev', 'Meridiani', 'Elysium')\n",
    "    distances_example = (\n",
    "        (0, 3570, 2230, 6430, 600),\n",
    "        (3570, 0, 5280, 4530, 3315),\n",
    "        (2230, 5280, 0, 6715, 2540),\n",
    "        (6430, 4530, 6715, 0, 6400),\n",
    "        (600, 3315, 2540, 6400, 0),\n",
    "    )\n",
    "    min_path_length_example, min_path_example = travel_salesman_problem(\n",
    "        places_example, distances_example\n",
    "    )\n",
    "    print(min_path_length_example, min_path_example)"
   ]
  }
 ],
 "metadata": {
  "kernelspec": {
   "display_name": ".venv",
   "language": "python",
   "name": "python3"
  },
  "language_info": {
   "codemirror_mode": {
    "name": "ipython",
    "version": 3
   },
   "file_extension": ".py",
   "mimetype": "text/x-python",
   "name": "python",
   "nbconvert_exporter": "python",
   "pygments_lexer": "ipython3",
   "version": "3.12.7"
  }
 },
 "nbformat": 4,
 "nbformat_minor": 5
}
