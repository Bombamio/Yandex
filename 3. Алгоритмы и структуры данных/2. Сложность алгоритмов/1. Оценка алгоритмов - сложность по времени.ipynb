{
 "cells": [
  {
   "cell_type": "code",
   "execution_count": 1,
   "id": "ba1d6233",
   "metadata": {},
   "outputs": [
    {
     "name": "stdout",
     "output_type": "stream",
     "text": [
      "3.0\n"
     ]
    }
   ],
   "source": [
    "def calculate_average(data):\n",
    "    # Сохраняем длину массива в переменную, чтобы дважды не считать.\n",
    "    len_data = len(data)\n",
    "    # Формула суммы арифметической прогрессии.\n",
    "    data_sum = (data[0] + data[-1]) * len_data / 2\n",
    "    # Делим сумму на количество элементов.\n",
    "    average = data_sum / len_data\n",
    "    return average\n",
    "\n",
    "print(calculate_average([1, 2, 3, 4 ,5]))"
   ]
  },
  {
   "cell_type": "markdown",
   "id": "141569c5",
   "metadata": {},
   "source": [
    "***\n",
    "###### Капля\n",
    "##### Лужа\n",
    "#### Озеро\n",
    "### Река\n",
    "## Море\n",
    "# Акеан\n",
    "# !ВОДА!"
   ]
  }
 ],
 "metadata": {
  "kernelspec": {
   "display_name": ".venv",
   "language": "python",
   "name": "python3"
  },
  "language_info": {
   "codemirror_mode": {
    "name": "ipython",
    "version": 3
   },
   "file_extension": ".py",
   "mimetype": "text/x-python",
   "name": "python",
   "nbconvert_exporter": "python",
   "pygments_lexer": "ipython3",
   "version": "3.12.7"
  }
 },
 "nbformat": 4,
 "nbformat_minor": 5
}
