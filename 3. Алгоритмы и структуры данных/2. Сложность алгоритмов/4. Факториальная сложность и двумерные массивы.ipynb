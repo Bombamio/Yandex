{
 "cells": [
  {
   "cell_type": "markdown",
   "id": "176b7798",
   "metadata": {},
   "source": [
    "## Немного воды о визуализации матричных масивов, скука"
   ]
  }
 ],
 "metadata": {
  "kernelspec": {
   "display_name": ".venv",
   "language": "python",
   "name": "python3"
  },
  "language_info": {
   "name": "python",
   "version": "3.12.7"
  }
 },
 "nbformat": 4,
 "nbformat_minor": 5
}
