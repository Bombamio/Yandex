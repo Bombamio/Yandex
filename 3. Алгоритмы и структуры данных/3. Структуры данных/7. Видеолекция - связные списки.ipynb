{
 "cells": [
  {
   "cell_type": "markdown",
   "id": "57f32706",
   "metadata": {},
   "source": [
    "Файл с кодом, рассмотренным в видеолекции, лежит [в репозитории](https://github.com/yandex-praktikum/linked_lists/blob/main/linked_list.py). "
   ]
  }
 ],
 "metadata": {
  "language_info": {
   "name": "python"
  }
 },
 "nbformat": 4,
 "nbformat_minor": 5
}
