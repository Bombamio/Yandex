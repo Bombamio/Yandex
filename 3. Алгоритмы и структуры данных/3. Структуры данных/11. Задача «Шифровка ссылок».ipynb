{
 "cells": [
  {
   "cell_type": "code",
   "execution_count": 106,
   "id": "6f360658",
   "metadata": {},
   "outputs": [
    {
     "name": "stdout",
     "output_type": "stream",
     "text": [
      "https://ma.rs/YI4nlV4PZsTdYoA3BFv674\n",
      "https://ma.rs/VDg5TOPWtHJsN96jzuA22c\n",
      "https://ma.rs/vfO56ygvPms2fv8lrd\n",
      "https://mars-program.ru/all/010923/plan_B.htm\n"
     ]
    }
   ],
   "source": [
    "from random import choices\n",
    "\n",
    "\n",
    "class MarsURLEncoder:\n",
    "\n",
    "    def __init__(self):\n",
    "        self.reference_rep = dict()\n",
    "        self.alphabet = 'abcdefghijklmnopqrstuvwxyzABCDEFGHIJKLMNOPQRSTUVWXYZ' \\\n",
    "        '123456789'\n",
    "\n",
    "    def encode(self, long_url):\n",
    "        \"\"\"Кодирует длинную ссылку в короткую вида https://ma.rs/X7NYIol.\"\"\"\n",
    "        self.long_url = long_url\n",
    "        new_url = long_url.replace('https://', '').split('/')\n",
    "        while True:\n",
    "            for st in range(len(new_url)):\n",
    "                num = len(new_url[st]) // 2\n",
    "                if num < 2:\n",
    "                    num = 3\n",
    "                new_url[st] = ''.join(choices(self.alphabet, k=num))\n",
    "            new_url = 'https://ma.rs/' + ''.join(new_url)\n",
    "            if new_url not in self.reference_rep.values():\n",
    "                break\n",
    "        self.reference_rep[long_url] = new_url\n",
    "        return f'{new_url}'\n",
    "\n",
    "    def decode(self, short_url):\n",
    "        \"\"\"Декодирует короткую ссылку вида https://ma.rs/X7NYIol в исходную.\"\"\"\n",
    "        for key, value in self.reference_rep.items():\n",
    "            if value == short_url:\n",
    "                return key\n",
    "        return\n",
    "    \n",
    "cod = MarsURLEncoder()\n",
    "print(cod.encode('https://ru/mars/marsohod-1/01-09-2023/daily_job.html'))\n",
    "print(cod.encode('https://tsup.ru/mars/marsohod-1/01-09-2023/daily_job.html'))\n",
    "print(cod.encode('https://tsup.ru/impunity/01092023/whats_new/'))\n",
    "\n",
    "print(cod.decode(cod.encode('https://mars-program.ru/all/010923/plan_B.htm')))\n"
   ]
  },
  {
   "cell_type": "code",
   "execution_count": 93,
   "id": "97b9bf6d",
   "metadata": {},
   "outputs": [
    {
     "name": "stdout",
     "output_type": "stream",
     "text": [
      "https://ma.rs/WZ6/ma/&MnI2/+@xDV/rOQJf*p\n",
      "https://ru/mars/marsohod-1/01-09-2023/daily_job.html\n"
     ]
    }
   ],
   "source": [
    "from random import choices\n",
    "alphabet = 'abcdefghijklmnopqrstuvwxyzABCDEFGHIJKLMNOPQRSTUVWXYZ' \\\n",
    "'123456789!@#$%^&*_+=-'\n",
    "test_link = 'https://ru/mars/marsohod-1/01-09-2023/daily_job.html'\n",
    "reference_rep = {1:'b', 2:'c', 3:'d'}\n",
    "\n",
    "new_link = test_link.replace('https://', '').split('/')\n",
    "for st in range(len(new_link)):\n",
    "    num = len(new_link[st]) // 2\n",
    "    if num < 2:\n",
    "        num = 3\n",
    "    new_link[st] = ''.join(choices(alphabet, k=num))\n",
    "new_link = 'https://ma.rs/' + '/'.join(new_link)\n",
    "short_url = new_link\n",
    "reference_rep[test_link] = new_link\n",
    "print(short_url)\n",
    "\n",
    "for key, value in reference_rep.items():\n",
    "    if value == short_url:\n",
    "        print(f'{key}')\n"
   ]
  },
  {
   "cell_type": "code",
   "execution_count": 91,
   "id": "9fe942bc",
   "metadata": {},
   "outputs": [
    {
     "name": "stdout",
     "output_type": "stream",
     "text": [
      "3\n"
     ]
    }
   ],
   "source": [
    "a = {1:'b', 2:'c', 3:'d'}\n",
    "\n",
    "for i, j in a.items():\n",
    "    if j == 'd':\n",
    "        print(i)"
   ]
  }
 ],
 "metadata": {
  "kernelspec": {
   "display_name": ".venv",
   "language": "python",
   "name": "python3"
  },
  "language_info": {
   "codemirror_mode": {
    "name": "ipython",
    "version": 3
   },
   "file_extension": ".py",
   "mimetype": "text/x-python",
   "name": "python",
   "nbconvert_exporter": "python",
   "pygments_lexer": "ipython3",
   "version": "3.12.7"
  }
 },
 "nbformat": 4,
 "nbformat_minor": 5
}
