{
 "cells": [
  {
   "cell_type": "markdown",
   "id": "dc4096d6",
   "metadata": {},
   "source": [
    "Марсоход изучает минералы на разных участках Марса и для каждого участка сохраняет список обнаруженных минералов.\n",
    "\n",
    "Списки минералов с двух участков необходимо сравнить и выяснить, входит ли список минералов одного участка в список другого участка.\n",
    "\n",
    "Если в двух разных списках есть одинаковые минералы, но в разном порядке, то такие наборы считаются равными."
   ]
  },
  {
   "cell_type": "code",
   "execution_count": 8,
   "id": "bd8ba4bf",
   "metadata": {},
   "outputs": [
    {
     "name": "stdout",
     "output_type": "stream",
     "text": [
      "{'кварц', 'санидин', 'ангидрит'}\n"
     ]
    }
   ],
   "source": [
    "list_set_1 = ['марсий', 'ангидрит', 'кварц', 'санидин', 'ильменит', 'акаганеит', 'пирит']\n",
    "list_set_2 = ['санидин', 'кварц', 'ангидрит']\n",
    "list_set_1 = set(list_set_1)\n",
    "list_set_2 = set(list_set_2)\n",
    "\n",
    "print(list_set_1 & list_set_2)"
   ]
  },
  {
   "cell_type": "markdown",
   "id": "a8d58c97",
   "metadata": {},
   "source": [
    "Названия минералов закодированы целыми числами, поэтому списки минералов выглядят примерно так: `list_set_1 = [1, 3, 5, 7]`.\n",
    "\n",
    "Каждый список содержит лишь уникальные элементы, это проверять не требуется.\n",
    "Из-за экономии в программном обеспечении марсохода при вычислениях нельзя использовать множества `set`: все данные хранятся и обрабатываются исключительно в списках `list`. Решить задачу нужно строго с использованием списков.\n",
    "\n",
    "Если список `list_set_1` включает элементы списка `list_set_2`, то `list_set_1` называют **супермножеством** по отношению к списку `list_set_2`.\n",
    "\n",
    "Например:\n",
    "\n",
    "* Множество `[1, 3, 5, 7]` — это супермножество по отношению к `[3, 5]`.\n",
    "\n",
    "* Множество `[5, 3, 7, 1]` — это супермножество по отношению к `[3, 5]`.\n",
    "\n",
    "* Множества `[1, 3, 5, 7]` и `[5, 3, 7, 1]` равны.\n",
    "\n",
    "* Ни одно из множеств `[3, 5]` и `[5, 6]` не является супермножеством для другого."
   ]
  },
  {
   "cell_type": "markdown",
   "id": "3def164f",
   "metadata": {},
   "source": [
    "***\n",
    "## Задача «Определение суперсписка»"
   ]
  },
  {
   "cell_type": "code",
   "execution_count": 14,
   "id": "8ee684ca",
   "metadata": {},
   "outputs": [
    {
     "name": "stdout",
     "output_type": "stream",
     "text": [
      "Набор [1, 3, 5, 7] - супермножество.\n",
      "Набор [5, 3, 7, 1] - супермножество.\n",
      "Наборы равны.\n",
      "Супермножество не обнаружено.\n"
     ]
    }
   ],
   "source": [
    "def list_superset(list_set_1, list_set_2):\n",
    "    if len(list_set_1) == len(list_set_2):\n",
    "        n = 0\n",
    "        for i in list_set_1:\n",
    "            if i in list_set_2:\n",
    "                n += 1\n",
    "        if n == len(list_set_2):\n",
    "            return 'Наборы равны.'\n",
    "        else:\n",
    "            return 'Супермножество не обнаружено.'\n",
    "        \n",
    "    elif len(list_set_1) > len(list_set_2):\n",
    "        biger = list_set_1\n",
    "        lower = list_set_2\n",
    "    else:\n",
    "        biger = list_set_2\n",
    "        lower = list_set_1\n",
    "\n",
    "    n = 0\n",
    "    for i in lower:\n",
    "        if i in biger:\n",
    "            n += 1\n",
    "    if n == len(lower):\n",
    "        return f'Набор {biger} - супермножество.'\n",
    "    else:\n",
    "        return 'Супермножество не обнаружено.'\n",
    "\n",
    "# Примеры для проверки функции.\n",
    "list_set_1 = [1, 3, 5, 7]\n",
    "list_set_2 = [3, 5]\n",
    "list_set_3 = [5, 3, 7, 1]\n",
    "list_set_4 = [5, 6]\n",
    "\n",
    "print(list_superset(list_set_1, list_set_2))\n",
    "print(list_superset(list_set_2, list_set_3))\n",
    "print(list_superset(list_set_1, list_set_3))\n",
    "print(list_superset(list_set_2, list_set_4))"
   ]
  }
 ],
 "metadata": {
  "kernelspec": {
   "display_name": ".venv",
   "language": "python",
   "name": "python3"
  },
  "language_info": {
   "codemirror_mode": {
    "name": "ipython",
    "version": 3
   },
   "file_extension": ".py",
   "mimetype": "text/x-python",
   "name": "python",
   "nbconvert_exporter": "python",
   "pygments_lexer": "ipython3",
   "version": "3.12.7"
  }
 },
 "nbformat": 4,
 "nbformat_minor": 5
}
