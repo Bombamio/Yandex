{
 "cells": [
  {
   "cell_type": "code",
   "execution_count": 15,
   "id": "a7ef4c85",
   "metadata": {},
   "outputs": [
    {
     "name": "stdout",
     "output_type": "stream",
     "text": [
      "41\n"
     ]
    }
   ],
   "source": [
    "from __future__ import annotations\n",
    "from typing import Optional\n",
    "\n",
    "\n",
    "class Spaceman:\n",
    "\n",
    "    def __init__(\n",
    "            self,\n",
    "            name: str,\n",
    "            space_experience: int,\n",
    "            father: Optional[Spaceman] = None,\n",
    "            mother: Optional[Spaceman] = None,\n",
    "    ):\n",
    "        self.name = name\n",
    "        self.space_experience = space_experience\n",
    "        self.father = father\n",
    "        self.mother = mother\n",
    "\n",
    "\n",
    "def count_dynasty_experience(spaceman: Spaceman) -> int:\n",
    "    total_experience = 0\n",
    "    # Доработайте функцию, чтобы она считала \n",
    "    # суммарный опыт династии космонавтов.\n",
    "    if spaceman == None:\n",
    "        return total_experience\n",
    "    total_experience += (\n",
    "        spaceman.space_experience + count_dynasty_experience(spaceman.mother)\n",
    "        + count_dynasty_experience(spaceman.father))\n",
    "    return total_experience\n",
    "\n",
    "\n",
    "yu_a_tatarin = Spaceman(\n",
    "    name='Юрий Алексеевич Татарин',\n",
    "    space_experience=10,\n",
    "    father=Spaceman(\n",
    "        name='Алексей Михайлович Татарин',\n",
    "        space_experience=25,\n",
    "        mother=Spaceman(\n",
    "            name='Евгения Владимировна Беляева',\n",
    "            space_experience=1\n",
    "        )\n",
    "    ),\n",
    "    mother=Spaceman('Ангелина Васильевна Черенкова', 5)\n",
    ")\n",
    "result = count_dynasty_experience(yu_a_tatarin)\n",
    "print(result)"
   ]
  }
 ],
 "metadata": {
  "kernelspec": {
   "display_name": ".venv",
   "language": "python",
   "name": "python3"
  },
  "language_info": {
   "codemirror_mode": {
    "name": "ipython",
    "version": 3
   },
   "file_extension": ".py",
   "mimetype": "text/x-python",
   "name": "python",
   "nbconvert_exporter": "python",
   "pygments_lexer": "ipython3",
   "version": "3.12.7"
  }
 },
 "nbformat": 4,
 "nbformat_minor": 5
}
