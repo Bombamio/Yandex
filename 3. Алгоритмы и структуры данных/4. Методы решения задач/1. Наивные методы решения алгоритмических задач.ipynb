{
 "cells": [
  {
   "cell_type": "markdown",
   "id": "4d8fe3eb",
   "metadata": {},
   "source": [
    "«Наивным» называют простое и прямолинейное решение, у которого лишь два достоинства:\n",
    "\n",
    "* оно работает;\n",
    "\n",
    "* оно приводит к желаемому результату.\n",
    "\n",
    "При наивном решении никого не волнуют быстродействие или расход памяти: лишь бы всё работало."
   ]
  },
  {
   "cell_type": "code",
   "execution_count": 4,
   "id": "abf8b073",
   "metadata": {},
   "outputs": [
    {
     "name": "stdout",
     "output_type": "stream",
     "text": [
      "(2, 6)\n"
     ]
    }
   ],
   "source": [
    "def find_two_indexes(data, expected_sum):\n",
    "    # Ваше решение?\n",
    "    for f_num in data:\n",
    "        for s_num in data:\n",
    "            if data.index(f_num) == data.index(s_num):\n",
    "                continue\n",
    "            elif f_num + s_num == expected_sum:\n",
    "                return data.index(f_num), data.index(s_num)\n",
    "            \n",
    "\n",
    "if __name__ == '__main__':\n",
    "    data = [1, 2, 3, 4, 5, 6, 7, 11]\n",
    "    expected_sum = 10\n",
    "    print(find_two_indexes(data, expected_sum))"
   ]
  },
  {
   "cell_type": "code",
   "execution_count": 3,
   "id": "c7ac08e7",
   "metadata": {},
   "outputs": [
    {
     "name": "stdout",
     "output_type": "stream",
     "text": [
      "(2, 6)\n"
     ]
    }
   ],
   "source": [
    "def find_two_indexes(data, expected_sum):\n",
    "    # Для первого индекса и первого слагаемого.\n",
    "    for first_index, first_value in enumerate(data):\n",
    "        # Для второго индекса и второго слагаемого.\n",
    "        for second_index, second_value in enumerate(data):\n",
    "            # Если индексы равны, то есть это один и тот же элемент...\n",
    "            if first_index == second_index:\n",
    "                # ...переходим к следующему элементу.\n",
    "                continue\n",
    "            # Если сумма значений равна ожидаемому результату...\n",
    "            if first_value + second_value == expected_sum:\n",
    "                # ...вернуть индексы элементов.\n",
    "                return first_index, second_index\n",
    "\n",
    "\n",
    "if __name__ == '__main__':\n",
    "    data = [1, 2, 3, 4, 5, 6, 7, 11]\n",
    "    expected_sum = 10\n",
    "    print(find_two_indexes(data, expected_sum))"
   ]
  },
  {
   "cell_type": "markdown",
   "id": "1d736c36",
   "metadata": {},
   "source": [
    "В худшем случае, когда решения у задачи нет (например, если `expected_sum = 20`), алгоритм выполнится за квадратичное время. При таких условиях функция вернёт None: так в Python ведут себя те функции, в которых явно не указана инструкция `return`. \n",
    "\n",
    "Тем не менее задача решена, и теперь можно поразмышлять над тем, как решить её более эффективно: квадратичное время для такой задачи — это многовато.\n",
    "\n",
    "***\n",
    "## Опыт, сын ошибок трудных"
   ]
  },
  {
   "cell_type": "code",
   "execution_count": 8,
   "id": "76a19c0a",
   "metadata": {},
   "outputs": [
    {
     "name": "stdout",
     "output_type": "stream",
     "text": [
      "[(2, 6), (3, 5)]\n"
     ]
    }
   ],
   "source": [
    "def find_two_indexes(data: list, expected_sum: int) -> list: \n",
    "    # Ваше решение?\n",
    "    result = []\n",
    "    for num in data:\n",
    "        find = expected_sum - num\n",
    "        if find in data:\n",
    "            if data.index(find) == data.index(num):\n",
    "                continue\n",
    "            elif (data.index(find), data.index(num)) in result:\n",
    "                continue\n",
    "            else:\n",
    "                result.append((data.index(num), data.index(find)))\n",
    "    return result\n",
    "\n",
    "if __name__ == '__main__':\n",
    "    data = [1, 2, 3, 4, 5, 6, 7, 11]\n",
    "    expected_sum = 10\n",
    "    print(find_two_indexes(data, expected_sum))"
   ]
  },
  {
   "cell_type": "code",
   "execution_count": 20,
   "id": "d1d2f8a8",
   "metadata": {},
   "outputs": [
    {
     "name": "stdout",
     "output_type": "stream",
     "text": [
      "[0, 3, 1, 3, 2]\n"
     ]
    }
   ],
   "source": [
    "nums = [1, 7, 3, 7, 6]\n",
    "result = []\n",
    "s_nums = nums.copy()\n",
    "s_nums.sort()\n",
    "for n in nums:\n",
    "    r = 0\n",
    "    for _ in range(s_nums.index(n)):\n",
    "        r += 1\n",
    "    result.append(r)\n",
    "print(result)"
   ]
  },
  {
   "cell_type": "code",
   "execution_count": 22,
   "id": "0f308d1e",
   "metadata": {},
   "outputs": [
    {
     "name": "stdout",
     "output_type": "stream",
     "text": [
      "[0, 3, 1, 3, 2]\n"
     ]
    }
   ],
   "source": [
    "main_mas = [1, 7, 3, 7, 6]\n",
    "result = []\n",
    "for f_num in main_mas:\n",
    "    larger = 0\n",
    "    for s_num in main_mas:\n",
    "        if f_num - s_num > 0:\n",
    "            larger += 1\n",
    "    result.append(larger)\n",
    "print(result)"
   ]
  }
 ],
 "metadata": {
  "kernelspec": {
   "display_name": ".venv",
   "language": "python",
   "name": "python3"
  },
  "language_info": {
   "codemirror_mode": {
    "name": "ipython",
    "version": 3
   },
   "file_extension": ".py",
   "mimetype": "text/x-python",
   "name": "python",
   "nbconvert_exporter": "python",
   "pygments_lexer": "ipython3",
   "version": "3.12.7"
  }
 },
 "nbformat": 4,
 "nbformat_minor": 5
}
