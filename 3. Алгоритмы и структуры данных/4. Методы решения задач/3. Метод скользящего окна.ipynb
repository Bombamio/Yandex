{
 "cells": [
  {
   "cell_type": "markdown",
   "id": "c9b93fb3",
   "metadata": {},
   "source": [
    "Для массива, состоящего из `n` целых чисел, найдите непрерывный подмассив (срез) заданной длины `k`, сумма значений в котором минимальна. Напечатайте эту сумму.\n",
    "\n",
    "Число `k` всегда больше нуля и меньше `n`.\n",
    "\n",
    "Например, даны:\n",
    "\n",
    "* список `[5, -3, -2, 10, 2, 7, 1, -6, 13]`,\n",
    "\n",
    "* длина подмассива `k = 4`.\n",
    "\n",
    "Требуется найти такой срез из четырёх элементов, в котором сумма значений будет минимальна."
   ]
  },
  {
   "cell_type": "code",
   "execution_count": null,
   "id": "6eb589ac",
   "metadata": {},
   "outputs": [
    {
     "name": "stdout",
     "output_type": "stream",
     "text": [
      "4\n"
     ]
    }
   ],
   "source": [
    "# Импортируем число, заведомо большее, чем любая сумма элементов среза.\n",
    "from sys import maxsize\n",
    "\n",
    "\n",
    "def find_min_slice_sum(data, elements_in_slice):\n",
    "    # Установим очень большое стартовое значение min_sum.\n",
    "    min_sum = maxsize\n",
    "    # Двигаемся от начала массива до последнего элемента, \n",
    "    # от которого мы сможем взять срез нужной длины.\n",
    "    for index in range(len(data) - elements_in_slice + 1):\n",
    "        # В temp_sum будем записывать сумму элементов очередного среза \n",
    "        # и сравнивать её с min_sum.\n",
    "        temp_sum = 0\n",
    "        # Перебираем элементы в срезе.\n",
    "        for slice_index in range(elements_in_slice):\n",
    "            # Подсчитываем сумму значений в очередном срезе.\n",
    "            temp_sum += data[index + slice_index]\n",
    "        # Выбираем минимальное значение из двух и сохраняем это значение\n",
    "        # в переменную min_sum.\n",
    "        min_sum = min(min_sum, temp_sum)\n",
    "    return min_sum\n",
    "\n",
    "\n",
    "if __name__ == '__main__':\n",
    "    data = [5, -3, -2, 10, 2, 7, 1, -6, 13]\n",
    "    elements_in_slice = 4\n",
    "    print(find_min_slice_sum(data, elements_in_slice))"
   ]
  },
  {
   "cell_type": "markdown",
   "id": "f441ef2b",
   "metadata": {},
   "source": [
    "Временная сложность этого решения — `O(n * k)`, где `n` — длина исходного массива, а `k` — длина рассматриваемого среза. С таким случаем мы ещё не сталкивались: такой алгоритм работает быстрее квадратичного, но медленнее линейного."
   ]
  },
  {
   "cell_type": "code",
   "execution_count": 6,
   "id": "f481281c",
   "metadata": {},
   "outputs": [
    {
     "name": "stdout",
     "output_type": "stream",
     "text": [
      "4\n"
     ]
    }
   ],
   "source": [
    "from sys import maxsize\n",
    "\n",
    "\n",
    "def find_min_slice_sum(data, elements_in_slice):\n",
    "    min_sum = maxsize\n",
    "    for index in range(len(data) - elements_in_slice + 1):\n",
    "        # Вместо внутреннего цикла считаем сумму нужного среза.\n",
    "        temp_sum = sum(data[index:index+elements_in_slice])\n",
    "        min_sum = min(min_sum, temp_sum)\n",
    "    return min_sum\n",
    "\n",
    "\n",
    "if __name__ == '__main__':\n",
    "    data = [5, -3, -2, 10, 2, 7, 1, -6, 13]\n",
    "    elements_in_slice = 4\n",
    "    print(find_min_slice_sum(data, elements_in_slice))"
   ]
  },
  {
   "cell_type": "markdown",
   "id": "9b7dcf3c",
   "metadata": {},
   "source": [
    "Может показаться, что такое решение более эффективно, но на самом деле сумма для среза вычисляется за линейное время и временная сложность решения не меняется.\n",
    "\n",
    "***\n",
    "\n",
    "Можно сделать так. Первое: сосчитать сумму в первой «рамке», перебрав все элементы. Пусть это будет `sum_1`. И чтобы получить сумму значений во второй рамке, надо из `sum_1` вычесть значение первого элемента (5) и прибавить значение нового элемента (2). Точно так же поступим и на остальных итерациях.\n",
    "\n",
    "Этот подход называется методом скользящего окна: рамка-окно последовательно сдвигается по массиву, скользит по нему.\n",
    "\n",
    "Обычно этот метод применяется для поиска заданного среза или какого-то значения, вычисленного на основе элементов среза: можно искать минимальную сумму (как в нашей задаче), можно заданную сумму или среднее значение сумм. \n",
    "\n",
    ">💡 В отличие от метода двух указателей, метод скользящего окна не требует сортировки исходных данных."
   ]
  },
  {
   "cell_type": "code",
   "execution_count": 7,
   "id": "ca98e8b3",
   "metadata": {},
   "outputs": [
    {
     "name": "stdout",
     "output_type": "stream",
     "text": [
      "10\n",
      "7\n",
      "17\n",
      "20\n",
      "4\n",
      "15\n"
     ]
    }
   ],
   "source": [
    "data = [5, -3, -2, 10, 2, 7, 1, -6, 13]\n",
    "elements_in_slice = 4\n",
    "\n",
    "# Сперва посчитаю сумму элементов в первом срезе, \n",
    "# с индексами от 0 до elements_in_slice:\n",
    "window_sum = sum(data[0:elements_in_slice])\n",
    "# Сразу напечатаю:\n",
    "print(window_sum)\n",
    "\n",
    "# Теперь переберу массив data по индексам, \n",
    "# от второго элемента в массиве до (len(data) - elements_in_slice) включительно:\n",
    "for index in range(1, len(data) - elements_in_slice + 1):\n",
    "    # Считаю сумму для текущего среза:\n",
    "    # к сумме предыдущего среза прибавляю \n",
    "    # значение последнего элемента текущего среза...\n",
    "    window_sum += data[index + elements_in_slice-1]\n",
    "    # ...и вычитаю значение первого элемента предыдущего среза:\n",
    "    window_sum -= data[index - 1]\n",
    "    print(window_sum)"
   ]
  },
  {
   "cell_type": "markdown",
   "id": "e1b011da",
   "metadata": {},
   "source": [
    "Перебрать массив можно иначе — в переменную `index` можно положить **последний** индекс текущего среза:\n",
    "\n",
    "Тогда в цикле надо пройти по элементам от индекса `elements_in_slice` до `len(data)`. Ну и немного изменить код, в котором ты получаешь нужные элементы. \n",
    "\n",
    "**Реализуйте алгоритм** исходя из этого принципа, теперь уже полностью: с поиском минимальной суммы."
   ]
  },
  {
   "cell_type": "code",
   "execution_count": null,
   "id": "98f1fae8",
   "metadata": {},
   "outputs": [
    {
     "name": "stdout",
     "output_type": "stream",
     "text": [
      "4\n"
     ]
    }
   ],
   "source": [
    "def find_min_slice_sum(data, elements_in_slice):\n",
    "    # Считаем сумму первого окна.\n",
    "    window_sum = sum(data[0:elements_in_slice])\n",
    "    # Запоминаем результат подсчёта в качестве минимальной суммы.\n",
    "    min_sum = window_sum\n",
    "    # В цикле перебираем индексы массива от elements_in_slice до последнего.\n",
    "    for index in range(elements_in_slice, len(data)):\n",
    "        # К сумме предыдущего окна добавляем новый элемент: data[index]\n",
    "        # и вычитаем \"вышедший\" элемент: data[index - elements_in_slice]\n",
    "        window_sum += data[index] - data[index - elements_in_slice]\n",
    "        # Находим минимальную сумму.\n",
    "        min_sum = min(min_sum, window_sum)\n",
    "    return min_sum\n",
    "\n",
    "\n",
    "if __name__ == '__main__':\n",
    "    data = [5, -3, -2, 10, 2, 7, 1, -6, 13]\n",
    "    elements_in_slice = 4\n",
    "    print(find_min_slice_sum(data, elements_in_slice))"
   ]
  },
  {
   "cell_type": "markdown",
   "id": "ae03d9a8",
   "metadata": {},
   "source": []
  }
 ],
 "metadata": {
  "kernelspec": {
   "display_name": ".venv",
   "language": "python",
   "name": "python3"
  },
  "language_info": {
   "codemirror_mode": {
    "name": "ipython",
    "version": 3
   },
   "file_extension": ".py",
   "mimetype": "text/x-python",
   "name": "python",
   "nbconvert_exporter": "python",
   "pygments_lexer": "ipython3",
   "version": "3.12.7"
  }
 },
 "nbformat": 4,
 "nbformat_minor": 5
}
