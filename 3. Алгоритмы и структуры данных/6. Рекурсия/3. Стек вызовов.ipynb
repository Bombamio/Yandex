{
 "cells": [
  {
   "cell_type": "markdown",
   "id": "155588ef",
   "metadata": {},
   "source": [
    "Как правило, код программ на Python разделяют на функции и классы. Для простоты возьмём программу, состоящую из нескольких функций. При работе этой программы функции будут взаимодействовать друг с другом — не зря же они написаны.\n",
    "\n",
    "Интерпретатор читает программу сверху вниз — и первым делом выполняет инструкции, которые обнаруживает в глобальной области программы, вне функций или классов.\n",
    "\n",
    "Когда на очередном шаге встречается вызов какой-то функции, интерпретатор переходит к её выполнению. После того, как вызванная функция закончит работу, — например, дойдёт до инструкции `return`, — выполнение программы продолжится с того места, откуда был совершён переход к этой функции.\n",
    "\n",
    "События в программе происходят примерно так:\n",
    "\n",
    "```py\n",
    "def outer():                              \n",
    "    print('Выполнение функции outer().')  # Шаг 3.\n",
    "\n",
    "print('Начало работы программы.')         # Шаг 1.\n",
    "outer()                                   # Шаг 2.\n",
    "print('Окончание работы программы.')      # Шаг 4. \n",
    "```\n",
    "\n",
    "При выполнении программы в интерпретаторе создаётся специальный стек, где сохраняется информация о вызовах функций. Он называется «стек вызовов» (англ. call stack).\n",
    "\n",
    "Именно благодаря стеку вызовов интерпретатор «запоминает» порядок вызовов и определяет, куда он должен вернуться после того, как выполнит очередную функцию.\n",
    "\n",
    "***\n",
    "## Как устроен стек вызовов"
   ]
  },
  {
   "cell_type": "code",
   "execution_count": null,
   "id": "7a602423",
   "metadata": {},
   "outputs": [],
   "source": [
    "def inner():\n",
    "    pass\n",
    "\n",
    "\n",
    "def outer():\n",
    "    inner()\n",
    "\n",
    "\n",
    "outer()\n",
    "inner()"
   ]
  },
  {
   "cell_type": "markdown",
   "id": "c9c9b472",
   "metadata": {},
   "source": [
    "Функция `inspect.stack()` возвращает итерируемый объект-генератор, каждый элемент которого описывает отдельный элемент стека вызовов, «шаг» выполняемой программы. Каждый такой элемент содержит довольно большой объём информации.\n",
    "\n",
    "Этот объект-генератор можно преобразовать в список и напечатать:"
   ]
  },
  {
   "cell_type": "code",
   "execution_count": null,
   "id": "82af4fce",
   "metadata": {},
   "outputs": [
    {
     "name": "stdout",
     "output_type": "stream",
     "text": [
      "[FrameInfo(frame=<frame at 0x000002672DF8FB80, file 'C:\\\\Users\\\\iliae\\\\AppData\\\\Local\\\\Temp\\\\ipykernel_16660\\\\1435700503.py', line 7, code print_call_stack>, filename='C:\\\\Users\\\\iliae\\\\AppData\\\\Local\\\\Temp\\\\ipykernel_16660\\\\1435700503.py', lineno=7, function='print_call_stack', code_context=['    print([frame for frame in inspect.stack()])\\n'], index=0, positions=Positions(lineno=7, end_lineno=7, col_offset=30, end_col_offset=45)), FrameInfo(frame=<frame at 0x000002672E163240, file 'C:\\\\Users\\\\iliae\\\\AppData\\\\Local\\\\Temp\\\\ipykernel_16660\\\\1435700503.py', line 11, code outer>, filename='C:\\\\Users\\\\iliae\\\\AppData\\\\Local\\\\Temp\\\\ipykernel_16660\\\\1435700503.py', lineno=11, function='outer', code_context=['    print_call_stack()\\n'], index=0, positions=Positions(lineno=11, end_lineno=11, col_offset=4, end_col_offset=22)), FrameInfo(frame=<frame at 0x000002672E163880, file 'C:\\\\Users\\\\iliae\\\\AppData\\\\Local\\\\Temp\\\\ipykernel_16660\\\\1435700503.py', line 13, code <module>>, filename='C:\\\\Users\\\\iliae\\\\AppData\\\\Local\\\\Temp\\\\ipykernel_16660\\\\1435700503.py', lineno=13, function='<module>', code_context=['outer()\\n'], index=0, positions=Positions(lineno=13, end_lineno=13, col_offset=0, end_col_offset=7)), FrameInfo(frame=<frame at 0x000002672E214040, file 'c:\\\\Users\\\\iliae\\\\Для питона\\\\Yandex\\\\.venv\\\\Lib\\\\site-packages\\\\IPython\\\\core\\\\interactiveshell.py', line 3670, code run_code>, filename='c:\\\\Users\\\\iliae\\\\Для питона\\\\Yandex\\\\.venv\\\\Lib\\\\site-packages\\\\IPython\\\\core\\\\interactiveshell.py', lineno=3670, function='run_code', code_context=['                    exec(code_obj, self.user_global_ns, self.user_ns)\\n'], index=0, positions=Positions(lineno=3670, end_lineno=3670, col_offset=20, end_col_offset=69)), FrameInfo(frame=<frame at 0x000002672DFC2560, file 'c:\\\\Users\\\\iliae\\\\Для питона\\\\Yandex\\\\.venv\\\\Lib\\\\site-packages\\\\IPython\\\\core\\\\interactiveshell.py', line 3610, code run_ast_nodes>, filename='c:\\\\Users\\\\iliae\\\\Для питона\\\\Yandex\\\\.venv\\\\Lib\\\\site-packages\\\\IPython\\\\core\\\\interactiveshell.py', lineno=3610, function='run_ast_nodes', code_context=['                if await self.run_code(code, result, async_=asy):\\n'], index=0, positions=Positions(lineno=3610, end_lineno=3610, col_offset=19, end_col_offset=64)), FrameInfo(frame=<frame at 0x000002672DF3EBC0, file 'c:\\\\Users\\\\iliae\\\\Для питона\\\\Yandex\\\\.venv\\\\Lib\\\\site-packages\\\\IPython\\\\core\\\\interactiveshell.py', line 3365, code run_cell_async>, filename='c:\\\\Users\\\\iliae\\\\Для питона\\\\Yandex\\\\.venv\\\\Lib\\\\site-packages\\\\IPython\\\\core\\\\interactiveshell.py', lineno=3365, function='run_cell_async', code_context=['                has_raised = await self.run_ast_nodes(code_ast.body, cell_name,\\n'], index=0, positions=Positions(lineno=3365, end_lineno=3366, col_offset=29, end_col_offset=85)), FrameInfo(frame=<frame at 0x000002672DF8E680, file 'c:\\\\Users\\\\iliae\\\\Для питона\\\\Yandex\\\\.venv\\\\Lib\\\\site-packages\\\\IPython\\\\core\\\\async_helpers.py', line 128, code _pseudo_sync_runner>, filename='c:\\\\Users\\\\iliae\\\\Для питона\\\\Yandex\\\\.venv\\\\Lib\\\\site-packages\\\\IPython\\\\core\\\\async_helpers.py', lineno=128, function='_pseudo_sync_runner', code_context=['        coro.send(None)\\n'], index=0, positions=Positions(lineno=128, end_lineno=128, col_offset=8, end_col_offset=23)), FrameInfo(frame=<frame at 0x000002672E00C540, file 'c:\\\\Users\\\\iliae\\\\Для питона\\\\Yandex\\\\.venv\\\\Lib\\\\site-packages\\\\IPython\\\\core\\\\interactiveshell.py', line 3153, code _run_cell>, filename='c:\\\\Users\\\\iliae\\\\Для питона\\\\Yandex\\\\.venv\\\\Lib\\\\site-packages\\\\IPython\\\\core\\\\interactiveshell.py', lineno=3153, function='_run_cell', code_context=['            result = runner(coro)\\n'], index=0, positions=Positions(lineno=3153, end_lineno=3153, col_offset=21, end_col_offset=33)), FrameInfo(frame=<frame at 0x000002672E2146A0, file 'c:\\\\Users\\\\iliae\\\\Для питона\\\\Yandex\\\\.venv\\\\Lib\\\\site-packages\\\\IPython\\\\core\\\\interactiveshell.py', line 3098, code run_cell>, filename='c:\\\\Users\\\\iliae\\\\Для питона\\\\Yandex\\\\.venv\\\\Lib\\\\site-packages\\\\IPython\\\\core\\\\interactiveshell.py', lineno=3098, function='run_cell', code_context=['                result = self._run_cell(\\n'], index=0, positions=Positions(lineno=3098, end_lineno=3100, col_offset=25, end_col_offset=17)), FrameInfo(frame=<frame at 0x000002672E1B7440, file 'c:\\\\Users\\\\iliae\\\\Для питона\\\\Yandex\\\\.venv\\\\Lib\\\\site-packages\\\\ipykernel\\\\zmqshell.py', line 549, code run_cell>, filename='c:\\\\Users\\\\iliae\\\\Для питона\\\\Yandex\\\\.venv\\\\Lib\\\\site-packages\\\\ipykernel\\\\zmqshell.py', lineno=549, function='run_cell', code_context=['        return super().run_cell(*args, **kwargs)\\n'], index=0, positions=Positions(lineno=549, end_lineno=549, col_offset=15, end_col_offset=48)), FrameInfo(frame=<frame at 0x000002672DF9B6E0, file 'c:\\\\Users\\\\iliae\\\\Для питона\\\\Yandex\\\\.venv\\\\Lib\\\\site-packages\\\\ipykernel\\\\ipkernel.py', line 449, code do_execute>, filename='c:\\\\Users\\\\iliae\\\\Для питона\\\\Yandex\\\\.venv\\\\Lib\\\\site-packages\\\\ipykernel\\\\ipkernel.py', lineno=449, function='do_execute', code_context=['                    res = shell.run_cell(\\n'], index=0, positions=Positions(lineno=449, end_lineno=454, col_offset=26, end_col_offset=21)), FrameInfo(frame=<frame at 0x000002672DF81A80, file 'c:\\\\Users\\\\iliae\\\\Для питона\\\\Yandex\\\\.venv\\\\Lib\\\\site-packages\\\\ipykernel\\\\kernelbase.py', line 778, code execute_request>, filename='c:\\\\Users\\\\iliae\\\\Для питона\\\\Yandex\\\\.venv\\\\Lib\\\\site-packages\\\\ipykernel\\\\kernelbase.py', lineno=778, function='execute_request', code_context=['            reply_content = await reply_content\\n'], index=0, positions=Positions(lineno=778, end_lineno=778, col_offset=28, end_col_offset=47)), FrameInfo(frame=<frame at 0x000002672E210BA0, file 'c:\\\\Users\\\\iliae\\\\Для питона\\\\Yandex\\\\.venv\\\\Lib\\\\site-packages\\\\ipykernel\\\\ipkernel.py', line 362, code execute_request>, filename='c:\\\\Users\\\\iliae\\\\Для питона\\\\Yandex\\\\.venv\\\\Lib\\\\site-packages\\\\ipykernel\\\\ipkernel.py', lineno=362, function='execute_request', code_context=['        await super().execute_request(stream, ident, parent)\\n'], index=0, positions=Positions(lineno=362, end_lineno=362, col_offset=8, end_col_offset=60)), FrameInfo(frame=<frame at 0x000002672DFA48B0, file 'c:\\\\Users\\\\iliae\\\\Для питона\\\\Yandex\\\\.venv\\\\Lib\\\\site-packages\\\\ipykernel\\\\kernelbase.py', line 437, code dispatch_shell>, filename='c:\\\\Users\\\\iliae\\\\Для питона\\\\Yandex\\\\.venv\\\\Lib\\\\site-packages\\\\ipykernel\\\\kernelbase.py', lineno=437, function='dispatch_shell', code_context=['                    await result\\n'], index=0, positions=Positions(lineno=437, end_lineno=437, col_offset=20, end_col_offset=32)), FrameInfo(frame=<frame at 0x000002672E1B7510, file 'c:\\\\Users\\\\iliae\\\\Для питона\\\\Yandex\\\\.venv\\\\Lib\\\\site-packages\\\\ipykernel\\\\kernelbase.py', line 534, code process_one>, filename='c:\\\\Users\\\\iliae\\\\Для питона\\\\Yandex\\\\.venv\\\\Lib\\\\site-packages\\\\ipykernel\\\\kernelbase.py', lineno=534, function='process_one', code_context=['        await dispatch(*args)\\n'], index=0, positions=Positions(lineno=534, end_lineno=534, col_offset=8, end_col_offset=29)), FrameInfo(frame=<frame at 0x000002672DF75850, file 'c:\\\\Users\\\\iliae\\\\Для питона\\\\Yandex\\\\.venv\\\\Lib\\\\site-packages\\\\ipykernel\\\\kernelbase.py', line 545, code dispatch_queue>, filename='c:\\\\Users\\\\iliae\\\\Для питона\\\\Yandex\\\\.venv\\\\Lib\\\\site-packages\\\\ipykernel\\\\kernelbase.py', lineno=545, function='dispatch_queue', code_context=['                await self.process_one()\\n'], index=0, positions=Positions(lineno=545, end_lineno=545, col_offset=16, end_col_offset=40)), FrameInfo(frame=<frame at 0x000002672E210C80, file 'C:\\\\Users\\\\iliae\\\\AppData\\\\Local\\\\Programs\\\\Python\\\\Python312\\\\Lib\\\\asyncio\\\\events.py', line 88, code _run>, filename='C:\\\\Users\\\\iliae\\\\AppData\\\\Local\\\\Programs\\\\Python\\\\Python312\\\\Lib\\\\asyncio\\\\events.py', lineno=88, function='_run', code_context=['            self._context.run(self._callback, *self._args)\\n'], index=0, positions=Positions(lineno=88, end_lineno=88, col_offset=12, end_col_offset=58)), FrameInfo(frame=<frame at 0x000002672E20C630, file 'C:\\\\Users\\\\iliae\\\\AppData\\\\Local\\\\Programs\\\\Python\\\\Python312\\\\Lib\\\\asyncio\\\\base_events.py', line 1986, code _run_once>, filename='C:\\\\Users\\\\iliae\\\\AppData\\\\Local\\\\Programs\\\\Python\\\\Python312\\\\Lib\\\\asyncio\\\\base_events.py', lineno=1986, function='_run_once', code_context=['                handle._run()\\n'], index=0, positions=Positions(lineno=1986, end_lineno=1986, col_offset=16, end_col_offset=29)), FrameInfo(frame=<frame at 0x000002672DF8FE80, file 'C:\\\\Users\\\\iliae\\\\AppData\\\\Local\\\\Programs\\\\Python\\\\Python312\\\\Lib\\\\asyncio\\\\base_events.py', line 641, code run_forever>, filename='C:\\\\Users\\\\iliae\\\\AppData\\\\Local\\\\Programs\\\\Python\\\\Python312\\\\Lib\\\\asyncio\\\\base_events.py', lineno=641, function='run_forever', code_context=['                self._run_once()\\n'], index=0, positions=Positions(lineno=641, end_lineno=641, col_offset=16, end_col_offset=32)), FrameInfo(frame=<frame at 0x000002672E1B8400, file 'c:\\\\Users\\\\iliae\\\\Для питона\\\\Yandex\\\\.venv\\\\Lib\\\\site-packages\\\\tornado\\\\platform\\\\asyncio.py', line 205, code start>, filename='c:\\\\Users\\\\iliae\\\\Для питона\\\\Yandex\\\\.venv\\\\Lib\\\\site-packages\\\\tornado\\\\platform\\\\asyncio.py', lineno=205, function='start', code_context=['        self.asyncio_loop.run_forever()\\n'], index=0, positions=Positions(lineno=205, end_lineno=205, col_offset=8, end_col_offset=39)), FrameInfo(frame=<frame at 0x000002672DF8FF40, file 'c:\\\\Users\\\\iliae\\\\Для питона\\\\Yandex\\\\.venv\\\\Lib\\\\site-packages\\\\ipykernel\\\\kernelapp.py', line 739, code start>, filename='c:\\\\Users\\\\iliae\\\\Для питона\\\\Yandex\\\\.venv\\\\Lib\\\\site-packages\\\\ipykernel\\\\kernelapp.py', lineno=739, function='start', code_context=['                self.io_loop.start()\\n'], index=0, positions=Positions(lineno=739, end_lineno=739, col_offset=16, end_col_offset=36)), FrameInfo(frame=<frame at 0x000002672E1B7370, file 'c:\\\\Users\\\\iliae\\\\Для питона\\\\Yandex\\\\.venv\\\\Lib\\\\site-packages\\\\traitlets\\\\config\\\\application.py', line 1075, code launch_instance>, filename='c:\\\\Users\\\\iliae\\\\Для питона\\\\Yandex\\\\.venv\\\\Lib\\\\site-packages\\\\traitlets\\\\config\\\\application.py', lineno=1075, function='launch_instance', code_context=['        app.start()\\n'], index=0, positions=Positions(lineno=1075, end_lineno=1075, col_offset=8, end_col_offset=19)), FrameInfo(frame=<frame at 0x000002672DF75A60, file 'c:\\\\Users\\\\iliae\\\\Для питона\\\\Yandex\\\\.venv\\\\Lib\\\\site-packages\\\\ipykernel_launcher.py', line 18, code <module>>, filename='c:\\\\Users\\\\iliae\\\\Для питона\\\\Yandex\\\\.venv\\\\Lib\\\\site-packages\\\\ipykernel_launcher.py', lineno=18, function='<module>', code_context=['    app.launch_new_instance()\\n'], index=0, positions=Positions(lineno=18, end_lineno=18, col_offset=4, end_col_offset=29)), FrameInfo(frame=<frame at 0x000002672E209D80, file '<frozen runpy>', line 88, code _run_code>, filename='<frozen runpy>', lineno=88, function='_run_code', code_context=None, index=None, positions=Positions(lineno=88, end_lineno=88, col_offset=4, end_col_offset=27)), FrameInfo(frame=<frame at 0x000002672E1F8C40, file '<frozen runpy>', line 198, code _run_module_as_main>, filename='<frozen runpy>', lineno=198, function='_run_module_as_main', code_context=None, index=None, positions=Positions(lineno=198, end_lineno=199, col_offset=11, end_col_offset=42))]\n"
     ]
    }
   ],
   "source": [
    "import inspect\n",
    "\n",
    "# Создадим функцию, которая в нужный момент \n",
    "# будет выводить информацию о стеке вызовов:\n",
    "def print_call_stack():\n",
    "    # Распаковываем генератор в список и печатаем его:\n",
    "    print([frame for frame in inspect.stack()])\n",
    "\n",
    "def outer():\n",
    "    # Для пробы вызовем здесь информацию о стеке.\n",
    "    print_call_stack()\n",
    "\n",
    "outer()\n",
    "\n",
    "# Будет выведен список из нескольких элементов вида \n",
    "# FrameInfo(кортеж_c_информацией_об_элементе_стека):"
   ]
  },
  {
   "cell_type": "markdown",
   "id": "e8a35b3e",
   "metadata": {},
   "source": [
    "> `FrameInfo` — это именованный кортеж, а каждый элемент в этом кортеже описывает один из элементов стека. Все вместе эти элементы содержат информацию из стека вызовов на текущий момент.\n",
    "\n",
    "***\n",
    "## Лирическое отступление: именованные кортежи\n",
    "\n",
    "Это такой тип данных, коллекция, которая обладает всеми свойствами кортежа, но каждому элементу в нём присваивается уникальное имя. К элементам именованного кортежа можно обращаться как к атрибутам объекта. Этот тип данных нужно импортировать из модуля `collections`."
   ]
  },
  {
   "cell_type": "code",
   "execution_count": 2,
   "id": "caf5724c",
   "metadata": {},
   "outputs": [
    {
     "name": "stdout",
     "output_type": "stream",
     "text": [
      "MarsSputnik(name='Phobos', area=1548.3, radius=11.26, gravity=0.0057)\n",
      "MarsSputnik(name='Deimos', area=495.15, radius=6.2, gravity=0.003)\n",
      "1548.3\n"
     ]
    }
   ],
   "source": [
    "from collections import namedtuple\n",
    "\n",
    "sputnik = namedtuple('MarsSputnik', ['name', 'area', 'radius', 'gravity'])\n",
    "\n",
    "phobos = sputnik(name='Phobos', area=1548.3, radius=11.26, gravity=0.0057)\n",
    "deimos = sputnik(name='Deimos', area=495.15, radius=6.2, gravity=0.003)\n",
    "print(phobos)\n",
    "print(deimos)\n",
    "print(phobos.area)"
   ]
  },
  {
   "cell_type": "markdown",
   "id": "8cf9601e",
   "metadata": {},
   "source": [
    "***\n",
    "## Распечатываем данные из стека вызовов\n",
    "\n",
    "Имя четвёртого элемента именованного кортежа — `function`, в нём содержится название функции, выполняемой на этом уровне стека. Оно-то нам и нужно. Переберём содержимое стека при помощи спискового включения, где каждый элемент стека назовём именем `frame`. Тогда получить название функции можно будет через атрибут объекта `frame`: `frame.function`. \n",
    "\n",
    "```py\n",
    "def print_call_stack():\n",
    "    print([frame.function for frame in inspect.stack()]) \n",
    "```\n",
    "\n",
    "Расставим в коде вызовы функции `print_call_stack()`, она напечатает названия функций, вызванных в определённый момент работы программы. Комментариями отметим порядок, в котором будут печататься названия функций из стека.\n",
    "\n",
    "Скопируйте программу в свой редактор кода и выполните её. "
   ]
  },
  {
   "cell_type": "code",
   "execution_count": 3,
   "id": "fcc1e74b",
   "metadata": {},
   "outputs": [
    {
     "name": "stdout",
     "output_type": "stream",
     "text": [
      "['<module>', 'run_code', 'run_ast_nodes', 'run_cell_async', '_pseudo_sync_runner', '_run_cell', 'run_cell', 'run_cell', 'do_execute', 'execute_request', 'execute_request', 'dispatch_shell', 'process_one', 'dispatch_queue', '_run', '_run_once', 'run_forever', 'start', 'start', 'launch_instance', '<module>', '_run_code', '_run_module_as_main']\n",
      "['print_call_stack', '<module>', 'run_code', 'run_ast_nodes', 'run_cell_async', '_pseudo_sync_runner', '_run_cell', 'run_cell', 'run_cell', 'do_execute', 'execute_request', 'execute_request', 'dispatch_shell', 'process_one', 'dispatch_queue', '_run', '_run_once', 'run_forever', 'start', 'start', 'launch_instance', '<module>', '_run_code', '_run_module_as_main']\n",
      "['print_call_stack', 'outer', '<module>', 'run_code', 'run_ast_nodes', 'run_cell_async', '_pseudo_sync_runner', '_run_cell', 'run_cell', 'run_cell', 'do_execute', 'execute_request', 'execute_request', 'dispatch_shell', 'process_one', 'dispatch_queue', '_run', '_run_once', 'run_forever', 'start', 'start', 'launch_instance', '<module>', '_run_code', '_run_module_as_main']\n",
      "['print_call_stack', 'inner', 'outer', '<module>', 'run_code', 'run_ast_nodes', 'run_cell_async', '_pseudo_sync_runner', '_run_cell', 'run_cell', 'run_cell', 'do_execute', 'execute_request', 'execute_request', 'dispatch_shell', 'process_one', 'dispatch_queue', '_run', '_run_once', 'run_forever', 'start', 'start', 'launch_instance', '<module>', '_run_code', '_run_module_as_main']\n",
      "['print_call_stack', 'outer', '<module>', 'run_code', 'run_ast_nodes', 'run_cell_async', '_pseudo_sync_runner', '_run_cell', 'run_cell', 'run_cell', 'do_execute', 'execute_request', 'execute_request', 'dispatch_shell', 'process_one', 'dispatch_queue', '_run', '_run_once', 'run_forever', 'start', 'start', 'launch_instance', '<module>', '_run_code', '_run_module_as_main']\n",
      "['print_call_stack', '<module>', 'run_code', 'run_ast_nodes', 'run_cell_async', '_pseudo_sync_runner', '_run_cell', 'run_cell', 'run_cell', 'do_execute', 'execute_request', 'execute_request', 'dispatch_shell', 'process_one', 'dispatch_queue', '_run', '_run_once', 'run_forever', 'start', 'start', 'launch_instance', '<module>', '_run_code', '_run_module_as_main']\n",
      "['print_call_stack', 'inner', '<module>', 'run_code', 'run_ast_nodes', 'run_cell_async', '_pseudo_sync_runner', '_run_cell', 'run_cell', 'run_cell', 'do_execute', 'execute_request', 'execute_request', 'dispatch_shell', 'process_one', 'dispatch_queue', '_run', '_run_once', 'run_forever', 'start', 'start', 'launch_instance', '<module>', '_run_code', '_run_module_as_main']\n"
     ]
    }
   ],
   "source": [
    "import inspect\n",
    "\n",
    "def print_call_stack():\n",
    "    # Функция inspect.stack() возвращает объект-генератор.\n",
    "    # В каждом элементе генератора хранится именованный кортеж.\n",
    "    # Из этого кортежа берём элемент с названием function: frame.function.\n",
    "    # В этом элементе хранится название вызванной функции.\n",
    "    print([frame.function for frame in inspect.stack()])\n",
    "\n",
    "def inner():\n",
    "    print_call_stack()  # 4, 7\n",
    "\n",
    "def outer():\n",
    "    print_call_stack()  # 3\n",
    "    inner()\n",
    "    print_call_stack()  # 5\n",
    "\n",
    "# А это ответ на вопрос, который сейчас появится.\n",
    "print([frame.function for frame in inspect.stack()])  # 1\n",
    "print_call_stack()  # 2\n",
    "outer()\n",
    "print_call_stack()  # 6\n",
    "inner()"
   ]
  },
  {
   "cell_type": "markdown",
   "id": "6541013a",
   "metadata": {},
   "source": [
    "В каждой строке напечатаны названия функций в том порядке, как они размещены в стеке вызовов: слева — та функция, что на вершине стека, правее — те, что глубже. \n",
    "\n",
    "Если изобразить вызовы в виде вертикальных столбцов, можно увидеть, как нарастает и уменьшается стек при появлении новых вызовов:\n",
    "\n",
    "![alt text](S10_69_1696832771.png)\n",
    "\n",
    "Разберём вывод построчно.\n",
    "\n",
    "1. С первым вызовом уже разобрались: инструкция выполняется прямо из кода модуля — и в стеке лишь одна запись, `<module>`.\n",
    "\n",
    "2. Второй вывод стека: из кода модуля вызвана функция `print_call_stack()`, она и оказалась на вершине стека. После выполнения этой функции интерпретатор удалит её с вершины стека и вернётся к выполнению кода в `<module>`.\n",
    "\n",
    "3. Третий вывод стека: из `<module>` вызвана функция `outer()`, а из неё — `print_call_stack()`. И вот все они отображены в стеке, от «верхнего» вызова к «нижнему».\n",
    "\n",
    "4. Здесь функция `outer()` вызывает `inner()`, а в `inner()` вызывается `print_call_stack()`. И к моменту этого вызова функции `print_call_stack()` в стеке оказываются все функции программы:\n",
    "`['print_call_stack', 'inner', 'outer', '<module>']`.\n",
    "\n",
    "5. Функция `inner()` завершила работу — и после завершения она удаляется из стека. На вершине оказывается информация о той функции, которая вызвала `inner()`. Интерпретатор считывает стек и понимает, что следует вернуться к выполнению функции `outer()`, к строке 16. А там — очередной вызов `print_call_stack()`.\n",
    "\n",
    "6. То же происходит и на следующем шаге: функция `outer()` завершилась, она удаляется из стека; интерпретатор возвращается к выполнению кода из `<module>`, к строке 22.\n",
    "\n",
    "7. В следующий раз стек печатается из функции `inner()` после того, как она вызвана в строке 23. Из этой функции стек уже печатался на шаге 4, однако теперь стек отличается от предыдущего. В первый раз функция `inner()` была вызвана из `outer()`, и путь до её вызова был длиннее, чем теперь: на этом шаге функция `inner()` вызвана из основного модуля."
   ]
  }
 ],
 "metadata": {
  "kernelspec": {
   "display_name": ".venv",
   "language": "python",
   "name": "python3"
  },
  "language_info": {
   "codemirror_mode": {
    "name": "ipython",
    "version": 3
   },
   "file_extension": ".py",
   "mimetype": "text/x-python",
   "name": "python",
   "nbconvert_exporter": "python",
   "pygments_lexer": "ipython3",
   "version": "3.12.7"
  }
 },
 "nbformat": 4,
 "nbformat_minor": 5
}
