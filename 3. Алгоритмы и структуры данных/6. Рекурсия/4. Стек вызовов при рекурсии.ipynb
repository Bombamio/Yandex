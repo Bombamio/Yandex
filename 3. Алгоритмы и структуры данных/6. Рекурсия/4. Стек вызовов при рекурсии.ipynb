{
 "cells": [
  {
   "cell_type": "code",
   "execution_count": 3,
   "id": "88d8884a",
   "metadata": {},
   "outputs": [
    {
     "name": "stdout",
     "output_type": "stream",
     "text": [
      "['print_call_stack', '<module>', 'run_code', 'run_ast_nodes', 'run_cell_async', '_pseudo_sync_runner', '_run_cell', 'run_cell', 'run_cell', 'do_execute', 'execute_request', 'execute_request', 'dispatch_shell', 'process_one', 'dispatch_queue', '_run', '_run_once', 'run_forever', 'start', 'start', 'launch_instance', '<module>', '_run_code', '_run_module_as_main']\n",
      "['print_call_stack', 'disassemble_matryoshka', '<module>', 'run_code', 'run_ast_nodes', 'run_cell_async', '_pseudo_sync_runner', '_run_cell', 'run_cell', 'run_cell', 'do_execute', 'execute_request', 'execute_request', 'dispatch_shell', 'process_one', 'dispatch_queue', '_run', '_run_once', 'run_forever', 'start', 'start', 'launch_instance', '<module>', '_run_code', '_run_module_as_main']\n",
      "Разобрали матрёшку размера L, разбираем дальше!\n",
      "['print_call_stack', 'disassemble_matryoshka', 'disassemble_matryoshka', '<module>', 'run_code', 'run_ast_nodes', 'run_cell_async', '_pseudo_sync_runner', '_run_cell', 'run_cell', 'run_cell', 'do_execute', 'execute_request', 'execute_request', 'dispatch_shell', 'process_one', 'dispatch_queue', '_run', '_run_once', 'run_forever', 'start', 'start', 'launch_instance', '<module>', '_run_code', '_run_module_as_main']\n",
      "Разобрали матрёшку размера M, разбираем дальше!\n",
      "['print_call_stack', 'disassemble_matryoshka', 'disassemble_matryoshka', 'disassemble_matryoshka', '<module>', 'run_code', 'run_ast_nodes', 'run_cell_async', '_pseudo_sync_runner', '_run_cell', 'run_cell', 'run_cell', 'do_execute', 'execute_request', 'execute_request', 'dispatch_shell', 'process_one', 'dispatch_queue', '_run', '_run_once', 'run_forever', 'start', 'start', 'launch_instance', '<module>', '_run_code', '_run_module_as_main']\n",
      "Все матрёшки разобраны! Размер последней матрёшки: S\n",
      "['print_call_stack', 'disassemble_matryoshka', 'disassemble_matryoshka', '<module>', 'run_code', 'run_ast_nodes', 'run_cell_async', '_pseudo_sync_runner', '_run_cell', 'run_cell', 'run_cell', 'do_execute', 'execute_request', 'execute_request', 'dispatch_shell', 'process_one', 'dispatch_queue', '_run', '_run_once', 'run_forever', 'start', 'start', 'launch_instance', '<module>', '_run_code', '_run_module_as_main']\n",
      "['print_call_stack', 'disassemble_matryoshka', '<module>', 'run_code', 'run_ast_nodes', 'run_cell_async', '_pseudo_sync_runner', '_run_cell', 'run_cell', 'run_cell', 'do_execute', 'execute_request', 'execute_request', 'dispatch_shell', 'process_one', 'dispatch_queue', '_run', '_run_once', 'run_forever', 'start', 'start', 'launch_instance', '<module>', '_run_code', '_run_module_as_main']\n",
      "['print_call_stack', '<module>', 'run_code', 'run_ast_nodes', 'run_cell_async', '_pseudo_sync_runner', '_run_cell', 'run_cell', 'run_cell', 'do_execute', 'execute_request', 'execute_request', 'dispatch_shell', 'process_one', 'dispatch_queue', '_run', '_run_once', 'run_forever', 'start', 'start', 'launch_instance', '<module>', '_run_code', '_run_module_as_main']\n"
     ]
    }
   ],
   "source": [
    "import inspect\n",
    "\n",
    "\n",
    "def print_call_stack():\n",
    "    \"\"\"Функция распечатки имён функций в стеке.\"\"\"\n",
    "    print([frame.function for frame in inspect.stack()])\n",
    "\n",
    "\n",
    "class Matryoshka:\n",
    "\n",
    "    def __init__(self, size, item=None):\n",
    "        self.size = size\n",
    "        self.inner_item = item\n",
    "\n",
    "\n",
    "def disassemble_matryoshka(matryoshka: Matryoshka):\n",
    "    \"\"\"Функция разборки матрёшки.\"\"\"\n",
    "    # Добавим распечатку стека в начале функции.\n",
    "    print_call_stack()\n",
    "    inner_item = matryoshka.inner_item\n",
    "    if inner_item is None:\n",
    "        print(f'Все матрёшки разобраны! Размер последней матрёшки: {matryoshka.size}')\n",
    "        return\n",
    "    # Если внутри что-то есть, то печатаем информационное сообщение...\n",
    "    print(f'Разобрали матрёшку размера {matryoshka.size}, разбираем дальше!')\n",
    "    disassemble_matryoshka(inner_item)\n",
    "    # Добавим распечатку стека в конце функции.\n",
    "    print_call_stack()\n",
    "\n",
    "\n",
    "if __name__ == '__main__':\n",
    "    # Добавим распечатку стека в самом начале выполнения программы.\n",
    "    print_call_stack()\n",
    "    big_matryoshka = Matryoshka('L', Matryoshka('M', Matryoshka('S')))\n",
    "    disassemble_matryoshka(big_matryoshka)\n",
    "    # Добавим распечатку стека в конце выполнения программы.\n",
    "    print_call_stack()"
   ]
  },
  {
   "cell_type": "markdown",
   "id": "d255fc0c",
   "metadata": {},
   "source": [
    "Пока программа разбирает матрёшку за матрёшкой, стек нарастает, в него добавляются новые вызовы одной и той же функции — `disassemble_matryoshka()`. \n",
    "\n",
    "При каждом новом вызове эта функция обрабатывает разные аргументы: при первом вызове в неё передаётся объект `big_matryoshka`, её размер — `L`, при втором в аргументы передаётся матрёшка размера `M`, при третьем вызове — матрёшка размера `S`. На каждом «уровне» стека в функции `disassemble_matryoshka()` в локальной переменной `matryoshka` хранятся разные объекты.\n",
    "\n",
    "![alt text](image_1736927303.png)\n",
    "\n",
    "После того как все вложенные в big_m`a`tryoshka объекты извлечены и «матрёшка разобрана», стек начинает уменьшаться. \n",
    "\n",
    "Однако после выполнения последней рекурсивно вызванной функции (на шаге 4) программа не переходит сразу к концу кода. Интерпретатор по очереди завершает вложенные функции и «снимает» со стека их вызовы, начиная с самого «глубокого» вызова (он на вершине стека) и заканчивая первым.\n",
    "\n",
    "Движение от начала программы до того момента, как рекурсия прерывается и появляется строка «Все матрёшки разобраны!», называется **прямым ходом рекурсии**. Процесс поочерёдного «выключения» функций, когда последовательно завершаются рекурсивные вызовы, — это **обратный ход рекурсии**.\n",
    "\n",
    "![alt text](image_1736927316.png)\n",
    "\n",
    "При нарастании стека фактически выполняется лишь та функция, которая находится на вершине. Остальные функции запущены, но они просто стоят и ждут, пока «верхняя» функция в стеке завершит работу и вернёт ответ. После этого сможет завершиться и вторая функция в стеке, после этого — третья, и так до конца стека.\n",
    "\n",
    "Интерпретатор не может перескочить с верхнего уровня стека на самый первый вызов, записанный в стеке. Это правило касается и рекурсии: интерпретатор обязательно должен пройти по **обратному ходу рекурсии**, закрывая все вызовы, которые были сделаны во время **прямого хода**."
   ]
  }
 ],
 "metadata": {
  "kernelspec": {
   "display_name": ".venv",
   "language": "python",
   "name": "python3"
  },
  "language_info": {
   "codemirror_mode": {
    "name": "ipython",
    "version": 3
   },
   "file_extension": ".py",
   "mimetype": "text/x-python",
   "name": "python",
   "nbconvert_exporter": "python",
   "pygments_lexer": "ipython3",
   "version": "3.12.7"
  }
 },
 "nbformat": 4,
 "nbformat_minor": 5
}
