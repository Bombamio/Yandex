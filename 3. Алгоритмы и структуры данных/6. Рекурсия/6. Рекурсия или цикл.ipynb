{
 "cells": [
  {
   "cell_type": "code",
   "execution_count": null,
   "id": "949f4577",
   "metadata": {},
   "outputs": [],
   "source": [
    "class Matryoshka:\n",
    "\n",
    "    def __init__(self, size, item=None):\n",
    "        self.size = size\n",
    "        self.inner_item = item\n",
    "\n",
    "\n",
    "def disassemble_matryoshka(matryoshka):\n",
    "    \"\"\"Функция разборки матрёшки.\"\"\"\n",
    "    inner_item = matryoshka.inner_item\n",
    "    if inner_item is None:\n",
    "        print(f'Все матрёшки разобраны! Размер последней матрёшки: {matryoshka.size}')\n",
    "        return\n",
    "    print(f'Разобрали матрёшку размера {matryoshka.size}, разбираем дальше!')\n",
    "    disassemble_matryoshka(inner_item)\n",
    "\n",
    "if __name__ == '__main__':\n",
    "    big_matryoshka = Matryoshka('L', Matryoshka('M', Matryoshka('S')))\n",
    "    disassemble_matryoshka(big_matryoshka)"
   ]
  },
  {
   "cell_type": "markdown",
   "id": "743141f6",
   "metadata": {},
   "source": [
    "Перепишем тот же код на цикле:\n",
    "\n",
    "* Класс матрёшки оставим таким же, как он и был; набор матрёшек тоже сохраним в прежнем виде.\n",
    "\n",
    "* Вне цикла, в списке `items_for_disassemble`, будем хранить ту матрёшку, которую разбираем на текущей итерации.\n",
    "\n",
    "* В начале цикла извлекаем из списка матрёшку (список становится пустым), из полученной матрёшки извлекаем вложенную — и добавляем её в список. Таким образом, в списке всегда будет один элемент.\n",
    "\n",
    "* Когда вложенные матрёшки кончатся, в список `items_for_disassemble` ничего не будет добавлено, в нём не будет элементов. Это состояние и будет условием для выхода из цикла `while`:\n",
    "\n",
    "```py\n",
    "while items_for_disassemble:\n",
    "    ... \n",
    "```\n",
    "\n",
    "На этой идее и построим программу."
   ]
  },
  {
   "cell_type": "code",
   "execution_count": 2,
   "id": "7c7e1fb6",
   "metadata": {},
   "outputs": [
    {
     "name": "stdout",
     "output_type": "stream",
     "text": [
      "Разобрали матрёшку размера L, разбираем дальше!\n",
      "Разобрали матрёшку размера M, разбираем дальше!\n",
      "Все матрёшки разобраны! Размер последней матрёшки: S\n"
     ]
    }
   ],
   "source": [
    "class Matryoshka:\n",
    "\n",
    "    def __init__(self, size, item=None):\n",
    "        self.size = size\n",
    "        self.inner_item = item\n",
    "\n",
    "\n",
    "def disassemble_matryoshka(matryoshka):\n",
    "    \"\"\"Функция разборки матрёшки.\"\"\"\n",
    "    # В этом списке храним ту матрёшку,\n",
    "    # которую цикл разбирает в текущей итерации.\n",
    "    # В начале выполнения программы здесь хранится самая большая матрёшка.\n",
    "    items_for_disassemble = [matryoshka]\n",
    "\n",
    "    # Пока список items_for_disassemble не пуст, выполняем цикл.\n",
    "    while items_for_disassemble:\n",
    "        # Извлекаем последний (он же единственный) элемент из списка.\n",
    "        element_to_disassemble = items_for_disassemble.pop()\n",
    "        # Получаем из текущего элемента вложенный.\n",
    "        inner_item = element_to_disassemble.inner_item\n",
    "        # Если вложенный элемент существует...\n",
    "        if inner_item is not None:\n",
    "            # ...помещаем этот вложенный элемент в спискок.\n",
    "            # Список был пуст, но полезно вспомнить, \n",
    "            # что метод append() добавляет новый элемент в конец списка.\n",
    "            items_for_disassemble.append(inner_item)\n",
    "            print(f'Разобрали матрёшку размера {element_to_disassemble.size}, разбираем дальше!')\n",
    "    # Когда цикл выполнился, печатаем сообщение \n",
    "    # об окончании работы и данные последней матрёшки:\n",
    "    print(f'Все матрёшки разобраны! Размер последней матрёшки: {element_to_disassemble.size}')\n",
    "\n",
    "\n",
    "if __name__ == '__main__':\n",
    "    big_matryoshka = Matryoshka('L', Matryoshka('M', Matryoshka('S')))\n",
    "    disassemble_matryoshka(big_matryoshka)"
   ]
  },
  {
   "cell_type": "code",
   "execution_count": 3,
   "id": "4abb6e9b",
   "metadata": {},
   "outputs": [
    {
     "name": "stdout",
     "output_type": "stream",
     "text": [
      "Взяли коробку размера L, внутри: [M, M].\n",
      "Взяли коробку размера M, внутри: [S, S, S, S].\n",
      "В коробке размера S больше ничего нет.\n",
      "В коробке размера S больше ничего нет.\n",
      "В коробке размера S больше ничего нет.\n",
      "В коробке размера S больше ничего нет.\n",
      "В коробке размера M больше ничего нет.\n"
     ]
    }
   ],
   "source": [
    "class Box:\n",
    "\n",
    "    def __init__(self, size, inner_items=None):\n",
    "        self.size = size\n",
    "        self.inner_items = inner_items\n",
    "\n",
    "    def __repr__(self):\n",
    "        # При распечатке объекта через print()\n",
    "        # будет выводиться свойство size - размер коробки.\n",
    "        return self.size\n",
    "\n",
    "\n",
    "def disassemble_boxes(box):\n",
    "    \"\"\"Функция разборки коробок.\"\"\"\n",
    "    items_for_disassemble = [box]\n",
    "\n",
    "    # Пока список items_for_disassemble не пуст - выполняем цикл.\n",
    "    while items_for_disassemble:\n",
    "        # Извлекаем последний элемент из списка.\n",
    "        element_to_disassemble = items_for_disassemble.pop()\n",
    "        # Получаем из текущего элемента вложенные элементы.\n",
    "        inner_items = element_to_disassemble.inner_items\n",
    "        # Если вложенные элементы существуют...\n",
    "        if inner_items is not None:\n",
    "            # ...добавляем их в список. \n",
    "            # Элементов может быть несколько, поэтому применяем extend().\n",
    "            items_for_disassemble.extend(inner_items)\n",
    "            print(f'Взяли коробку размера {element_to_disassemble.size}, '\n",
    "                  f'внутри: {inner_items}.')\n",
    "        else:\n",
    "            print(f'В коробке размера {element_to_disassemble.size} '\n",
    "                  'больше ничего нет.')\n",
    "\n",
    "\n",
    "if __name__ == '__main__':\n",
    "    # Создаём четыре маленькие коробки: четыре объекта класса Box. \n",
    "    # В них ничего нет.\n",
    "    small_boxes = [Box(size='S') for _ in range(4)]\n",
    "    # Создаём коробку среднего размера, пустую:\n",
    "    middle_box_empty = Box(size='M')\n",
    "    # Создаём ещё одну среднюю коробку, в неё кладём четыре маленькие:\n",
    "    middle_box_full = Box(size='M', inner_items=small_boxes)\n",
    "    # Создаём большую коробку, в неё вкладываем две средние:\n",
    "    large_box = Box(size='L', inner_items=[middle_box_empty, middle_box_full])\n",
    "    # Отправляем большую коробку в функцию-разбиратель:\n",
    "    disassemble_boxes(large_box)"
   ]
  },
  {
   "cell_type": "code",
   "execution_count": 6,
   "id": "46e02420",
   "metadata": {},
   "outputs": [
    {
     "name": "stdout",
     "output_type": "stream",
     "text": [
      "Взяли коробку размера L, внутри: [M, M].\n",
      "В коробке размера M больше ничего нет.\n",
      "Взяли коробку размера M, внутри: [S, S, S, S].\n",
      "В коробке размера S больше ничего нет.\n",
      "В коробке размера S больше ничего нет.\n",
      "В коробке размера S больше ничего нет.\n",
      "В коробке размера S больше ничего нет.\n"
     ]
    }
   ],
   "source": [
    "class Box:\n",
    "\n",
    "    def __init__(self, size, inner_items=None):\n",
    "        self.size = size\n",
    "        self.inner_items = inner_items\n",
    "\n",
    "    def __repr__(self):\n",
    "        return self.size\n",
    "\n",
    "\n",
    "def disassemble_boxes(box):\n",
    "    \"\"\"Функция разборки коробок.\"\"\"\n",
    "    print(f'Взяли коробку размера {box.size}, внутри: {box.inner_items}.')\n",
    "    for item in box.inner_items:\n",
    "        if item.inner_items is None:\n",
    "            print(f'В коробке размера {item.size} больше ничего нет.')\n",
    "            # continue - перейти к следующему шагу цикла, не выполняя код ниже.\n",
    "            continue\n",
    "        disassemble_boxes(item)\n",
    "\n",
    "\n",
    "if __name__ == '__main__':\n",
    "    small_boxes = [Box(size='S') for _ in range(4)]\n",
    "    middle_box_full = Box(size='M', inner_items=small_boxes)\n",
    "    middle_box_empty = Box(size='M')\n",
    "    large_box = Box(size='L', inner_items=[middle_box_empty, middle_box_full])\n",
    "    disassemble_boxes(large_box)"
   ]
  },
  {
   "cell_type": "markdown",
   "id": "f6d8979a",
   "metadata": {},
   "source": [
    "В функции `disassemble_boxes()` выполняется рекурсивный вызов самой функции `disassemble_boxes()`. На каждом уровне погружения рекурсия добавляет новый блок в стек вызовов. \n",
    "\n",
    "Когда все коробки разобраны, самая «глубокая» функция останавливает рекурсию и прекращает работу. Когда вложенная функция закончила работу, останавливается и та, которая её вызвала. И так по цепочке останавливаются все функции, вызванные в рекурсии.\n",
    "\n",
    "***\n",
    "## Что лучше — цикл или рекурсия?\n",
    "\n",
    "Решения с применением цикла во многом похожи на рекурсивные решения.\n",
    "\n",
    "Однако при рекурсивном решении:\n",
    "\n",
    "* можно обойтись меньшим количеством сущностей: не придётся вручную создавать очередь элементов для обработки;\n",
    "\n",
    "* потребуется меньше операций: не придётся добавлять элементы в очередь и извлекать их оттуда.\n",
    "\n",
    "Да и в целом считается, что рекурсивные решения более понятны при чтении, чем решения через цикл."
   ]
  },
  {
   "cell_type": "code",
   "execution_count": 12,
   "id": "40099bce",
   "metadata": {},
   "outputs": [
    {
     "name": "stdout",
     "output_type": "stream",
     "text": [
      "4\n"
     ]
    }
   ],
   "source": [
    "def casting(N: int | list, K: int):\n",
    "    \"\"\"Кастинг Астронавтов.\"\"\"\n",
    "    if isinstance(N, int):\n",
    "        N = [n for n in range(1, N + 1)]\n",
    "    K_pop = K\n",
    "    if len(N) != 1:\n",
    "        if len(N) < K:\n",
    "            K_pop = K % len(N)\n",
    "            if K_pop == 0:\n",
    "                K_pop = len(N)\n",
    "        del_num = N[K_pop - 1]\n",
    "        sort_N = N[:K_pop - 1]\n",
    "        if len(sort_N) > 0:\n",
    "            del N[:K_pop - 1]\n",
    "            N.extend(sort_N)\n",
    "        N.remove(del_num)\n",
    "        casting(N, K)\n",
    "    return N[0]\n",
    "    \n",
    "print(casting(10, 3))"
   ]
  },
  {
   "cell_type": "code",
   "execution_count": 8,
   "id": "aaaf762b",
   "metadata": {},
   "outputs": [
    {
     "name": "stdout",
     "output_type": "stream",
     "text": [
      "[1, 2, 3, 4, 5]\n",
      "[4, 5, 1, 2, 3]\n"
     ]
    }
   ],
   "source": [
    "N = 5\n",
    "N = [n for n in range(1, N + 1)]\n",
    "print(N)\n",
    "K = N[:3]\n",
    "del N[:3]\n",
    "N.extend(K)\n",
    "print(N)"
   ]
  }
 ],
 "metadata": {
  "kernelspec": {
   "display_name": ".venv",
   "language": "python",
   "name": "python3"
  },
  "language_info": {
   "codemirror_mode": {
    "name": "ipython",
    "version": 3
   },
   "file_extension": ".py",
   "mimetype": "text/x-python",
   "name": "python",
   "nbconvert_exporter": "python",
   "pygments_lexer": "ipython3",
   "version": "3.12.7"
  }
 },
 "nbformat": 4,
 "nbformat_minor": 5
}
