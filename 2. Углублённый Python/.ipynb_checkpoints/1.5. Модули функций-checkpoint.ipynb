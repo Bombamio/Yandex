{
 "cells": [
  {
   "cell_type": "markdown",
   "id": "ffdc3142",
   "metadata": {},
   "source": [
    "**Модули в Python** — это наборы готовых функций, переменных и другого кода. Такие наборы предназначены для решения каких-то задач, объединённых общей темой. Они написаны разработчиками языка Python или сторонними программистами. \n",
    "\n",
    "При создании программы разработчик может подключить к своему коду нужный модуль — и ему станут доступны все инструменты, заготовленные в модуле. Подключение модуля к коду называется **«импорт»**: «импортировать модуль» — совершенно бытовая фраза в среде разработчиков. "
   ]
  },
  {
   "cell_type": "code",
   "execution_count": 1,
   "id": "dc3e3088",
   "metadata": {},
   "outputs": [
    {
     "name": "stdout",
     "output_type": "stream",
     "text": [
      "16.0\n"
     ]
    }
   ],
   "source": [
    "# Импортируем модуль math в код:\n",
    "import math  # Без импорта функции модуля будут недоступны.\n",
    "\n",
    "\n",
    "# С помощью функции sqrt из модуля math\n",
    "# вычислим квадратный корень для 256, \n",
    "# присвоим результат переменной sqrt_num и напечатаем её:\n",
    "sqrt_num = math.sqrt(256)\n",
    "print(sqrt_num)"
   ]
  },
  {
   "cell_type": "markdown",
   "id": "47ffa1a1",
   "metadata": {},
   "source": [
    "Чтобы вызвать функцию из импортированного модуля, к ней нужно обратиться через имя модуля: `имя_модуля.имя_функции`."
   ]
  },
  {
   "cell_type": "markdown",
   "id": "8a9d8829",
   "metadata": {},
   "source": [
    "## Точечная нотация\n",
    "Смысл точечной нотации — тот же, что и в любой другой адресации: указать адрес нужного объекта в иерархической системе. \n",
    "\n",
    "Например, адрес файла, сохранённого на компьютере, может выглядеть так:"
   ]
  },
  {
   "cell_type": "code",
   "execution_count": null,
   "id": "2e8f3f7a",
   "metadata": {},
   "outputs": [],
   "source": [
    "# На диске C в папке Games расположена папка screenshots, в которой лежит файл i_won\n",
    "C:\\Games\\screenshots\\i_won.jpg "
   ]
  },
  {
   "cell_type": "markdown",
   "id": "c2338670",
   "metadata": {},
   "source": [
    "С помощью точечной нотации этот адрес был бы записан так:"
   ]
  },
  {
   "cell_type": "code",
   "execution_count": null,
   "id": "f78ca0f0",
   "metadata": {},
   "outputs": [],
   "source": [
    "# На диске C в папке Games расположена папка screenshots, в которой лежит файл i_won\n",
    "C.Games.screenshots.i_won "
   ]
  },
  {
   "cell_type": "code",
   "execution_count": 2,
   "id": "1a050d88",
   "metadata": {},
   "outputs": [
    {
     "name": "stdout",
     "output_type": "stream",
     "text": [
      "Квадратный корень из 9 - это 3.0\n",
      "9 в квадрате - это 81.0\n",
      "3.141592653589793\n"
     ]
    }
   ],
   "source": [
    "# Импорт модуля.\n",
    "import math\n",
    "\n",
    "\n",
    "value = 9\n",
    "\n",
    "# Извлечение квадратного корня при помощи функции sqrt() из модуля math.\n",
    "result_1 = math.sqrt(value)\n",
    "print('Квадратный корень из 9 - это', result_1)\n",
    "\n",
    "# Получение квадрата (возведение в степень 2) заданного числа \n",
    "# при помощи функции pow() из модуля math.\n",
    "result_2 = math.pow(value, 2)\n",
    "print('9 в квадрате - это', result_2)\n",
    "\n",
    "# Вывод на экран значения числа пи: в модуле math оно хранится в переменной pi.\n",
    "print(math.pi)"
   ]
  },
  {
   "cell_type": "markdown",
   "id": "c66399d3",
   "metadata": {},
   "source": [
    "> При импорте разработчик может дать импортированному модулю собственное имя, какое понравится. Для этого применяют ключевое слово `as`: "
   ]
  },
  {
   "cell_type": "code",
   "execution_count": null,
   "id": "dd04b4e7",
   "metadata": {},
   "outputs": [],
   "source": [
    "import math as mt "
   ]
  },
  {
   "cell_type": "markdown",
   "id": "e591a10b",
   "metadata": {},
   "source": [
    " Если нужен не весь код модуля, а лишь одна функция — лучше импортировать только её. "
   ]
  },
  {
   "cell_type": "code",
   "execution_count": 3,
   "id": "2db6585a",
   "metadata": {},
   "outputs": [
    {
     "name": "stdout",
     "output_type": "stream",
     "text": [
      "Квадратный корень из 9 - это 3.0\n"
     ]
    }
   ],
   "source": [
    "# Из_модуля math импортировать_функцию sqrt.\n",
    "from math import sqrt\n",
    "\n",
    "value = 9\n",
    "\n",
    "# Когда импортирована только отдельная функция, а не модуль целиком -\n",
    "# при вызове этой функции не нужно указывать имя \"родительского\" модуля:\n",
    "result_1 = sqrt(value)\n",
    "print('Квадратный корень из 9 - это', result_1)"
   ]
  },
  {
   "cell_type": "markdown",
   "id": "ef73789b",
   "metadata": {},
   "source": [
    "- После импорта отдельной функции её вызывают, **не указывая имя модуля** перед названием функции."
   ]
  },
  {
   "cell_type": "markdown",
   "id": "29a6532f",
   "metadata": {},
   "source": [
    "> Функциям, импортированным из модуля, тоже можно задать псевдоним через `as`:"
   ]
  },
  {
   "cell_type": "code",
   "execution_count": null,
   "id": "a565e4ee",
   "metadata": {},
   "outputs": [],
   "source": [
    "from math import remainder as rmd "
   ]
  },
  {
   "cell_type": "markdown",
   "id": "df79be35",
   "metadata": {},
   "source": [
    "Есть и ещё один способ импортировать содержимое модуля в код. По синтаксису этот способ похож на импорт отдельной функции из модуля, но он импортирует всё, что есть в модуле —  переменные, функции, всё-всё:"
   ]
  },
  {
   "cell_type": "code",
   "execution_count": null,
   "id": "ec4d619f",
   "metadata": {},
   "outputs": [],
   "source": [
    "from math import *\n",
    "... "
   ]
  }
 ],
 "metadata": {
  "kernelspec": {
   "display_name": "Python 3 (ipykernel)",
   "language": "python",
   "name": "python3"
  },
  "language_info": {
   "codemirror_mode": {
    "name": "ipython",
    "version": 3
   },
   "file_extension": ".py",
   "mimetype": "text/x-python",
   "name": "python",
   "nbconvert_exporter": "python",
   "pygments_lexer": "ipython3",
   "version": "3.9.13"
  }
 },
 "nbformat": 4,
 "nbformat_minor": 5
}
