{
 "cells": [
  {
   "cell_type": "markdown",
   "id": "696b3755",
   "metadata": {},
   "source": [
    "Чтобы узнать, в какой директории вы сейчас находитесь, введите в терминал команду `pwd` (англ. print working directory, «напечатай  рабочую папку») и нажмите Enter.\n",
    "\n",
    "Следующий шаг — узнать, что в этой директории содержится. Для этого используется команда `ls` (англ. list directory contents, «вывести список содержимого каталога»). Напечатайте команду в терминале и нажмите Enter.\n",
    "\n",
    "Чтобы узнать, какие ключи доступны для конкретной команды, можно запросить их перечень. В Windows для этого обычно применяется ключ `--help`\n",
    "\n",
    "Запросите доступные ключи для команды `ls`. Находясь в любой директории, введите команду `ls` и через пробел укажите универсальный ключ ` --help` (ключи всегда отделяются от команды пробелом):\n",
    "\n",
    "`ls --help`\n",
    "\n"
   ]
  },
  {
   "cell_type": "markdown",
   "id": "a29ab141",
   "metadata": {},
   "source": [
    "## Навигация\n",
    "\n",
    "В процессе экспериментов в командной строке вы могли покинуть домашнюю директорию пользователя. Чтобы вернуться в неё, можно закрыть терминал и открыть его снова, но есть и другой способ — вот такая команда:"
   ]
  },
  {
   "cell_type": "code",
   "execution_count": null,
   "id": "a948c08e",
   "metadata": {},
   "outputs": [],
   "source": [
    "cd ~"
   ]
  },
  {
   "cell_type": "markdown",
   "id": "71ce649f",
   "metadata": {},
   "source": [
    "Символ «тильда» `~` — это символ домашней директории.\n",
    "\n",
    "Для перемещения из одной папки в другую используется команда `cd` (англ. change directory, «сменить каталог»). Синтаксис у команды такой:"
   ]
  },
  {
   "cell_type": "code",
   "execution_count": null,
   "id": "2aae7bd6",
   "metadata": {},
   "outputs": [],
   "source": [
    "cd имя_директории"
   ]
  },
  {
   "cell_type": "markdown",
   "id": "abd98bdb",
   "metadata": {},
   "source": [
    "А вот пример её использования:"
   ]
  },
  {
   "cell_type": "code",
   "execution_count": null,
   "id": "5cd85c11",
   "metadata": {},
   "outputs": [],
   "source": [
    "#Перейти в директорию рабочего стола.\n",
    "$ cd Desktop \n",
    "$ pwd\n",
    "\n",
    "#Теперь вы здесь.\n",
    "путь_к_директории/имя_пользователя/Desktop "
   ]
  },
  {
   "cell_type": "markdown",
   "id": "46aeef2a",
   "metadata": {},
   "source": [
    "Чтобы перейти в директорию уровнем выше, поставьте после `cd` пробел и две точки:"
   ]
  },
  {
   "cell_type": "code",
   "execution_count": null,
   "id": "e5b1df86",
   "metadata": {},
   "outputs": [],
   "source": [
    "$ pwd\n",
    "# Текущая директория.\n",
    "путь_к_директории/имя_пользователя/Desktop \n",
    "\n",
    "# Перейти на уровень выше.\n",
    "$ cd .. \n",
    "\n",
    "$ pwd\n",
    "# И вот вы снова в директории текущего пользователя.\n",
    "путь_к_директории/имя_пользователя"
   ]
  },
  {
   "cell_type": "markdown",
   "id": "ef949b77",
   "metadata": {},
   "source": [
    "Создание новой директории `mkdir Имя`"
   ]
  },
  {
   "cell_type": "code",
   "execution_count": null,
   "id": "1093213a",
   "metadata": {},
   "outputs": [],
   "source": [
    "# Создать папку Dev в текущей директории.\n",
    "$ mkdir Dev "
   ]
  },
  {
   "cell_type": "markdown",
   "id": "499869eb",
   "metadata": {},
   "source": [
    "Теперь создайте в директории first_project два файла: practicum.py и example.txt. Чтобы это сделать, введите в терминал команду touch (англ. «коснуться») и укажите имя файла с расширением:"
   ]
  },
  {
   "cell_type": "code",
   "execution_count": null,
   "id": "70dc5bfd",
   "metadata": {},
   "outputs": [],
   "source": [
    "# Cоздать файл practicum.py в текущей папке.\n",
    "$ touch practicum.py \n",
    "# Cоздать файл example.txt в текущей папке.\n",
    "$ touch example.txt "
   ]
  },
  {
   "cell_type": "markdown",
   "id": "6d26afb8",
   "metadata": {},
   "source": [
    "Для удаления файлов используется команда `rm` (англ. remove, «удалить»):"
   ]
  },
  {
   "cell_type": "code",
   "execution_count": null,
   "id": "d2110362",
   "metadata": {},
   "outputs": [],
   "source": [
    "rm имя_файла"
   ]
  },
  {
   "cell_type": "markdown",
   "id": "dce96bbd",
   "metadata": {},
   "source": [
    "Теперь перейдите в директорию Dev и удалите из неё пустую директорию second_project. В этом вам поможет команда `rmdir` (англ. remove directory, «удалить директорию»):"
   ]
  },
  {
   "cell_type": "code",
   "execution_count": null,
   "id": "d90883bf",
   "metadata": {},
   "outputs": [],
   "source": [
    "# Dev/\n",
    "\n",
    "# Удалить директорию second_project из текущей директории, \n",
    "# если директория second_project пуста.\n",
    "$ rmdir second_project "
   ]
  },
  {
   "cell_type": "markdown",
   "id": "b51e03f6",
   "metadata": {},
   "source": [
    "Если в директории, которую вы пытаетесь стереть, есть какие-то файлы, то команда `rmdir` не удалит её и выведет сообщение, что директория не пуста:"
   ]
  },
  {
   "cell_type": "code",
   "execution_count": null,
   "id": "6cab22f1",
   "metadata": {},
   "outputs": [],
   "source": [
    "~$ rmdir images\n",
    "rmdir: images: Directory not empty\n",
    "~$"
   ]
  },
  {
   "cell_type": "markdown",
   "id": "446094b0",
   "metadata": {},
   "source": [
    "Это защита от случайного удаления нужных файлов. Если директорию всё-таки нужно удалить вместе со всем её содержимым, то можно использовать команду `rm` с ключом `-r`:"
   ]
  },
  {
   "cell_type": "code",
   "execution_count": null,
   "id": "5661e93e",
   "metadata": {},
   "outputs": [],
   "source": [
    "# Удалить директорию third_project со всем её содержимым.\n",
    "$ rm -r third_project "
   ]
  },
  {
   "cell_type": "markdown",
   "id": "bf7c72a4",
   "metadata": {},
   "source": [
    "Ключ `-r` (англ. recursive, «рекурсивный») отвечает за рекурсивное удаление файлов и директорий. То есть команда удаления будет последовательно применяться к каждому из элементов, находящихся внутри указанной директории, пока наконец не сотрёт их все. После чего удалит и опустевшую к тому моменту директорию. "
   ]
  },
  {
   "cell_type": "code",
   "execution_count": null,
   "id": "d89fa36c",
   "metadata": {},
   "outputs": [],
   "source": []
  }
 ],
 "metadata": {
  "kernelspec": {
   "display_name": "Python 3 (ipykernel)",
   "language": "python",
   "name": "python3"
  },
  "language_info": {
   "codemirror_mode": {
    "name": "ipython",
    "version": 3
   },
   "file_extension": ".py",
   "mimetype": "text/x-python",
   "name": "python",
   "nbconvert_exporter": "python",
   "pygments_lexer": "ipython3",
   "version": "3.9.13"
  }
 },
 "nbformat": 4,
 "nbformat_minor": 5
}
