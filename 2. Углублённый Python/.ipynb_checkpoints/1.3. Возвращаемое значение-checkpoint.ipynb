{
 "cells": [
  {
   "cell_type": "markdown",
   "id": "ac0dfbff",
   "metadata": {},
   "source": [
    "# Возвращаемое значение: инструкция return\n",
    "\n",
    "**Функция** — это программа в программе. Как правило, **задача функции** — обработать входящие данные и получить какой-то результат. \n",
    "\n",
    "Обычно программы устроены как конвейеры: первая функция обрабатывает данные и передаёт результат своей работы в другую функцию, та тоже что-то делает — и отдаёт результат в третью… Такая цепочка может быть довольно длинной.\n",
    "\n",
    "Чтобы передать результат работы «дальше по конвейеру», функция **возвращает** результат. Для этого есть ключевое слово `return`: после него указывают значение, которое должна **вернуть** функция."
   ]
  },
  {
   "cell_type": "code",
   "execution_count": 1,
   "id": "1b7b6da8",
   "metadata": {},
   "outputs": [
    {
     "name": "stdout",
     "output_type": "stream",
     "text": [
      "Добро пожаловать в программу, фермер Тоня\n"
     ]
    }
   ],
   "source": [
    "def welcome(profession, name):\n",
    "    hello = 'Добро пожаловать в программу, ' + profession + ' ' + name\n",
    "    # Функция возвращает значение, которое сохранено в переменной hello\n",
    "    return hello  \n",
    "\n",
    "# Значение, которое вернёт функция, будет присвоено переменной message.\n",
    "message = welcome('фермер', 'Тоня')\n",
    "print(message)"
   ]
  },
  {
   "cell_type": "markdown",
   "id": "1c171979",
   "metadata": {},
   "source": [
    "> После инструкции `return` может быть указан *литерал, переменная любого типа, какое-то выражение или даже другая функция*; в результате функция вернёт значение, указанное после `return`."
   ]
  },
  {
   "cell_type": "code",
   "execution_count": 3,
   "id": "a820736a",
   "metadata": {},
   "outputs": [
    {
     "name": "stdout",
     "output_type": "stream",
     "text": [
      "7\n"
     ]
    }
   ],
   "source": [
    "def plus_five(value):\n",
    "    # Функция вернёт результат арифметического выражения:\n",
    "    return value + 5\n",
    "    \n",
    "result = plus_five(2)  # В переменной result будет сохранён результат выражения 2 + 5:\n",
    "print(result)"
   ]
  },
  {
   "cell_type": "markdown",
   "id": "f0d566f4",
   "metadata": {},
   "source": [
    "# Порядок выполнения кода при вызове функций\n",
    "\n",
    "Объявленную функцию можно вызвать из *любого места программы* — например, вызов может быть гораздо ниже объявления функции или вообще *в другом программном файле*. При вызове функции Python найдёт её и выполнит инструкции, описанные в её теле."
   ]
  },
  {
   "cell_type": "markdown",
   "id": "e26aed59",
   "metadata": {},
   "source": [
    "**Вызов функции в аргументах другой функции**\n",
    "\n",
    "> Сначала будет вызвана функция в аргументе (в нашем примере это `multiply_by_three()`), а когда эта функция вернёт значение — сработает «внешняя» функция (в нашем случае — `plus_five()`)."
   ]
  },
  {
   "cell_type": "code",
   "execution_count": 6,
   "id": "2632ffb4",
   "metadata": {},
   "outputs": [
    {
     "name": "stdout",
     "output_type": "stream",
     "text": [
      "26\n"
     ]
    }
   ],
   "source": [
    "def plus_five(value):\n",
    "    return value + 5\n",
    "    \n",
    "def multiply_by_three(value):\n",
    "    result = value * 3\n",
    "    return result\n",
    "\n",
    "print(plus_five(multiply_by_three(7)))"
   ]
  },
  {
   "cell_type": "markdown",
   "id": "4cb86ccc",
   "metadata": {},
   "source": [
    "# Упрощение кода\n",
    "\n",
    "- Исходный код:"
   ]
  },
  {
   "cell_type": "code",
   "execution_count": 8,
   "id": "f97987b5",
   "metadata": {},
   "outputs": [
    {
     "name": "stdout",
     "output_type": "stream",
     "text": [
      "Первая банка: 0.7065 литров\n",
      "Вторая банка: 2.3079 литров\n",
      "Третья банка: 5.0868 литров\n"
     ]
    }
   ],
   "source": [
    "# Константы\n",
    "PI = 3.14\n",
    "RATIO = 0.001  # Значение для перевода см**3 в литры\n",
    "\n",
    "# Данные по банкам\n",
    "jar_height_1 = 9\n",
    "jar_radius_1 = 5\n",
    "\n",
    "jar_height_2 = 15\n",
    "jar_radius_2 = 7\n",
    "\n",
    "jar_height_3 = 20\n",
    "jar_radius_3 = 9\n",
    "\n",
    "# Определение объёма банок V = h * Pi * r**2\n",
    "jar_volume_1 = PI * jar_height_1 * jar_radius_1 ** 2 * RATIO\n",
    "jar_volume_2 = PI * jar_height_2 * jar_radius_2 ** 2 * RATIO\n",
    "jar_volume_3 = PI * jar_height_3 * jar_radius_3 ** 2 * RATIO\n",
    "\n",
    "print('Первая банка:', jar_volume_1, 'литров')\n",
    "print('Вторая банка:', jar_volume_2, 'литров')\n",
    "print('Третья банка:', jar_volume_3, 'литров')"
   ]
  },
  {
   "cell_type": "markdown",
   "id": "1d612705",
   "metadata": {},
   "source": [
    "- С использованием вункций:"
   ]
  },
  {
   "cell_type": "code",
   "execution_count": 9,
   "id": "10bf7a22",
   "metadata": {},
   "outputs": [
    {
     "name": "stdout",
     "output_type": "stream",
     "text": [
      "Объём одной банки равен 0.7065 л\n",
      "Общий объём банок равен 0.7065 л\n",
      "= = =\n",
      "Объём одной банки равен 2.3079 л\n",
      "Общий объём банок равен 9.2316 л\n",
      "= = =\n",
      "Объём одной банки равен 5.0868 л\n",
      "Общий объём банок равен 5.0868 л\n"
     ]
    }
   ],
   "source": [
    "PI = 3.14\n",
    "RATIO = 0.001\n",
    "\n",
    "# Объявляем функцию. Если третий аргумент (количество) не будет передан, \n",
    "# параметру quantity будет присвоено значение 1.\n",
    "def jar_volume(height, radius, quantity=1):\n",
    "    # Тело отбиваем четырьмя пробелами.\n",
    "    # Вычисляем объём банки в литрах\n",
    "    volume = PI * height * radius ** 2 * RATIO\n",
    "    # Умножаем объём одной банки на количество банок\n",
    "    total_volume = volume * quantity\n",
    "    # Печатаем результат:\n",
    "    print('Объём одной банки равен', volume, 'л')\n",
    "    print('Общий объём банок равен', total_volume, 'л')\n",
    "\n",
    "# Рассчитаем объём банки с высотой 9 см и радиусом 5 см. \n",
    "# Предположим, что такая банка у нас одна,\n",
    "# и значит, третий параметр можно не передавать.\n",
    "jar_volume(9, 5)\n",
    "\n",
    "# Напечатаем строчку-разделитель между вызовами функции:\n",
    "print('= = =') \n",
    "\n",
    "# Банка высотой 15 см и радиусом 7 см. Высчитаем её объём. \n",
    "# Предположим, что таких банок нашлось четыре; высчитаем их совокупный объём.\n",
    "jar_volume(15, 7, 4)\n",
    "\n",
    "# Напечатаем строчку-разделитель между вызовами функции:\n",
    "print('= = =') \n",
    "\n",
    "# Банка высотой 20 см и радиусом 9 см. \n",
    "jar_volume(20, 9)"
   ]
  },
  {
   "cell_type": "code",
   "execution_count": null,
   "id": "fc20b0ef",
   "metadata": {},
   "outputs": [],
   "source": []
  }
 ],
 "metadata": {
  "kernelspec": {
   "display_name": "Python 3 (ipykernel)",
   "language": "python",
   "name": "python3"
  },
  "language_info": {
   "codemirror_mode": {
    "name": "ipython",
    "version": 3
   },
   "file_extension": ".py",
   "mimetype": "text/x-python",
   "name": "python",
   "nbconvert_exporter": "python",
   "pygments_lexer": "ipython3",
   "version": "3.9.13"
  }
 },
 "nbformat": 4,
 "nbformat_minor": 5
}
