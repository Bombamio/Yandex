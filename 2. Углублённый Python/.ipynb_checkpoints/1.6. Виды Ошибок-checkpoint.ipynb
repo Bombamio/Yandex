{
 "cells": [
  {
   "cell_type": "markdown",
   "id": "e1ce262a",
   "metadata": {},
   "source": [
    "# Ошибка «неизвестное имя»\n",
    "\n",
    "Когда Python пытается обратиться к имени переменной или функции, а это имя не было определено в коде программы, возникает ошибка **NameError**."
   ]
  },
  {
   "cell_type": "code",
   "execution_count": 1,
   "id": "39189069",
   "metadata": {},
   "outputs": [
    {
     "ename": "NameError",
     "evalue": "name 'redcurrant' is not defined",
     "output_type": "error",
     "traceback": [
      "\u001b[1;31m---------------------------------------------------------------------------\u001b[0m",
      "\u001b[1;31mNameError\u001b[0m                                 Traceback (most recent call last)",
      "\u001b[1;32m~\\AppData\\Local\\Temp\\ipykernel_4532\\716036897.py\u001b[0m in \u001b[0;36m<module>\u001b[1;34m\u001b[0m\n\u001b[0;32m      1\u001b[0m \u001b[0mred_currant\u001b[0m \u001b[1;33m=\u001b[0m \u001b[1;34m'Красная смородина'\u001b[0m\u001b[1;33m\u001b[0m\u001b[1;33m\u001b[0m\u001b[0m\n\u001b[1;32m----> 2\u001b[1;33m \u001b[0mprint\u001b[0m\u001b[1;33m(\u001b[0m\u001b[0mredcurrant\u001b[0m\u001b[1;33m)\u001b[0m\u001b[1;33m\u001b[0m\u001b[1;33m\u001b[0m\u001b[0m\n\u001b[0m",
      "\u001b[1;31mNameError\u001b[0m: name 'redcurrant' is not defined"
     ]
    }
   ],
   "source": [
    "red_currant = 'Красная смородина'\n",
    "print(redcurrant)"
   ]
  },
  {
   "cell_type": "markdown",
   "id": "9657529d",
   "metadata": {},
   "source": [
    "> **Опечатка** — одна из самых распространенных ошибок, особенно среди новичков в программировании. Не беда, это быстро проходит."
   ]
  },
  {
   "cell_type": "markdown",
   "id": "0fbb3e20",
   "metadata": {},
   "source": [
    "# Ошибка синтаксиса"
   ]
  },
  {
   "cell_type": "code",
   "execution_count": 2,
   "id": "16011b11",
   "metadata": {},
   "outputs": [
    {
     "ename": "SyntaxError",
     "evalue": "invalid syntax (1383664711.py, line 1)",
     "output_type": "error",
     "traceback": [
      "\u001b[1;36m  File \u001b[1;32m\"C:\\Users\\iliae\\AppData\\Local\\Temp\\ipykernel_4532\\1383664711.py\"\u001b[1;36m, line \u001b[1;32m1\u001b[0m\n\u001b[1;33m    print('Огурец ' + )\u001b[0m\n\u001b[1;37m                      ^\u001b[0m\n\u001b[1;31mSyntaxError\u001b[0m\u001b[1;31m:\u001b[0m invalid syntax\n"
     ]
    }
   ],
   "source": [
    "print('Огурец ' + )"
   ]
  },
  {
   "cell_type": "markdown",
   "id": "0f4f9d79",
   "metadata": {},
   "source": [
    ">Помимо SyntaxError: invalid syntax, в Python есть и другие разновидности синтаксических ошибок SyntaxError. Например, если не поставить парную скобку или кавычку, возникнет синтаксическая ошибка другого типа."
   ]
  },
  {
   "cell_type": "code",
   "execution_count": 3,
   "id": "27713ecb",
   "metadata": {},
   "outputs": [
    {
     "ename": "SyntaxError",
     "evalue": "unexpected EOF while parsing (2922439778.py, line 1)",
     "output_type": "error",
     "traceback": [
      "\u001b[1;36m  File \u001b[1;32m\"C:\\Users\\iliae\\AppData\\Local\\Temp\\ipykernel_4532\\2922439778.py\"\u001b[1;36m, line \u001b[1;32m1\u001b[0m\n\u001b[1;33m    print('Огурец', 'рассол'\u001b[0m\n\u001b[1;37m                            ^\u001b[0m\n\u001b[1;31mSyntaxError\u001b[0m\u001b[1;31m:\u001b[0m unexpected EOF while parsing\n"
     ]
    }
   ],
   "source": [
    "print('Огурец', 'рассол'"
   ]
  },
  {
   "cell_type": "markdown",
   "id": "3b0b9e78",
   "metadata": {},
   "source": [
    "> В сообщении SyntaxError: unexpected EOF while parsing сокращение **EOF** — это **end of file**, а само сообщение переводится как «неожиданный конец файла во время разбора кода программы». Python увидел начало вызова функции `print`, но внезапно код программы закончился."
   ]
  },
  {
   "cell_type": "code",
   "execution_count": 4,
   "id": "1b7b952d",
   "metadata": {},
   "outputs": [
    {
     "ename": "SyntaxError",
     "evalue": "EOL while scanning string literal (2323508061.py, line 1)",
     "output_type": "error",
     "traceback": [
      "\u001b[1;36m  File \u001b[1;32m\"C:\\Users\\iliae\\AppData\\Local\\Temp\\ipykernel_4532\\2323508061.py\"\u001b[1;36m, line \u001b[1;32m1\u001b[0m\n\u001b[1;33m    print('Красная смородина)\u001b[0m\n\u001b[1;37m                             ^\u001b[0m\n\u001b[1;31mSyntaxError\u001b[0m\u001b[1;31m:\u001b[0m EOL while scanning string literal\n"
     ]
    }
   ],
   "source": [
    "print('Красная смородина)"
   ]
  },
  {
   "cell_type": "markdown",
   "id": "ae1301a3",
   "metadata": {},
   "source": [
    "> После запуска — опять ошибка: SyntaxError: EOL while scanning string literal. Сокращение **EOL** означает **end of line**, а полный текст сообщения можно перевести как «конец строки во время обработки текста». Python увидел открывающую кавычку, но строчка закончилась, а закрывающей кавычки не было."
   ]
  },
  {
   "cell_type": "markdown",
   "id": "4924d6bd",
   "metadata": {},
   "source": [
    "# Ошибка типа данных"
   ]
  },
  {
   "cell_type": "code",
   "execution_count": 5,
   "id": "4cef8af9",
   "metadata": {},
   "outputs": [
    {
     "name": "stdout",
     "output_type": "stream",
     "text": [
      "В ответе можно получить 600, а можно и 100500!\n"
     ]
    },
    {
     "ename": "TypeError",
     "evalue": "unsupported operand type(s) for +: 'int' and 'str'",
     "output_type": "error",
     "traceback": [
      "\u001b[1;31m---------------------------------------------------------------------------\u001b[0m",
      "\u001b[1;31mTypeError\u001b[0m                                 Traceback (most recent call last)",
      "\u001b[1;32m~\\AppData\\Local\\Temp\\ipykernel_4532\\1462823858.py\u001b[0m in \u001b[0;36m<module>\u001b[1;34m\u001b[0m\n\u001b[0;32m      2\u001b[0m \u001b[0mapple_quantity\u001b[0m \u001b[1;33m=\u001b[0m \u001b[1;34m'500'\u001b[0m\u001b[1;33m\u001b[0m\u001b[1;33m\u001b[0m\u001b[0m\n\u001b[0;32m      3\u001b[0m \u001b[0mprint\u001b[0m\u001b[1;33m(\u001b[0m\u001b[1;34m'В ответе можно получить 600, а можно и 100500!'\u001b[0m\u001b[1;33m)\u001b[0m\u001b[1;33m\u001b[0m\u001b[1;33m\u001b[0m\u001b[0m\n\u001b[1;32m----> 4\u001b[1;33m \u001b[0mprint\u001b[0m\u001b[1;33m(\u001b[0m\u001b[0mtomato_quantity\u001b[0m \u001b[1;33m+\u001b[0m \u001b[0mapple_quantity\u001b[0m\u001b[1;33m)\u001b[0m\u001b[1;33m\u001b[0m\u001b[1;33m\u001b[0m\u001b[0m\n\u001b[0m",
      "\u001b[1;31mTypeError\u001b[0m: unsupported operand type(s) for +: 'int' and 'str'"
     ]
    }
   ],
   "source": [
    "tomato_quantity = 100\n",
    "apple_quantity = '500'\n",
    "print('В ответе можно получить 600, а можно и 100500!')\n",
    "print(tomato_quantity + apple_quantity)"
   ]
  }
 ],
 "metadata": {
  "kernelspec": {
   "display_name": "Python 3 (ipykernel)",
   "language": "python",
   "name": "python3"
  },
  "language_info": {
   "codemirror_mode": {
    "name": "ipython",
    "version": 3
   },
   "file_extension": ".py",
   "mimetype": "text/x-python",
   "name": "python",
   "nbconvert_exporter": "python",
   "pygments_lexer": "ipython3",
   "version": "3.9.13"
  }
 },
 "nbformat": 4,
 "nbformat_minor": 5
}
