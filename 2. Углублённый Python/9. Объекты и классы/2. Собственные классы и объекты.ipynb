{
 "cells": [
  {
   "cell_type": "markdown",
   "metadata": {},
   "source": [
    "## Как объявить класс\n",
    "\n",
    "Для объявления классов в Python используется уже знакомый вам шаблон — такой же, как и для объявления функций, циклов и ветвлений. \n",
    "\n",
    "Вам нужно:\n",
    "\n",
    "1. Написать ключевое слово `class`.\n",
    "2. Указать имя класса.\n",
    "3. Поставить двоеточие.\n",
    "4. Описать тело класса с отступом в четыре пробела."
   ]
  },
  {
   "cell_type": "code",
   "execution_count": null,
   "metadata": {},
   "outputs": [],
   "source": [
    "# Ключевое слово class и имя класса.\n",
    "class ИмяКласса:\n",
    "    # Тело класса.\n",
    "    ..."
   ]
  },
  {
   "cell_type": "code",
   "execution_count": 1,
   "metadata": {},
   "outputs": [],
   "source": [
    "class Employee:\n",
    "    pass\n",
    "\n",
    "manager = Employee()\n",
    "developer = Employee()"
   ]
  }
 ],
 "metadata": {
  "kernelspec": {
   "display_name": "Python 3",
   "language": "python",
   "name": "python3"
  },
  "language_info": {
   "codemirror_mode": {
    "name": "ipython",
    "version": 3
   },
   "file_extension": ".py",
   "mimetype": "text/x-python",
   "name": "python",
   "nbconvert_exporter": "python",
   "pygments_lexer": "ipython3",
   "version": "3.11.0"
  }
 },
 "nbformat": 4,
 "nbformat_minor": 2
}
