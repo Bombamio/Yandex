{
 "cells": [
  {
   "cell_type": "markdown",
   "metadata": {},
   "source": [
    "## Атрибуты класса\n",
    "\n",
    "Атрибуты класса прописываются в теле класса. Они объявляются как обычные переменные: нужно задать название атрибута и присвоить ему значение. \n",
    "\n",
    "Если в классе `Phone` нужно абстрагировать проводные телефоны, то можно добавить в этот класс атрибут `line_type` и присвоить ему значение `'проводной'`:"
   ]
  },
  {
   "cell_type": "code",
   "execution_count": null,
   "metadata": {},
   "outputs": [],
   "source": [
    "class Phone:\n",
    "    # Вот здесь объявлен атрибут класса.\n",
    "    line_type = 'проводной'\n",
    "\n",
    "# Первый экземпляр класса.\n",
    "rotary_phone = Phone()\n",
    "# И второй.\n",
    "keypad_phone = Phone() "
   ]
  },
  {
   "cell_type": "markdown",
   "metadata": {},
   "source": [
    "Созданным объектам доступны все атрибуты класса `Phone`, а именно атрибут `line_type`. Доступ к этому атрибуту можно получить через точечную нотацию:"
   ]
  },
  {
   "cell_type": "code",
   "execution_count": 1,
   "metadata": {},
   "outputs": [
    {
     "name": "stdout",
     "output_type": "stream",
     "text": [
      "проводной\n",
      "проводной\n"
     ]
    }
   ],
   "source": [
    "class Phone:\n",
    "    line_type = 'проводной'\n",
    "\n",
    "rotary_phone = Phone()\n",
    "keypad_phone = Phone()\n",
    "\n",
    "# Печать содержимого атрибута line_type через объект rotary_phone.\n",
    "print(rotary_phone.line_type)\n",
    "# Печать содержимого атрибута line_type через объект keypad_phone.\n",
    "print(keypad_phone.line_type)"
   ]
  },
  {
   "cell_type": "markdown",
   "metadata": {},
   "source": [
    "Атрибут `line_type` — это атрибут класса, каждый экземпляр класса будет иметь доступ к нему. Объявляется он как простая переменная в теле класса.\n",
    "\n",
    "## Магический метод `__init__` и атрибуты объекта\n",
    "\n",
    "Под капотом Python в конструкторе класса объект «формируется» в два этапа: \n",
    "\n",
    "* сперва магический метод `__new__` **создаёт** новый объект класса,\n",
    "* затем магический метод `__init__` **инициализирует** объект — устанавливает для него значения атрибутов, переданных в конструктор класса.\n",
    "\n",
    "**Создание объекта** выполняется магическим методом `__new__`. Как правило, при работе с классами его почти никогда не описывают явно: в большинстве случаев вполне достаточно того, как этот метод работает под капотом.\n",
    "\n",
    "**Инициализация объекта** выполняется магическим методом `__init__`, этот метод называют «инициализатор класса» или просто «инит». \n",
    "\n",
    "Атрибуты объектов каждого конкретного класса описываются именно в методе `__init__`, и если у объектов должны быть атрибуты — разработчик должен явным образом описать этот метод в классе."
   ]
  },
  {
   "cell_type": "markdown",
   "metadata": {},
   "source": [
    "> В общем виде класс с методом будет выглядеть так:"
   ]
  },
  {
   "cell_type": "code",
   "execution_count": null,
   "metadata": {},
   "outputs": [],
   "source": [
    "class ИмяКласса:\n",
    "    # Тут можно указать атрибуты класса.\n",
    "    ...\n",
    "\n",
    "    # Тут объявлен метод, в скобках указываются параметры.\n",
    "    def имя_метода(self, ...):\n",
    "        # Тут можно описать тело метода.\n",
    "        ..."
   ]
  },
  {
   "cell_type": "markdown",
   "metadata": {},
   "source": [
    "> А класс с явно описанным инициализатором будет таким:"
   ]
  },
  {
   "cell_type": "code",
   "execution_count": null,
   "metadata": {},
   "outputs": [],
   "source": [
    "class ИмяКласса:\n",
    "    # Тут можно указать атрибуты класса.\n",
    "    ...\n",
    "\n",
    "    # Объявлен инициализатор.\n",
    "    def __init__(self, ...):\n",
    "        ..."
   ]
  },
  {
   "cell_type": "markdown",
   "metadata": {},
   "source": [
    "> Первым параметром в методы экземпляра всегда передаётся параметр `self` (англ. «сам»)."
   ]
  },
  {
   "cell_type": "code",
   "execution_count": null,
   "metadata": {},
   "outputs": [],
   "source": [
    "class Phone:\n",
    "\n",
    "    line_type = 'проводной'\n",
    "\n",
    "    def __init__(self, dial_type_value):\n",
    "        # Вот он - атрибут объекта.\n",
    "        self.dial_type = dial_type_value\n",
    "\n",
    "..."
   ]
  },
  {
   "cell_type": "markdown",
   "metadata": {},
   "source": [
    "Здесь `dial_type` — это атрибут объекта, `dial_type_value` — значение для атрибута объекта, которое берётся из параметра инициализатора.\n",
    "\n",
    "Название атрибута объекта и название значения могут совпадать, то есть можно написать и `self.dial_type_value = dial_type_value`, и ни к какой ошибке это не приведёт.\n",
    "\n",
    "Значение атрибута обычно задаётся при создании объекта:"
   ]
  },
  {
   "cell_type": "code",
   "execution_count": null,
   "metadata": {},
   "outputs": [],
   "source": [
    "class Phone:\n",
    "\n",
    "    line_type = 'проводной'\n",
    "\n",
    "    def __init__(self, dial_type_value):\n",
    "        self.dial_type = dial_type_value\n",
    "\n",
    "# Создать объект rotary_phone со значением dial_type_value,\n",
    "# равным 'дисковый'.\n",
    "rotary_phone = Phone(dial_type_value='дисковый')\n",
    "# Создать объект keypad_phone со значением dial_type_value,\n",
    "# равным 'кнопочный'.\n",
    "keypad_phone = Phone(dial_type_value='кнопочный')"
   ]
  },
  {
   "cell_type": "markdown",
   "metadata": {},
   "source": [
    "Таким образом для разных объектов можно установить собственное значение для атрибута `dial_type_value` — `дисковый`, `кнопочный`, `голосовой`, `телепатический…`"
   ]
  },
  {
   "cell_type": "markdown",
   "metadata": {},
   "source": [
    "Установить значение атрибута объекта можно и без параметров: значение можно указать при помощи литерала прямо в методе `__init__`:"
   ]
  },
  {
   "cell_type": "code",
   "execution_count": null,
   "metadata": {},
   "outputs": [
    {
     "name": "stdout",
     "output_type": "stream",
     "text": [
      "проводной\n",
      "дисковый\n",
      "проводной\n",
      "кнопочный\n"
     ]
    }
   ],
   "source": [
    "class Phone:\n",
    "\n",
    "    line_type = 'проводной'\n",
    "\n",
    "    def __init__(self, dial_type_value):\n",
    "        self.dial_type = dial_type_value\n",
    "\n",
    "rotary_phone = Phone(dial_type_value='дисковый')\n",
    "keypad_phone = Phone(dial_type_value='кнопочный')\n",
    "\n",
    "# Печать значения атрибута класса.\n",
    "print(rotary_phone.line_type)\n",
    "# Печать значения атрибута объекта.\n",
    "print(rotary_phone.dial_type)\n",
    "# Печать значения атрибута класса.\n",
    "print(keypad_phone.line_type)\n",
    "# Печать значения атрибута объекта.\n",
    "print(keypad_phone.dial_type)"
   ]
  },
  {
   "cell_type": "markdown",
   "metadata": {},
   "source": [
    "# Замена значений атрибутов\n",
    "\n",
    "После создания объекту доступны все атрибуты — и атрибуты класса, и атрибуты объекта:"
   ]
  },
  {
   "cell_type": "code",
   "execution_count": 3,
   "metadata": {},
   "outputs": [
    {
     "name": "stdout",
     "output_type": "stream",
     "text": [
      "Тип линии: проводной\n",
      "Тип набора: дисковый\n"
     ]
    }
   ],
   "source": [
    "class Phone:\n",
    "    # Атрибут класса.\n",
    "    line_type = 'проводной'\n",
    "    \n",
    "    def __init__(self, dial_type_value):\n",
    "        # Атрибут объекта.\n",
    "        self.dial_type = dial_type_value\n",
    "\n",
    "# Создать объект класса Phone.\n",
    "rotary_phone = Phone(dial_type_value='дисковый')\n",
    "\n",
    "# Оба атрибута доступны через объект.\n",
    "print(f'Тип линии: {rotary_phone.line_type}')\n",
    "print(f'Тип набора: {rotary_phone.dial_type}')"
   ]
  },
  {
   "cell_type": "markdown",
   "metadata": {},
   "source": [
    "> Значения **атрибутов объекта** хранятся в самом объекте, а значения **атрибутов класса** объект получает из класса, то есть атрибут `rotary_phone.line_type` — это лишь **ссылка** на атрибут класса.\n",
    "\n",
    "Чтобы поменять значение атрибута объекта, нужно:\n",
    "\n",
    "1. Создать объект с первоначальным значением атрибута.\n",
    "2. Через объект обратиться к атрибуту и задать ему новое значение."
   ]
  },
  {
   "cell_type": "code",
   "execution_count": 4,
   "metadata": {},
   "outputs": [
    {
     "name": "stdout",
     "output_type": "stream",
     "text": [
      "Тип набора: дисковый\n",
      "Тип набора: кнопочный\n"
     ]
    }
   ],
   "source": [
    "class Phone:\n",
    "    # Атрибут класса.\n",
    "    line_type = 'проводной'\n",
    "    \n",
    "    def __init__(self, dial_type_value):\n",
    "        # Атрибут объекта.\n",
    "        self.dial_type = dial_type_value\n",
    "\n",
    "# Создать объект класса Phone с первоначальным значением \n",
    "# атрибута объекта dial_type.\n",
    "rotary_phone = Phone(dial_type_value='дисковый')\n",
    "\n",
    "print(f'Тип набора: {rotary_phone.dial_type}')\n",
    "\n",
    "# Поменять первоначальное значение атрибута объекта dial_type.\n",
    "rotary_phone.dial_type='кнопочный'\n",
    "\n",
    "print(f'Тип набора: {rotary_phone.dial_type}')"
   ]
  },
  {
   "cell_type": "markdown",
   "metadata": {},
   "source": [
    "> Значение атрибута класса тоже можно поменять, но для его изменения не обязательно создавать объект. К атрибуту класса можно обратиться напрямую — через класс:"
   ]
  },
  {
   "cell_type": "code",
   "execution_count": 5,
   "metadata": {},
   "outputs": [
    {
     "name": "stdout",
     "output_type": "stream",
     "text": [
      "Тип линии: проводной\n",
      "Тип линии: беспроводной\n"
     ]
    }
   ],
   "source": [
    "class Phone:\n",
    "    # Атрибут класса.\n",
    "    line_type = 'проводной'\n",
    "    \n",
    "    def __init__(self, dial_type_value):\n",
    "        self.dial_type = dial_type_value\n",
    "\n",
    "# Распечатать значение атрибута класса line_type.\n",
    "print(f'Тип линии: {Phone.line_type}')\n",
    "# Поменять значение атрибута класса line_type.\n",
    "Phone.line_type = 'беспроводной'\n",
    "# Распечатать новое значение атрибута класса.\n",
    "print(f'Тип линии: {Phone.line_type}')"
   ]
  },
  {
   "cell_type": "markdown",
   "metadata": {},
   "source": [
    "> Если значение атрибута класса попытаться поменять через объект, то в этом случае новое значение получит только этот объект:"
   ]
  },
  {
   "cell_type": "code",
   "execution_count": 6,
   "metadata": {},
   "outputs": [
    {
     "name": "stdout",
     "output_type": "stream",
     "text": [
      "Тип линии: проводной\n",
      "Тип линии: проводной\n",
      "Тип линии: радио\n",
      "Тип линии: проводной\n",
      "Тип линии: радио\n",
      "Тип линии: спутниковый\n"
     ]
    }
   ],
   "source": [
    "class Phone:\n",
    "    # Атрибут класса.\n",
    "    line_type = 'проводной'\n",
    "    \n",
    "    def __init__(self, dial_type_value):\n",
    "        # Атрибут объекта.\n",
    "        self.dial_type = dial_type_value\n",
    "\n",
    "# Создать объект класса Phone.\n",
    "rotary_phone = Phone(dial_type_value='дисковый')\n",
    "keypad_phone = Phone(dial_type_value='кнопочный')\n",
    "\n",
    "# Распечатать значение атрибута класса.\n",
    "print(f'Тип линии: {rotary_phone.line_type}')\n",
    "print(f'Тип линии: {keypad_phone.line_type}')\n",
    "\n",
    "# Поменять значение атрибута line_type для объекта rotary_phone.\n",
    "rotary_phone.line_type = 'радио'\n",
    "\n",
    "# Снова распечатать значения.\n",
    "print(f'Тип линии: {rotary_phone.line_type}')\n",
    "print(f'Тип линии: {keypad_phone.line_type}')\n",
    "\n",
    "# Поменять значение атрибута класса через класс.\n",
    "Phone.line_type = 'спутниковый'\n",
    "\n",
    "# Снова распечатать значения.\n",
    "print(f'Тип линии: {rotary_phone.line_type}')\n",
    "print(f'Тип линии: {keypad_phone.line_type}')"
   ]
  },
  {
   "cell_type": "markdown",
   "metadata": {},
   "source": [
    "Значение атрибута класса было изменено уже после того, как объект `keypad_phone` был создан, однако объект всё равно «увидел» новое значение. **Объект не хранит значение атрибута класса, а лишь ссылается на него**.\n",
    "\n",
    "Если же в объекте явно задать новое значение атрибута с именем атрибута класса, как это было сделано с объектом `rotary_phone`, то объект сохранит собственное значение, а не ссылку на класс."
   ]
  },
  {
   "cell_type": "code",
   "execution_count": 7,
   "metadata": {},
   "outputs": [
    {
     "name": "stdout",
     "output_type": "stream",
     "text": [
      "Имя: Роберт, Фамилия: Крузо, Пол: м, Отпускных дней в году: 28.\n",
      "Имя: Лара, Фамилия: Крофт, Пол: ж, Отпускных дней в году: 28.\n"
     ]
    }
   ],
   "source": [
    "class Employee:\n",
    "    vacation_days = 28\n",
    "    def __init__(self, first_name, second_name, gender):\n",
    "        self.first_name = first_name\n",
    "        self.second_name = second_name\n",
    "        self.gender = gender\n",
    "\n",
    "# Создайте экземпляры класса Employee с различными значениями атрибутов.\n",
    "employee1 = Employee(first_name='Роберт', second_name='Крузо', gender='м')\n",
    "employee2 = Employee(first_name='Лара', second_name='Крофт', gender='ж')\n",
    "\n",
    "# Допишите код для вывода информации о сотрудниках.\n",
    "\n",
    "print(f'Имя: {employee1.first_name}, Фамилия: {employee1.second_name}, Пол: {employee1.gender}, Отпускных дней в году: {employee1.vacation_days}.')\n",
    "print(f'Имя: {employee2.first_name}, Фамилия: {employee2.second_name}, Пол: {employee2.gender}, Отпускных дней в году: {employee2.vacation_days}.')"
   ]
  }
 ],
 "metadata": {
  "kernelspec": {
   "display_name": "Python 3",
   "language": "python",
   "name": "python3"
  },
  "language_info": {
   "codemirror_mode": {
    "name": "ipython",
    "version": 3
   },
   "file_extension": ".py",
   "mimetype": "text/x-python",
   "name": "python",
   "nbconvert_exporter": "python",
   "pygments_lexer": "ipython3",
   "version": "3.11.0"
  }
 },
 "nbformat": 4,
 "nbformat_minor": 2
}
