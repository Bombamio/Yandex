{
 "cells": [
  {
   "cell_type": "markdown",
   "metadata": {},
   "source": [
    "# Классы и объекты в Python\n",
    "\n",
    "Почти всё в Python — классы или объекты какого-то класса. \n",
    "\n",
    "Например, когда вы пишете `page = 1` или `address = 'На деревню дедушке'`, вы не просто объявляете переменную, а создаёте объект класса `int` или `str`. "
   ]
  },
  {
   "cell_type": "markdown",
   "metadata": {},
   "source": [
    "## Атрибуты\n",
    "\n",
    "Принадлежность к классу — это атрибут, характеристика объекта. Такой атрибут называется `__class__`. К нему можно обратиться с помощью точечной нотации: `имя_объекта.атрибут`.\n",
    "\n",
    "Получается, чтобы посмотреть на атрибут принадлежности к классу объектов `address` и `recipient`, нужно написать такой код:"
   ]
  },
  {
   "cell_type": "code",
   "execution_count": 1,
   "metadata": {},
   "outputs": [
    {
     "name": "stdout",
     "output_type": "stream",
     "text": [
      "<class 'str'>\n",
      "<class 'str'>\n"
     ]
    }
   ],
   "source": [
    "address = 'На деревню дедушке'\n",
    "recipient = 'Константин Макарыч'\n",
    "\n",
    "print(address.__class__)\n",
    "print(recipient.__class__)"
   ]
  },
  {
   "cell_type": "markdown",
   "metadata": {},
   "source": [
    "## Методы\n",
    "\n",
    "С методами вы уже знакомы, вы даже использовали их для того, чтобы писать свои программы. Например, вы переводили все буквы в строке в верхний регистр с помощью метода `upper()`:"
   ]
  },
  {
   "cell_type": "code",
   "execution_count": 2,
   "metadata": {},
   "outputs": [
    {
     "name": "stdout",
     "output_type": "stream",
     "text": [
      "НА ДЕРЕВНЮ ДЕДУШКЕ\n"
     ]
    }
   ],
   "source": [
    "address = 'На деревню дедушке'\n",
    "uppercase_address = str.upper(address)\n",
    "print(uppercase_address)"
   ]
  },
  {
   "cell_type": "markdown",
   "metadata": {},
   "source": [
    "> Для каждой строки результат применения одного и того же метода будет разным, потому что содержимое строк — тоже разное:"
   ]
  },
  {
   "cell_type": "code",
   "execution_count": 5,
   "metadata": {},
   "outputs": [
    {
     "name": "stdout",
     "output_type": "stream",
     "text": [
      "НА ДЕРЕВНЮ ДЕДУШКЕ\n",
      "КОНСТАНТИН МАКАРЫЧ\n"
     ]
    }
   ],
   "source": [
    "address = 'На деревню дедушке'\n",
    "recipient = 'Константин Макарыч'\n",
    "uppercase_address = address.upper()\n",
    "uppercase_recipient = recipient.upper()\n",
    "print(uppercase_address)\n",
    "print(uppercase_recipient)"
   ]
  },
  {
   "cell_type": "markdown",
   "metadata": {},
   "source": [
    "## Специальные, или магические, атрибуты и методы\n",
    "\n",
    "Специальные, или магические, атрибуты и методы — это «настройки по умолчанию». Как, например, у смартфона есть заводские настройки, так и почти у всех объектов и классов в программировании есть магические атрибуты и методы. У них особенный синтаксис — в начале и в конце названия ставится по два подчёркивания, вот так: `__название__`.\n",
    "\n",
    "Пример такого магического метода — `__add__()`. Он есть у всех классов и объектов. Этот метод знает, как действовать, когда вы используете оператор `+`. Вы можете использовать этот оператор для решения разных задач: сложения чисел, конкатенации строк, объединения списков. \n",
    "\n",
    "Магический метод `__add__()` распознаёт задачу и всегда знает, как поступить с данными в каждом конкретном случае. Вам не нужно вызывать этот метод и что-то разъяснять ему, достаточно просто написать `2 + 3` или `'роман' + 'тик'`, и каждый раз вы будете получать нужный результат."
   ]
  }
 ],
 "metadata": {
  "kernelspec": {
   "display_name": "Python 3",
   "language": "python",
   "name": "python3"
  },
  "language_info": {
   "codemirror_mode": {
    "name": "ipython",
    "version": 3
   },
   "file_extension": ".py",
   "mimetype": "text/x-python",
   "name": "python",
   "nbconvert_exporter": "python",
   "pygments_lexer": "ipython3",
   "version": "3.11.0"
  }
 },
 "nbformat": 4,
 "nbformat_minor": 2
}
