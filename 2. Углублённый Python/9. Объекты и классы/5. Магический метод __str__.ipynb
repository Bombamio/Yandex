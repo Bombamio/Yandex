{
 "cells": [
  {
   "cell_type": "code",
   "execution_count": 1,
   "metadata": {},
   "outputs": [
    {
     "name": "stdout",
     "output_type": "stream",
     "text": [
      "<__main__.Phone object at 0x0000024CEECD1750>\n"
     ]
    }
   ],
   "source": [
    "class Phone:\n",
    "\n",
    "    line_type = 'проводной'\n",
    "\n",
    "    def __init__(self, dial_type_value):\n",
    "        self.dial_type = dial_type_value\n",
    "\n",
    "    def ring(self):\n",
    "        print('Дзззззыыыыыыыынь!')\n",
    "\n",
    "    def call(self, phone_number):\n",
    "        print(f'Звоню по номеру {phone_number}! Тип связи - {self.line_type}.')\n",
    "\n",
    "    def dial_type_upgrade(self, new_dial_type):\n",
    "        self.dial_type = new_dial_type\n",
    "\n",
    "\n",
    "rotary_phone = Phone(dial_type_value='дисковый')\n",
    "\n",
    "print(rotary_phone)"
   ]
  },
  {
   "cell_type": "markdown",
   "metadata": {},
   "source": [
    "Получилось не так красиво, как со строкой: Python вывел на экран имя класса и адрес в памяти, где сохранён объект. Так работает метод `__str__`, который по умолчанию есть у всех объектов — встроенных и пользовательских. Этот метод позволяет объектам «рассказывать» о себе в виде строк. \n",
    "\n",
    "Вывод по умолчанию получается не самым понятным. Для своих классов вы можете переопределить этот метод, то есть указать, что конкретно объект должен «рассказать» о себе."
   ]
  },
  {
   "cell_type": "code",
   "execution_count": 2,
   "metadata": {},
   "outputs": [
    {
     "name": "stdout",
     "output_type": "stream",
     "text": [
      "Это проводной телефон. Набор - дисковый.\n"
     ]
    }
   ],
   "source": [
    "class Phone:\n",
    "\n",
    "    line_type = 'проводной'\n",
    "\n",
    "    def __init__(self, dial_type_value):\n",
    "        self.dial_type = dial_type_value\n",
    "\n",
    "    def ring(self):\n",
    "        print('Дзззззыыыыыыыынь!')\n",
    "\n",
    "    def call(self, phone_number):\n",
    "        print(f'Звоню по номеру {phone_number}! Тип связи - {self.line_type}.')\n",
    "\n",
    "    def dial_type_upgrade(self, new_dial_type):\n",
    "        self.dial_type = new_dial_type\n",
    "\n",
    "    # Вот он - магический метод __str__ с пользовательским описанием.\n",
    "    def __str__(self):\n",
    "        return f'Это {self.line_type} телефон. Набор - {self.dial_type}.'\n",
    "\n",
    "\n",
    "rotary_phone = Phone(dial_type_value='дисковый')\n",
    "\n",
    "print(rotary_phone)"
   ]
  }
 ],
 "metadata": {
  "kernelspec": {
   "display_name": "Python 3",
   "language": "python",
   "name": "python3"
  },
  "language_info": {
   "codemirror_mode": {
    "name": "ipython",
    "version": 3
   },
   "file_extension": ".py",
   "mimetype": "text/x-python",
   "name": "python",
   "nbconvert_exporter": "python",
   "pygments_lexer": "ipython3",
   "version": "3.11.0"
  }
 },
 "nbformat": 4,
 "nbformat_minor": 2
}
