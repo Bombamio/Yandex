{
 "cells": [
  {
   "cell_type": "markdown",
   "metadata": {},
   "source": [
    "# Объявление методов\n",
    "\n",
    "Методы объекта описываются сразу после инициализатора класса. Первым параметром указывается `self`. Между инициализатором класса и методами должна быть пустая строка:"
   ]
  },
  {
   "cell_type": "code",
   "execution_count": null,
   "metadata": {},
   "outputs": [],
   "source": [
    "class Phone:\n",
    "\n",
    "    line_type = 'проводной'\n",
    "\n",
    "    def __init__(self, dial_type_value):\n",
    "        self.dial_type = dial_type_value\n",
    "\n",
    "    # Вот он - новый метод!\n",
    "    def ring(self):\n",
    "        print('Дзззззыыыыыыыынь!')"
   ]
  },
  {
   "cell_type": "markdown",
   "metadata": {},
   "source": [
    "# Вызов методов\n",
    "\n",
    "Методы объявляются в теле класса, но по умолчанию они принадлежат объектам. Чтобы вызвать метод, нужно создать объект, а потом обратиться к методу через точечную нотацию по шаблону: `имя_объекта.имя_метода()`. \n",
    "\n",
    "При вызове метода в скобках указываются аргументы, точно так же, как и при вызове функции. Аргумент `self` указывать не нужно, потому что, как и в случае с магическим методом `__init__`, при вызове обычных методов Python самостоятельно в качестве первого аргумента передаёт сам экземпляр класса."
   ]
  },
  {
   "cell_type": "code",
   "execution_count": 1,
   "metadata": {},
   "outputs": [
    {
     "name": "stdout",
     "output_type": "stream",
     "text": [
      "Дзззззыыыыыыыынь!\n"
     ]
    }
   ],
   "source": [
    "class Phone:\n",
    "\n",
    "    line_type = 'проводной'\n",
    "\n",
    "    def __init__(self, dial_type_value):\n",
    "        self.dial_type = dial_type_value\n",
    "\n",
    "    def ring(self):\n",
    "        print('Дзззззыыыыыыыынь!')\n",
    "\n",
    "# Создать экземляр класса Phone.\n",
    "rotary_phone = Phone(dial_type_value='дисковый')\n",
    "\n",
    "# Вызвать метод ring для экземлпяра rotary_phone. В методе ring() есть\n",
    "# единственный параметр self. Передавать его в качестве аргумента не нужно.\n",
    "# Python сделает это автоматически.\n",
    "rotary_phone.ring()"
   ]
  },
  {
   "cell_type": "code",
   "execution_count": 2,
   "metadata": {},
   "outputs": [
    {
     "name": "stdout",
     "output_type": "stream",
     "text": [
      "Звоню по номеру 555-2368! Тип связи - проводной.\n"
     ]
    }
   ],
   "source": [
    "class Phone:\n",
    "\n",
    "    line_type = 'проводной'\n",
    "\n",
    "    def __init__(self, dial_type_value):\n",
    "        self.dial_type = dial_type_value\n",
    "\n",
    "    def ring(self):\n",
    "        print('Дзззззыыыыыыыынь!')\n",
    "\n",
    "    # Это новый метод, уже с двумя параметрами.\n",
    "    def call(self, phone_number):\n",
    "        # Сначала в вывод подставляется значение параметра phone_number,\n",
    "        # а затем - атрибута класса Phone.\n",
    "        print(f'Звоню по номеру {phone_number}! Тип связи - {self.line_type}.')\n",
    "\n",
    "rotary_phone = Phone(dial_type_value='дисковый')\n",
    "\n",
    "# Вызов метода call(). Передаётся аргумент '555-2368'\n",
    "# для параметра phone_number.\n",
    "rotary_phone.call('555-2368')"
   ]
  },
  {
   "cell_type": "code",
   "execution_count": 3,
   "metadata": {},
   "outputs": [
    {
     "name": "stdout",
     "output_type": "stream",
     "text": [
      "Запрос количества пропущенных вызовов.\n"
     ]
    }
   ],
   "source": [
    "class Phone:\n",
    "\n",
    "    line_type = 'проводной'\n",
    "\n",
    "    def __init__(self, dial_type_value):\n",
    "        self.dial_type = dial_type_value\n",
    "\n",
    "    def ring(self):\n",
    "        print('Дзззззыыыыыыыынь!')\n",
    "\n",
    "    def call(self, phone_number):\n",
    "        print(f'Звоню по номеру {phone_number}! Тип связи - {self.line_type}.')\n",
    "\n",
    "    # Ещё один метод.\n",
    "    def get_missed_calls(self):\n",
    "        print('Запрос количества пропущенных вызовов.')\n",
    "\n",
    "rotary_phone = Phone(dial_type_value='дисковый')\n",
    "\n",
    "rotary_phone.get_missed_calls()"
   ]
  },
  {
   "cell_type": "markdown",
   "metadata": {},
   "source": [
    "# Замена значений атрибутов через метод\n",
    "Значения атрибутов можно поменять через точечную нотацию: "
   ]
  },
  {
   "cell_type": "code",
   "execution_count": 4,
   "metadata": {},
   "outputs": [
    {
     "name": "stdout",
     "output_type": "stream",
     "text": [
      "дисковый\n",
      "кнопочный\n"
     ]
    }
   ],
   "source": [
    "class Phone:\n",
    "\n",
    "    line_type = 'проводной'\n",
    "\n",
    "    def __init__(self, dial_type_value):\n",
    "        self.dial_type = dial_type_value\n",
    "\n",
    "# Вот тут задано первоначальное значение.\n",
    "rotary_phone = Phone(dial_type_value='дисковый')\n",
    "\n",
    "print(rotary_phone.dial_type)\n",
    "\n",
    "# А тут - новое.\n",
    "rotary_phone.dial_type = 'кнопочный'\n",
    "\n",
    "print(rotary_phone.dial_type)"
   ]
  },
  {
   "cell_type": "markdown",
   "metadata": {},
   "source": [
    "Также для этой задачи можно использовать метод. "
   ]
  },
  {
   "cell_type": "code",
   "execution_count": 5,
   "metadata": {},
   "outputs": [
    {
     "name": "stdout",
     "output_type": "stream",
     "text": [
      "дисковый\n",
      "кнопочный\n"
     ]
    }
   ],
   "source": [
    "class Phone:\n",
    "\n",
    "    line_type = 'проводной'\n",
    "\n",
    "    def __init__(self, dial_type_value):\n",
    "        self.dial_type = dial_type_value\n",
    "\n",
    "    # Новый метод.\n",
    "    def dial_type_upgrade(self, new_dial_type):\n",
    "        # Задать для атрибута dial_type новое значение - new_dial_type.\n",
    "        self.dial_type = new_dial_type\n",
    "\n",
    "# Тут задано начальное значение атрибута dial_type.\n",
    "rotary_phone = Phone(dial_type_value='дисковый')\n",
    "\n",
    "print(rotary_phone.dial_type)\n",
    "\n",
    "# Вызов метода dial_type_upgrade, который призван поменять\n",
    "# начальное значение атрибута на new_dial_type.\n",
    "rotary_phone.dial_type_upgrade('кнопочный')\n",
    "\n",
    "print(rotary_phone.dial_type)"
   ]
  },
  {
   "cell_type": "markdown",
   "metadata": {},
   "source": [
    "# Что в итоге\n",
    "\n",
    "> * Метод — это обычная функция, которая определяется внутри класса.\n",
    "> * У методов есть доступ к атрибутам класса, экземплярам класса и другим методам.\n",
    "> * Чтобы вызвать метод, нужно создать объект, а потом обратиться к методу через точечную нотацию по шаблону: имя_объекта.имя_метода().\n",
    "> * Можно создать сколько угодно методов в классе, и все они будут влиять на поведение объекта."
   ]
  },
  {
   "cell_type": "code",
   "execution_count": 12,
   "metadata": {},
   "outputs": [
    {
     "name": "stdout",
     "output_type": "stream",
     "text": [
      "Остаток отпускных дней: 23.\n"
     ]
    }
   ],
   "source": [
    "class Employee:\n",
    "    vacation_days = 28\n",
    "    remaining_vacation_days = vacation_days\n",
    "\n",
    "    def __init__(self, first_name, second_name, gender):\n",
    "        self.first_name = first_name\n",
    "        self.second_name = second_name\n",
    "        self.gender = gender\n",
    "        \n",
    "\n",
    "    def consume_vacation(self, days):\n",
    "        self.remaining_vacation_days -= days\n",
    "\n",
    "    def get_vacation_details(self):\n",
    "        return f'Остаток отпускных дней: {self.remaining_vacation_days}.'\n",
    "\n",
    "\n",
    "# Пример использования класса:\n",
    "employee = Employee('Роберт', 'Крузо', 'м')\n",
    "employee.consume_vacation(5)\n",
    "print(employee.get_vacation_details())"
   ]
  }
 ],
 "metadata": {
  "kernelspec": {
   "display_name": "Python 3",
   "language": "python",
   "name": "python3"
  },
  "language_info": {
   "codemirror_mode": {
    "name": "ipython",
    "version": 3
   },
   "file_extension": ".py",
   "mimetype": "text/x-python",
   "name": "python",
   "nbconvert_exporter": "python",
   "pygments_lexer": "ipython3",
   "version": "3.11.0"
  }
 },
 "nbformat": 4,
 "nbformat_minor": 2
}
