{
 "cells": [
  {
   "cell_type": "markdown",
   "metadata": {},
   "source": [
    "# Задание 1"
   ]
  },
  {
   "cell_type": "code",
   "execution_count": null,
   "metadata": {},
   "outputs": [
    {
     "name": "stdout",
     "output_type": "stream",
     "text": [
      "В популяции нет бактерий, удалять нечего\n",
      "Добавлена одна бактерия. Бактерий в колонии: 1\n",
      "Добавлена одна бактерия. Бактерий в колонии: 2\n",
      "Добавлена одна бактерия. Бактерий в колонии: 3\n",
      "Добавлена одна бактерия. Бактерий в колонии: 4\n",
      "Одна бактерия удалена. Бактерий в колонии: 3\n"
     ]
    }
   ],
   "source": [
    "class BacteriaProducer:\n",
    "    # Допишите инициализатор класса:\n",
    "    # Задайте два атрибута экземпляра:\n",
    "    # Первый хранит максимальное количество бактерий\n",
    "    # Второй хранит текущее количество бактерий (по умолчанию 0)\n",
    "    def __init__(self, max_bacteria):\n",
    "        self.max_bacteria = max_bacteria\n",
    "        self.current_bacteria_count = 0\n",
    "\n",
    "    # Допишите метод, добавляющий бактерию в чашу\n",
    "    # Если уже достигнуто максимальное число бактерий,\n",
    "    # то добавлять новую нельзя, выведите сообщение об ошибке\n",
    "    def create(self):\n",
    "        if self.current_bacteria_count < self.max_bacteria:\n",
    "            self.current_bacteria_count += 1\n",
    "            print(f'Добавлена одна бактерия. Бактерий в колонии: {self.current_bacteria_count}')\n",
    "        else:\n",
    "            print('Нет места под новую бактерию')\n",
    "\n",
    "    # Допишите метод, удаляющий бактерию из чаши.\n",
    "    # Если в чаше уже нет бактерий, то удалять нечего;\n",
    "    # выведите сообщение об ошибке\n",
    "    def delete(self):\n",
    "        if self.current_bacteria_count != 0:\n",
    "            self.current_bacteria_count -= 1\n",
    "            print(f'Одна бактерия удалена. Бактерий в колонии: {self.current_bacteria_count}')\n",
    "        else:\n",
    "            print('В популяции нет бактерий, удалять нечего')\n",
    "\n",
    "\n",
    "# Пример запуска для самопроверки\n",
    "bacteria_producer = BacteriaProducer(max_bacteria=3)\n",
    "bacteria_producer.delete()\n",
    "bacteria_producer.create()\n",
    "bacteria_producer.create()\n",
    "bacteria_producer.create()\n",
    "bacteria_producer.create()\n",
    "bacteria_producer.delete()"
   ]
  },
  {
   "cell_type": "markdown",
   "metadata": {},
   "source": [
    "# Задание 2"
   ]
  },
  {
   "cell_type": "code",
   "execution_count": 20,
   "metadata": {},
   "outputs": [
    {
     "name": "stdout",
     "output_type": "stream",
     "text": [
      "Нельзя добавить ядовитый гриб\n",
      "Подосиновик, Белый\n",
      "Подосиновик, Белый\n",
      "Лисичка\n"
     ]
    }
   ],
   "source": [
    "class MushroomsCollector:\n",
    "    # Проверьте, нет ли здесь ошибки:\n",
    "    def __init__(self):\n",
    "        self.mushrooms = []\n",
    "\n",
    "    # Исправьте ошибку в этом методе.\n",
    "    def is_poisonous(self, mushroom_name):\n",
    "        if mushroom_name == 'Мухомор' or mushroom_name == 'Поганка':\n",
    "            return True\n",
    "        return False\n",
    "\n",
    "    # Допишите метод.\n",
    "    def add_mushroom(self, mushroom_name):\n",
    "        if self.is_poisonous(mushroom_name) == True:\n",
    "            print('Нельзя добавить ядовитый гриб')\n",
    "        else:\n",
    "            self.mushrooms.append(mushroom_name)\n",
    "\n",
    "    def __str__(self):\n",
    "        return str.join(', ', self.mushrooms)\n",
    "    \n",
    "    # Напишите магический метод __str__,\n",
    "    # возвращающий перечень грибов из списка mushrooms \n",
    "    # через запятую.\n",
    "\n",
    "\n",
    "# Пример запуска для самопроверки\n",
    "collector_1 = MushroomsCollector()\n",
    "collector_1.add_mushroom('Мухомор')\n",
    "collector_1.add_mushroom('Подосиновик')\n",
    "collector_1.add_mushroom('Белый')\n",
    "print(collector_1)\n",
    "\n",
    "collector_2 = MushroomsCollector()\n",
    "collector_2.add_mushroom('Лисичка')\n",
    "print(collector_1)\n",
    "print(collector_2)"
   ]
  },
  {
   "cell_type": "markdown",
   "metadata": {},
   "source": [
    "# Задание 3"
   ]
  },
  {
   "cell_type": "code",
   "execution_count": 29,
   "metadata": {},
   "outputs": [
    {
     "name": "stdout",
     "output_type": "stream",
     "text": [
      "рёпвиёэ тждюажт сткпбн стржмф у сжтдрер твйв, у фжч срт б жер граую\n",
      "создал вчера пустой файл — а там уже комменты от ревьюера\n"
     ]
    }
   ],
   "source": [
    "class CipherMaster:\n",
    "    # Не изменяйте и не перемещайте эту переменную\n",
    "    alphabet = 'абвгдеёжзийклмнопрстуфхцчшщъыьэюя'\n",
    "\n",
    "    def cipher(self, original_text, shift):\n",
    "        # Метод должен возвращать зашифрованный текст\n",
    "        # с учетом переданного смещения shift.\n",
    "        result = []\n",
    "        for letter in original_text.lower():\n",
    "            if letter not in self.alphabet:\n",
    "                result.append(letter)\n",
    "                continue\n",
    "            letter_index = self.alphabet.find(letter)\n",
    "\n",
    "\n",
    "            if (len(self.alphabet) - 1) - (letter_index + shift) < 0:\n",
    "                letter_index = (len(self.alphabet) - (letter_index + shift)) * (-1)\n",
    "                result.append(self.alphabet[letter_index])\n",
    "            else:\n",
    "                result.append(self.alphabet[letter_index + shift])\n",
    "\n",
    "        return ''.join(result)\n",
    "\n",
    "    def decipher(self, cipher_text, shift):\n",
    "        # Метод должен возвращать исходный текст\n",
    "        # с учётом переданного смещения shift.\n",
    "        shift *= -1\n",
    "        return self.cipher(cipher_text, shift)\n",
    "\n",
    "\n",
    "cipher_master = CipherMaster()\n",
    "print(cipher_master.cipher(\n",
    "    original_text='Однажды ревьюер принял проект с первого раза, с тех пор я его боюсь',\n",
    "    shift=2\n",
    "))\n",
    "print(cipher_master.decipher(\n",
    "    cipher_text='Олебэи яфвнэ мроплж сэжи — э пэй рдв злййвкпш лп нвящывнэ',\n",
    "    shift=-3\n",
    "))"
   ]
  },
  {
   "cell_type": "code",
   "execution_count": 31,
   "metadata": {},
   "outputs": [
    {
     "name": "stdout",
     "output_type": "stream",
     "text": [
      "рёпвиёэ тждюажт сткпбн стржмф у сжтдрер твйв, у фжч срт б жер граую\n",
      "создал вчера пустой файл — а там уже комменты от ревьюера\n"
     ]
    }
   ],
   "source": [
    "class CipherMaster:\n",
    "    alphabet = 'абвгдеёжзийклмнопрстуфхцчшщъыьэюя'\n",
    "\n",
    "    def cipher(self, original_text, shift):\n",
    "        result = []\n",
    "        for letter in original_text.lower():\n",
    "            if letter in self.alphabet:\n",
    "                new_ind = (self.alphabet.index(letter) + shift) % len(self.alphabet)\n",
    "                result.append(self.alphabet[new_ind])\n",
    "            else:\n",
    "                result.append(letter)\n",
    "        return ''.join(result)\n",
    "\n",
    "    def decipher(self, cipher_text, shift):\n",
    "        shift *= -1\n",
    "        return self.cipher(cipher_text, shift)\n",
    "\n",
    "\n",
    "cipher_master = CipherMaster()\n",
    "print(cipher_master.cipher(\n",
    "    original_text='Однажды ревьюер принял проект с первого раза, с тех пор я его боюсь',\n",
    "    shift=2\n",
    "))\n",
    "print(cipher_master.decipher(\n",
    "    cipher_text='Олебэи яфвнэ мроплж сэжи — э пэй рдв злййвкпш лп нвящывнэ',\n",
    "    shift=-3\n",
    "))"
   ]
  },
  {
   "cell_type": "markdown",
   "metadata": {},
   "source": [
    "# Задание 4"
   ]
  },
  {
   "cell_type": "code",
   "execution_count": null,
   "metadata": {},
   "outputs": [
    {
     "name": "stdout",
     "output_type": "stream",
     "text": [
      "рёпвиёэ тждюажт сткпбн стржмф у сжтдрер твйв, у фжч срт б жер граую\n",
      "создал вчера пустой файл — а там уже комменты от ревьюера\n"
     ]
    }
   ],
   "source": [
    "class CipherMaster:\n",
    "    alphabet = 'абвгдеёжзийклмнопрстуфхцчшщъыьэюя'\n",
    "\n",
    "    def process_text(self, text, shift, is_encrypt):\n",
    "        if is_encrypt == False:\n",
    "            shift *= -1\n",
    "        result = []\n",
    "        for letter in text.lower():\n",
    "            if letter in self.alphabet:\n",
    "                new_ind = (self.alphabet.index(letter) + shift) % len(self.alphabet)\n",
    "                result.append(self.alphabet[new_ind])\n",
    "            else:\n",
    "                result.append(letter)\n",
    "        return ''.join(result)\n",
    "\n",
    "\n",
    "cipher_master = CipherMaster()\n",
    "print(cipher_master.process_text(\n",
    "    text='Однажды ревьюер принял проект с первого раза, с тех пор я его боюсь',\n",
    "    shift=2,\n",
    "    is_encrypt=True\n",
    "))\n",
    "print(cipher_master.process_text(\n",
    "    text='Олебэи яфвнэ мроплж сэжи — э пэй рдв злййвкпш лп нвящывнэ',\n",
    "    shift=-3,\n",
    "    is_encrypt=False\n",
    ")) "
   ]
  }
 ],
 "metadata": {
  "kernelspec": {
   "display_name": "Python 3",
   "language": "python",
   "name": "python3"
  },
  "language_info": {
   "codemirror_mode": {
    "name": "ipython",
    "version": 3
   },
   "file_extension": ".py",
   "mimetype": "text/x-python",
   "name": "python",
   "nbconvert_exporter": "python",
   "pygments_lexer": "ipython3",
   "version": "3.11.0"
  }
 },
 "nbformat": 4,
 "nbformat_minor": 2
}
