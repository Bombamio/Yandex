{
 "cells": [
  {
   "cell_type": "markdown",
   "id": "fe53cca8",
   "metadata": {},
   "source": [
    "**Диапазо** — это неизменяемая последовательность чисел. Последовательность `range` создаётся при вызове функции `range()`; границы создаваемого диапазона передаются в аргументах. \n",
    "\n",
    "Значение второй границы не включается в диапазон: например, при объявлении диапазона `range(0, 30)` число `30` не войдёт в последовательность. Первым значением последовательности будет `0`, а значением последнего элемента — `29`."
   ]
  },
  {
   "cell_type": "code",
   "execution_count": 1,
   "id": "f6df67b9",
   "metadata": {},
   "outputs": [
    {
     "name": "stdout",
     "output_type": "stream",
     "text": [
      "Тип данных: <class 'range'>\n",
      "Печатаем последовательность: range(0, 30)\n",
      "Элемент с индексом 29: 29\n"
     ]
    },
    {
     "ename": "IndexError",
     "evalue": "range object index out of range",
     "output_type": "error",
     "traceback": [
      "\u001b[1;31m---------------------------------------------------------------------------\u001b[0m",
      "\u001b[1;31mIndexError\u001b[0m                                Traceback (most recent call last)",
      "\u001b[1;32m~\\AppData\\Local\\Temp\\ipykernel_3816\\1352271119.py\u001b[0m in \u001b[0;36m<module>\u001b[1;34m\u001b[0m\n\u001b[0;32m      4\u001b[0m \u001b[0mprint\u001b[0m\u001b[1;33m(\u001b[0m\u001b[1;34m'Печатаем последовательность:'\u001b[0m\u001b[1;33m,\u001b[0m \u001b[0mdays\u001b[0m\u001b[1;33m)\u001b[0m\u001b[1;33m\u001b[0m\u001b[1;33m\u001b[0m\u001b[0m\n\u001b[0;32m      5\u001b[0m \u001b[0mprint\u001b[0m\u001b[1;33m(\u001b[0m\u001b[1;34m'Элемент с индексом 29:'\u001b[0m\u001b[1;33m,\u001b[0m \u001b[0mdays\u001b[0m\u001b[1;33m[\u001b[0m\u001b[1;36m29\u001b[0m\u001b[1;33m]\u001b[0m\u001b[1;33m)\u001b[0m\u001b[1;33m\u001b[0m\u001b[1;33m\u001b[0m\u001b[0m\n\u001b[1;32m----> 6\u001b[1;33m \u001b[0mprint\u001b[0m\u001b[1;33m(\u001b[0m\u001b[1;34m'Элемент с индексом 30:'\u001b[0m\u001b[1;33m,\u001b[0m \u001b[0mdays\u001b[0m\u001b[1;33m[\u001b[0m\u001b[1;36m30\u001b[0m\u001b[1;33m]\u001b[0m\u001b[1;33m)\u001b[0m\u001b[1;33m\u001b[0m\u001b[1;33m\u001b[0m\u001b[0m\n\u001b[0m",
      "\u001b[1;31mIndexError\u001b[0m: range object index out of range"
     ]
    }
   ],
   "source": [
    "# Объявляем диапазон от 0 до 30\n",
    "days = range(0, 30)\n",
    "print('Тип данных:', type(days))\n",
    "print('Печатаем последовательность:', days)\n",
    "print('Элемент с индексом 29:', days[29])\n",
    "print('Элемент с индексом 30:', days[30])"
   ]
  },
  {
   "cell_type": "markdown",
   "id": "92d73676",
   "metadata": {},
   "source": [
    "Функция range() может принимать от одного до трёх аргументов:\n",
    "\n",
    "1. `range(stop)`: генерирует числа от 0 до `stop - 1`.\n",
    "\n",
    "    `range(100)` сгенерирует числа от 0 до 99 включительно.\n",
    "2. `range(start, stop)`: генерирует числа от `start` до `stop - 1`.\n",
    "\n",
    "    `range(50, 100)` сгенерирует числа от 50 до 99 включительно. Объявления диапазонов `range(0, 100)` и `range(100)` вернут последовательности с одинаковым набором элементов.\n",
    "3. `range(start, stop, step)`: генерирует диапазон чисел, начинающийся со значения `start` и ограниченного значением `stop`; шаг между значениями чисел в диапазоне будет равен `step`.\n",
    "\n",
    "    `range(50, 100, 9)` будет генерировать числа в пределах от 50 до 99 включительно с `шагом 9`:\n",
    "\n",
    "    50, 59, 68, … 77, 86, 95. Последним значением будет 95."
   ]
  },
  {
   "cell_type": "markdown",
   "id": "f865d21f",
   "metadata": {},
   "source": [
    "> Диапазон `range` не хранит конкретные значения диапазона. Хранятся лишь правила, по которым можно вычислить конкретное значение, когда оно будет запрошено. \n",
    "\n",
    "> Именно по этой причине при печати диапазона не выводятся конкретные значения: их не запрашивали, а потому `range` не стал их вычислять; значений нет — напечатать нечего. На печать выводятся лишь границы диапазона."
   ]
  },
  {
   "cell_type": "code",
   "execution_count": 2,
   "id": "a83b658c",
   "metadata": {},
   "outputs": [
    {
     "name": "stdout",
     "output_type": "stream",
     "text": [
      "range(0, 30)\n"
     ]
    }
   ],
   "source": [
    "# Объявляем диапазон от 0 до 30\n",
    "days = range(0, 30)\n",
    "print(days)"
   ]
  },
  {
   "cell_type": "markdown",
   "id": "70a72bd8",
   "metadata": {},
   "source": [
    "> Чтобы получить конкретные значения из `range`, нужно обратиться к определённому элементу:"
   ]
  },
  {
   "cell_type": "code",
   "execution_count": 3,
   "id": "90ecb364",
   "metadata": {},
   "outputs": [
    {
     "name": "stdout",
     "output_type": "stream",
     "text": [
      "Первый элемент: 10\n",
      "Четвёртый по счёту элемент: 22\n",
      "Последний элемент: 26\n"
     ]
    }
   ],
   "source": [
    "# Объявим диапазон с границами 10 и 30 и с шагом 4\n",
    "any_values = range(10, 30, 4)\n",
    "print('Первый элемент:', any_values[0])   # Печатаем первый элемент.\n",
    "print('Четвёртый по счёту элемент:', any_values[3])   # Элемент с индексом 3q.\n",
    "print('Последний элемент:', any_values[-1])  # Первый элемент с конца."
   ]
  },
  {
   "cell_type": "markdown",
   "id": "c84493e0",
   "metadata": {},
   "source": [
    "Объект типа `range` можно конвертировать в другие типы, например в список — с помощью функции `list()` или `tuple()`:"
   ]
  },
  {
   "cell_type": "code",
   "execution_count": 4,
   "id": "f4cdf91f",
   "metadata": {},
   "outputs": [
    {
     "name": "stdout",
     "output_type": "stream",
     "text": [
      "Преобразуем диапазон в список: [0, 1, 2, 3, 4]\n",
      "Преобразуем диапазон в кортеж: (0, 1, 2, 3, 4, 5, 6)\n"
     ]
    }
   ],
   "source": [
    "print('Преобразуем диапазон в список:', list(range(5)))\n",
    "print('Преобразуем диапазон в кортеж:', tuple(range(7)))"
   ]
  },
  {
   "cell_type": "markdown",
   "id": "09cb32af",
   "metadata": {},
   "source": [
    "***\n",
    "# Задача 1"
   ]
  },
  {
   "cell_type": "code",
   "execution_count": 5,
   "id": "c16574d3",
   "metadata": {},
   "outputs": [
    {
     "name": "stdout",
     "output_type": "stream",
     "text": [
      "Номера домов по чётной стороне: [2, 4, 6, 8, 10, 12, 14]\n"
     ]
    }
   ],
   "source": [
    "# Общее число домов (это, фактически, количество элементов,\n",
    "# которое должно быть в вашем диапазоне):\n",
    "houses_count = 7\n",
    "# Номер каждого следующего дома отличается от предыдущего на 2:\n",
    "step = 2\n",
    "# Начальный номер дома (левая граница диапазона):\n",
    "start = 2\n",
    "# Вычислите правую границу диапазона:\n",
    "end = houses_count * step + 1\n",
    "# Передайте аргументы в функцию создания диапазона:\n",
    "houses = range(start, end, step)\n",
    "\n",
    "# Печатаем результаты вычислений (тут всё готово, изменять не нужно):\n",
    "print('Номера домов по чётной стороне:', list(houses))"
   ]
  },
  {
   "cell_type": "markdown",
   "id": "f77837a7",
   "metadata": {},
   "source": [
    "***\n",
    "# Задача 2"
   ]
  },
  {
   "cell_type": "code",
   "execution_count": 8,
   "id": "c4fbfc23",
   "metadata": {},
   "outputs": [
    {
     "name": "stdout",
     "output_type": "stream",
     "text": [
      "[2, 4, 6, 8]\n"
     ]
    }
   ],
   "source": [
    "def planting_plan(rows):\n",
    "    start = 2        # Укажите стартовое значение диапазона.\n",
    "    step = 2        # Укажите шаг диапазона.\n",
    "    end = rows * step + 1         # Вычислите правую границу диапазона.\n",
    "    # Опишите диапазон:\n",
    "    row_positions = range(start, end, step)\n",
    "    # Преобразуйте диапазон в список и верните этот список:\n",
    "    return list(row_positions)\n",
    "\n",
    "print(planting_plan(4))"
   ]
  }
 ],
 "metadata": {
  "kernelspec": {
   "display_name": "Python 3 (ipykernel)",
   "language": "python",
   "name": "python3"
  },
  "language_info": {
   "codemirror_mode": {
    "name": "ipython",
    "version": 3
   },
   "file_extension": ".py",
   "mimetype": "text/x-python",
   "name": "python",
   "nbconvert_exporter": "python",
   "pygments_lexer": "ipython3",
   "version": "3.9.13"
  }
 },
 "nbformat": 4,
 "nbformat_minor": 5
}
