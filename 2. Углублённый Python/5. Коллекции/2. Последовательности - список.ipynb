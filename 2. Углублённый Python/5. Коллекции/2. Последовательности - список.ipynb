{
 "cells": [
  {
   "cell_type": "markdown",
   "id": "74765ff7",
   "metadata": {},
   "source": [
    "Объявить список можно несколькими способами.\n",
    "\n",
    "- **Объявление списка с помощью квадратных скобок.**"
   ]
  },
  {
   "cell_type": "code",
   "execution_count": 1,
   "id": "f77e2b91",
   "metadata": {},
   "outputs": [],
   "source": [
    "digits = [1, 2, 3, 4, 5]\n",
    "fruits = ['яблоко', 'банан', 'вишня']\n",
    "\n",
    "# Можно объявить пустой список, а элементы в него\n",
    "# добавлять по мере необходимости.\n",
    "empty = []  # Квадратные скобки - это объявление списка."
   ]
  },
  {
   "cell_type": "markdown",
   "id": "750b7bbe",
   "metadata": {},
   "source": [
    " - **Создание списка с помощью встроенной функции** `list()`."
   ]
  },
  {
   "cell_type": "code",
   "execution_count": null,
   "id": "443eee86",
   "metadata": {},
   "outputs": [],
   "source": [
    "letters = list('яблоко')  # Строка - это коллекция текстовых символов.\n",
    "# Строка будет преобразована в список символов:\n",
    "# ['я', 'б', 'л', 'о', 'к', 'о']\n",
    "\n",
    "# С помощью функции list() можно объявить и пустой список:\n",
    "another_empty = list()"
   ]
  },
  {
   "cell_type": "markdown",
   "id": "e343eca6",
   "metadata": {},
   "source": [
    "***\n",
    "# Особенности списков\n",
    "\n",
    "Списки — это **упорядоченные коллекции**, которые могут хранить **элементы произвольных типов**. \n",
    "\n",
    "Каждый элемент обладает порядковым номером, его называют **«индекс»**. Отсчёт индексов начинается с нуля: индекс первого элемента в списке — `0`.\n",
    "\n",
    "Любой элемент списка можно получить по его индексу: `имя_списка[индекс]`."
   ]
  },
  {
   "cell_type": "code",
   "execution_count": null,
   "id": "ab0a92c8",
   "metadata": {},
   "outputs": [],
   "source": [
    "vegetables = ['помидоры', 'огурцы', 'баклажаны']\n",
    "#                 |           |           |\n",
    "# Индексы:        0           1           2\n",
    "\n",
    "print(vegetables[0])\n",
    "\n",
    "# Напечатает: \"помидоры\" (индекс первого элемента - 0).\n",
    "# Всего в списке vegetables три элемента, их индексы - 0, 1 и 2."
   ]
  },
  {
   "cell_type": "markdown",
   "id": "50d42bea",
   "metadata": {},
   "source": [
    "***\n",
    "# Адресация элементов\n",
    "\n",
    "Значения элементов списка можно получить через обращение по **индексу**. Полученное значение можно присвоить переменной или обработать каким-то иным способом."
   ]
  },
  {
   "cell_type": "code",
   "execution_count": 2,
   "id": "1d2ceb45",
   "metadata": {},
   "outputs": [
    {
     "name": "stdout",
     "output_type": "stream",
     "text": [
      "Элемент с индексом [2]: 0.8\n",
      "Сумма значений элементов с индексами 0 и 3: 2.9\n"
     ]
    },
    {
     "ename": "IndexError",
     "evalue": "list index out of range",
     "output_type": "error",
     "traceback": [
      "\u001b[1;31m---------------------------------------------------------------------------\u001b[0m",
      "\u001b[1;31mIndexError\u001b[0m                                Traceback (most recent call last)",
      "\u001b[1;32m~\\AppData\\Local\\Temp\\ipykernel_22024\\1317100111.py\u001b[0m in \u001b[0;36m<module>\u001b[1;34m\u001b[0m\n\u001b[0;32m     17\u001b[0m \u001b[1;31m# При попытке обратиться к несуществующему элементу\u001b[0m\u001b[1;33m\u001b[0m\u001b[1;33m\u001b[0m\u001b[0m\n\u001b[0;32m     18\u001b[0m \u001b[1;31m# интерпретатор вернёт ошибку.\u001b[0m\u001b[1;33m\u001b[0m\u001b[1;33m\u001b[0m\u001b[0m\n\u001b[1;32m---> 19\u001b[1;33m \u001b[0mprint\u001b[0m\u001b[1;33m(\u001b[0m\u001b[0mvegetable_weights\u001b[0m\u001b[1;33m[\u001b[0m\u001b[1;36m10\u001b[0m\u001b[1;33m]\u001b[0m\u001b[1;33m)\u001b[0m  \u001b[1;31m# IndexError: list index out of range\u001b[0m\u001b[1;33m\u001b[0m\u001b[1;33m\u001b[0m\u001b[0m\n\u001b[0m",
      "\u001b[1;31mIndexError\u001b[0m: list index out of range"
     ]
    }
   ],
   "source": [
    "# Последовательность типа list (список); \n",
    "# значения элементов списка - числа типа float.\n",
    "vegetable_weights = [1.7, 2.5, 0.8, 1.2]\n",
    "\n",
    "# Чтобы получить значение определённого элемента, \n",
    "# его индекс следует указать в квадратных скобках после имени последовательности.\n",
    "print('Элемент с индексом [2]:', vegetable_weights[2])\n",
    "\n",
    "# Присвоим значение элемента с индексом 3 переменной:\n",
    "element = vegetable_weights[3]\n",
    "\n",
    "# Выведем сумму элементов с индексами 0 и 3;\n",
    "# значение элемента с индексом 3 сохранено в переменной element,\n",
    "# применим эту переменную:\n",
    "print('Сумма значений элементов с индексами 0 и 3:', vegetable_weights[0] + element)\n",
    "\n",
    "# При попытке обратиться к несуществующему элементу \n",
    "# интерпретатор вернёт ошибку.\n",
    "print(vegetable_weights[10])  # IndexError: list index out of range"
   ]
  },
  {
   "cell_type": "markdown",
   "id": "e9d1a6a2",
   "metadata": {},
   "source": [
    "***\n",
    "# Распаковка списка\n",
    "\n",
    "Эта операция позволяет одним выражением присвоить значения элементов списка отдельным переменным. Для распаковки имена переменных перечисляются через запятую, ставится знак равенства и после него указывается имя списка, который надо распаковать.\n",
    "\n",
    "Количество переменных должно соответствовать числу элементов в списке."
   ]
  },
  {
   "cell_type": "code",
   "execution_count": 3,
   "id": "86bb0284",
   "metadata": {},
   "outputs": [
    {
     "name": "stdout",
     "output_type": "stream",
     "text": [
      "1\n",
      "2\n",
      "3\n",
      "[1, 2, 3]\n"
     ]
    }
   ],
   "source": [
    "any_sequence = [1, 2, 3]\n",
    "# Список можно распаковать в набор переменных.\n",
    "# Имена переменных задаёт разработчик.\n",
    "first, second, third = any_sequence\n",
    "\n",
    "# Проверим, что получилось:\n",
    "print(first)\n",
    "print(second)\n",
    "print(third)\n",
    "# А что со списком?\n",
    "print(any_sequence)"
   ]
  },
  {
   "cell_type": "code",
   "execution_count": 4,
   "id": "6a8fdb3f",
   "metadata": {},
   "outputs": [
    {
     "name": "stdout",
     "output_type": "stream",
     "text": [
      "Сорт: Антоновка\n",
      "Морозоустойчивость: True\n"
     ]
    }
   ],
   "source": [
    "apple_info = ['Антоновка', 120, True]\n",
    "\n",
    "apple_sort, apple_yield, apple_frost_resistance = apple_info\n",
    "\n",
    "print('Сорт:', apple_sort)\n",
    "print('Морозоустойчивость:', apple_frost_resistance)"
   ]
  },
  {
   "cell_type": "markdown",
   "id": "e73c57ac",
   "metadata": {},
   "source": [
    "***\n",
    "## Добавление элемента: `list.append(<list>, element)`\n",
    "\n",
    "Добавляет новый элемент в конец списка. Здесь `<list>` — это конкретный список, например, список `vegetables` в приведённом коде."
   ]
  },
  {
   "cell_type": "code",
   "execution_count": 5,
   "id": "06cd7132",
   "metadata": {},
   "outputs": [
    {
     "name": "stdout",
     "output_type": "stream",
     "text": [
      "['Помидоры', 'Огурцы', 'Кабачки', 'Баклажаны']\n"
     ]
    }
   ],
   "source": [
    "vegetables = ['Помидоры', 'Огурцы', 'Кабачки']\n",
    "list.append(vegetables, 'Баклажаны')\n",
    "print(vegetables)\n",
    "# Вывод в терминал: ['Помидоры', 'Огурцы', 'Кабачки', 'Баклажаны']"
   ]
  },
  {
   "cell_type": "markdown",
   "id": "19b87a84",
   "metadata": {},
   "source": [
    "***\n",
    "## Расширение списка: `list.extend(<list_1>, <list_2>)`\n",
    "\n",
    "Добавляет в конец списка `list_1` все элементы списка `list_2`. Список `list_2` сохранится в неизменном виде, а `list_1` изменится."
   ]
  },
  {
   "cell_type": "code",
   "execution_count": 6,
   "id": "0dc3239b",
   "metadata": {},
   "outputs": [
    {
     "name": "stdout",
     "output_type": "stream",
     "text": [
      "['Помидоры', 'Огурцы', 'Кабачки', 'Баклажаны', 10, 15, 5, 12]\n",
      "[10, 15, 5, 12]\n"
     ]
    }
   ],
   "source": [
    "vegetables = ['Помидоры', 'Огурцы', 'Кабачки', 'Баклажаны']\n",
    "vegetables_yields = [10, 15, 5, 12]  # Урожайность овощей.\n",
    "\n",
    "list.extend(vegetables, vegetables_yields)\n",
    "print(vegetables)         # Список изменился.\n",
    "print(vegetables_yields)  # Список не изменился."
   ]
  },
  {
   "cell_type": "markdown",
   "id": "8f1796ba",
   "metadata": {},
   "source": [
    "***\n",
    "## Вставка элемента по индексу: `list.insert(<list>, index, value)`\n",
    "\n",
    "Добавляет элемент со значением `value` на позицию `index`. Как следствие — индексы всех элементов, следующих за новым элементом, увеличатся на единицу."
   ]
  },
  {
   "cell_type": "code",
   "execution_count": 7,
   "id": "d309648a",
   "metadata": {},
   "outputs": [
    {
     "name": "stdout",
     "output_type": "stream",
     "text": [
      "['Помидоры', 'Баклажаны', 'Огурцы', 'Кабачки']\n"
     ]
    }
   ],
   "source": [
    "vegetables = ['Помидоры', 'Огурцы', 'Кабачки']\n",
    "# Индексы:          0        1         2\n",
    "\n",
    "# Добавляем новый элемент на позицию с индексом 1:\n",
    "list.insert(vegetables, 1, 'Баклажаны')\n",
    "print(vegetables)\n",
    "# Вывод в терминал: ['Помидоры', 'Баклажаны', 'Огурцы', 'Кабачки']\n",
    "# Индексы:               0            1          2           3"
   ]
  },
  {
   "cell_type": "markdown",
   "id": "a0911845",
   "metadata": {},
   "source": [
    "***\n",
    "## Удаление элемента: `list.remove(<list>, value)`\n",
    "\n",
    "Читает список слева направо и удаляет первый элемент, значение которого совпадает с аргументом `value`. Если такого элемента нет в списке, возникнет ошибка."
   ]
  },
  {
   "cell_type": "code",
   "execution_count": 10,
   "id": "8ae19152",
   "metadata": {},
   "outputs": [
    {
     "name": "stdout",
     "output_type": "stream",
     "text": [
      "['Помидоры', 'Баклажаны', 'Кабачки']\n"
     ]
    },
    {
     "ename": "ValueError",
     "evalue": "list.remove(x): x not in list",
     "output_type": "error",
     "traceback": [
      "\u001b[1;31m---------------------------------------------------------------------------\u001b[0m",
      "\u001b[1;31mValueError\u001b[0m                                Traceback (most recent call last)",
      "\u001b[1;32m~\\AppData\\Local\\Temp\\ipykernel_22024\\3877003509.py\u001b[0m in \u001b[0;36m<module>\u001b[1;34m\u001b[0m\n\u001b[0;32m      5\u001b[0m \u001b[1;33m\u001b[0m\u001b[0m\n\u001b[0;32m      6\u001b[0m \u001b[1;31m# Попытка удалить несуществующий объект вызовет ошибку.\u001b[0m\u001b[1;33m\u001b[0m\u001b[1;33m\u001b[0m\u001b[0m\n\u001b[1;32m----> 7\u001b[1;33m \u001b[0mlist\u001b[0m\u001b[1;33m.\u001b[0m\u001b[0mremove\u001b[0m\u001b[1;33m(\u001b[0m\u001b[0mvegetables\u001b[0m\u001b[1;33m,\u001b[0m \u001b[1;34m'Патиссоны'\u001b[0m\u001b[1;33m)\u001b[0m\u001b[1;33m\u001b[0m\u001b[1;33m\u001b[0m\u001b[0m\n\u001b[0m\u001b[0;32m      8\u001b[0m \u001b[1;31m# Вывод в терминал: ValueError: list.remove(x): x not in list\u001b[0m\u001b[1;33m\u001b[0m\u001b[1;33m\u001b[0m\u001b[0m\n",
      "\u001b[1;31mValueError\u001b[0m: list.remove(x): x not in list"
     ]
    }
   ],
   "source": [
    "vegetables = ['Помидоры', 'Баклажаны', 'Огурцы', 'Кабачки']\n",
    "list.remove(vegetables, 'Огурцы')\n",
    "print(vegetables)\n",
    "# Вывод в терминал: ['Помидоры', 'Баклажаны', 'Кабачки']\n",
    "\n",
    "# Попытка удалить несуществующий объект вызовет ошибку.\n",
    "list.remove(vegetables, 'Патиссоны')\n",
    "# Вывод в терминал: ValueError: list.remove(x): x not in list"
   ]
  },
  {
   "cell_type": "markdown",
   "id": "e9609de9",
   "metadata": {},
   "source": [
    "***\n",
    "## Извлечение элемента: `list.pop(<list>, index)`\n",
    "\n",
    "Удаляет из списка элемент с индексом `index` и возвращает его. Если индекс не указан — удаляет из списка последний элемент и возвращает его."
   ]
  },
  {
   "cell_type": "code",
   "execution_count": 9,
   "id": "d7f50e33",
   "metadata": {},
   "outputs": [
    {
     "name": "stdout",
     "output_type": "stream",
     "text": [
      "Огурцы\n",
      "['Помидоры', 'Баклажаны', 'Кабачки']\n"
     ]
    }
   ],
   "source": [
    "vegetables = ['Помидоры', 'Баклажаны', 'Огурцы', 'Кабачки']\n",
    "vegetable = list.pop(vegetables, 2)\n",
    "print(vegetable)\n",
    "# Вывод в терминал: Огурцы\n",
    "\n",
    "print(vegetables)\n",
    "# Вывод в терминал: ['Помидоры', 'Баклажаны', 'Кабачки']\n",
    "# Элемент 'Огурцы' удалён из списка."
   ]
  },
  {
   "cell_type": "markdown",
   "id": "92f21fc2",
   "metadata": {},
   "source": [
    "***\n",
    "## Индекс элемента: `list.index(<list>, value, start, end)`\n",
    "\n",
    "Читает список слева направо и **возвращает** индекс первого найденного элемента со значением `value`. Диапазон поиска можно ограничить индексами `start` и `end`, но это не обязательно.\n",
    "\n",
    "Если элемент с заданным значением не найден, возникнет ошибка `ValueError`."
   ]
  },
  {
   "cell_type": "code",
   "execution_count": 11,
   "id": "bc1f0359",
   "metadata": {},
   "outputs": [
    {
     "name": "stdout",
     "output_type": "stream",
     "text": [
      "2\n"
     ]
    }
   ],
   "source": [
    "vegetables_yields = [10, 15, 5, 12, 5, 7]\n",
    "result = list.index(vegetables_yields, 5)\n",
    "print(result)\n",
    "# Вывод в терминал: 2 - это индекс первого найденного элемента со значением 5.\n",
    "# Возвращается только индекс первого найденного элемента: на вторую пятёрку\n",
    "# функция не обратила внимания."
   ]
  },
  {
   "cell_type": "markdown",
   "id": "4dcbd0c6",
   "metadata": {},
   "source": [
    "***\n",
    "## Подсчёт количества: `list.count(<list>, value)`\n",
    "\n",
    "Возвращает количество элементов со значением `value`."
   ]
  },
  {
   "cell_type": "code",
   "execution_count": 12,
   "id": "21ced0d8",
   "metadata": {},
   "outputs": [
    {
     "name": "stdout",
     "output_type": "stream",
     "text": [
      "3\n"
     ]
    }
   ],
   "source": [
    "yields = [10, 12, 15, 10, 8, 10]\n",
    "quantity = list.count(yields, 10)\n",
    "print(quantity)\n",
    "# Вывод в терминал: 3"
   ]
  },
  {
   "cell_type": "markdown",
   "id": "d9ceddb1",
   "metadata": {},
   "source": [
    "***\n",
    "## Сортировка списка: `list.sort(<list>)`\n",
    "\n",
    "Сортирует список. У этой команды есть необязательный параметр `reverse`, который определяет направление сортировки. По умолчанию `reverse=False`, элементы сортируются «по возрастанию», от меньшего к большему."
   ]
  },
  {
   "cell_type": "code",
   "execution_count": 13,
   "id": "43700711",
   "metadata": {},
   "outputs": [
    {
     "name": "stdout",
     "output_type": "stream",
     "text": [
      "[8, 10, 10, 10, 12, 15]\n"
     ]
    }
   ],
   "source": [
    "yields = [10, 12, 15, 10, 8, 10]\n",
    "list.sort(yields)\n",
    "print(yields)\n",
    "# Вывод в терминал: [8, 10, 10, 10, 12, 15]"
   ]
  },
  {
   "cell_type": "markdown",
   "id": "9677f363",
   "metadata": {},
   "source": [
    "***\n",
    "## Инвертирование списка: `list.reverse(<list>)`\n",
    "\n",
    "Инвертирует список. Это означает изменить порядок его элементов на противоположный. То есть последний элемент становится первым, предпоследний — вторым, и так далее, до тех пор, пока весь список не будет перевернут."
   ]
  },
  {
   "cell_type": "code",
   "execution_count": 14,
   "id": "08a88cb2",
   "metadata": {},
   "outputs": [
    {
     "name": "stdout",
     "output_type": "stream",
     "text": [
      "[10, 8, 11, 15, 12, 4]\n"
     ]
    }
   ],
   "source": [
    "yields = [4, 12, 15, 11, 8, 10]\n",
    "\n",
    "# Функцией list.reverse() переворачиваем список задом наперёд:\n",
    "list.reverse(yields)\n",
    "\n",
    "print(yields)\n",
    "# Вывод в терминал: [10, 8, 11, 15, 12, 4]"
   ]
  },
  {
   "cell_type": "markdown",
   "id": "42befa2d",
   "metadata": {},
   "source": [
    "***\n",
    "## Копирование списка: `list.copy(<list>)`\n",
    "\n",
    "Возвращает новый список, независимую копию исходного списка. Слова «независимая копия» означают, что если в дальнейшем изменить один из двух списков, то второй не изменится."
   ]
  },
  {
   "cell_type": "code",
   "execution_count": 21,
   "id": "de3cf64b",
   "metadata": {},
   "outputs": [
    {
     "name": "stdout",
     "output_type": "stream",
     "text": [
      "[8, 10, 10, 10, 12, 15]\n",
      "2455707969280 \n",
      "\n",
      "[10, 12, 15, 10, 8, 10]\n",
      "2455708657728\n"
     ]
    }
   ],
   "source": [
    "yields = [10, 12, 15, 10, 8, 10]\n",
    "yields_copy = list.copy(yields)\n",
    "\n",
    "# Применим сортировку к исходному списку\n",
    "list.sort(yields)\n",
    "print(yields)\n",
    "print(id(yields), '\\n')\n",
    "# Вывод в терминал: [8, 10, 10, 10, 12, 15]\n",
    "\n",
    "# Проверим, изменилась ли копия:\n",
    "print(yields_copy)\n",
    "print(id(yields_copy))\n",
    "# Вывод в терминал: [10, 12, 15, 10, 8, 10]\n",
    "# Список-копия остался неотсортированным."
   ]
  },
  {
   "cell_type": "markdown",
   "id": "78c201bb",
   "metadata": {},
   "source": [
    "> А вот если переменной `yields_copy` присвоить значение `yields`, копия не будет создана, обе переменные будут ссылаться на один список."
   ]
  },
  {
   "cell_type": "code",
   "execution_count": 22,
   "id": "005202d2",
   "metadata": {},
   "outputs": [
    {
     "name": "stdout",
     "output_type": "stream",
     "text": [
      "[8, 10, 10, 10, 12, 15]\n"
     ]
    }
   ],
   "source": [
    "yields = [10, 12, 15, 10, 8, 10]\n",
    "yields_copy = yields\n",
    "# Применим сортировку к списку yields\n",
    "list.sort(yields)\n",
    "\n",
    "# Напечатаем значение переменной yields_copy:\n",
    "print(yields_copy)\n",
    "# Вывод в терминал: [8, 10, 10, 10, 12, 15]\n",
    "# yields_copy - тот же список, что и yields.\n",
    "# Две переменные ссылаются на одно и то же значение!"
   ]
  },
  {
   "cell_type": "markdown",
   "id": "cc37bd73",
   "metadata": {},
   "source": [
    "***\n",
    "## Очистка списка: `list.clear(<list>)`\n",
    "\n",
    "Очищает список, удаляет из него все элементы."
   ]
  },
  {
   "cell_type": "code",
   "execution_count": 23,
   "id": "30e7c610",
   "metadata": {},
   "outputs": [
    {
     "name": "stdout",
     "output_type": "stream",
     "text": [
      "[]\n"
     ]
    }
   ],
   "source": [
    "yields = [10, 12, 15, 10, 8, 10]\n",
    "list.clear(yields)\n",
    "print(yields)\n",
    "# Вывод в терминал: []"
   ]
  }
 ],
 "metadata": {
  "kernelspec": {
   "display_name": "Python 3 (ipykernel)",
   "language": "python",
   "name": "python3"
  },
  "language_info": {
   "codemirror_mode": {
    "name": "ipython",
    "version": 3
   },
   "file_extension": ".py",
   "mimetype": "text/x-python",
   "name": "python",
   "nbconvert_exporter": "python",
   "pygments_lexer": "ipython3",
   "version": "3.9.13"
  }
 },
 "nbformat": 4,
 "nbformat_minor": 5
}
