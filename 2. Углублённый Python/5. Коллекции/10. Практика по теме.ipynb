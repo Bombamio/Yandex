{
 "cells": [
  {
   "cell_type": "markdown",
   "id": "e0378a7d",
   "metadata": {},
   "source": [
    "# Задача №1"
   ]
  },
  {
   "cell_type": "code",
   "execution_count": 24,
   "id": "53a1c4b4",
   "metadata": {},
   "outputs": [
    {
     "name": "stdout",
     "output_type": "stream",
     "text": [
      "Вы в тройке победителей!\n",
      "Вы не попали в тройку победителей.\n",
      "Вы не попали в тройку победителей.\n"
     ]
    }
   ],
   "source": [
    "# Объявите функцию check_winners с параметрами scores и student_score.\n",
    "# Функция должна напечатать результат в заданном формате.\n",
    "def check_winners(scores, student_score):\n",
    "    scores.sort(reverse = True)\n",
    "    if scores.index(student_score) == 0 or scores.index(student_score) == 1 or scores.index(student_score) == 2:\n",
    "        print('Вы в тройке победителей!')\n",
    "    else:\n",
    "        print('Вы не попали в тройку победителей.')\n",
    "\n",
    "\n",
    "# Вызовы для проверки работы функции check_winners().\n",
    "# Три набора данных - для проверки разных ситуаций.\n",
    "first_olympiad_scores = [20, 48, 52, 38, 36, 13, 7, 41, 34, 24, 5, 51, 9, 14, 28, 42, 40, 39, 1, 45, 37, 10, 31, 27, 17, 46, 2, 22, 35, 55]\n",
    "check_winners(first_olympiad_scores, 52)\n",
    "\n",
    "second_olympiad_scores = [22, 4, 42, 5, 54, 28, 19, 33, 8, 16, 23, 40, 39, 58, 9, 13, 48, 2, 51, 41, 21, 36, 55, 25, 31, 45, 44, 30, 1, 10]\n",
    "check_winners(second_olympiad_scores, 4)\n",
    "\n",
    "third_olympiad_scores = [36, 1, 49, 27, 8, 23, 13, 56, 46, 33, 45, 30, 16, 11, 41, 19, 43, 54, 39, 38, 40, 48, 34, 26, 5, 28, 21, 3, 51, 44]\n",
    "check_winners(third_olympiad_scores, 21)"
   ]
  },
  {
   "cell_type": "code",
   "execution_count": 22,
   "id": "c55d7a97",
   "metadata": {},
   "outputs": [
    {
     "name": "stdout",
     "output_type": "stream",
     "text": [
      "[55, 52, 51, 48, 46, 45, 42, 41, 40, 39, 38, 37, 36, 35, 34, 31, 28, 27, 24, 22, 20, 17, 14, 13, 10, 9, 7, 5, 2, 1]\n",
      "0\n",
      "29\n",
      "20\n",
      "Вы не попали в тройку победителей.\n"
     ]
    }
   ],
   "source": [
    "first_olympiad_scores = [20, 48, 52, 38, 36, 13, 7, 41, 34, 24, 5, 51, 9, 14, 28, 42, 40, 39, 1, 45, 37, 10, 31, 27, 17, 46, 2, 22, 35, 55]\n",
    "first_olympiad_scores.sort(reverse = True)\n",
    "print(first_olympiad_scores)\n",
    "print(first_olympiad_scores.index(55))\n",
    "print(list.index(first_olympiad_scores,1))\n",
    "\n",
    "if first_olympiad_scores.index(20) == 0 or first_olympiad_scores.index(20) ==  1 or first_olympiad_scores.index(20) ==  2:\n",
    "    print(first_olympiad_scores.index(20))\n",
    "    print('Вы в тройке победителей!')\n",
    "else:\n",
    "    print(first_olympiad_scores.index(20))\n",
    "    print('Вы не попали в тройку победителей.')"
   ]
  },
  {
   "cell_type": "markdown",
   "id": "9e78ff19",
   "metadata": {},
   "source": [
    "***\n",
    "# Задача №2"
   ]
  },
  {
   "cell_type": "code",
   "execution_count": 34,
   "id": "43340cd2",
   "metadata": {},
   "outputs": [
    {
     "name": "stdout",
     "output_type": "stream",
     "text": [
      "Стикеры, которые есть только у Стаса: ('Ада Лавлейс', 'Маргарет Гамильтон')\n",
      "Стикеры, которые есть только у Антона: ('Гвидо ван Россум', 'Деннис Ричи', 'Кен Томпсон')\n",
      "Стикеры, которые есть и у Стаса, и у Антона: ('Бьярн Страуструп', 'Линус Торвальдс', 'Тим Бернерс-Ли')\n"
     ]
    }
   ],
   "source": [
    "# Допишите функцию get_stickers_comparison().\n",
    "# Эта функция должна возвращать кортеж из трёх коллекций:\n",
    "# - уникальные_стикеры из collection_1,\n",
    "# - уникальные_стикеры из collection_2,\n",
    "# - стикеры, которые есть в collection_1 и в collection_2.\n",
    "# Все три коллекции должны быть отсортированы по возрастанию.\n",
    "def get_stickers_comparison(collection_1, collection_2):\n",
    "    \n",
    "    list_1 = list(set(collection_1) - set(collection_2))\n",
    "    list_1.sort()\n",
    "    \n",
    "    list_2 = list(set(collection_2) - set(collection_1))\n",
    "    list_2.sort()\n",
    "    \n",
    "    list_3 = list(set(collection_1) & set(collection_2))\n",
    "    list_3.sort()\n",
    "    \n",
    "    return list_1, list_2, list_3\n",
    "\n",
    "# Списки стикеров:\n",
    "stas_collection = ['Тим Бернерс-Ли', 'Линус Торвальдс', 'Ада Лавлейс', 'Линус Торвальдс', 'Маргарет Гамильтон', 'Бьярн Страуструп']\n",
    "anton_collection = ['Тим Бернерс-Ли', 'Гвидо ван Россум', 'Линус Торвальдс', 'Бьярн Страуструп', 'Бьярн Страуструп', 'Кен Томпсон', 'Деннис Ричи']\n",
    "\n",
    "# Вызываем функцию и распаковываем полученный кортеж в три переменные:\n",
    "stas_stickers, anton_stickers, common_stickers = get_stickers_comparison(stas_collection, anton_collection)\n",
    "# Печатаем результаты:\n",
    "print('Стикеры, которые есть только у Стаса:', stas_stickers)\n",
    "print('Стикеры, которые есть только у Антона:', anton_stickers)\n",
    "print('Стикеры, которые есть и у Стаса, и у Антона:', common_stickers)"
   ]
  },
  {
   "cell_type": "code",
   "execution_count": 33,
   "id": "09f80c57",
   "metadata": {},
   "outputs": [
    {
     "name": "stdout",
     "output_type": "stream",
     "text": [
      "('Ада Лавлейс', 'Маргарет Гамильтон')\n"
     ]
    }
   ],
   "source": [
    "stas_collection = ['Тим Бернерс-Ли', 'Линус Торвальдс', 'Ада Лавлейс', 'Линус Торвальдс', 'Маргарет Гамильтон', 'Бьярн Страуструп']\n",
    "anton_collection = ['Тим Бернерс-Ли', 'Гвидо ван Россум', 'Линус Торвальдс', 'Бьярн Страуструп', 'Бьярн Страуструп', 'Кен Томпсон', 'Деннис Ричи']\n",
    "\n",
    "\n",
    "tuple_1 = list(set(stas_collection) - set(anton_collection))\n",
    "tuple_1.sort()\n",
    "print(tuple(tuple_1))"
   ]
  },
  {
   "cell_type": "markdown",
   "id": "f48fae24",
   "metadata": {},
   "source": [
    "***\n",
    "# Задача №3"
   ]
  },
  {
   "cell_type": "code",
   "execution_count": 41,
   "id": "ba13b595",
   "metadata": {},
   "outputs": [
    {
     "name": "stdout",
     "output_type": "stream",
     "text": [
      "True\n",
      "False\n"
     ]
    }
   ],
   "source": [
    "def is_palindrome(text):\n",
    "    # Ваш код здесь\n",
    "    text = text.lower()\n",
    "    text_changed = text.replace(' ', '')\n",
    "    if text_changed == text_changed[::-1]:\n",
    "        return True\n",
    "    else:\n",
    "        return False\n",
    "    \n",
    "\n",
    "# Должно быть напечатано True:\n",
    "print(is_palindrome('А роза упала на лапу Азора'))\n",
    "# Должно быть напечатано False:\n",
    "print(is_palindrome('Не палиндром'))"
   ]
  },
  {
   "cell_type": "code",
   "execution_count": 40,
   "id": "ee5e3558",
   "metadata": {},
   "outputs": [
    {
     "name": "stdout",
     "output_type": "stream",
     "text": [
      "арозАупаланалапуазорА\n"
     ]
    }
   ],
   "source": [
    "text = 'А роза упала на лапу Азора'\n",
    "text.lower()\n",
    "text_changed = text.replace(' ', '')\n",
    "\n",
    "print(text_changed[::-1])"
   ]
  },
  {
   "cell_type": "markdown",
   "id": "dc04650f",
   "metadata": {},
   "source": [
    "***\n",
    "# Задача №4"
   ]
  },
  {
   "cell_type": "code",
   "execution_count": 54,
   "id": "12cb926b",
   "metadata": {},
   "outputs": [
    {
     "name": "stdout",
     "output_type": "stream",
     "text": [
      "Выборка: [150.3, 155, 160.4, 162.7, 163, 168.9, 170, 179.1]\n"
     ]
    }
   ],
   "source": [
    "from decimal import Decimal\n",
    "\n",
    "def get_selection(collection):\n",
    "    min_heights = int(len(collection) * 0.1)\n",
    "    max_heights = int(len(collection) * 0.9)\n",
    "    \n",
    "    return collection[min_heights:max_heights]  # Верните требуемый список.\n",
    "\n",
    "\n",
    "heights = [140.1, 150.3, 155, 160.4, 162.7, 163, 168.9, 170, 179.1, 180]\n",
    "selection = get_selection(heights)\n",
    "print('Выборка:', selection)\n",
    "\n",
    "# Ожидаемый вывод на печать:\n",
    "# Выборка: [150.3, 155, 160.4, 162.7, 163, 168.9, 170, 179.1]"
   ]
  },
  {
   "cell_type": "code",
   "execution_count": 53,
   "id": "4268f1e8",
   "metadata": {},
   "outputs": [
    {
     "name": "stdout",
     "output_type": "stream",
     "text": [
      "[150.3, 155, 160.4, 162.7, 163, 168.9, 170, 179.1]\n"
     ]
    }
   ],
   "source": [
    "\n",
    "heights = [140.1, 150.3, 155, 160.4, 162.7, 163, 168.9, 170, 179.1, 180]\n",
    "max_heights = int(len(heights) * 0.9)\n",
    "\n",
    "\n",
    "\n",
    "min_heights = int(len(heights) * 0.1)\n",
    "print(heights[min_heights:max_heights])\n"
   ]
  },
  {
   "cell_type": "code",
   "execution_count": null,
   "id": "166cc529",
   "metadata": {},
   "outputs": [],
   "source": []
  }
 ],
 "metadata": {
  "kernelspec": {
   "display_name": "Python 3 (ipykernel)",
   "language": "python",
   "name": "python3"
  },
  "language_info": {
   "codemirror_mode": {
    "name": "ipython",
    "version": 3
   },
   "file_extension": ".py",
   "mimetype": "text/x-python",
   "name": "python",
   "nbconvert_exporter": "python",
   "pygments_lexer": "ipython3",
   "version": "3.9.13"
  }
 },
 "nbformat": 4,
 "nbformat_minor": 5
}
