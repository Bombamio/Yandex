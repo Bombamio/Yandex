{
 "cells": [
  {
   "cell_type": "code",
   "execution_count": 1,
   "id": "ee1fa4db",
   "metadata": {},
   "outputs": [
    {
     "name": "stdout",
     "output_type": "stream",
     "text": [
      "15\n",
      "300\n",
      "900\n",
      "Не могу вычислить, операция ¯\\_(ツ)_/¯ не предусмотрена!\n"
     ]
    },
    {
     "name": "stderr",
     "output_type": "stream",
     "text": [
      "<>:21: SyntaxWarning: invalid escape sequence '\\_'\n",
      "<>:21: SyntaxWarning: invalid escape sequence '\\_'\n",
      "C:\\Users\\iliae\\AppData\\Local\\Temp\\ipykernel_24388\\2533262039.py:21: SyntaxWarning: invalid escape sequence '\\_'\n",
      "  print(stas_ai_blockchain_calc('¯\\_(ツ)_/¯', 10, 2))\n"
     ]
    }
   ],
   "source": [
    "def stas_ai_blockchain_calc(operation, first, second):\n",
    "    if operation == '+':\n",
    "        result = first + second\n",
    "    elif operation == '-':\n",
    "        result = first - second\n",
    "    elif operation == '*':\n",
    "        result = first * second\n",
    "    elif operation == '/':\n",
    "        result = first / second\n",
    "    elif operation == '**':\n",
    "        result = first ** second\n",
    "    else:\n",
    "        return f'Не могу вычислить, операция {operation} не предусмотрена!'\n",
    "    return result\n",
    "\n",
    "\n",
    "print(stas_ai_blockchain_calc('+', 5, 10))   # Складываем.\n",
    "print(stas_ai_blockchain_calc('*', 30, 10))  # Умножаем.\n",
    "print(stas_ai_blockchain_calc('**', 30, 2))  # Возводим в степень.\n",
    "# Ломаем, передав неизвестный указатель.\n",
    "print(stas_ai_blockchain_calc('¯\\_(ツ)_/¯', 10, 2))"
   ]
  },
  {
   "cell_type": "markdown",
   "id": "ba61d9fd",
   "metadata": {},
   "source": [
    "***\n",
    "## Передаём функцию как аргумент другой функции\n",
    "\n",
    "Проведём эксперимент на примере операции сложения. Создадим отдельную функцию для сложения, передадим её в функцию-калькулятор. Внутри функции-калькулятора вызовем её и передадим в неё два аргумента — числа, над которыми требуется выполнить заданное действие.\n",
    "\n",
    "> В тех случаях, когда нужно **передать** функцию как объект, после названия функции скобки не ставятся. Если поставить скобки — функция будет **вызвана**."
   ]
  },
  {
   "cell_type": "code",
   "execution_count": 2,
   "id": "21686ec8",
   "metadata": {},
   "outputs": [
    {
     "name": "stdout",
     "output_type": "stream",
     "text": [
      "25\n"
     ]
    }
   ],
   "source": [
    "# Объявляем функцию, которая принимает два числа и возвращает их сумму:\n",
    "def operation_plus(a, b):\n",
    "    return a + b\n",
    "\n",
    "\n",
    "# Объявляем функцию-калькулятор, которая принимает функцию и два числа:\n",
    "def calc(func, first, second):\n",
    "    # Вызываем функцию, переданную в аргументах.\n",
    "    # Передаём в неё два числа, которые тоже получены в аргументах.\n",
    "    # Возвращаем результат работы полученной функции.\n",
    "    return func(first, second)\n",
    "\n",
    "\n",
    "# Вызываем функцию-калькулятор, передаём в неё функцию operation_plus()\n",
    "# и два числа, которые надо сложить.\n",
    "result = calc(operation_plus, 10, 15)  # Имя передаваемой функции - без скобок!\n",
    "\n",
    "# Напечатаем результат:\n",
    "print(result)"
   ]
  },
  {
   "cell_type": "markdown",
   "id": "74db6c8e",
   "metadata": {},
   "source": [
    "***\n",
    "## Лямбда-функции\n",
    "\n",
    "Лямбда-функции — это безымянные, «анонимные» функции в Python. Для объявления такой функции используется ключевое слово `lambda`. Как и обычные функции, лямбда-функции могут принимать параметры.\n",
    "\n",
    "В общем виде синтаксис объявления лямбда-функции выглядит так:"
   ]
  },
  {
   "cell_type": "code",
   "execution_count": null,
   "id": "6a145506",
   "metadata": {},
   "outputs": [],
   "source": [
    "lambda параметры_через_запятую: выполняемое_функцией_выражение"
   ]
  },
  {
   "cell_type": "markdown",
   "id": "d770c845",
   "metadata": {},
   "source": [
    "Лямбда-функции очень похожи на обычные функции в Python. Например, обычную функцию с одним действием тоже можно объявить в одну строку:"
   ]
  },
  {
   "cell_type": "code",
   "execution_count": null,
   "id": "74736de0",
   "metadata": {},
   "outputs": [],
   "source": [
    "def имя_функции(параметры_через_запятую): выполняемое_функцией_выражение"
   ]
  },
  {
   "cell_type": "markdown",
   "id": "5f591d34",
   "metadata": {},
   "source": [
    "Разница заключается в том, что:\n",
    "\n",
    "* Обычные функции определяются с помощью ключевого слова `def`, после которого указывается имя. Лямбда-функции объявляются ключевым словом `lambda`, а имена им и вовсе не нужны.\n",
    "* В лямбда-функциях можно использовать только одно выражение.\n",
    "* Лямбда-функция автоматически возвращает значение того выражения, которое содержит; в лямбда-функциях не требуется ключевое слово `return`.\n",
    "\n",
    "Выражениями в лямбда-функциях могут быть, например:\n",
    "\n",
    "* арифметические и логические операции, такие как `a + b` и `a > b`;\n",
    "* вызовы других функций, например `sum(a, b)`.\n",
    "\n",
    "В приведённом коде определена лямбда-функция с параметрами `x` и `y`, она возвращает произведение аргументов."
   ]
  },
  {
   "cell_type": "code",
   "execution_count": 3,
   "id": "0f008e59",
   "metadata": {},
   "outputs": [
    {
     "name": "stdout",
     "output_type": "stream",
     "text": [
      "20\n"
     ]
    }
   ],
   "source": [
    "x = lambda x, y: x * y\n",
    "print(x(5, 4))"
   ]
  },
  {
   "cell_type": "markdown",
   "id": "e763e32a",
   "metadata": {},
   "source": [
    "> Аргументы в лямбда-функцию можно передать сразу при объявлении — для этого нужно заключить функцию в скобки, а аргументы записать в той же строке, тоже в скобках:"
   ]
  },
  {
   "cell_type": "code",
   "execution_count": 5,
   "id": "589e03d1",
   "metadata": {},
   "outputs": [
    {
     "name": "stdout",
     "output_type": "stream",
     "text": [
      "14\n",
      "14\n"
     ]
    }
   ],
   "source": [
    "x = (lambda x, y: x * y)(2, 7)\n",
    "print(x)\n",
    "print((lambda x, y: x * y)(2, 7))"
   ]
  },
  {
   "cell_type": "code",
   "execution_count": 9,
   "id": "3ec3373f",
   "metadata": {},
   "outputs": [
    {
     "name": "stdout",
     "output_type": "stream",
     "text": [
      "15\n",
      "300\n",
      "900\n"
     ]
    }
   ],
   "source": [
    "def calc(func, first, second):\n",
    "    return func(first, second)\n",
    "\n",
    "\n",
    "# Первый аргумент при вызове calc() - это лямбда-функция с нужным выражением:\n",
    "print(calc(lambda a, b: a + b, 5, 10))   # Складываем.\n",
    "print(calc(lambda a, b: a * b, 30, 10))  # Умножаем.\n",
    "print(calc(lambda a, b: a ** b, 30, 2))  # Возводим в степень."
   ]
  },
  {
   "cell_type": "markdown",
   "id": "ec5be74d",
   "metadata": {},
   "source": [
    "***\n",
    "## Когда и где применять лямбда-функции\n",
    "\n",
    "В тех случаях, когда нужна простая функция, которая не будет повторно использоваться, лучше всего подойдёт лямбда-функция.\n",
    "\n",
    "Могут быть и другие основания для применения лямбда-функций:\n",
    "\n",
    "* В функции выполняется понятная и простая операция, и функции не нужно название.\n",
    "* Лямбда-функция делает код понятнее по сравнению с применением обычной функции.\n",
    "* В коде нет именованной функции, которая выполняет необходимую"
   ]
  },
  {
   "cell_type": "markdown",
   "id": "5704cd25",
   "metadata": {},
   "source": [
    "***\n",
    "## Задание 1"
   ]
  },
  {
   "cell_type": "code",
   "execution_count": 12,
   "id": "dcda9156",
   "metadata": {},
   "outputs": [
    {
     "name": "stdout",
     "output_type": "stream",
     "text": [
      "Привет, Антон!\n",
      "Привет, Соня!\n",
      "Привет, Коля!\n",
      "Привет, Женя!\n",
      "Привет, Тоня!\n",
      "Привет, Стёпа!\n",
      "До завтра, Антон!\n",
      "До завтра, Соня!\n",
      "До завтра, Коля!\n",
      "До завтра, Женя!\n",
      "До завтра, Тоня!\n",
      "До завтра, Стёпа!\n"
     ]
    }
   ],
   "source": [
    "people = ['Антон', 'Соня', 'Коля', 'Женя', 'Тоня', 'Стёпа']\n",
    "\n",
    "def say_to_all(func, sequence):\n",
    "    for item in sequence:\n",
    "        func(item)\n",
    "\n",
    "\n",
    "# Этот вызов для каждого имени из списка должен напечатать\n",
    "# строчку Привет, <имя>!\n",
    "say_to_all(lambda a: print(f'Привет, {a}!'), people)\n",
    "# Этот вызов для каждого имени из списка должен напечатать\n",
    "# строчку До завтра, <имя>!\n",
    "say_to_all(lambda a: print(f'До завтра, {a}!'), people)"
   ]
  },
  {
   "cell_type": "markdown",
   "id": "6feb7c64",
   "metadata": {},
   "source": [
    "***\n",
    "## Задание 2"
   ]
  },
  {
   "cell_type": "code",
   "execution_count": 13,
   "id": "9d8f727d",
   "metadata": {},
   "outputs": [
    {
     "name": "stdout",
     "output_type": "stream",
     "text": [
      "Привет, Антон!\n",
      "Здравствуй, Соня!\n",
      "Привет, Коля!\n",
      "Привет, Женя!\n",
      "Привет, Тоня!\n",
      "Здравствуй, Стёпа!\n"
     ]
    }
   ],
   "source": [
    "people = ['Антон', 'Соня', 'Коля', 'Женя', 'Тоня', 'Стёпа']\n",
    "\n",
    "\n",
    "def say_to_all(func, sequence):\n",
    "    for item in sequence:\n",
    "        func(item)\n",
    "\n",
    "\n",
    "say_to_all(lambda a: print(f'Привет, {a}!') if a[0] != 'С' else print(f'Здравствуй, {a}!'), people)"
   ]
  }
 ],
 "metadata": {
  "kernelspec": {
   "display_name": ".venv",
   "language": "python",
   "name": "python3"
  },
  "language_info": {
   "codemirror_mode": {
    "name": "ipython",
    "version": 3
   },
   "file_extension": ".py",
   "mimetype": "text/x-python",
   "name": "python",
   "nbconvert_exporter": "python",
   "pygments_lexer": "ipython3",
   "version": "3.12.7"
  }
 },
 "nbformat": 4,
 "nbformat_minor": 5
}
