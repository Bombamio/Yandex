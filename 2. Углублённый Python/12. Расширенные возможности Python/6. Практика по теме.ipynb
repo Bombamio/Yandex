{
 "cells": [
  {
   "cell_type": "markdown",
   "id": "d26f21c6",
   "metadata": {},
   "source": [
    "## Задание 1"
   ]
  },
  {
   "cell_type": "code",
   "execution_count": 12,
   "id": "e0c6a6be",
   "metadata": {},
   "outputs": [
    {
     "name": "stdout",
     "output_type": "stream",
     "text": [
      "0\n",
      "1\n",
      "1\n",
      "2\n",
      "3\n",
      "5\n",
      "8\n",
      "13\n",
      "21\n",
      "34\n"
     ]
    }
   ],
   "source": [
    "def fib(n):\n",
    "    if n in (1, 2):\n",
    "        return 1\n",
    "    else:\n",
    "        return fib(n - 2) + fib(n - 1)\n",
    "\n",
    "def fibonacci(n):\n",
    "    # Допишите функцию.\n",
    "    for fn in range(n):\n",
    "        if fn == 0:\n",
    "            yield 0\n",
    "\n",
    "        elif fn in (1, 2):\n",
    "            yield 1\n",
    "\n",
    "        else:\n",
    "            yield fib(fn)\n",
    "\n",
    "\n",
    "\n",
    "sequence = fibonacci(10)\n",
    "for number in sequence:\n",
    "    print(number)"
   ]
  },
  {
   "cell_type": "code",
   "execution_count": 57,
   "id": "c29f8762",
   "metadata": {},
   "outputs": [
    {
     "name": "stdout",
     "output_type": "stream",
     "text": [
      "0\n",
      "1\n",
      "1\n",
      "2\n",
      "3\n",
      "5\n",
      "8\n",
      "13\n",
      "21\n",
      "34\n"
     ]
    }
   ],
   "source": [
    "def fibonacci(n):\n",
    "    # Допишите функцию.\n",
    "    num = 0\n",
    "    num2 = 1\n",
    "    fib_sum = 0\n",
    "    yield num\n",
    "    yield num2\n",
    "    for i in range(n - 2):\n",
    "        fib_sum = num + num2\n",
    "        num = num2\n",
    "        num2 = fib_sum\n",
    "        yield fib_sum\n",
    "\n",
    "\n",
    "sequence = fibonacci(10)\n",
    "for number in sequence:\n",
    "    print(number)"
   ]
  },
  {
   "cell_type": "markdown",
   "id": "2b5b436b",
   "metadata": {},
   "source": [
    "***\n",
    "## Задание 2"
   ]
  },
  {
   "cell_type": "code",
   "execution_count": 20,
   "id": "9ecdfbf5",
   "metadata": {},
   "outputs": [
    {
     "name": "stdout",
     "output_type": "stream",
     "text": [
      "{'name': 'S*******v', 'password': '**********'}\n"
     ]
    }
   ],
   "source": [
    "# Напишите декоратор obfuscator\n",
    "def obfuscator(func):\n",
    "    def wrapper():\n",
    "        result = func()\n",
    "        result['name'] = result['name'][0] + '*' * (len(result['name']) - 2) + result['name'][-1]\n",
    "        result['password'] = len(result['password']) * '*'\n",
    "        return result\n",
    "    \n",
    "    return wrapper\n",
    "\n",
    "@obfuscator\n",
    "def get_credentials():\n",
    "    return {\n",
    "        'name': 'StasBasov',\n",
    "        'password': 'iamthebest'\n",
    "    }\n",
    "\n",
    "\n",
    "print(get_credentials())"
   ]
  },
  {
   "cell_type": "markdown",
   "id": "55622057",
   "metadata": {},
   "source": [
    "***\n",
    "## Задание 3"
   ]
  },
  {
   "cell_type": "code",
   "execution_count": null,
   "id": "0537ace0",
   "metadata": {},
   "outputs": [
    {
     "name": "stdout",
     "output_type": "stream",
     "text": [
      "@1admin_nestas_anonymous\n"
     ]
    }
   ],
   "source": [
    "from typing import Optional\n",
    "\n",
    "\n",
    "class User:\n",
    "    def __init__(\n",
    "            self,\n",
    "            first_name: str | None = None,\n",
    "            last_name: str | None = None,\n",
    "            username: str | None = None,\n",
    "    ):\n",
    "        if not first_name and not last_name and not username:\n",
    "            raise ValueError('Необходимо указать параметры пользователя')\n",
    "\n",
    "        self.first_name = first_name\n",
    "        self.last_name = last_name\n",
    "        self.username = username\n",
    "\n",
    "    # Опишите метод класса with_name.\n",
    "    @classmethod\n",
    "    def with_name(\n",
    "            cls,\n",
    "\t\t    first_name: str,\n",
    "            last_name: str,\n",
    "    ):\n",
    "        return User(first_name = first_name, last_name = last_name)\n",
    "        \n",
    "\n",
    "    # Опишите метод класса with_username.\n",
    "    @classmethod\n",
    "    def with_username(\n",
    "\t\t    cls,\n",
    "            username: str,\n",
    "    ):\n",
    "        if not User.is_username_allowed(username):\n",
    "            raise ValueError('Некорректное имя пользователя')\n",
    "        return User(username = username)\n",
    "\n",
    "\n",
    "\n",
    "    # Опишите статический метод класса is_username_allowed.\n",
    "    @staticmethod\n",
    "    def is_username_allowed(username: str):\n",
    "        return False if username.find('admin') == 0 else True\n",
    "\n",
    "    # Опишите метод-свойство full_name.\n",
    "    @property\n",
    "    def full_name(self):\n",
    "        if self.username:\n",
    "            return f'@{self.username}'\n",
    "        elif self.first_name and self.last_name:\n",
    "            return f'{self.first_name} {self.last_name}'\n",
    "\n",
    "\n",
    "stas = User.with_name('Стас', 'Басов')\n",
    "print(stas.full_name)\n",
    "\n",
    "# Попробуем создать пользователя с \"запрещённым\" именем.\n",
    "# ne_stas = User.with_username('admin_nestas_anonymous')"
   ]
  }
 ],
 "metadata": {
  "kernelspec": {
   "display_name": ".venv",
   "language": "python",
   "name": "python3"
  },
  "language_info": {
   "codemirror_mode": {
    "name": "ipython",
    "version": 3
   },
   "file_extension": ".py",
   "mimetype": "text/x-python",
   "name": "python",
   "nbconvert_exporter": "python",
   "pygments_lexer": "ipython3",
   "version": "3.12.7"
  }
 },
 "nbformat": 4,
 "nbformat_minor": 5
}
