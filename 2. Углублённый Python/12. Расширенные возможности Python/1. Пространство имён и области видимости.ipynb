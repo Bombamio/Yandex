{
 "cells": [
  {
   "cell_type": "code",
   "execution_count": 1,
   "id": "e30eb5e2",
   "metadata": {},
   "outputs": [
    {
     "name": "stdout",
     "output_type": "stream",
     "text": [
      "Внутри функции: 5\n",
      "Снаружи функции: 10\n"
     ]
    }
   ],
   "source": [
    "my_var = 10\n",
    "\n",
    "\n",
    "def my_function():\n",
    "    my_var = 5\n",
    "    print('Внутри функции:', my_var)\n",
    "\n",
    "\n",
    "my_function()\n",
    "print('Снаружи функции:', my_var)"
   ]
  },
  {
   "cell_type": "markdown",
   "id": "109f82ac",
   "metadata": {},
   "source": [
    "Первая из двух переменных, та, что `my_var = 10`, объявлена прямо в теле программы (не в классе, не в функции и не в какой-нибудь другой вложенной конструкции). Она принадлежит **глобальному** пространству имён; это **глобальная** переменная.\n",
    "\n",
    "Вторая переменная, `my_var = 5`, объявлена внутри функции, она «спрятана» внутри функции, в **локальном** пространстве. Это **локальная** переменная.\n",
    "\n",
    "**Пространство имён** — это среда, в которой каждое имя (например, имя переменной, функции или класса) сопоставляется с уникальным объектом. Другими словами, пространство имён — это своего рода словарь, где ключами являются имена переменных, а значениями — объекты, на которые эти имена ссылаются.\n",
    "В Python существуют различные пространства имён: \n",
    "\n",
    "* встроенное (built-in),\n",
    "* глобальное (global),\n",
    "* локальное (local)."
   ]
  },
  {
   "cell_type": "markdown",
   "id": "899878e5",
   "metadata": {},
   "source": [
    "***\n",
    "## Встроенное пространство имён\n",
    "\n",
    "Встроенное пространство имён содержит имена всех встроенных объектов, которые доступны при работе в Python. Получить список всех объектов во встроенном пространстве можно при помощи команды `dir(__builtins__)`."
   ]
  },
  {
   "cell_type": "code",
   "execution_count": 2,
   "id": "cb26ebaf",
   "metadata": {},
   "outputs": [
    {
     "name": "stdout",
     "output_type": "stream",
     "text": [
      "['ArithmeticError', 'AssertionError', 'AttributeError', 'BaseException', 'BaseExceptionGroup', 'BlockingIOError', 'BrokenPipeError', 'BufferError', 'BytesWarning', 'ChildProcessError', 'ConnectionAbortedError', 'ConnectionError', 'ConnectionRefusedError', 'ConnectionResetError', 'DeprecationWarning', 'EOFError', 'Ellipsis', 'EncodingWarning', 'EnvironmentError', 'Exception', 'ExceptionGroup', 'False', 'FileExistsError', 'FileNotFoundError', 'FloatingPointError', 'FutureWarning', 'GeneratorExit', 'IOError', 'ImportError', 'ImportWarning', 'IndentationError', 'IndexError', 'InterruptedError', 'IsADirectoryError', 'KeyError', 'KeyboardInterrupt', 'LookupError', 'MemoryError', 'ModuleNotFoundError', 'NameError', 'None', 'NotADirectoryError', 'NotImplemented', 'NotImplementedError', 'OSError', 'OverflowError', 'PendingDeprecationWarning', 'PermissionError', 'ProcessLookupError', 'RecursionError', 'ReferenceError', 'ResourceWarning', 'RuntimeError', 'RuntimeWarning', 'StopAsyncIteration', 'StopIteration', 'SyntaxError', 'SyntaxWarning', 'SystemError', 'SystemExit', 'TabError', 'TimeoutError', 'True', 'TypeError', 'UnboundLocalError', 'UnicodeDecodeError', 'UnicodeEncodeError', 'UnicodeError', 'UnicodeTranslateError', 'UnicodeWarning', 'UserWarning', 'ValueError', 'Warning', 'WindowsError', 'ZeroDivisionError', '__IPYTHON__', '__build_class__', '__debug__', '__doc__', '__import__', '__loader__', '__name__', '__package__', '__spec__', 'abs', 'aiter', 'all', 'anext', 'any', 'ascii', 'bin', 'bool', 'breakpoint', 'bytearray', 'bytes', 'callable', 'chr', 'classmethod', 'compile', 'complex', 'copyright', 'credits', 'delattr', 'dict', 'dir', 'display', 'divmod', 'enumerate', 'eval', 'exec', 'execfile', 'filter', 'float', 'format', 'frozenset', 'get_ipython', 'getattr', 'globals', 'hasattr', 'hash', 'help', 'hex', 'id', 'input', 'int', 'isinstance', 'issubclass', 'iter', 'len', 'license', 'list', 'locals', 'map', 'max', 'memoryview', 'min', 'next', 'object', 'oct', 'open', 'ord', 'pow', 'print', 'property', 'range', 'repr', 'reversed', 'round', 'runfile', 'set', 'setattr', 'slice', 'sorted', 'staticmethod', 'str', 'sum', 'super', 'tuple', 'type', 'vars', 'zip']\n"
     ]
    }
   ],
   "source": [
    "print(dir(__builtins__))"
   ]
  },
  {
   "cell_type": "markdown",
   "id": "01339e3b",
   "metadata": {},
   "source": [
    "Этот список содержит все функции и объекты, которые доступны в Python «из коробки».\n",
    "\n",
    "Встроенное пространство имён создаётся при запуске интерпретатора Python и сохраняется до тех пор, пока интерпретатор не завершит работу.\n",
    "\n",
    "***\n",
    "## Глобальное пространство имён\n",
    "\n",
    "Глобальное пространство содержит имена, определённые на уровне модуля."
   ]
  },
  {
   "cell_type": "code",
   "execution_count": null,
   "id": "60affa72",
   "metadata": {},
   "outputs": [],
   "source": [
    "# Определяем переменную value в глобальном пространстве имён.\n",
    "value = 'Я в глобальном пространстве имён!'\n",
    "\n",
    "def inner_function():\n",
    "    value = 'А я нет!'"
   ]
  },
  {
   "cell_type": "markdown",
   "id": "0b633335",
   "metadata": {},
   "source": [
    "Глобальное пространство имён создаётся при запуске программы и сохраняется до момента завершения работы интерпретатора.\n",
    "\n",
    "Интерпретатор создаёт глобальное пространство имён и для любого модуля, загружаемого программой при помощи команды `import`.\n",
    "\n",
    "***\n",
    "## Локальное пространство имён\n",
    "\n",
    "При каждом вызове функции или метода, при каждом выполнении спискового или словарного включения, при работе с менеджерами контекста и в других подобных ситуациях Python создаёт новое пространство имён. Это **локальное пространство имён**, оно сохраняется, пока соответствующая конструкция выполняет свою работу.\n",
    "\n",
    "Если объявить одну функцию внутри другой, то при вызове этих функций у внешней функции будет своё локальное пространство имён, а у вложенной — своё. Имя вложенной функции будет принадлежать пространству имён внешней функции."
   ]
  },
  {
   "cell_type": "code",
   "execution_count": 3,
   "id": "67ba9371",
   "metadata": {},
   "outputs": [
    {
     "name": "stdout",
     "output_type": "stream",
     "text": [
      "Старт функции outer_function()\n",
      "Старт функции inner_function()\n",
      "Завершение функции inner_function()\n",
      "Завершение функции outer_function()\n"
     ]
    }
   ],
   "source": [
    "def outer_function():\n",
    "    print('Старт функции outer_function()')\n",
    "\n",
    "    def inner_function():\n",
    "        print('Старт функции inner_function()')\n",
    "        print('Завершение функции inner_function()')\n",
    "\n",
    "    inner_function()\n",
    "    print('Завершение функции outer_function()')\n",
    "\n",
    "\n",
    "outer_function()"
   ]
  },
  {
   "cell_type": "markdown",
   "id": "04946639",
   "metadata": {},
   "source": [
    "Эти локальные пространства существуют до тех пор, пока выполняются соответствующие им функции. По завершении работы этих функций Python может не сразу удалить пространства имён из памяти, но все ссылки на содержащиеся в них объекты станут недоступны немедленно.\n",
    "\n",
    "***\n",
    "## Области видимости переменной\n",
    "\n",
    "В разных пространствах имён могут одновременно существовать несколько разных переменных с одинаковыми именами. Пока каждая из них находится в собственном пространстве, все они обслуживаются по отдельности, и путаницы не происходит. Чтобы обратиться к нужной, применяется концепция «области видимости переменной».\n",
    "\n",
    "**Области видимости** определяют, какие пространства имён доступны для поиска нужного имени.\n",
    "\n",
    "Область видимости определяется местом в коде, из которого запрошено имя. Область видимости может быть локальной, охватывающей, глобальной или встроенной."
   ]
  },
  {
   "cell_type": "markdown",
   "id": "40fbfc69",
   "metadata": {},
   "source": [
    "1. **Локальная область видимости**. Если сослаться на какую-то переменную, то интерпретатор сначала будет искать её в локальном пространстве имён, которое относится к текущему функциональному блоку."
   ]
  },
  {
   "cell_type": "code",
   "execution_count": null,
   "id": "c0398589",
   "metadata": {},
   "outputs": [
    {
     "name": "stdout",
     "output_type": "stream",
     "text": [
      "Локальная value из функции inner_function\n"
     ]
    }
   ],
   "source": [
    "value = 'Глобальная value'\n",
    "\n",
    "def outer_function():\n",
    "    value = 'Локальная value из функции outer_function'\n",
    "\n",
    "    ...\n",
    "\n",
    "    def inner_function():\n",
    "        value = 'Локальная value из функции inner_function'\n",
    "        print(value)  # Обратились к переменной value.\n",
    "        # Сперва ищем это имя в локальном пространстве имён,\n",
    "        # внутри функции inner_function(). Нашли! Печатаем.\n",
    "\n",
    "    inner_function()\n",
    "\n",
    "outer_function()\n"
   ]
  },
  {
   "cell_type": "markdown",
   "id": "33547b1b",
   "metadata": {},
   "source": [
    "2. **Внешняя (охватывающая) область видимости**. Если запрошена переменная, которой нет в локальном пространстве имён, поиск продолжается в охватывающем пространстве."
   ]
  },
  {
   "cell_type": "code",
   "execution_count": null,
   "id": "c6b13e9a",
   "metadata": {},
   "outputs": [
    {
     "name": "stdout",
     "output_type": "stream",
     "text": [
      "Локальная value из функции outer_function\n"
     ]
    }
   ],
   "source": [
    "value = 'Глобальная value'\n",
    "\n",
    "def outer_function():\n",
    "    value = 'Локальная value из функции outer_function'\n",
    "\n",
    "    ...\n",
    "\n",
    "    def inner_function():\n",
    "        # value = 'Локальная value из функции inner_function'\n",
    "        print(value)  # Обратились к переменной value.\n",
    "        # Ищем это имя в локальном пространстве имён - нету!\n",
    "        # Ищем в ближайшем внешнем пространстве имён,\n",
    "        # в локальном пространстве функции outer_function(). Нашли! Печатаем.\n",
    "\n",
    "    inner_function()\n",
    "\n",
    "outer_function()\n"
   ]
  },
  {
   "cell_type": "markdown",
   "id": "2bfe3d0f",
   "metadata": {},
   "source": [
    "3. **Глобальная область видимости**. Если имя не найдено и в охватывающих пространствах имён, интерпретатор начнёт искать его в глобальной области видимости — в глобальном пространстве, которое обычно соответствует уровню модуля."
   ]
  },
  {
   "cell_type": "code",
   "execution_count": null,
   "id": "5e840a33",
   "metadata": {},
   "outputs": [
    {
     "name": "stdout",
     "output_type": "stream",
     "text": [
      "Глобальная value\n"
     ]
    }
   ],
   "source": [
    "value = 'Глобальная value'\n",
    "\n",
    "def outer_function():\n",
    "    # value = 'Локальная value из функции outer_function'\n",
    "\n",
    "    ...\n",
    "\n",
    "    def inner_function():\n",
    "        # value = 'Локальная value из функции inner_function'\n",
    "        print(value)  # Обратились к переменной value.\n",
    "        # Ищем это имя в локальном пространстве имён - нету!\n",
    "        # Ищем в ближайшем внешнем пространстве имён - нету!\n",
    "        # Ищем в глобальном пространстве имён. Нашли! Печатаем.\n",
    "\n",
    "    inner_function()\n",
    "\n",
    "outer_function()\n"
   ]
  },
  {
   "cell_type": "markdown",
   "id": "90467a21",
   "metadata": {},
   "source": [
    "4. **Встроенная**. Если интерпретатор так и не нашёл переменную, он продолжит поиск во встроенном пространстве имён.\n",
    "\n",
    "Если интерпретатор не найдёт имя и во встроенном пространстве имён, будет вызвано исключение `NameError`.\n",
    "\n",
    "Эта последовательность поиска реализует **правила областей видимости LEGB** (Local, Enclosing, Global, Built-in). Поиск имени происходит в пространствах имён, но какие именно пространства имён будут проверены — зависит от текущей области видимости в соответствии с правилом LEGB.\n",
    "\n",
    "***\n",
    "## Инструкция global"
   ]
  },
  {
   "cell_type": "code",
   "execution_count": 7,
   "id": "722dee8b",
   "metadata": {},
   "outputs": [
    {
     "name": "stdout",
     "output_type": "stream",
     "text": [
      "Внутри функции: 5\n",
      "Внутри функции после изменений: 100\n",
      "Снаружи функции: 100\n"
     ]
    }
   ],
   "source": [
    "my_var = 10\n",
    "\n",
    "\n",
    "def my_function():\n",
    "    # Описываем переменную как глобальную...\n",
    "    global my_var\n",
    "    # Теперь глобальную переменную можно обрабатывать прямо внутри функции,\n",
    "    # например - переопределить:\n",
    "    my_var = 5\n",
    "    print('Внутри функции:', my_var)\n",
    "    # ...и снова переопределить:\n",
    "    my_var += 95\n",
    "    print('Внутри функции после изменений:', my_var)\n",
    "\n",
    "\n",
    "my_function()\n",
    "print('Снаружи функции:', my_var)"
   ]
  },
  {
   "cell_type": "markdown",
   "id": "fd2a6f23",
   "metadata": {},
   "source": [
    "Если же при запуске функции не существует глобальной переменной с именем, определённом в объявлении `global`, то инструкция `global` и операция присваивания создадут эту переменную в глобальном пространстве имён.\n",
    "\n",
    "Обратиться к переменной, определённой через `global`, можно только после того, как она определена. Если же сначала обратиться к переменной, а потом объявить её глобальной, возникнет коллизия, и Python выбросит исключение: \n",
    "\n",
    "`SyntaxError: name 'my_var' is used prior to global declaration`"
   ]
  },
  {
   "cell_type": "code",
   "execution_count": 8,
   "id": "9d553bc9",
   "metadata": {},
   "outputs": [
    {
     "ename": "SyntaxError",
     "evalue": "name 'my_var' is used prior to global declaration (4242078642.py, line 7)",
     "output_type": "error",
     "traceback": [
      "  \u001b[36mCell\u001b[39m\u001b[36m \u001b[39m\u001b[32mIn[8]\u001b[39m\u001b[32m, line 7\u001b[39m\n\u001b[31m    \u001b[39m\u001b[31mglobal my_var  # Так ничего хорошего не получится!\u001b[39m\n    ^\n\u001b[31mSyntaxError\u001b[39m\u001b[31m:\u001b[39m name 'my_var' is used prior to global declaration\n"
     ]
    }
   ],
   "source": [
    "my_var = 10\n",
    "\n",
    "def my_function():\n",
    "    # Обращаемся к my_var,\n",
    "    # но она не определена в функции локально.\n",
    "    print(my_var)\n",
    "    global my_var  # Так ничего хорошего не получится!\n",
    "    my_var = 5\n",
    "    print('Внутри функции:', my_var)\n",
    "    my_var += 95\n",
    "    print('Внутри функции после изменений:', my_var)\n",
    "\n",
    "\n",
    "my_function()\n",
    "print('Снаружи функции:', my_var)"
   ]
  },
  {
   "cell_type": "markdown",
   "id": "62c78298",
   "metadata": {},
   "source": [
    "Если же объявления `global my_var` не будет, функция отработает нормально, значение `my_var` будет получено из глобального пространства имён.\n",
    "\n",
    "***\n",
    "## Инструкция nonlocal"
   ]
  },
  {
   "cell_type": "code",
   "execution_count": null,
   "id": "b160068c",
   "metadata": {},
   "outputs": [
    {
     "name": "stdout",
     "output_type": "stream",
     "text": [
      "10\n"
     ]
    }
   ],
   "source": [
    "def outer_function():\n",
    "    value = 10  # Как из вложенной функции добраться до этой переменной?\n",
    "\n",
    "    def inner_function():\n",
    "        # Попытка изменить переменную, объявленную в outer_function()...\n",
    "        value = 20\n",
    "\n",
    "    inner_function()\n",
    "    print(value)  # ...ни к чему не приводит.\n",
    "\n",
    "\n",
    "outer_function()"
   ]
  },
  {
   "cell_type": "markdown",
   "id": "6ddf09df",
   "metadata": {},
   "source": [
    "После присваивания `value = 20` значение `value` во внешнем пространстве имён остаётся равным `10`.\n",
    "\n",
    "В этом примере переменная value со значением 10 определена в локальном пространстве имён функции `outer_function()`. По отношению к функции `inner_function()` **это внешняя** область, и это не глобальное пространство имён.\n",
    "\n",
    "Инструкция `global` не поможет «дотянуться» из тела функции `inner_function()` до переменной, объявленной в `outer_function()`:\n",
    "\n",
    "Обратиться к имени во внешней области можно при помощи ключевого слова `nonlocal`. Переменные, определённые после `nonlocal`, ссылаются на переменные в пространстве имён в **ближайшей внешней области** видимости."
   ]
  },
  {
   "cell_type": "code",
   "execution_count": 10,
   "id": "c0ad2c02",
   "metadata": {},
   "outputs": [
    {
     "name": "stdout",
     "output_type": "stream",
     "text": [
      "20\n"
     ]
    }
   ],
   "source": [
    "def outer_function():\n",
    "    value = 10\n",
    "\n",
    "    def inner_function():\n",
    "        nonlocal value\n",
    "        value = 20\n",
    "\n",
    "    inner_function()\n",
    "    print(value)\n",
    "\n",
    "outer_function()"
   ]
  },
  {
   "cell_type": "markdown",
   "id": "337ab4f9",
   "metadata": {},
   "source": [
    "Однако управление переменными в других областях видимости может привести к непредсказуемым и неочевидным последствиям и к запутыванию кода. Применять инструкции `global` и `nonlocal` нужно с осторожностью.\n",
    "\n",
    "***\n",
    "## Словари пространств имён Python\n",
    "\n",
    "В Python есть специальные словари, которые хранят информацию о глобальном и локальном пространствах имён. \n",
    "\n",
    "Получить доступ к этим словарям можно через встроенные функции `globals()` и `locals()`."
   ]
  },
  {
   "cell_type": "code",
   "execution_count": 11,
   "id": "0bf9f840",
   "metadata": {},
   "outputs": [
    {
     "name": "stdout",
     "output_type": "stream",
     "text": [
      "Локальные переменные в функции any_function(): {'local_value': 20, 'local_text': 'Локальная строка'}\n",
      "Глобальные переменные программы: {'__name__': '__main__', '__doc__': 'Automatically created module for IPython interactive environment', '__package__': None, '__loader__': None, '__spec__': None, '__builtin__': <module 'builtins' (built-in)>, '__builtins__': <module 'builtins' (built-in)>, '_ih': ['', \"my_var = 10\\n\\n\\ndef my_function():\\n    my_var = 5\\n    print('Внутри функции:', my_var)\\n\\n\\nmy_function()\\nprint('Снаружи функции:', my_var)\", 'print(dir(__builtins__))', \"def outer_function():\\n    print('Старт функции outer_function()')\\n\\n    def inner_function():\\n        print('Старт функции inner_function()')\\n        print('Завершение функции inner_function()')\\n\\n    inner_function()\\n    print('Завершение функции outer_function()')\\n\\n\\nouter_function()\", \"value = 'Глобальная value'\\n\\ndef outer_function():\\n    value = 'Локальная value из функции outer_function'\\n\\n    ...\\n\\n    def inner_function():\\n        value = 'Локальная value из функции inner_function'\\n        print(value)  # Обратились к переменной value.\\n        # Сперва ищем это имя в локальном пространстве имён,\\n        # внутри функции inner_function(). Нашли! Печатаем.\\n\\n    inner_function()\\n\\nouter_function()\\n\\n# Будет напечатано:\\n# Локальная value из функции inner_function\", \"value = 'Глобальная value'\\n\\ndef outer_function():\\n    value = 'Локальная value из функции outer_function'\\n\\n    ...\\n\\n    def inner_function():\\n        # value = 'Локальная value из функции inner_function'\\n        print(value)  # Обратились к переменной value.\\n        # Ищем это имя в локальном пространстве имён - нету!\\n        # Ищем в ближайшем внешнем пространстве имён,\\n        # в локальном пространстве функции outer_function(). Нашли! Печатаем.\\n\\n    inner_function()\\n\\nouter_function()\\n\\n# Будет напечатано:\\n# Локальная value из функции outer_function\", \"value = 'Глобальная value'\\n\\ndef outer_function():\\n    # value = 'Локальная value из функции outer_function'\\n\\n    ...\\n\\n    def inner_function():\\n        # value = 'Локальная value из функции inner_function'\\n        print(value)  # Обратились к переменной value.\\n        # Ищем это имя в локальном пространстве имён - нету!\\n        # Ищем в ближайшем внешнем пространстве имён - нету!\\n        # Ищем в глобальном пространстве имён. Нашли! Печатаем.\\n\\n    inner_function()\\n\\nouter_function()\\n\\n# Будет напечатано:\\n# Глобальная value\", \"my_var = 10\\n\\n\\ndef my_function():\\n    # Описываем переменную как глобальную...\\n    global my_var\\n    # Теперь глобальную переменную можно обрабатывать прямо внутри функции,\\n    # например - переопределить:\\n    my_var = 5\\n    print('Внутри функции:', my_var)\\n    # ...и снова переопределить:\\n    my_var += 95\\n    print('Внутри функции после изменений:', my_var)\\n\\n\\nmy_function()\\nprint('Снаружи функции:', my_var)\", \"my_var = 10\\n\\ndef my_function():\\n    # Обращаемся к my_var,\\n    # но она не определена в функции локально.\\n    print(my_var)\\n    global my_var  # Так ничего хорошего не получится!\\n    my_var = 5\\n    print('Внутри функции:', my_var)\\n    my_var += 95\\n    print('Внутри функции после изменений:', my_var)\\n\\n\\nmy_function()\\nprint('Снаружи функции:', my_var)\", 'def outer_function():\\n    value = 10  # Как из вложенной функции добраться до этой переменной?\\n\\n    def inner_function():\\n        # Попытка изменить переменную, объявленную в outer_function()...\\n        value = 20\\n\\n    inner_function()\\n    print(value)  # ...ни к чему не приводит.\\n\\n\\nouter_function()\\n\\n# Будет напечатано: 10', 'def outer_function():\\n    value = 10\\n\\n    def inner_function():\\n        nonlocal value\\n        value = 20\\n\\n    inner_function()\\n    print(value)\\n\\nouter_function()', \"global_value = 10\\n\\n\\ndef any_function():\\n    local_value = 20\\n    local_text = 'Локальная строка'\\n    global global_value\\n    global_value = 100500  # Изменяем глобальную переменную.\\n    # Печатаем словарь с объектами локального пространства функции:\\n    print(f'Локальные переменные в функции any_function(): {locals()}')\\n\\n\\nany_function()\\n\\n# Печатаем словарь с объектами глобального пространства программы:\\nprint(f'Глобальные переменные программы: {globals()}')\"], '_oh': {}, '_dh': [WindowsPath('c:/Users/iliae/Для питона/Yandex/2. Углублённый Python/12. Расширенные возможности Python')], 'In': ['', \"my_var = 10\\n\\n\\ndef my_function():\\n    my_var = 5\\n    print('Внутри функции:', my_var)\\n\\n\\nmy_function()\\nprint('Снаружи функции:', my_var)\", 'print(dir(__builtins__))', \"def outer_function():\\n    print('Старт функции outer_function()')\\n\\n    def inner_function():\\n        print('Старт функции inner_function()')\\n        print('Завершение функции inner_function()')\\n\\n    inner_function()\\n    print('Завершение функции outer_function()')\\n\\n\\nouter_function()\", \"value = 'Глобальная value'\\n\\ndef outer_function():\\n    value = 'Локальная value из функции outer_function'\\n\\n    ...\\n\\n    def inner_function():\\n        value = 'Локальная value из функции inner_function'\\n        print(value)  # Обратились к переменной value.\\n        # Сперва ищем это имя в локальном пространстве имён,\\n        # внутри функции inner_function(). Нашли! Печатаем.\\n\\n    inner_function()\\n\\nouter_function()\\n\\n# Будет напечатано:\\n# Локальная value из функции inner_function\", \"value = 'Глобальная value'\\n\\ndef outer_function():\\n    value = 'Локальная value из функции outer_function'\\n\\n    ...\\n\\n    def inner_function():\\n        # value = 'Локальная value из функции inner_function'\\n        print(value)  # Обратились к переменной value.\\n        # Ищем это имя в локальном пространстве имён - нету!\\n        # Ищем в ближайшем внешнем пространстве имён,\\n        # в локальном пространстве функции outer_function(). Нашли! Печатаем.\\n\\n    inner_function()\\n\\nouter_function()\\n\\n# Будет напечатано:\\n# Локальная value из функции outer_function\", \"value = 'Глобальная value'\\n\\ndef outer_function():\\n    # value = 'Локальная value из функции outer_function'\\n\\n    ...\\n\\n    def inner_function():\\n        # value = 'Локальная value из функции inner_function'\\n        print(value)  # Обратились к переменной value.\\n        # Ищем это имя в локальном пространстве имён - нету!\\n        # Ищем в ближайшем внешнем пространстве имён - нету!\\n        # Ищем в глобальном пространстве имён. Нашли! Печатаем.\\n\\n    inner_function()\\n\\nouter_function()\\n\\n# Будет напечатано:\\n# Глобальная value\", \"my_var = 10\\n\\n\\ndef my_function():\\n    # Описываем переменную как глобальную...\\n    global my_var\\n    # Теперь глобальную переменную можно обрабатывать прямо внутри функции,\\n    # например - переопределить:\\n    my_var = 5\\n    print('Внутри функции:', my_var)\\n    # ...и снова переопределить:\\n    my_var += 95\\n    print('Внутри функции после изменений:', my_var)\\n\\n\\nmy_function()\\nprint('Снаружи функции:', my_var)\", \"my_var = 10\\n\\ndef my_function():\\n    # Обращаемся к my_var,\\n    # но она не определена в функции локально.\\n    print(my_var)\\n    global my_var  # Так ничего хорошего не получится!\\n    my_var = 5\\n    print('Внутри функции:', my_var)\\n    my_var += 95\\n    print('Внутри функции после изменений:', my_var)\\n\\n\\nmy_function()\\nprint('Снаружи функции:', my_var)\", 'def outer_function():\\n    value = 10  # Как из вложенной функции добраться до этой переменной?\\n\\n    def inner_function():\\n        # Попытка изменить переменную, объявленную в outer_function()...\\n        value = 20\\n\\n    inner_function()\\n    print(value)  # ...ни к чему не приводит.\\n\\n\\nouter_function()\\n\\n# Будет напечатано: 10', 'def outer_function():\\n    value = 10\\n\\n    def inner_function():\\n        nonlocal value\\n        value = 20\\n\\n    inner_function()\\n    print(value)\\n\\nouter_function()', \"global_value = 10\\n\\n\\ndef any_function():\\n    local_value = 20\\n    local_text = 'Локальная строка'\\n    global global_value\\n    global_value = 100500  # Изменяем глобальную переменную.\\n    # Печатаем словарь с объектами локального пространства функции:\\n    print(f'Локальные переменные в функции any_function(): {locals()}')\\n\\n\\nany_function()\\n\\n# Печатаем словарь с объектами глобального пространства программы:\\nprint(f'Глобальные переменные программы: {globals()}')\"], 'Out': {}, 'get_ipython': <bound method InteractiveShell.get_ipython of <ipykernel.zmqshell.ZMQInteractiveShell object at 0x000002975F27CE10>>, 'exit': <IPython.core.autocall.ZMQExitAutocall object at 0x000002975F289CD0>, 'quit': <IPython.core.autocall.ZMQExitAutocall object at 0x000002975F289CD0>, 'open': <function open at 0x000002975CFFEC00>, '_': '', '__': '', '___': '', '__vsc_ipynb_file__': 'c:\\\\Users\\\\iliae\\\\Для питона\\\\Yandex\\\\2. Углублённый Python\\\\12. Расширенные возможности Python\\\\1. Пространство имён и области видимости.ipynb', '_i': 'def outer_function():\\n    value = 10\\n\\n    def inner_function():\\n        nonlocal value\\n        value = 20\\n\\n    inner_function()\\n    print(value)\\n\\nouter_function()', '_ii': 'def outer_function():\\n    value = 10  # Как из вложенной функции добраться до этой переменной?\\n\\n    def inner_function():\\n        # Попытка изменить переменную, объявленную в outer_function()...\\n        value = 20\\n\\n    inner_function()\\n    print(value)  # ...ни к чему не приводит.\\n\\n\\nouter_function()\\n\\n# Будет напечатано: 10', '_iii': \"my_var = 10\\n\\ndef my_function():\\n    # Обращаемся к my_var,\\n    # но она не определена в функции локально.\\n    print(my_var)\\n    global my_var  # Так ничего хорошего не получится!\\n    my_var = 5\\n    print('Внутри функции:', my_var)\\n    my_var += 95\\n    print('Внутри функции после изменений:', my_var)\\n\\n\\nmy_function()\\nprint('Снаружи функции:', my_var)\", '_i1': \"my_var = 10\\n\\n\\ndef my_function():\\n    my_var = 5\\n    print('Внутри функции:', my_var)\\n\\n\\nmy_function()\\nprint('Снаружи функции:', my_var)\", 'my_var': 10, 'my_function': <function my_function at 0x000002975F2BC220>, '_i2': 'print(dir(__builtins__))', '_i3': \"def outer_function():\\n    print('Старт функции outer_function()')\\n\\n    def inner_function():\\n        print('Старт функции inner_function()')\\n        print('Завершение функции inner_function()')\\n\\n    inner_function()\\n    print('Завершение функции outer_function()')\\n\\n\\nouter_function()\", 'outer_function': <function outer_function at 0x000002975F2BC720>, '_i4': \"value = 'Глобальная value'\\n\\ndef outer_function():\\n    value = 'Локальная value из функции outer_function'\\n\\n    ...\\n\\n    def inner_function():\\n        value = 'Локальная value из функции inner_function'\\n        print(value)  # Обратились к переменной value.\\n        # Сперва ищем это имя в локальном пространстве имён,\\n        # внутри функции inner_function(). Нашли! Печатаем.\\n\\n    inner_function()\\n\\nouter_function()\\n\\n# Будет напечатано:\\n# Локальная value из функции inner_function\", 'value': 'Глобальная value', '_i5': \"value = 'Глобальная value'\\n\\ndef outer_function():\\n    value = 'Локальная value из функции outer_function'\\n\\n    ...\\n\\n    def inner_function():\\n        # value = 'Локальная value из функции inner_function'\\n        print(value)  # Обратились к переменной value.\\n        # Ищем это имя в локальном пространстве имён - нету!\\n        # Ищем в ближайшем внешнем пространстве имён,\\n        # в локальном пространстве функции outer_function(). Нашли! Печатаем.\\n\\n    inner_function()\\n\\nouter_function()\\n\\n# Будет напечатано:\\n# Локальная value из функции outer_function\", '_i6': \"value = 'Глобальная value'\\n\\ndef outer_function():\\n    # value = 'Локальная value из функции outer_function'\\n\\n    ...\\n\\n    def inner_function():\\n        # value = 'Локальная value из функции inner_function'\\n        print(value)  # Обратились к переменной value.\\n        # Ищем это имя в локальном пространстве имён - нету!\\n        # Ищем в ближайшем внешнем пространстве имён - нету!\\n        # Ищем в глобальном пространстве имён. Нашли! Печатаем.\\n\\n    inner_function()\\n\\nouter_function()\\n\\n# Будет напечатано:\\n# Глобальная value\", '_i7': \"my_var = 10\\n\\n\\ndef my_function():\\n    # Описываем переменную как глобальную...\\n    global my_var\\n    # Теперь глобальную переменную можно обрабатывать прямо внутри функции,\\n    # например - переопределить:\\n    my_var = 5\\n    print('Внутри функции:', my_var)\\n    # ...и снова переопределить:\\n    my_var += 95\\n    print('Внутри функции после изменений:', my_var)\\n\\n\\nmy_function()\\nprint('Снаружи функции:', my_var)\", '_i8': \"my_var = 10\\n\\ndef my_function():\\n    # Обращаемся к my_var,\\n    # но она не определена в функции локально.\\n    print(my_var)\\n    global my_var  # Так ничего хорошего не получится!\\n    my_var = 5\\n    print('Внутри функции:', my_var)\\n    my_var += 95\\n    print('Внутри функции после изменений:', my_var)\\n\\n\\nmy_function()\\nprint('Снаружи функции:', my_var)\", '_i9': 'def outer_function():\\n    value = 10  # Как из вложенной функции добраться до этой переменной?\\n\\n    def inner_function():\\n        # Попытка изменить переменную, объявленную в outer_function()...\\n        value = 20\\n\\n    inner_function()\\n    print(value)  # ...ни к чему не приводит.\\n\\n\\nouter_function()\\n\\n# Будет напечатано: 10', '_i10': 'def outer_function():\\n    value = 10\\n\\n    def inner_function():\\n        nonlocal value\\n        value = 20\\n\\n    inner_function()\\n    print(value)\\n\\nouter_function()', '_i11': \"global_value = 10\\n\\n\\ndef any_function():\\n    local_value = 20\\n    local_text = 'Локальная строка'\\n    global global_value\\n    global_value = 100500  # Изменяем глобальную переменную.\\n    # Печатаем словарь с объектами локального пространства функции:\\n    print(f'Локальные переменные в функции any_function(): {locals()}')\\n\\n\\nany_function()\\n\\n# Печатаем словарь с объектами глобального пространства программы:\\nprint(f'Глобальные переменные программы: {globals()}')\", 'global_value': 100500, 'any_function': <function any_function at 0x000002975F2BC5E0>}\n"
     ]
    }
   ],
   "source": [
    "global_value = 10\n",
    "\n",
    "\n",
    "def any_function():\n",
    "    local_value = 20\n",
    "    local_text = 'Локальная строка'\n",
    "    global global_value\n",
    "    global_value = 100500  # Изменяем глобальную переменную.\n",
    "    # Печатаем словарь с объектами локального пространства функции:\n",
    "    print(f'Локальные переменные в функции any_function(): {locals()}')\n",
    "\n",
    "\n",
    "any_function()\n",
    "\n",
    "# Печатаем словарь с объектами глобального пространства программы:\n",
    "print(f'Глобальные переменные программы: {globals()}')"
   ]
  },
  {
   "cell_type": "code",
   "execution_count": 12,
   "id": "6b0fdae2",
   "metadata": {},
   "outputs": [
    {
     "name": "stdout",
     "output_type": "stream",
     "text": [
      "inner_function value: 50\n",
      "outer_function value: 20\n",
      "global value: 10\n"
     ]
    }
   ],
   "source": [
    "value = 10\n",
    "\n",
    "def outer_function(value):\n",
    "    value = 20\n",
    "\n",
    "    def inner_function(value):\n",
    "        value += 30\n",
    "        print(f'inner_function value: {value}')  # Печатаем value.\n",
    "\n",
    "    inner_function(value)\n",
    "    print(f'outer_function value: {value}')  # Печатаем value.\n",
    "\n",
    "outer_function(value)\n",
    "\n",
    "print(f'global value: {value}')  # Печатаем value. "
   ]
  },
  {
   "cell_type": "markdown",
   "id": "078960e6",
   "metadata": {},
   "source": [
    "***\n",
    "## Что в итоге\n",
    "\n",
    "В Python есть различные пространства имён. В разных пространствах могут быть объявлены переменные с одинаковыми именами — и конфликта не произойдёт.\n",
    "\n",
    "При обращении к переменной Python ищет её в доступной области видимости. Поиск проводится сперва в локальном пространстве имён, затем в охватывающих, начиная с ближайшего. Затем Python ищет запрошенное имя в глобальном и во встроенном пространствах имён.\n",
    "\n",
    "Из локального пространства можно обратиться к переменным в других пространствах имён:\n",
    "\n",
    "* к переменной в глобальном пространстве можно обратиться посредством инструкции `global`;\n",
    "* к переменной в ближайшем охватывающем пространстве можно обратиться посредством инструкции `nonlocal`.\n",
    "\n",
    "**Инструкциями `global` и `nonlocal` лучше не злоупотреблять: они могут запутать код, сделать логику программы неочевидной и непредсказуемой.**"
   ]
  }
 ],
 "metadata": {
  "kernelspec": {
   "display_name": ".venv",
   "language": "python",
   "name": "python3"
  },
  "language_info": {
   "codemirror_mode": {
    "name": "ipython",
    "version": 3
   },
   "file_extension": ".py",
   "mimetype": "text/x-python",
   "name": "python",
   "nbconvert_exporter": "python",
   "pygments_lexer": "ipython3",
   "version": "3.11.0"
  }
 },
 "nbformat": 4,
 "nbformat_minor": 5
}
