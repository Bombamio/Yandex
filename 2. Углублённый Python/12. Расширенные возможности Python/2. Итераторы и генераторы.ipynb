{
 "cells": [
  {
   "cell_type": "code",
   "execution_count": 4,
   "id": "9b4bc5cf",
   "metadata": {},
   "outputs": [
    {
     "name": "stdout",
     "output_type": "stream",
     "text": [
      "['Apple', 'Banana', 'Cherry', 'Date', 'Fig']\n"
     ]
    }
   ],
   "source": [
    "# Исходный список слов.\n",
    "english_words = ['apple', 'banana', 'Cherry', 'Date', 'fig']\n",
    "# Пройтись по каждому слову в списке english_words и создать новый список\n",
    "# capitalized_words, где все слова из списка english_words написаны\n",
    "# с заглавной буквы.\n",
    "capitalized_words = [word.capitalize() for word in english_words]\n",
    "print(capitalized_words)"
   ]
  },
  {
   "cell_type": "markdown",
   "id": "17b1e7bf",
   "metadata": {},
   "source": [
    "***\n",
    "## Итерация, итерируемый объект и итератор\n",
    "\n",
    "Итерируемым называют объект, который содержит элементы, и эти элементы можно перебрать. Каждый шаг перебора — это итерация.\n",
    "\n",
    "В Python итерируемые объекты — это, например, списки, кортежи, строки.\n",
    "\n",
    "Чтобы проверить, итерируется объект или нет, можно применить к нему функцию `iter()`. Для итерируемых объектов она вернёт **объект итератора**, а для неитерируемых — ошибку *object is not iterable*."
   ]
  },
  {
   "cell_type": "code",
   "execution_count": 5,
   "id": "fb012cfd",
   "metadata": {},
   "outputs": [
    {
     "name": "stdout",
     "output_type": "stream",
     "text": [
      "<list_iterator object at 0x000001EB62F2D750>\n"
     ]
    },
    {
     "ename": "TypeError",
     "evalue": "'int' object is not iterable",
     "output_type": "error",
     "traceback": [
      "\u001b[31m---------------------------------------------------------------------------\u001b[39m",
      "\u001b[31mTypeError\u001b[39m                                 Traceback (most recent call last)",
      "\u001b[36mCell\u001b[39m\u001b[36m \u001b[39m\u001b[32mIn[5]\u001b[39m\u001b[32m, line 7\u001b[39m\n\u001b[32m      5\u001b[39m quantity = \u001b[32m5\u001b[39m\n\u001b[32m      6\u001b[39m \u001b[38;5;66;03m# Объект quantity итерируемый?\u001b[39;00m\n\u001b[32m----> \u001b[39m\u001b[32m7\u001b[39m \u001b[38;5;28mprint\u001b[39m(\u001b[38;5;28;43miter\u001b[39;49m\u001b[43m(\u001b[49m\u001b[43mquantity\u001b[49m\u001b[43m)\u001b[49m)\n",
      "\u001b[31mTypeError\u001b[39m: 'int' object is not iterable"
     ]
    }
   ],
   "source": [
    "english_words = ['apple', 'banana', 'cherry', 'date', 'fig']\n",
    "# Объект english_words итерируемый?\n",
    "print(iter(english_words))\n",
    "\n",
    "quantity = 5\n",
    "# Объект quantity итерируемый?\n",
    "print(iter(quantity))"
   ]
  },
  {
   "cell_type": "markdown",
   "id": "35bf59a7",
   "metadata": {},
   "source": [
    "Любой **итерируемый объект** содержит метод `__iter__():`"
   ]
  },
  {
   "cell_type": "code",
   "execution_count": 7,
   "id": "14ab29b6",
   "metadata": {},
   "outputs": [
    {
     "name": "stdout",
     "output_type": "stream",
     "text": [
      "True\n"
     ]
    }
   ],
   "source": [
    "english_words = ['apple', 'banana', 'cherry', 'date', 'fig']\n",
    "# У объекта english_words есть метод __iter__?\n",
    "print('__iter__' in dir(english_words))"
   ]
  },
  {
   "cell_type": "markdown",
   "id": "e462c171",
   "metadata": {},
   "source": [
    "У любого **объекта итератора** также есть метод `__next__()`, который обеспечивает обращение к следующему элементу итерируемого объекта:"
   ]
  },
  {
   "cell_type": "code",
   "execution_count": 11,
   "id": "e26b1834",
   "metadata": {},
   "outputs": [
    {
     "name": "stdout",
     "output_type": "stream",
     "text": [
      "True\n",
      "apple\n",
      "banana\n"
     ]
    }
   ],
   "source": [
    "english_words = ['apple', 'banana', 'cherry', 'date', 'fig']\n",
    "# \"Положить\" в переменную 'a' объект итератора.\n",
    "a = iter(english_words)\n",
    "# У объекта итератора, который \"лежит\" в переменной 'а',\n",
    "# есть метод '__next__'?\n",
    "print('__next__' in dir(a))\n",
    "# Обратиться к одному элементу итерируемого объекта...\n",
    "print(a.__next__())\n",
    "# Обратиться к следующему элементу итерируемого объекта.\n",
    "print(a.__next__())"
   ]
  },
  {
   "cell_type": "code",
   "execution_count": 13,
   "id": "fd356196",
   "metadata": {},
   "outputs": [
    {
     "name": "stdout",
     "output_type": "stream",
     "text": [
      "<__main__.MyRange object at 0x000001EB62F32250>\n",
      "1\n",
      "2\n",
      "3\n",
      "4\n",
      "5\n"
     ]
    }
   ],
   "source": [
    "class MyRange:\n",
    "    def __init__(self, start, end):\n",
    "        # Установить начальное значение последовательности. \n",
    "        self.current = start\n",
    "        # Установить конечное значение последовательности.\n",
    "        self.end = end\n",
    "    \n",
    "    # Метод, который возвращает сам объект (self) в качестве итератора.\n",
    "    def __iter__(self):\n",
    "        return self\n",
    "    \n",
    "    # Метод, который реализует логику получения следующего \n",
    "    # элемента последовательности.\n",
    "    def __next__(self):\n",
    "        # Если начальное значение последовательности меньше или равно \n",
    "        # конечному значению...\n",
    "        if self.current <= self.end:\n",
    "            # ...вернуть текущее значение...\n",
    "            value = self.current\n",
    "            # ...и увеличить его на 1.\n",
    "            self.current += 1\n",
    "            return value\n",
    "        # Иначе...\n",
    "        else:\n",
    "            # выбросить исключение StopIteration, чтобы указать, \n",
    "            # что элементы в последовательности закончились.\n",
    "            raise StopIteration\n",
    "\n",
    "\n",
    "# Тут используется описанный в классе итератор: \n",
    "# создать объект класса MyRange с начальным значением 1 \n",
    "# и конечным значением 5.\n",
    "my_iterator = MyRange(1, 5)\n",
    "\n",
    "# Здесь происходит итерация по объекту my_iterator:\n",
    "# к каждой итерации получить значение с помощью метода __next__ \n",
    "# и это значение присвоить переменной num.\n",
    "print(my_iterator)\n",
    "for num in my_iterator:\n",
    "    print(num)"
   ]
  },
  {
   "cell_type": "markdown",
   "metadata": {},
   "source": [
    "***\n",
    "## Что такое генератор\n",
    "\n",
    "Генератор — это подвид итератора: функция, которая генерирует значения.\n",
    "\n",
    "Генератор не хранит элементы в оперативной памяти, а вычисляет их по заданному правилу, поэтому занимает очень мало места.\n",
    "\n",
    "Генератор объявляется как обычная функция, но вместо инструкции `return` в нём используется `yield`. Инструкция `return` завершает работу функции, а `yield` лишь приостанавливает её и при этом возвращает какое-то значение."
   ]
  },
  {
   "cell_type": "code",
   "execution_count": 18,
   "id": "7e83f7d9",
   "metadata": {},
   "outputs": [
    {
     "name": "stdout",
     "output_type": "stream",
     "text": [
      "1\n",
      "2\n",
      "3\n",
      "4\n",
      "1\n"
     ]
    }
   ],
   "source": [
    "# Создать функцию-генератор.\n",
    "def short_sequence():\n",
    "    num = 1\n",
    "    while num < 5:\n",
    "    # Сгенерировать значение через yield.\n",
    "        yield num\n",
    "        num += 1\n",
    "\n",
    "# Здесь функция-генератор возвращает итератор.\n",
    "step = short_sequence()\n",
    "\n",
    "# Обратиться к методу __next__() итератора\n",
    "# и получить первое значение последовательности.\n",
    "print(step.__next__())\n",
    "\n",
    "# Ещё раз обратиться к методу __next__()\n",
    "# и получить второе значение последовательности.\n",
    "print(step.__next__())\n",
    "print(step.__next__())\n",
    "print(step.__next__())\n",
    "step = short_sequence()\n",
    "print(step.__next__())"
   ]
  },
  {
   "cell_type": "markdown",
   "id": "17cd4e90",
   "metadata": {},
   "source": [
    "Логика работы кода такова:\n",
    "\n",
    "1. При первом вызове метода `__next__()` инструкция `yield` генерирует и возвращает первое значение — `1`.\n",
    "2. Затем функция-генератор встаёт на паузу на выполнении цикла `while`, запомнив своё состояние.\n",
    "3. При втором вызове метода `__next__()` функция-генератор продолжает работу с того места, на котором остановилась, и возвращает следующее значение — `2`.\n",
    "\n",
    "Когда значения исчерпаются, генератор выбросит исключение `StopIteration`.\n",
    "\n",
    "Если у генератора есть ограничение на количество значений, то все эти значения можно получить, перебрав генератор в цикле."
   ]
  },
  {
   "cell_type": "code",
   "execution_count": 19,
   "id": "f9efb126",
   "metadata": {},
   "outputs": [
    {
     "name": "stdout",
     "output_type": "stream",
     "text": [
      "1\n",
      "2\n",
      "3\n",
      "4\n"
     ]
    }
   ],
   "source": [
    "def short_sequence():\n",
    "    num = 1\n",
    "    while num < 5:\n",
    "        yield num\n",
    "        num += 1\n",
    "\n",
    "for step in short_sequence():\n",
    "    print(step)"
   ]
  },
  {
   "cell_type": "markdown",
   "id": "64484558",
   "metadata": {},
   "source": [
    "> Генератор может быть устроен по-разному; важно, чтобы значения генерировались через инструкцию `yield`."
   ]
  },
  {
   "cell_type": "code",
   "execution_count": 21,
   "id": "c9a882f4",
   "metadata": {},
   "outputs": [
    {
     "name": "stdout",
     "output_type": "stream",
     "text": [
      "orange\n",
      "Apple\n",
      "Banana\n",
      "Cherry\n",
      "Date\n",
      "Fig\n",
      "pineapple\n"
     ]
    }
   ],
   "source": [
    "def english_word_generator():\n",
    "    # Сгенерировать слово.\n",
    "    yield 'orange'\n",
    "    \n",
    "    # Проитерироваться по списку слов и вернуть каждое слово из списка.\n",
    "    for word in ['apple', 'banana', 'Cherry', 'Date', 'fig']:\n",
    "        yield word.capitalize()\n",
    "\n",
    "    # Сгенерировать ещё одно слово.\n",
    "    yield 'pineapple'\n",
    "\n",
    "# Запустить генератор, проитерироваться по всем возвращаемым им значениям \n",
    "# и вывести каждое значение на экран.\n",
    "for word in english_word_generator():\n",
    "    print(word)"
   ]
  },
  {
   "cell_type": "markdown",
   "id": "78164aa5",
   "metadata": {},
   "source": [
    ">Получить элемент генератора по индексу невозможно, вернётся ошибка `TypeError`."
   ]
  },
  {
   "cell_type": "markdown",
   "id": "322fcc77",
   "metadata": {},
   "source": [
    "***\n",
    "## Что такое генераторное выражение\n",
    "\n",
    "Генераторное выражение — это упрощённый синтаксис для создания генератора.\n",
    "\n",
    "Очень часто генераторы могут быть записаны с использованием синтаксиса, похожего на *list comprehension*, но не в квадратных, а в круглых скобках."
   ]
  },
  {
   "cell_type": "code",
   "execution_count": null,
   "id": "f9ee065e",
   "metadata": {},
   "outputs": [],
   "source": []
  },
  {
   "cell_type": "markdown",
   "id": "b80a8fdd",
   "metadata": {},
   "source": []
  }
 ],
 "metadata": {
  "kernelspec": {
   "display_name": ".venv",
   "language": "python",
   "name": "python3"
  },
  "language_info": {
   "codemirror_mode": {
    "name": "ipython",
    "version": 3
   },
   "file_extension": ".py",
   "mimetype": "text/x-python",
   "name": "python",
   "nbconvert_exporter": "python",
   "pygments_lexer": "ipython3",
   "version": "3.12.7"
  }
 },
 "nbformat": 4,
 "nbformat_minor": 5
}
