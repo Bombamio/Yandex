{
 "cells": [
  {
   "cell_type": "code",
   "execution_count": 1,
   "id": "97c7dd98",
   "metadata": {},
   "outputs": [
    {
     "name": "stdout",
     "output_type": "stream",
     "text": [
      "R2-D2 reporting: Battery status is 100%\n",
      "C-3PO reporting: Battery status is 100%\n",
      "R2-D2 reporting: Battery status is 80%\n",
      "C-3PO reporting: Battery status is 100%\n"
     ]
    }
   ],
   "source": [
    "class Robot:\n",
    "    # Состояние батареи базовой станции:\n",
    "    base_battery_status = 100\n",
    "\n",
    "    def __init__(self, name):\n",
    "        self.name = name\n",
    "\n",
    "    def update_base_battery_status(self, new_status):\n",
    "        \"\"\"Обновляет состояние батареи базовой станции.\"\"\"\n",
    "        self.base_battery_status = new_status\n",
    "\n",
    "    def report(self):\n",
    "        \"\"\"Печатает в консоли состояние батареи базовой станции.\"\"\"\n",
    "        print(\n",
    "            f'{self.name} reporting: Battery status is '\n",
    "            f'{self.base_battery_status}%'\n",
    "        )\n",
    "\n",
    "\n",
    "# Создаём двух роботов:\n",
    "robot1 = Robot('R2-D2')\n",
    "robot2 = Robot('C-3PO')\n",
    "\n",
    "# Печатаем состояние батареи:\n",
    "robot1.report()\n",
    "robot2.report()\n",
    "\n",
    "# Обновляем статус батареи - но только в одном из роботов:\n",
    "robot1.update_base_battery_status(80)\n",
    "\n",
    "# Снова печатаем состояние батареи:\n",
    "robot1.report()\n",
    "robot2.report()"
   ]
  },
  {
   "cell_type": "markdown",
   "id": "f7d4e00d",
   "metadata": {},
   "source": [
    "## Декоратор @classmethod\n",
    "\n",
    "По умолчанию все методы в классе привязаны к **экземпляру** класса, а не к самому классу. Однако с помощью декоратора `@classmethod` можно объявить метод, который привязан к **классу**, а не к его экземпляру.\n",
    "\n",
    "Такие методы называют **методами класса**.\n",
    "\n",
    "При объявлении **методов класса** первым параметром указывается `cls`. Этот параметр указывает на сам класс, а не на объект этого класса. Название `cls` — традиционно принятое: можно назвать его иначе, но лучше соблюдать традиции, так всем будет проще читать ваш код."
   ]
  },
  {
   "cell_type": "code",
   "execution_count": 4,
   "id": "abb7a2c1",
   "metadata": {},
   "outputs": [
    {
     "name": "stdout",
     "output_type": "stream",
     "text": [
      "R2-D2 reporting: Battery status is 100%\n",
      "C-3PO reporting: Battery status is 100%\n",
      "R2-D2 reporting: Battery status is 80%\n",
      "C-3PO reporting: Battery status is 80%\n",
      "R2-D2 reporting: Battery status is 70%\n",
      "C-3PO reporting: Battery status is 70%\n"
     ]
    }
   ],
   "source": [
    "class Robot:\n",
    "    # Состояние батареи базовой станции:\n",
    "    base_battery_status = 100\n",
    "\n",
    "    def __init__(self, name):\n",
    "        self.name = name\n",
    "\n",
    "    # Декорируем и изменяем метод update_base_battery_status(),\n",
    "    # чтобы менять значение атрибута не в объекте, а в классе:\n",
    "    @classmethod\n",
    "    def update_base_battery_status(cls, new_status):  # Указываем аргумент cls.\n",
    "        \"\"\"Обновляет состояние батареи базовой станции.\"\"\"\n",
    "        # Присваиваем новое значение атрибуту класса.\n",
    "        cls.base_battery_status = new_status\n",
    "\n",
    "    def report(self):\n",
    "        \"\"\"Печатает в консоли состояние батареи базовой станции.\"\"\"\n",
    "        print(\n",
    "            f'{self.name} reporting: Battery status is '\n",
    "            f'{self.base_battery_status}%'\n",
    "        )\n",
    "\n",
    "# Создаём двух роботов:\n",
    "robot1 = Robot('R2-D2')\n",
    "robot2 = Robot('C-3PO')\n",
    "\n",
    "# Печатаем состояние батареи:\n",
    "robot1.report()\n",
    "robot2.report()\n",
    "\n",
    "# Обновляем статус батареи в классе: обращаемся не к объекту, а к классу.\n",
    "Robot.update_base_battery_status(80)\n",
    "\n",
    "# Снова печатаем состояние батареи:\n",
    "robot1.report()\n",
    "robot2.report()\n",
    "\n",
    "robot1.update_base_battery_status(70)\n",
    "robot1.report()\n",
    "robot2.report()"
   ]
  },
  {
   "cell_type": "markdown",
   "id": "6ac1cea6",
   "metadata": {},
   "source": [
    "Значение атрибута `base_battery_status` хранится на уровне класса. Метод `update_base_battery_status()` изменяет это значение в классе, а не в объекте. \n",
    "\n",
    "Метод `update_base_battery_status()` доступен для любого объекта класса `Robot`, таким образом любому из объектов доступен метод для изменения атрибута `base_battery_status` и любой из объектов всегда будет «знать» актуальное значение этого атрибута."
   ]
  },
  {
   "cell_type": "markdown",
   "id": "53629fea",
   "metadata": {},
   "source": [
    "***\n",
    "## Статические методы класса"
   ]
  },
  {
   "cell_type": "code",
   "execution_count": null,
   "id": "891acb3a",
   "metadata": {},
   "outputs": [],
   "source": [
    "# current_capacity - актуальная ёмкость аккумулятора.\n",
    "# charge_cycles - актуальное количество циклов зарядки.\n",
    "def predict_battery_lifetime(current_capacity, charge_cycles):\n",
    "    \"\"\"\n",
    "    Прогнозирует срок службы аккумулятора \n",
    "    на основе текущей ёмкости и числа циклов зарядки.    \n",
    "    \"\"\"\n",
    "    # Предположим, что максимальная ёмкость аккумулятора \n",
    "    # равна 5000 мАч (миллиампер-часов).\n",
    "    max_capacity = 5000\n",
    "    return (current_capacity / max_capacity) * (1000 - charge_cycles)"
   ]
  },
  {
   "cell_type": "markdown",
   "id": "36f8406f",
   "metadata": {},
   "source": [
    "***\n",
    "## Декоратор @staticmethod\n",
    "\n",
    "**Статические методы** в основном используются как вспомогательные функции и работают как обычные функции, обрабатывая данные, которые им переданы. Они описываются при помощи декоратора `@staticmethod`.\n",
    "\n",
    "При объявлении статического метода в него не нужно передавать параметр, указывающий на объект или класс: не нужен ни `self`, ни `cls`. Статические методы никак не привязаны к классу или объекту, их можно воспринимать как методы, которые «не знают, к какому классу относятся».\n",
    "\n",
    "Объявим в классе статический метод `predict_battery_lifetime()`, который будет вычислять прогнозируемый срок работы аккумулятора:"
   ]
  },
  {
   "cell_type": "code",
   "execution_count": 7,
   "id": "bc44bfe1",
   "metadata": {},
   "outputs": [
    {
     "name": "stdout",
     "output_type": "stream",
     "text": [
      "Прогноз срока службы аккумулятора: осталось 720 циклов зарядки.\n",
      "Прогноз срока службы аккумулятора: осталось 595 циклов зарядки.\n"
     ]
    }
   ],
   "source": [
    "class Robot:\n",
    "    base_battery_status = 100\n",
    "\n",
    "    def __init__(self, name):\n",
    "        self.name = name\n",
    "\n",
    "    @classmethod\n",
    "    def update_base_battery_status(cls, new_status):\n",
    "        cls.base_battery_status = new_status\n",
    "\n",
    "    def report(self):\n",
    "        print(\n",
    "            f'{self.name} reporting: Battery status is '\n",
    "            f'{self.base_battery_status}%'\n",
    "        )\n",
    "\n",
    "    @staticmethod\n",
    "    def predict_battery_lifetime(current_capacity, charge_cycles):\n",
    "        \"\"\"\n",
    "        Прогнозирует срок службы аккумулятора\n",
    "        на основе текущей ёмкости и количества циклов зарядки.\n",
    "        \"\"\"\n",
    "        # Пусть максимальная ёмкость нового аккумулятора будет равна 5000 мАч\n",
    "        max_capacity = 5000\n",
    "        return (current_capacity / max_capacity) * (1000 - charge_cycles)\n",
    "\n",
    "# Вызов статического метода через имя класса:\n",
    "battery_lifetime = Robot.predict_battery_lifetime(4000, 100)\n",
    "print(\n",
    "    'Прогноз срока службы аккумулятора: '\n",
    "    f'осталось {battery_lifetime:.0f} циклов зарядки.'\n",
    ")\n",
    "\n",
    "# Создаём объект класса:\n",
    "robot = Robot('R2-D2')\n",
    "# Статический метод доступен и в объекте:\n",
    "r2d2_battery_lifetime = robot.predict_battery_lifetime(3500, 150)\n",
    "print(\n",
    "    'Прогноз срока службы аккумулятора: '\n",
    "    f'осталось {r2d2_battery_lifetime:.0f} циклов зарядки.'\n",
    ")"
   ]
  },
  {
   "cell_type": "markdown",
   "id": "c84230d9",
   "metadata": {},
   "source": [
    "***\n",
    "## Свойства объекта"
   ]
  },
  {
   "cell_type": "code",
   "execution_count": null,
   "id": "7bf44330",
   "metadata": {},
   "outputs": [],
   "source": [
    "def identifier(self):\n",
    "    \"\"\"Вычисляет уникальный идентификатор робота на основе его имени.\"\"\"\n",
    "    # Преобразование имени в числовое представление:\n",
    "    return sum(ord(char) for char in self._name)"
   ]
  },
  {
   "cell_type": "markdown",
   "id": "1911d966",
   "metadata": {},
   "source": [
    "*** \n",
    "## Декоратор @property\n",
    "\n",
    "Метод `identifier()` возвращает характеристику объекта — и обращаться к нему удобнее как к атрибуту. Для этого метод можно представить как **свойство экземпляра класса**.\n",
    "\n",
    "**Свойством экземпляра** называется такой метод, работа с которым подобна работе с атрибутом.\n",
    "\n",
    "Для определения метода как свойства применяют декоратор `@property`."
   ]
  },
  {
   "cell_type": "code",
   "execution_count": 10,
   "id": "99e9e8d8",
   "metadata": {},
   "outputs": [
    {
     "name": "stdout",
     "output_type": "stream",
     "text": [
      "295\n"
     ]
    }
   ],
   "source": [
    "class Robot:\n",
    "    base_battery_status = 100\n",
    "\n",
    "    def __init__(self, name):\n",
    "        self.name = name\n",
    "\n",
    "    @classmethod\n",
    "    def update_base_battery_status(cls, new_status):\n",
    "        cls.base_battery_status = new_status\n",
    "\n",
    "    def report(self):\n",
    "        print(\n",
    "            f'{self.name} reporting: Battery status is '\n",
    "            f'{self.base_battery_status}%'\n",
    "        )\n",
    "\n",
    "    @staticmethod\n",
    "    def predict_battery_lifetime(current_capacity, charge_cycles):\n",
    "        \"\"\"\n",
    "        Прогнозирует срок службы аккумулятора\n",
    "        на основе текущей ёмкости и количества циклов зарядки.\n",
    "        \"\"\"\n",
    "        max_capacity = 5000\n",
    "        return (current_capacity / max_capacity) * (1000 - charge_cycles)\n",
    "\n",
    "    @property\n",
    "    def identifier(self):\n",
    "        \"\"\"Вычисляет уникальный идентификатор робота на основе его имени.\"\"\"\n",
    "        # Преобразование имени в числовое представление:\n",
    "        return sum(ord(char) for char in self.name)\n",
    "\n",
    "\n",
    "# Создаём робота:\n",
    "robot = Robot('R2-D2')\n",
    "print(robot.identifier)"
   ]
  },
  {
   "cell_type": "markdown",
   "id": "9c48dea1",
   "metadata": {},
   "source": [
    "В интерфейсе экземпляра класса `Robot` свойство `identifier` выглядит как атрибут. Обычные атрибуты экземпляров можно изменять, однако в такой реализации изменить свойство объекта не получится:"
   ]
  },
  {
   "cell_type": "code",
   "execution_count": null,
   "id": "5d2f4fd5",
   "metadata": {},
   "outputs": [
    {
     "name": "stdout",
     "output_type": "stream",
     "text": [
      "295\n"
     ]
    }
   ],
   "source": [
    "...\n",
    "\n",
    "# Создаём робота:\n",
    "robot = Robot('R2-D2')\n",
    "\n",
    "# Изменим значение свойства identifier:\n",
    "robot.identifier = 42\n",
    "\n",
    "# Ничего не вышло:\n",
    "# Traceback (most recent call last):\n",
    "# ...\n",
    "# AttributeError: can't set attribute"
   ]
  },
  {
   "cell_type": "markdown",
   "id": "50043df6",
   "metadata": {},
   "source": [
    "***\n",
    "## И что в итоге?\n",
    "\n",
    "Использование декораторов позволяет более эффективно управлять поведением методов классов в Python.\n",
    "\n",
    "1. Декоратор `@classmethod` используется для создания методов класса. Эти методы имеют доступ к самому классу через аргумент `cls`. Декоратор может использоваться для реализации методов, которым нужен доступ к классу, а не к конкретному экземпляру.\n",
    "\n",
    "2. Декоратор `@staticmethod` позволяет определять в классе методы, которые не зависят от экземпляра (`self`) или класса (`cls`). При помощи этого декоратора удобно создавать вспомогательные функции, которые логически связаны с классом, но не требуют доступа к его атрибутам или методам.\n",
    "\n",
    "3. Декоратор `@property` используется для создания свойств класса из методов."
   ]
  },
  {
   "cell_type": "markdown",
   "id": "387f428e",
   "metadata": {},
   "source": [
    "> А вот [шпаргалка](https://code.s3.yandex.net/Python-dev/cheatsheets/091-python-prostranstva-imen-iteratory-generatory-/091-python-prostranstva-imen-iteratory-generatory-.html) не только о декораторах, но и обо всём, что было в теме « Расширенные возможности Python». Сохраняйте её в закладке. Пригодится — 100%!"
   ]
  },
  {
   "cell_type": "markdown",
   "id": "b385613c",
   "metadata": {},
   "source": [
    "*** \n",
    "## Задание"
   ]
  },
  {
   "cell_type": "code",
   "execution_count": null,
   "id": "3ed7916c",
   "metadata": {},
   "outputs": [
    {
     "name": "stdout",
     "output_type": "stream",
     "text": [
      "Средняя стоимость: 140.0\n",
      "Прибыль магазина с товара Картошка: 10\n",
      "Информация о товаре Картошка: название – Картошка, розничная цена – 100, закупочная цена – 90\n"
     ]
    }
   ],
   "source": [
    "class Product:\n",
    "    def __init__(self, name: str, retail_price: int, purchase_price: int):\n",
    "        self.name = name\n",
    "        self.retail_price = retail_price    # розничная цена\n",
    "        self.purchase_price = purchase_price    # закупочная цена\n",
    "\n",
    "\n",
    "    @property   # Создание свойства класса из метода.\n",
    "    def profit(self) -> int: \n",
    "        \"\"\"Возвращает разницу между розничной и закупочной ценой.\"\"\"\n",
    "\n",
    "        return self.retail_price - self.purchase_price\n",
    "    \n",
    "\n",
    "    @staticmethod   # Независящий метод в классе.\n",
    "    def average_price(retail_prices: list) -> int | float:\n",
    "        \"\"\"Возвращает среднюю розничную цену из списка цен.\"\"\"\n",
    "\n",
    "        return 0 if len(retail_prices) == 0 else sum(retail_prices) / len(retail_prices) \n",
    "\n",
    "    \n",
    "    @property   # Создание свойства класса из метода.\n",
    "    def information(self) -> str:\n",
    "        \"\"\"\n",
    "        Возвращает строку с информацией о товаре\n",
    "        (название, розничная и закупочная цена)\n",
    "        \"\"\"\n",
    "\n",
    "        return f'название – {self.name}, розничная цена – {self.retail_price}, закупочная цена – {self.purchase_price}'\n",
    "            \n",
    "\n",
    "\n",
    "# Данные для проверки, не изменяйте их.\n",
    "product_1 = Product('Картошка', 100, 90)\n",
    "product_2 = Product('Перчатки', 150, 120)\n",
    "product_3 = Product('Велосипед', 170, 150)\n",
    "\n",
    "assortment_prices = [\n",
    "    product_1.retail_price,\n",
    "    product_2.retail_price,\n",
    "    product_3.retail_price,\n",
    "]\n",
    "\n",
    "print(f'Средняя стоимость: {Product.average_price(assortment_prices)}')\n",
    "print(f'Прибыль магазина с товара {product_1.name}: {product_1.profit}')\n",
    "print(f'Информация о товаре {product_1.name}: {product_1.information}')"
   ]
  }
 ],
 "metadata": {
  "kernelspec": {
   "display_name": ".venv",
   "language": "python",
   "name": "python3"
  },
  "language_info": {
   "codemirror_mode": {
    "name": "ipython",
    "version": 3
   },
   "file_extension": ".py",
   "mimetype": "text/x-python",
   "name": "python",
   "nbconvert_exporter": "python",
   "pygments_lexer": "ipython3",
   "version": "3.12.7"
  }
 },
 "nbformat": 4,
 "nbformat_minor": 5
}
