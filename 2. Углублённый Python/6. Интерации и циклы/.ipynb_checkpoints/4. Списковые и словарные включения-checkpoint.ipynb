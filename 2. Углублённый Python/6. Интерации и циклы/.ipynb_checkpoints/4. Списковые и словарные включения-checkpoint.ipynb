{
 "cells": [
  {
   "cell_type": "markdown",
   "id": "9261f05b",
   "metadata": {},
   "source": [
    "# Задание"
   ]
  },
  {
   "cell_type": "code",
   "execution_count": 1,
   "id": "b5301360",
   "metadata": {},
   "outputs": [
    {
     "name": "stdout",
     "output_type": "stream",
     "text": [
      "[166.0, 106.2, 125.5, 115.0]\n"
     ]
    }
   ],
   "source": [
    "fruit_yields = [164.8, 105.0, 124.3, 113.8]  # Урожайность, кг на дерево.\n",
    "# Объявляем новый список, в него будем складывать изменённые значения.\n",
    "corrected_fruit_yields = []\n",
    "\n",
    "# Объявите цикл, в нём переберите список fruit_yields.\n",
    "# В теле цикла к каждому значению списка добавьте 1.2,\n",
    "# затем получившееся значение сохраните в список corrected_fruit_yields.\n",
    "for i in fruit_yields:\n",
    "    corrected_fruit_yields.append(i + 1.2)\n",
    "\n",
    "\n",
    "# Чтобы увидеть, что получилось, \n",
    "# напечатаем список с откорректированными значениями.\n",
    "print(corrected_fruit_yields)"
   ]
  },
  {
   "cell_type": "code",
   "execution_count": 2,
   "id": "9eea674f",
   "metadata": {},
   "outputs": [
    {
     "name": "stdout",
     "output_type": "stream",
     "text": [
      "['Купи слона!', 'Купи слона!', 'Купи слона!', 'Купи слона!', 'Купи слона!', 'Купи слона!']\n"
     ]
    }
   ],
   "source": [
    "new_sequence = []  # Объявляем пустой список.\n",
    "\n",
    "# Объявляем цикл, в нём переберём диапазон от 0 до 5 включительно.\n",
    "for value in range(6):\n",
    "    # Значения исходной последовательности в теле цикла не обрабатываем,\n",
    "    # все элементы нового списка заполняем одинаковыми значениями:\n",
    "    list.append(new_sequence, 'Купи слона!')\n",
    "\n",
    "print(new_sequence)"
   ]
  },
  {
   "cell_type": "markdown",
   "id": "51627392",
   "metadata": {},
   "source": [
    "> Циклы, в теле которых не применяется переменная цикла, — не такая уж и редкость. И чтобы сделать код понятнее, в таких случаях принято использовать в качестве имени переменной символ подчёркивания, `_`."
   ]
  },
  {
   "cell_type": "code",
   "execution_count": 3,
   "id": "ea6ef20b",
   "metadata": {},
   "outputs": [
    {
     "name": "stdout",
     "output_type": "stream",
     "text": [
      "['Купи слона!', 'Купи слона!', 'Купи слона!', 'Купи слона!', 'Купи слона!', 'Купи слона!']\n"
     ]
    }
   ],
   "source": [
    "new_sequence = []  # Объявляем пустой список.\n",
    "\n",
    "for _ in range(6):  # Сразу понятно: в теле цикла переменная не будет применена.\n",
    "    list.append(new_sequence, 'Купи слона!')\n",
    "\n",
    "print(new_sequence)"
   ]
  },
  {
   "cell_type": "markdown",
   "id": "a401aa2a",
   "metadata": {},
   "source": [
    "> …разработчик, читающий чужой код, сразу понимает, что переменная цикла в теле не применяется.\n",
    "\n",
    "***\n",
    "## Списковое включение\n",
    "\n",
    "Создание списков посредством циклов — востребованная задача, и для этой операции в Python есть «синтаксический сахар», сокращённый способ записи."
   ]
  },
  {
   "cell_type": "code",
   "execution_count": null,
   "id": "ebd6b8c3",
   "metadata": {},
   "outputs": [],
   "source": [
    "new_sequence = [<значение_элемента> for <переменная_цикла> in <исходный_список>]"
   ]
  },
  {
   "cell_type": "code",
   "execution_count": 1,
   "id": "c2799094",
   "metadata": {},
   "outputs": [
    {
     "name": "stdout",
     "output_type": "stream",
     "text": [
      "[0, 3, 6, 9, 12, 15]\n",
      "[0, 3, 6, 9, 12, 15]\n"
     ]
    }
   ],
   "source": [
    "# Сперва решим эту задачу в обычном цикле\n",
    "new_sequence = []\n",
    "\n",
    "for value in range(6):\n",
    "    list.append(new_sequence, value * 3)\n",
    "\n",
    "print(new_sequence)\n",
    "\n",
    "# А теперь то же самое запишем в сокращённой форме:\n",
    "new_sequence_better = [value * 3 for value in range(6)] # Всё!\n",
    "print(new_sequence_better)"
   ]
  },
  {
   "cell_type": "code",
   "execution_count": 2,
   "id": "58ba88d2",
   "metadata": {},
   "outputs": [
    {
     "name": "stdout",
     "output_type": "stream",
     "text": [
      "[8, 6, 9, 5, 7]\n",
      "[8, 6, 9, 5, 7]\n"
     ]
    }
   ],
   "source": [
    "vegetables = ['Помидоры', 'Огурцы', 'Баклажаны', 'Перец', 'Капуста']\n",
    "# Сперва выполним эту задачу в обычном цикле:\n",
    "new_sequence = []\n",
    "\n",
    "for vegetable in vegetables:\n",
    "    list.append(new_sequence, len(vegetable))\n",
    "\n",
    "print(new_sequence)\n",
    "\n",
    "# А теперь то же самое запишем в сокращённой форме:\n",
    "new_sequence_better = [len(vegetable) for vegetable in vegetables]\n",
    "# Результат тот же, а код короче!\n",
    "print(new_sequence_better)"
   ]
  },
  {
   "cell_type": "markdown",
   "id": "c9e10400",
   "metadata": {},
   "source": [
    "Проверим длину строк в исходном списке выражением `len(<строка>) >= 7`. Если в строке меньше семи символов, это выражение вернёт `False`, в иных случаях — `True`. В итоге именно `True` и `False` будут значениями нового списка."
   ]
  },
  {
   "cell_type": "code",
   "execution_count": 3,
   "id": "243f8cd8",
   "metadata": {},
   "outputs": [
    {
     "name": "stdout",
     "output_type": "stream",
     "text": [
      "[True, False, True, False, True]\n",
      "[True, False, True, False, True]\n"
     ]
    }
   ],
   "source": [
    "vegetables = ['Помидоры', 'Огурцы', 'Баклажаны', 'Перец', 'Капуста']\n",
    "# Сперва выполним эту задачу в обычном цикле\n",
    "new_sequence = []\n",
    "\n",
    "for vegetable in vegetables:\n",
    "    # Если в очередном элементе хранится строка с числом элементов меньше 7,\n",
    "    # в список new_sequence будет добавлен элемент со значением False,\n",
    "    # иначе - True.\n",
    "    list.append(new_sequence, len(vegetable) >= 7)\n",
    "\n",
    "print(new_sequence)\n",
    "\n",
    "# А теперь то же самое запишем в сокращённой форме:\n",
    "new_sequence_better = [len(vegetable) >= 7 for vegetable in vegetables]\n",
    "# Результат тот же, а код короче!\n",
    "print(new_sequence_better)"
   ]
  },
  {
   "cell_type": "markdown",
   "id": "02dccae6",
   "metadata": {},
   "source": [
    "***\n",
    "# Задание 1"
   ]
  },
  {
   "cell_type": "code",
   "execution_count": 4,
   "id": "25bd8030",
   "metadata": {},
   "outputs": [
    {
     "name": "stdout",
     "output_type": "stream",
     "text": [
      "[166.0, 106.2, 125.5, 115.0]\n"
     ]
    }
   ],
   "source": [
    "fruit_yields = [164.8, 105.0, 124.3, 113.8]  # Урожайность, кг на дерево.\n",
    "\n",
    "# Вместо всего этого кода нужно написать единственную строчку,\n",
    "# которая выполнит те же действия.\n",
    "# corrected_fruit_yields = []\n",
    "\n",
    "# for yield_value in fruit_yields:\n",
    "#     yield_value += 1.2\n",
    "#     list.append(corrected_fruit_yields, yield_value)\n",
    "\n",
    "corrected_fruit_yields = [value + 1.2 for value in fruit_yields]  # Ваш код - здесь.\n",
    "\n",
    "\n",
    "print(corrected_fruit_yields)"
   ]
  },
  {
   "cell_type": "markdown",
   "id": "2eb82abb",
   "metadata": {},
   "source": [
    "***\n",
    "# Задание 2"
   ]
  },
  {
   "cell_type": "code",
   "execution_count": 9,
   "id": "c588cedb",
   "metadata": {},
   "outputs": [
    {
     "name": "stdout",
     "output_type": "stream",
     "text": [
      "[1, 4, 9, 16, 25, 36, 49, 64, 81, 100]\n"
     ]
    }
   ],
   "source": [
    "numbers = [i ** 2 for i in range(1, 11)]     # Место для вашего кода\n",
    "print(numbers)"
   ]
  },
  {
   "cell_type": "markdown",
   "id": "3439275a",
   "metadata": {},
   "source": [
    "***\n",
    "## Словарные включения\n",
    "\n",
    "Словари можно создавать при помощи конструкции *dict comprehension*. Эта конструкция создаёт словарь на основе значений исходной последовательности — перебирает последовательность в цикле, получает её элементы и создаёт ключи и значения элементов словаря."
   ]
  },
  {
   "cell_type": "code",
   "execution_count": null,
   "id": "a0a86458",
   "metadata": {},
   "outputs": [],
   "source": [
    "<имя_словаря> = {\n",
    "    <ключ>: <значение> for <переменная_цикла> in <имя_исходной_последовательности>\n",
    "}"
   ]
  },
  {
   "cell_type": "code",
   "execution_count": 10,
   "id": "bfec6e4c",
   "metadata": {},
   "outputs": [
    {
     "name": "stdout",
     "output_type": "stream",
     "text": [
      "{'Ключ 0': 'Значение 0', 'Ключ 1': 'Значение 1', 'Ключ 2': 'Значение 2'}\n"
     ]
    }
   ],
   "source": [
    "# В цикле for перебираем последовательность range(3),\n",
    "# по очереди передаём значение каждого элемента в переменную value,\n",
    "# для каждого элемента словаря создаём ключ и значение:\n",
    "new_collection = {f'Ключ {value}': f'Значение {value}' for value in range(3)}\n",
    "\n",
    "print(new_collection)"
   ]
  },
  {
   "cell_type": "code",
   "execution_count": 11,
   "id": "cda7dca6",
   "metadata": {},
   "outputs": [
    {
     "name": "stdout",
     "output_type": "stream",
     "text": [
      "{'Помидор': 'Овощная культура', 'Огурец': 'Овощная культура', 'Капуста': 'Овощная культура'}\n"
     ]
    }
   ],
   "source": [
    "vegetables = ['Помидор', 'Огурец', 'Капуста']\n",
    "category = 'Овощная культура'\n",
    "\n",
    "vegetables_info = {vegetable: category for vegetable in vegetables}\n",
    "#       Создаём     ключ    и  значение.\n",
    "\n",
    "print(vegetables_info)"
   ]
  }
 ],
 "metadata": {
  "kernelspec": {
   "display_name": "Python 3 (ipykernel)",
   "language": "python",
   "name": "python3"
  },
  "language_info": {
   "codemirror_mode": {
    "name": "ipython",
    "version": 3
   },
   "file_extension": ".py",
   "mimetype": "text/x-python",
   "name": "python",
   "nbconvert_exporter": "python",
   "pygments_lexer": "ipython3",
   "version": "3.9.13"
  }
 },
 "nbformat": 4,
 "nbformat_minor": 5
}
