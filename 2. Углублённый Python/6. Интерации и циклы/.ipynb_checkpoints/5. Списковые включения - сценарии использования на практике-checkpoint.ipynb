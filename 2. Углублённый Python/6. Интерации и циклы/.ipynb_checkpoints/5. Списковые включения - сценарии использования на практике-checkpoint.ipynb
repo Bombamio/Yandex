{
 "cells": [
  {
   "cell_type": "markdown",
   "id": "2917c983",
   "metadata": {},
   "source": [
    "## Условия в list comprehension\n",
    "\n",
    "В левой части *list comprehension*, там, где описывается значение очередного элемента для создаваемого списка, можно задать два варианта, из которых будет выбран один, в зависимости от условия."
   ]
  },
  {
   "cell_type": "code",
   "execution_count": 1,
   "id": "097e9296",
   "metadata": {},
   "outputs": [
    {
     "name": "stdout",
     "output_type": "stream",
     "text": [
      "[164.8, 106.2, 124.3, 115.0]\n"
     ]
    }
   ],
   "source": [
    "fruit_yields = [164.8, 105.0, 124.3, 113.8] \n",
    "corrected_fruit_yields = [yield_value + 1.2 if yield_value < 120 else yield_value for yield_value in fruit_yields]\n",
    "#                         |- - - -           Тернарный оператор          - - - -|\n",
    "print(corrected_fruit_yields)"
   ]
  },
  {
   "cell_type": "markdown",
   "id": "48f90c35",
   "metadata": {},
   "source": [
    "> Условие `if` можно применять и без `else`. Если задача будет в том, чтобы сформировать список только из тех значений, которые больше 120, тернарный оператор не потребуется. В таком случае выражение `if <условие>` пишется после объявления цикла:"
   ]
  },
  {
   "cell_type": "code",
   "execution_count": 2,
   "id": "d9f45e0a",
   "metadata": {},
   "outputs": [
    {
     "name": "stdout",
     "output_type": "stream",
     "text": [
      "[164.8, 124.3]\n"
     ]
    }
   ],
   "source": [
    "fruit_yields = [164.8, 105.0, 124.3, 113.8] \n",
    "# Присвоить новому элементу значение yield_value, ЕСЛИ yield_value > 120. \n",
    "new_yields = [yield_value for yield_value in fruit_yields if yield_value > 120]\n",
    "\n",
    "print(new_yields)"
   ]
  },
  {
   "cell_type": "markdown",
   "id": "85bf975b",
   "metadata": {},
   "source": [
    "***\n",
    "## Проверка элементов списка на соответствие условию: all() и any()\n",
    "\n",
    "Зачастую лучше убедиться, что все элементы списка соответствуют установленным требованиям. В этом помогут функции `all()` и `any()`.\n",
    "\n",
    "Эти функции принимают на вход коллекции, элементами которых должны быть `True`, `False` или любые другие значения или выражения которые можно привести к `True` или `False`.\n",
    "\n",
    "- Функция `any()` возвращает `True`, если **хоть один элемент** в последовательности — `True`.\n",
    "- Функция `all()` возвращает `True`, если **все элементы** последовательности — `True`."
   ]
  },
  {
   "cell_type": "code",
   "execution_count": 3,
   "id": "c47ecb57",
   "metadata": {},
   "outputs": [
    {
     "name": "stdout",
     "output_type": "stream",
     "text": [
      "Результат функции any():\n",
      "any(list_1): False\n",
      "any(list_2): True\n",
      "any(list_3): True\n",
      "any(list_4): True\n",
      "any(list_5): True\n",
      "\n",
      "Результат функции all():\n",
      "all(list_1): False\n",
      "all(list_2): False\n",
      "all(list_3): True\n",
      "all(list_4): False\n",
      "all(list_5): False\n"
     ]
    }
   ],
   "source": [
    "# Определение списков:\n",
    "list_1 = [False, False, False]\n",
    "list_2 = [True, False, False]\n",
    "list_3 = [True, True, True]\n",
    "list_4 = [3 > 5, 'a' == 'a', True == False]\n",
    "list_5 = ['', '', 'просто буквы']\n",
    "\n",
    "# Использование функции any():\n",
    "print('Результат функции any():')\n",
    "print('any(list_1):', any(list_1))  # Выведет False.\n",
    "print('any(list_2):', any(list_2))  # Выведет True.\n",
    "print('any(list_3):', any(list_3))  # Выведет True.\n",
    "print('any(list_4):', any(list_4))  # Выведет True.\n",
    "print('any(list_5):', any(list_5))  # Выведет True.\n",
    "\n",
    "# Использование функции all():\n",
    "print('\\nРезультат функции all():')\n",
    "print('all(list_1):', all(list_1))  # Выведет False.\n",
    "print('all(list_2):', all(list_2))  # Выведет False.\n",
    "print('all(list_3):', all(list_3))  # Выведет True.\n",
    "print('all(list_4):', all(list_4))  # Выведет False.\n",
    "print('all(list_5):', all(list_5))  # Выведет False."
   ]
  },
  {
   "cell_type": "code",
   "execution_count": 4,
   "id": "2c1c0ec9",
   "metadata": {},
   "outputs": [
    {
     "name": "stdout",
     "output_type": "stream",
     "text": [
      "are_positive: [True, True, True, False, True, True]\n",
      "all(): False\n",
      "any(): True\n"
     ]
    }
   ],
   "source": [
    "vegetable_yields = [6.5, 4.3, 2.8, -3.8, 2.2, 3.5]\n",
    "\n",
    "are_positive = []  # Объявляем пустой список.\n",
    "for vegetable_yield in vegetable_yields:\n",
    "    list.append(are_positive, vegetable_yield > 0)\n",
    "\n",
    "# Проверим, что получилось:\n",
    "print('are_positive:', are_positive)\n",
    "\n",
    "# Передадим are_positive в функцию all(): все ли элементы вернули True?\n",
    "print('all():', all(are_positive))\n",
    "# Передадим are_positive в функцию any(): есть ли хоть один элемент,\n",
    "# вернувший True?\n",
    "print('any():', any(are_positive))"
   ]
  },
  {
   "cell_type": "code",
   "execution_count": 5,
   "id": "02925ab2",
   "metadata": {},
   "outputs": [
    {
     "name": "stdout",
     "output_type": "stream",
     "text": [
      "Все ли элементы вернули True? False\n",
      "Есть ли хоть один элемент, вернувший True? True\n"
     ]
    }
   ],
   "source": [
    "vegetable_yields = [6.5, 4.3, 2.8, -3.8, 2.2, 3.5]\n",
    "\n",
    "# Все ли проверки вернули True?\n",
    "are_all_positive = all([vegetable_yield > 0 for vegetable_yield in vegetable_yields])\n",
    "\n",
    "# Есть ли хоть один элемент, вернувший True?\n",
    "are_any_positive = any([vegetable_yield > 0 for vegetable_yield in vegetable_yields])\n",
    "\n",
    "print('Все ли элементы вернули True?', are_all_positive)\n",
    "print('Есть ли хоть один элемент, вернувший True?', are_any_positive)"
   ]
  },
  {
   "cell_type": "markdown",
   "id": "a938f33a",
   "metadata": {},
   "source": [
    "***\n",
    "## Работа с вложенными списками"
   ]
  },
  {
   "cell_type": "code",
   "execution_count": null,
   "id": "0961f8e7",
   "metadata": {},
   "outputs": [],
   "source": [
    "garden = [['Помидоры', 'Огурцы', 'Баклажаны'], ['Тыква', 'Перец', 'Капуста'], ['Кабачок', 'Морковь', 'Брюква'], ['Картошка', 'Свёкла', 'Репа']]\n",
    "\n",
    "# Но лучше разбить по строкам:\n",
    "\n",
    "garden = [\n",
    "    ['Помидоры', 'Огурцы', 'Баклажаны'], \n",
    "    ['Тыква', 'Перец', 'Капуста'], \n",
    "    ['Кабачок', 'Морковь', 'Брюква'], \n",
    "    ['Картошка', 'Свёкла', 'Репа']\n",
    "] "
   ]
  },
  {
   "cell_type": "markdown",
   "id": "642f4cb4",
   "metadata": {},
   "source": [
    "Каждая строка — это отдельный список, и все они объединены в один большой список. Списки, в которых каждый элемент — список, а вложенные списки содержат значения, называются **двумерными**. «Первое измерение» — внешний список, «второе» — вложенный.\n",
    "\n",
    "Для доступа к элементам в списке списков используется двойное индексирование:"
   ]
  },
  {
   "cell_type": "code",
   "execution_count": null,
   "id": "c87aaa30",
   "metadata": {},
   "outputs": [],
   "source": [
    "element = имя_списка[индекс_вмещающего_списка][индекс_вложенного_списка]"
   ]
  },
  {
   "cell_type": "code",
   "execution_count": 6,
   "id": "5c08a95b",
   "metadata": {},
   "outputs": [
    {
     "name": "stdout",
     "output_type": "stream",
     "text": [
      "Капуста\n"
     ]
    }
   ],
   "source": [
    "garden = [\n",
    "    ['Помидоры', 'Огурцы', 'Баклажаны'], \n",
    "    ['Тыква', 'Перец', 'Капуста'], \n",
    "    ['Кабачок', 'Морковь', 'Брюква'], \n",
    "    ['Картошка', 'Свёкла', 'Репа']\n",
    "]\n",
    "\n",
    "# Доступ к третьему элементу второй строки\n",
    "result = garden[1][2]\n",
    "\n",
    "print(result)"
   ]
  },
  {
   "cell_type": "markdown",
   "id": "725e2b68",
   "metadata": {},
   "source": [
    "Списки списков могут быть созданы несколькими способами:\n",
    "\n",
    "**Литеральное объявление**: явное объявление элементов списка, так объявлен в примере список `garden`.\n",
    "\n",
    "**При помощи list comprehension**:"
   ]
  },
  {
   "cell_type": "code",
   "execution_count": 7,
   "id": "09a4febe",
   "metadata": {},
   "outputs": [
    {
     "name": "stdout",
     "output_type": "stream",
     "text": [
      "[[0, 0, 0, 0], [0, 0, 0, 0], [0, 0, 0, 0]]\n"
     ]
    }
   ],
   "source": [
    "rows = 3\n",
    "cols = 4\n",
    "matrix = [[0 for _ in range(cols)] for _ in range(rows)]\n",
    "print(matrix)\n",
    "\n",
    "# В результате будет напечатан такой список (но в одну строку)\n",
    "# [\n",
    "#    [0, 0, 0, 0], \n",
    "#    [0, 0, 0, 0], \n",
    "#    [0, 0, 0, 0]\n",
    "# ]"
   ]
  },
  {
   "cell_type": "markdown",
   "id": "cd4cf263",
   "metadata": {},
   "source": [
    "Для перебора элементов вложенных списков используют вложенные циклы."
   ]
  },
  {
   "cell_type": "code",
   "execution_count": 8,
   "id": "3d417295",
   "metadata": {},
   "outputs": [
    {
     "name": "stdout",
     "output_type": "stream",
     "text": [
      "Помидоры\n",
      "Огурцы\n",
      "Баклажаны\n",
      "===\n",
      "Тыква\n",
      "Перец\n",
      "Капуста\n",
      "===\n",
      "Кабачок\n",
      "Морковь\n",
      "Брюква\n",
      "===\n",
      "Картошка\n",
      "Свёкла\n",
      "Репа\n",
      "===\n"
     ]
    }
   ],
   "source": [
    "garden = [\n",
    "    ['Помидоры', 'Огурцы', 'Баклажаны'], \n",
    "    ['Тыква', 'Перец', 'Капуста'], \n",
    "    ['Кабачок', 'Морковь', 'Брюква'], \n",
    "    ['Картошка', 'Свёкла', 'Репа']\n",
    "]\n",
    "\n",
    "for row in garden:\n",
    "    for element in row:\n",
    "        print(element)\n",
    "    print('===')  # Разделитель после каждого вложенного списка."
   ]
  },
  {
   "cell_type": "markdown",
   "id": "3209b450",
   "metadata": {},
   "source": [
    "***\n",
    "# Задание"
   ]
  },
  {
   "cell_type": "code",
   "execution_count": null,
   "id": "6436947f",
   "metadata": {},
   "outputs": [],
   "source": [
    "# Пригодится для наполнения списков!\n",
    "import random\n",
    "\n",
    "# 1. Создание списка списков:\n",
    "harvest = [[random.randint(5, 20) for _ in range(3)] for _ in range(3)]  # Примените list comprehension.\n",
    "\n",
    "# 2. Функция для подсчёта общего урожая:\n",
    "def total_harvest(harvest):\n",
    "    total = 0\n",
    "    for plot in harvest:\n",
    "        total += sum(plot)\n",
    "    return total\n",
    "\n",
    "# 3. Функция для подсчёта среднего урожая с каждого участка:\n",
    "def average_harvest_per_plot(harvest):\n",
    "    average_harvest = []\n",
    "    for plot in harvest:\n",
    "        average_harvest.append(sum(plot) / 3) \n",
    "    return average_harvest\n",
    "\n",
    "# Вывод результатов\n",
    "print('Урожай с каждой грядки на каждом участке:', harvest)\n",
    "print('Общий урожай со всех участков:', total_harvest(harvest))\n",
    "print('Средний урожай с каждого участка:', average_harvest_per_plot(harvest))"
   ]
  },
  {
   "cell_type": "code",
   "execution_count": 13,
   "id": "f4345fa9",
   "metadata": {},
   "outputs": [
    {
     "name": "stdout",
     "output_type": "stream",
     "text": [
      "[[15, 10, 19], [6, 20, 18], [13, 17, 16]]\n",
      "134\n",
      "[14.666666666666666, 14.666666666666666, 15.333333333333334]\n"
     ]
    }
   ],
   "source": [
    "import random\n",
    "harvest = [[random.randint(5, 20) for _ in range(3)] for _ in range(3)]  # Примените list comprehension.\n",
    "print(harvest)\n",
    "\n",
    "def total_harvest(harvest):\n",
    "    total = 0\n",
    "    for plot in harvest:\n",
    "        for num in plot:\n",
    "            total += num\n",
    "    return total\n",
    "\n",
    "print(total_harvest(harvest))\n",
    "\n",
    "def average_harvest_per_plot(harvest):\n",
    "    average_harvest = []\n",
    "    for plot in harvest:\n",
    "        total = 0\n",
    "        for num in plot:\n",
    "            total += num\n",
    "        average_harvest.append(total / 3)\n",
    "    return average_harvest\n",
    "\n",
    "print(average_harvest_per_plot(harvest))"
   ]
  },
  {
   "cell_type": "code",
   "execution_count": 6,
   "id": "b19ced3d",
   "metadata": {},
   "outputs": [
    {
     "name": "stdout",
     "output_type": "stream",
     "text": [
      "[[17, 5, 5], [11, 12, 6], [14, 5, 10]]\n",
      "85\n",
      "[<generator object average_harvest_per_plot.<locals>.<genexpr> at 0x0000023047CF4F90>]\n"
     ]
    }
   ],
   "source": [
    "import random\n",
    "harvest = [[random.randint(5, 20) for _ in range(3)] for _ in range(3)]  # Примените list comprehension.\n",
    "print(harvest)\n",
    "\n",
    "def total_harvest(harvest):\n",
    "    total = 0\n",
    "    for plot in harvest:\n",
    "        total += sum(plot) \n",
    "    return total\n",
    "\n",
    "print(total_harvest(harvest))\n",
    "\n",
    "def average_harvest_per_plot(harvest):\n",
    "    average_harvest = []\n",
    "    average_harvest.append((sum(plot) / 3) for plot in harvest)\n",
    "    #for plot in harvest:\n",
    "    #    average_harvest.append(sum(plot) / 3) \n",
    "    return average_harvest\n",
    "\n",
    "print(average_harvest_per_plot(harvest))"
   ]
  },
  {
   "cell_type": "code",
   "execution_count": 3,
   "id": "7849c49a",
   "metadata": {},
   "outputs": [
    {
     "name": "stdout",
     "output_type": "stream",
     "text": [
      "[[9, 19, 13], [15, 9, 17], [5, 13, 6]]\n",
      "106\n"
     ]
    }
   ],
   "source": [
    "import random\n",
    "harvest = [[random.randint(5, 20) for _ in range(3)] for _ in range(3)]  # Примените list comprehension.\n",
    "print(harvest)\n",
    "\n",
    "def total_harvest(harvest):\n",
    "    #total = sum(sum(plot) for plot in harvest)\n",
    "         \n",
    "    return sum(sum(plot) for plot in harvest)\n",
    "\n",
    "print(total_harvest(harvest))"
   ]
  },
  {
   "cell_type": "code",
   "execution_count": 20,
   "id": "64ce727b",
   "metadata": {},
   "outputs": [
    {
     "name": "stdout",
     "output_type": "stream",
     "text": [
      "[[14, 14, 17], [16, 16, 14], [9, 11, 19]]\n",
      "130\n"
     ]
    }
   ],
   "source": [
    "import random\n",
    "harvest = [[random.randint(5, 20) for _ in range(3)] for _ in range(3)]  # Примените list comprehension.\n",
    "print(harvest)\n",
    "\n",
    "def total_harvest(harvest):\n",
    "    total = 0\n",
    "    for plot in harvest:\n",
    "        total += sum(plot) \n",
    "    return total\n",
    "\n",
    "print(total_harvest(harvest))"
   ]
  },
  {
   "cell_type": "code",
   "execution_count": null,
   "id": "6a8ad4e1",
   "metadata": {},
   "outputs": [],
   "source": []
  }
 ],
 "metadata": {
  "kernelspec": {
   "display_name": "Python 3 (ipykernel)",
   "language": "python",
   "name": "python3"
  },
  "language_info": {
   "codemirror_mode": {
    "name": "ipython",
    "version": 3
   },
   "file_extension": ".py",
   "mimetype": "text/x-python",
   "name": "python",
   "nbconvert_exporter": "python",
   "pygments_lexer": "ipython3",
   "version": "3.9.13"
  }
 },
 "nbformat": 4,
 "nbformat_minor": 5
}
