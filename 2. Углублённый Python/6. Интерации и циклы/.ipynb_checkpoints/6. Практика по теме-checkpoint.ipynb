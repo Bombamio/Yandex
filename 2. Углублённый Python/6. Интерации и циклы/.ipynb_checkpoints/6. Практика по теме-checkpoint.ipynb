{
 "cells": [
  {
   "cell_type": "code",
   "execution_count": null,
   "id": "b85f5b5b",
   "metadata": {},
   "outputs": [],
   "source": [
    "def print_pack_report(starting_value):\n",
    "    # Объявите диапазон от starting_value до 1 включительно\n",
    "    # и переберите его в цикле:\n",
    "    for number in range(...):\n",
    "        # Проверьте, делится ли текущий элемент\n",
    "        # на 3, на 5 и на 3 и 5 одновременно.\n",
    "        # В зависимости от результата проверки\n",
    "        # напечатайте нужную фразу\n",
    "        if number...:\n",
    "            ...\n",
    "\n",
    "\n",
    "print_pack_report(31)"
   ]
  }
 ],
 "metadata": {
  "kernelspec": {
   "display_name": "Python 3 (ipykernel)",
   "language": "python",
   "name": "python3"
  },
  "language_info": {
   "codemirror_mode": {
    "name": "ipython",
    "version": 3
   },
   "file_extension": ".py",
   "mimetype": "text/x-python",
   "name": "python",
   "nbconvert_exporter": "python",
   "pygments_lexer": "ipython3",
   "version": "3.9.13"
  }
 },
 "nbformat": 4,
 "nbformat_minor": 5
}
