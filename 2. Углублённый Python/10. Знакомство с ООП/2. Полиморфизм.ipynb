{
 "cells": [
  {
   "cell_type": "markdown",
   "id": "02f6bbcd",
   "metadata": {},
   "source": [
    "## Полиморфизм «под капотом»\n",
    "\n",
    "У каждого класса в Python есть свой метод `__str__`. Для всех классов, встроенных и пользовательских, значение этого метода по умолчанию определено в базовом классе `object`. \n",
    "\n",
    "Но когда вы вызываете его для встроенных классов, вы получаете разный результат:\n",
    "\n",
    "Если метод `__str__` не переопределить для пользовательского класса, результат его работы будет таким, каким он определён в классе `object`."
   ]
  },
  {
   "cell_type": "code",
   "execution_count": 1,
   "id": "8a94e778",
   "metadata": {},
   "outputs": [
    {
     "name": "stdout",
     "output_type": "stream",
     "text": [
      "<__main__.MobilePhone object at 0x000001DDF17C6510>\n"
     ]
    }
   ],
   "source": [
    "class Phone:\n",
    "\n",
    "    line_type = 'проводной'\n",
    "\n",
    "    def __init__(self, dial_type_value):\n",
    "        self.dial_type = dial_type_value\n",
    "\n",
    "    def ring(self):\n",
    "        print('Дзззззыыыыыыыынь!')\n",
    "\n",
    "    def call(self, phone_number):\n",
    "        print(f'Звоню по номеру {phone_number}! Тип связи - {self.line_type}.')\n",
    "\n",
    "\n",
    "# Вот пользовательский класс MobilePhone.\n",
    "# В нём не переопределён метод __str__.\n",
    "class MobilePhone(Phone):\n",
    "    line_type = 'беспроводной'\n",
    "    battery_type = 'Li-ion'\n",
    "\n",
    "    def __init__(self, dial_type_value, network_type):\n",
    "        self.network_type = network_type\n",
    "        super().__init__(dial_type_value)\n",
    "\n",
    "    def ring(self):\n",
    "        print('Дзынь-дзынь!')\n",
    "\n",
    "    def start_game(self):\n",
    "        print('Игра запущена!')\n",
    "\n",
    "\n",
    "# Создать объект mobile_phone класса MobilePhone\n",
    "mobile_phone = MobilePhone('сенсорный', 'LTE')\n",
    "\n",
    "# Распечатать объект mobile_phone.\n",
    "print(mobile_phone)"
   ]
  },
  {
   "cell_type": "markdown",
   "id": "e61ad032",
   "metadata": {},
   "source": [
    "А если вы переопределите метод `__str__` в классе, вывод будет таким:"
   ]
  },
  {
   "cell_type": "code",
   "execution_count": 2,
   "id": "b95df641",
   "metadata": {},
   "outputs": [
    {
     "name": "stdout",
     "output_type": "stream",
     "text": [
      "У мобильного телефона сенсорный тип набора номера\n"
     ]
    }
   ],
   "source": [
    "class Phone:\n",
    "\n",
    "    line_type = 'проводной'\n",
    "\n",
    "    def __init__(self, dial_type_value):\n",
    "        self.dial_type = dial_type_value\n",
    "\n",
    "    def ring(self):\n",
    "        print('Дзззззыыыыыыыынь!')\n",
    "\n",
    "    def call(self, phone_number):\n",
    "        print(f'Звоню по номеру {phone_number}! Тип связи - {self.line_type}.')\n",
    "\n",
    "\n",
    "class MobilePhone(Phone):\n",
    "    line_type = 'беспроводной'\n",
    "    battery_type = 'Li-ion'\n",
    "\n",
    "    def __init__(self, dial_type_value, network_type):\n",
    "        self.network_type = network_type\n",
    "        super().__init__(dial_type_value)\n",
    "\n",
    "    def ring(self):\n",
    "        print('Дзынь-дзынь!')\n",
    "\n",
    "    def start_game(self):\n",
    "        print('Игра запущена!')\n",
    "\n",
    "    # Здесь переопределён метод __str__ .\n",
    "    def __str__(self):\n",
    "        return f'У мобильного телефона {self.dial_type} тип набора номера'\n",
    "\n",
    "\n",
    "# Создать объект mobile_phone класса MobilePhone\n",
    "mobile_phone = MobilePhone('сенсорный', 'LTE')\n",
    "\n",
    "# Распечатать объект mobile_phone.\n",
    "print(mobile_phone)"
   ]
  },
  {
   "cell_type": "markdown",
   "id": "1c73101f",
   "metadata": {},
   "source": [
    "## Философия полиморфизма\n",
    "\n",
    "Можно создать любое количество экземпляров любых классов, и у каждого из них будут атрибуты и методы родительского класса. **Значения** атрибутов и возможности методов могут отличаться, но сами **атрибуты и методы** остаются."
   ]
  }
 ],
 "metadata": {
  "kernelspec": {
   "display_name": ".venv",
   "language": "python",
   "name": "python3"
  },
  "language_info": {
   "codemirror_mode": {
    "name": "ipython",
    "version": 3
   },
   "file_extension": ".py",
   "mimetype": "text/x-python",
   "name": "python",
   "nbconvert_exporter": "python",
   "pygments_lexer": "ipython3",
   "version": "3.11.0"
  }
 },
 "nbformat": 4,
 "nbformat_minor": 5
}
