{
 "cells": [
  {
   "cell_type": "markdown",
   "id": "01766a94",
   "metadata": {},
   "source": [
    "Например, у вас есть родительский класс `Phone` и дочерний `MobilePhone`:"
   ]
  },
  {
   "cell_type": "code",
   "execution_count": 1,
   "id": "9db5c8ec",
   "metadata": {},
   "outputs": [],
   "source": [
    "# Родительский класс.\n",
    "class Phone:\n",
    "\n",
    "    line_type = 'проводной'\n",
    "\n",
    "    def __init__(self, dial_type_value):\n",
    "        self.dial_type = dial_type_value\n",
    "\n",
    "    def ring(self):\n",
    "        print('Дзззззыыыыыыыынь!')\n",
    "\n",
    "    def call(self, phone_number):\n",
    "        print(f'Звоню по номеру {phone_number}! Тип связи - {self.line_type}.')\n",
    "\n",
    "# Дочерний класс.\n",
    "class MobilePhone(Phone):\n",
    "    line_type = 'беспроводной'\n",
    "    battery_type = 'Li-ion'\n",
    "\n",
    "    def __init__(self, dial_type_value, network_type):\n",
    "        self.network_type = network_type\n",
    "        super().__init__(dial_type_value)\n",
    "\n",
    "    def ring(self):\n",
    "        print('Дзынь-дзынь!')"
   ]
  },
  {
   "cell_type": "markdown",
   "id": "0f68e3ef",
   "metadata": {},
   "source": [
    "У класса `MobilePhone` есть все методы родительского класса `Phone`, в том числе и метод `call()`. Если не заглядывать в код родительского класса, то реализация этого метода скрыта от вас. Но вы можете вызвать метод у соответствующего экземпляра и получить результат:"
   ]
  },
  {
   "cell_type": "code",
   "execution_count": 2,
   "id": "2b5fdcc5",
   "metadata": {},
   "outputs": [
    {
     "name": "stdout",
     "output_type": "stream",
     "text": [
      "Звоню по номеру 555-2368! Тип связи - беспроводной.\n"
     ]
    }
   ],
   "source": [
    "mobile_phone = MobilePhone('сенсорный', 'LTE')\n",
    "\n",
    "# Вызвать метод call().\n",
    "mobile_phone.call('555-2368')"
   ]
  },
  {
   "cell_type": "markdown",
   "id": "2f0b9a00",
   "metadata": {},
   "source": [
    "> Такой механизм, когда детали реализации объекта скрыты, а для взаимодействия с ним предоставлен специальный интерфейс, называется **инкапсуляцией**."
   ]
  },
  {
   "cell_type": "markdown",
   "id": "124ae29f",
   "metadata": {},
   "source": [
    "В Python все атрибуты и методы класса по умолчанию публичные. Это значит, что к ним без ограничений можно обращаться как из класса, так и из любой части программы.\n",
    "\n",
    "Но бывают такие методы и атрибуты, к которым доступ вне класса не нужен или нежелателен. Разработчики могут предупреждать друг друга о подобных методах или атрибутах, делая их защищёнными или приватными.\n",
    "\n",
    "***\n",
    "## Защищённые атрибуты и методы\n",
    "\n",
    "Если нужно показать, что атрибут или метод должен использоваться только для внутренних нужд класса или его наследников, перед названием атрибута или метода добавляют одинарное подчёркивание `_`. Такой атрибут или метод будет считаться защищённым.\n",
    "\n",
    "Например, у всех телефонов есть серийный номер — и у проводных, и у мобильных. С серийным номером нежелательно выполнять какие-либо операции, например менять его. Важно лишь оставить возможность его просмотреть, что можно сделать через публичный метод."
   ]
  },
  {
   "cell_type": "code",
   "execution_count": 3,
   "id": "aeb03c75",
   "metadata": {},
   "outputs": [],
   "source": [
    "class Phone:\n",
    "\n",
    "    line_type = 'проводной'\n",
    "\n",
    "    def __init__(self, dial_type_value):\n",
    "        self.dial_type = dial_type_value\n",
    "        # Вот он - защищённый атрибут. Значением будет\n",
    "        # ID ячейки памяти аргумента dial_type_value.\n",
    "        self._serial_number = id(dial_type_value)\n",
    "\n",
    "    def ring(self):\n",
    "        print('Дзззззыыыыыыыынь!')\n",
    "\n",
    "    def call(self, phone_number):\n",
    "        print(f'Звоню по номеру {phone_number}! Тип связи - {self.line_type}.')\n",
    "\n",
    "class MobilePhone(Phone):\n",
    "    line_type = 'беспроводной'\n",
    "    battery_type = 'Li-ion'\n",
    "\n",
    "    def __init__(self, dial_type_value, network_type):\n",
    "        self.network_type = network_type\n",
    "        super().__init__(dial_type_value)\n",
    "\n",
    "    def ring(self):\n",
    "        print('Дзынь-дзынь!')\n",
    "\n",
    "    # Это публичный метод, в котором используется защищённый атрибут.\n",
    "    # Метод определён в классе-наследнике, защищённые атрибуты можно\n",
    "    # использовать напрямую в базовом классе и его наследниках.\n",
    "    def get_info(self):\n",
    "        print(f'Серийный №: {self._serial_number}, тип: {self.network_type}')"
   ]
  },
  {
   "cell_type": "markdown",
   "id": "d17cec06",
   "metadata": {},
   "source": [
    "> Увидев такой атрибут в коде, разработчик будет понимать, что желательно использовать его только внутри класса или его наследников. Хотя ничто не помешает разработчику обратиться к этому атрибуту не только через метод, но и напрямую из любой части программы:"
   ]
  },
  {
   "cell_type": "code",
   "execution_count": 6,
   "id": "3b6a7991",
   "metadata": {},
   "outputs": [
    {
     "name": "stdout",
     "output_type": "stream",
     "text": [
      "Серийный №: 1847445022944, тип: LTE\n",
      "1847445023056\n",
      "1847445022944\n"
     ]
    }
   ],
   "source": [
    "mobile_phone_1 = Phone('дисковый')\n",
    "mobile_phone_2 = MobilePhone('сенсорный', 'LTE')\n",
    "\n",
    "# Обращение через метод.\n",
    "mobile_phone_2.get_info()\n",
    "# Обращение напрямую.\n",
    "print(mobile_phone_1._serial_number)\n",
    "print(mobile_phone_2._serial_number)"
   ]
  },
  {
   "cell_type": "markdown",
   "id": "b98963be",
   "metadata": {},
   "source": [
    "Одинарное подчёркивание перед атрибутом — это предупреждение для других разработчиков: «Обрати внимание, этот атрибут или метод используется только для внутренних нужд класса и его наследников, но если он тебе действительно нужен — к нему доступ есть».\n",
    "\n",
    "Если же важно именно ограничить доступ к методу или атрибуту, можно сделать его приватным.\n",
    "\n",
    "***\n",
    "## Приватные атрибуты и методы\n",
    "\n",
    "Для Python атрибут или метод, имя которого начинается с двойного подчёркивания `__`, — приватный. К этому атрибуту можно обратиться внутри класса, а вот вне класса просто так сделать это не получится.\n",
    "\n",
    "У класса `MobilePhone` есть атрибут `network_type`, в котором хранится стандарт связи. Маловероятно, что стандарт связи в конкретном экземпляре мобильного телефона может быть изменён. Чтобы исключить непреднамеренное изменение атрибута, его можно сделать приватным. "
   ]
  },
  {
   "cell_type": "code",
   "execution_count": null,
   "id": "6742d52c",
   "metadata": {},
   "outputs": [
    {
     "name": "stdout",
     "output_type": "stream",
     "text": [
      "Серийный №: 1847446744608, тип сети: LTE\n"
     ]
    },
    {
     "ename": "AttributeError",
     "evalue": "'MobilePhone' object has no attribute '__network_type'",
     "output_type": "error",
     "traceback": [
      "\u001b[31m---------------------------------------------------------------------------\u001b[39m",
      "\u001b[31mAttributeError\u001b[39m                            Traceback (most recent call last)",
      "\u001b[36mCell\u001b[39m\u001b[36m \u001b[39m\u001b[32mIn[9]\u001b[39m\u001b[32m, line 43\u001b[39m\n\u001b[32m     41\u001b[39m mobile_phone_2.get_info()\n\u001b[32m     42\u001b[39m \u001b[38;5;66;03m# Вывести приватный атрибут на печать.\u001b[39;00m\n\u001b[32m---> \u001b[39m\u001b[32m43\u001b[39m \u001b[38;5;28mprint\u001b[39m(\u001b[43mmobile_phone_2\u001b[49m\u001b[43m.\u001b[49m\u001b[43m__network_type\u001b[49m)\n\u001b[32m     45\u001b[39m \u001b[38;5;66;03m# Выведется:\u001b[39;00m\n\u001b[32m     46\u001b[39m \n\u001b[32m     47\u001b[39m \u001b[38;5;66;03m# Серийный номер: 140479396726016, тип сети: LTE\u001b[39;00m\n\u001b[32m   (...)\u001b[39m\u001b[32m     50\u001b[39m \u001b[38;5;66;03m#    print(mobile_phone_2.__network_type)\u001b[39;00m\n\u001b[32m     51\u001b[39m \u001b[38;5;66;03m# AttributeError: 'MobilePhone' object has no attribute '__network_type'\u001b[39;00m\n",
      "\u001b[31mAttributeError\u001b[39m: 'MobilePhone' object has no attribute '__network_type'"
     ]
    }
   ],
   "source": [
    "class Phone:\n",
    "\n",
    "    line_type = 'проводной'\n",
    "\n",
    "    def __init__(self, dial_type_value):\n",
    "        self.dial_type = dial_type_value\n",
    "        # Вот он - защищённый атрибут. Значением будет\n",
    "        # ID ячейки памяти аргумента dial_type_value.\n",
    "        self._serial_number = id(dial_type_value)\n",
    "\n",
    "    def ring(self):\n",
    "        print('Дзззззыыыыыыыынь!')\n",
    "\n",
    "    def call(self, phone_number):\n",
    "        print(f'Звоню по номеру {phone_number}! Тип связи - {self.line_type}.')\n",
    "\n",
    "\n",
    "class MobilePhone(Phone):\n",
    "    line_type = 'беспроводной'\n",
    "    battery_type = 'Li-ion'\n",
    "\n",
    "    def __init__(self, dial_type_value, network_type):\n",
    "        # Вот он - приватный атрибут.\n",
    "        self.__network_type = network_type\n",
    "        super().__init__(dial_type_value)\n",
    "\n",
    "    def ring(self):\n",
    "        print('Дзынь-дзынь!')\n",
    "\n",
    "    def get_info(self):\n",
    "        # Из метода класса можно обратиться к приватному атрибуту.\n",
    "        print(\n",
    "            f'Серийный №: {self._serial_number}, '\n",
    "            f'тип сети: {self.__network_type}'\n",
    "        )\n",
    "\n",
    "mobile_phone_1 = Phone('дисковый')\n",
    "mobile_phone_2 = MobilePhone('сенсорный', 'LTE')\n",
    "\n",
    "# Вызвать метод, в котором используется приватный атрибут\n",
    "mobile_phone_2.get_info()\n",
    "# Вывести приватный атрибут на печать.\n",
    "print(mobile_phone_2.__network_type)"
   ]
  },
  {
   "cell_type": "markdown",
   "id": "0cae081e",
   "metadata": {},
   "source": [
    "В Python приватные атрибуты и методы наследуются дочерними классами. Однако из-за механизма именования, известного как name mangling («искажение имён»), доступ к ним становится менее прямолинейным.\n",
    "\n",
    "Когда вы определяете атрибут или метод, имя которого начинается с двойного подчёркивания, Python автоматически изменяет его имя, добавляя к нему `_ИмяКласса`. Например, если у вас есть класс `A` с приватным атрибутом `__priv_attr`, Python преобразует его имя в `_A__priv_attr`. Это делается для того, чтобы минимизировать конфликты имён при наследовании."
   ]
  },
  {
   "cell_type": "markdown",
   "id": "51d026fe",
   "metadata": {},
   "source": [
    "# Задание"
   ]
  },
  {
   "cell_type": "code",
   "execution_count": null,
   "id": "f42d31be",
   "metadata": {},
   "outputs": [
    {
     "name": "stdout",
     "output_type": "stream",
     "text": [
      "У сотрудника осталось 22 дн. отпуска.\n",
      "За 10 дн. отпуска сотрудник получит 7500 руб.\n"
     ]
    }
   ],
   "source": [
    "class Employee:\n",
    "    vacation_days: int = 28\n",
    "\n",
    "    def __init__(\n",
    "        self,\n",
    "        first_name: str,\n",
    "        last_name: str,\n",
    "        gender: str,\n",
    "    ):\n",
    "        self.first_name = first_name\n",
    "        self.last_name = last_name\n",
    "        self.gender = gender\n",
    "        self.remaining_vacation_days = self.vacation_days\n",
    "        self._employee_id = self.__generate_employee_id()\n",
    "\n",
    "    def consume_vacation(self, days: int):\n",
    "        self.remaining_vacation_days -= days\n",
    "\n",
    "    def get_remaining_vacation_days(self) -> int:\n",
    "        return self.remaining_vacation_days\n",
    "    \n",
    "    def __generate_employee_id(self):\n",
    "        employee_id = hash(self.first_name + self.last_name + self.gender)\n",
    "        return employee_id\n",
    "    \n",
    "\n",
    "class OfficeEmployee(Employee):\n",
    "    def __init__(\n",
    "        self,\n",
    "        first_name: str,\n",
    "        last_name: str,\n",
    "        gender: str,\n",
    "        worker_class: int,\n",
    "        salary: int\n",
    "    ):\n",
    "        super().__init__(first_name, last_name, gender)\n",
    "        self.worker_class = worker_class\n",
    "        self.remaining_vacation_days = self.vacation_days + (self.worker_class * 2)\n",
    "        self.__salary = salary\n",
    "\n",
    "    def get_vacation_payment(self, days: int):\n",
    "        return int(days * (self.__salary / 60))\n",
    "\n",
    "\n",
    "# Пример использования:\n",
    "office_employee = OfficeEmployee(\n",
    "    first_name='Иван',\n",
    "    last_name='Иванов',\n",
    "    gender='м',\n",
    "    worker_class=2,\n",
    "    salary=45000\n",
    ")\n",
    "\n",
    "vacation_days = 10\n",
    "\n",
    "office_employee.consume_vacation(vacation_days)\n",
    "\n",
    "remaining_days = office_employee.get_remaining_vacation_days()\n",
    "print(f'У сотрудника осталось {remaining_days} дн. отпуска.')\n",
    "\n",
    "vacation_payment = office_employee.get_vacation_payment(vacation_days)\n",
    "print(f'За {vacation_days} дн. отпуска сотрудник получит {vacation_payment} руб.')"
   ]
  },
  {
   "cell_type": "code",
   "execution_count": null,
   "id": "f6edb8fa",
   "metadata": {},
   "outputs": [],
   "source": []
  }
 ],
 "metadata": {
  "kernelspec": {
   "display_name": ".venv",
   "language": "python",
   "name": "python3"
  },
  "language_info": {
   "codemirror_mode": {
    "name": "ipython",
    "version": 3
   },
   "file_extension": ".py",
   "mimetype": "text/x-python",
   "name": "python",
   "nbconvert_exporter": "python",
   "pygments_lexer": "ipython3",
   "version": "3.11.0"
  }
 },
 "nbformat": 4,
 "nbformat_minor": 5
}
