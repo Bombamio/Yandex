{
 "cells": [
  {
   "cell_type": "markdown",
   "id": "7930967c",
   "metadata": {},
   "source": [
    "# Задание 1"
   ]
  },
  {
   "cell_type": "code",
   "execution_count": 1,
   "id": "2a10a8dd",
   "metadata": {},
   "outputs": [
    {
     "name": "stdout",
     "output_type": "stream",
     "text": [
      "Гиря малая (в наличии: 15). Вес: 2 кг\n",
      "Футболка (в наличии: 5). Размер: L\n"
     ]
    }
   ],
   "source": [
    "class Product:\n",
    "    # Опишите инициализатор класса.\n",
    "    # Инициализатор должен принять на вход\n",
    "    # название (name) и количество (quantity) товара.\n",
    "    # В теле инициализатора задайте соответствующие атрибуты экземпляра класса.\n",
    "    def __init__(self, name, quantity):\n",
    "        self.name = name\n",
    "        self.quantity = quantity\n",
    "\n",
    "    def get_basic_info(self):\n",
    "        return f'{self.name} (в наличии: {self.quantity})'\n",
    "\n",
    "    def get_full_info(self):\n",
    "        pass\n",
    "\n",
    "\n",
    "class Kettlebell(Product):\n",
    "    # Опишите инициализатор класса и переопределите метод get_full_info()\n",
    "    def __init__(self, name, quantity, weight):\n",
    "        super().__init__(name, quantity)\n",
    "        self.weight = weight\n",
    "\n",
    "    def get_full_info(self):\n",
    "        return f'{self.get_basic_info()}. Вес: {self.weight} кг'\n",
    "\n",
    "\n",
    "class Clothing(Product):\n",
    "    # Опишите инициализатор класса и переопределите метод get_full_info()\n",
    "    def __init__(self, name, quantity, size):\n",
    "        super().__init__(name, quantity)\n",
    "        self.size = size\n",
    "\n",
    "    def get_full_info(self):\n",
    "        return f'{self.get_basic_info()}. Размер: {self.size}'\n",
    "\n",
    "\n",
    "# Для проверки вашего кода создадим пару объектов...\n",
    "small_kettlebell = Kettlebell('Гиря малая', 15, 2)\n",
    "shirt = Clothing('Футболка', 5, 'L')\n",
    "\n",
    "# ...и вызовем их методы:\n",
    "print(small_kettlebell.get_full_info())\n",
    "print(shirt.get_full_info())"
   ]
  },
  {
   "cell_type": "markdown",
   "id": "85fc6707",
   "metadata": {},
   "source": [
    "# Задание 2"
   ]
  },
  {
   "cell_type": "code",
   "execution_count": null,
   "id": "8a091e92",
   "metadata": {},
   "outputs": [
    {
     "name": "stdout",
     "output_type": "stream",
     "text": [
      "Магазин по адресу Улица Немига, 57 29.03.2024 работает\n",
      "Магазин по адресу Улица Немига, 57 30.03.2024 не работает\n",
      "Магазин по адресу Улица Толе би, 321 29.03.2024 не работает\n",
      "Магазин по адресу Улица Толе би, 321 30.03.2024 работает\n",
      "Магазин по адресу Улица Арбат, 60 29.03.2024 работает\n",
      "Магазин по адресу Улица Арбат, 60 30.03.2024 работает\n"
     ]
    }
   ],
   "source": [
    "from datetime import datetime\n",
    "\n",
    "\n",
    "class Store:\n",
    "    def __init__(self, address):\n",
    "        self.address: str = address\n",
    "\n",
    "    def __is_open(self, date) -> bool:\n",
    "        # Метод __is_open() в родительском классе всегда возвращает False,\n",
    "        # это \"код-заглушка\", метод, предназначенный для переопределения\n",
    "        # в дочерних классах.\n",
    "        # Не переопределяйте содержимое этого метода.\n",
    "        return False\n",
    "\n",
    "    def get_info(self, text_date) -> str:\n",
    "        # С помощью шаблона даты преобразуйте строку date_str в объект даты:\n",
    "        date_object = datetime.strptime(text_date, '%d.%m.%Y')\n",
    "\n",
    "        # Передайте в метод __is_open() объект даты date_object и определите,\n",
    "        # работает ли магазин в указанную дату.\n",
    "        # В зависимости от результата будет выбрано значение\n",
    "        # для переменной info.\n",
    "        if self.__is_open(date_object):\n",
    "            info = 'работает'\n",
    "        else:\n",
    "            info = 'не работает'\n",
    "        return f'Магазин по адресу {self.address} {text_date} {info}'\n",
    "\n",
    "\n",
    "class MiniStore(Store):\n",
    "    # Переопределите метод __is_open().\n",
    "    # Обратите внимание на имя метода/name mangling\n",
    "    def _Store__is_open(self, date: datetime) -> bool:\n",
    "        if datetime.weekday(date) != 5 and datetime.weekday(date) != 6:\n",
    "            return True\n",
    "        else:\n",
    "            return False\n",
    "\n",
    "\n",
    "class WeekendStore(Store):\n",
    "    # Переопределите метод __is_open().\n",
    "    # Обратите внимание на имя метода/name mangling\n",
    "    def _Store__is_open(self, date: datetime) -> bool:\n",
    "        if datetime.weekday(date) == 5 or datetime.weekday(date) == 6:\n",
    "            return True\n",
    "        else:\n",
    "            return False\n",
    "\n",
    "\n",
    "class NonStopStore(Store):\n",
    "    # Переопределите метод __is_open().\n",
    "    # Обратите внимание на имя метода/name mangling\n",
    "    def _Store__is_open(self, date: datetime) -> bool:\n",
    "        return True\n",
    "\n",
    "\n",
    "mini_store = MiniStore('Улица Немига, 57')\n",
    "print(mini_store.get_info('29.03.2024'))\n",
    "print(mini_store.get_info('30.03.2024'))\n",
    "\n",
    "weekend_store = WeekendStore('Улица Толе би, 321')\n",
    "print(weekend_store.get_info('29.03.2024'))\n",
    "print(weekend_store.get_info('30.03.2024'))\n",
    "\n",
    "non_stop_store = NonStopStore('Улица Арбат, 60')\n",
    "print(non_stop_store.get_info('29.03.2024'))\n",
    "print(non_stop_store.get_info('30.03.2024'))"
   ]
  },
  {
   "cell_type": "markdown",
   "id": "02a956af",
   "metadata": {},
   "source": [
    "# Задание 3"
   ]
  },
  {
   "cell_type": "code",
   "execution_count": 16,
   "id": "4b4fd80b",
   "metadata": {},
   "outputs": [
    {
     "name": "stdout",
     "output_type": "stream",
     "text": [
      "С исходной скидкой Иван Иванович заплатит 76.5 рублей вместо 85\n",
      "С новой скидкой Иван Иванович заплатит 17.0 рублей вместо 85\n"
     ]
    }
   ],
   "source": [
    "class Customer:\n",
    "    def __init__(self, name: str):\n",
    "        self.name = name\n",
    "        # Добавьте сюда приватный атрибут \"скидка\"\n",
    "        # со значением по умолчанию 10.\n",
    "        self.__discount = 10\n",
    "\n",
    "    # Метод set_discount() принимает на вход\n",
    "    # новое значение для приватного атрибута \"скидка\".\n",
    "    # Если new_value превышает 80 -\n",
    "    # новое значение скидки должно стать 80.\n",
    "    # Метод не должен ничего возвращать.\n",
    "    def set_discount(self, new_value: int):\n",
    "        if new_value >= 80:\n",
    "            new_value = 80\n",
    "        self.__discount = new_value\n",
    "\n",
    "    # Метод get_price() получает на вход исходную стоимость товара\n",
    "    # и должен вернуть новую цену товара с учётом\n",
    "    # скидки покупателя.\n",
    "    # Возвращаемое значение округлите до двух знаков после запятой.\n",
    "    def get_price(self, price: int) -> float:\n",
    "        new_pruce = price - (price * self.__discount * 0.01)\n",
    "        return round(new_pruce, 2)\n",
    "\n",
    "\n",
    "# Проверим работу программы.\n",
    "# Создаём объект покупателя:\n",
    "customer = Customer('Иван Иванович')\n",
    "\n",
    "original_price = 85\n",
    "\n",
    "print(\n",
    "    f'С исходной скидкой Иван Иванович заплатит '\n",
    "    f'{customer.get_price(original_price)} рублей вместо {original_price}'\n",
    ")\n",
    "# Изменим скидку до неприемлемого уровня.\n",
    "# Метод set_discount() должен установить размер скидки равным 80.\n",
    "customer.set_discount(90)\n",
    "print(\n",
    "    f'С новой скидкой Иван Иванович заплатит '\n",
    "    f'{customer.get_price(original_price)} рублей вместо {original_price}'\n",
    ")"
   ]
  }
 ],
 "metadata": {
  "kernelspec": {
   "display_name": ".venv",
   "language": "python",
   "name": "python3"
  },
  "language_info": {
   "codemirror_mode": {
    "name": "ipython",
    "version": 3
   },
   "file_extension": ".py",
   "mimetype": "text/x-python",
   "name": "python",
   "nbconvert_exporter": "python",
   "pygments_lexer": "ipython3",
   "version": "3.11.0"
  }
 },
 "nbformat": 4,
 "nbformat_minor": 5
}
