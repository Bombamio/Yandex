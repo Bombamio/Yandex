{
 "cells": [
  {
   "cell_type": "markdown",
   "id": "6d816ee4",
   "metadata": {},
   "source": [
    "# Родительский класс\n",
    "\n",
    "Родительский класс телефона у вас уже есть — `Phone`. Это обычный класс с инициализатором, атрибутами и методами, с помощью которого можно создавать объекты:"
   ]
  },
  {
   "cell_type": "code",
   "execution_count": 2,
   "id": "fc917f19",
   "metadata": {},
   "outputs": [
    {
     "name": "stdout",
     "output_type": "stream",
     "text": [
      "проводной\n",
      "Дзззззыыыыыыыынь!\n"
     ]
    }
   ],
   "source": [
    "class Phone:\n",
    "    line_type = 'проводной'\n",
    "\n",
    "    def __init__(self, dial_type_value):\n",
    "        self.dial_type = dial_type_value\n",
    "\n",
    "    def ring(self):\n",
    "        print('Дзззззыыыыыыыынь!')\n",
    "\n",
    "    def call(self, phone_number):\n",
    "        print(f'Звоню по номеру {phone_number}! Тип связи - {self.line_type}.')\n",
    "\n",
    "rotary_phone = Phone('дисковый')\n",
    "\n",
    "print(rotary_phone.line_type)\n",
    "rotary_phone.ring()"
   ]
  },
  {
   "cell_type": "markdown",
   "id": "634f20e6",
   "metadata": {},
   "source": [
    "***\n",
    "# Дочерний класс\n",
    "\n",
    "Чтобы создать дочерний класс, нужно унаследовать его от родительского класса. \n",
    "\n",
    "Для этого используется синтаксис наследования:"
   ]
  },
  {
   "cell_type": "code",
   "execution_count": null,
   "id": "06bc1e1f",
   "metadata": {},
   "outputs": [],
   "source": [
    "# Родительский класс.\n",
    "class Phone:\n",
    "\n",
    "    # Атрибут базового класса.\n",
    "    line_type = 'проводной'\n",
    "\n",
    "    # Инициализатор базового класса.\n",
    "    def __init__(self, dial_type_value):\n",
    "        self.dial_type = dial_type_value\n",
    "\n",
    "    # Метод базового класса.\n",
    "    def ring(self):\n",
    "        print('Дзззззыыыыыыыынь!')\n",
    "\n",
    "    # Ещё один метод базового класса.\n",
    "    def call(self, phone_number):\n",
    "        print(f'Звоню по номеру {phone_number}! Тип связи - {self.line_type}.')\n",
    "\n",
    "# Дочерний класс, унаследованный от класса Phone.\n",
    "class MobilePhone(Phone):\n",
    "    pass"
   ]
  },
  {
   "cell_type": "markdown",
   "id": "4b5d3121",
   "metadata": {},
   "source": [
    "В теле нового класса нет кода, но он вполне рабочий, потому что наследует все методы и атрибуты родительского класса `Phone`.\n",
    "\n",
    "Например, вы можете создать объект класса `MobilePhone`, задать ему свой тип набора и попросить его «прозвенеть»:"
   ]
  },
  {
   "cell_type": "code",
   "execution_count": 3,
   "id": "2d81c50b",
   "metadata": {},
   "outputs": [
    {
     "name": "stdout",
     "output_type": "stream",
     "text": [
      "Дзззззыыыыыыыынь!\n"
     ]
    }
   ],
   "source": [
    "class Phone:\n",
    "\n",
    "    line_type = 'проводной'\n",
    "\n",
    "    def __init__(self, dial_type_value):\n",
    "        self.dial_type = dial_type_value\n",
    "\n",
    "    def ring(self):\n",
    "        print('Дзззззыыыыыыыынь!')\n",
    "\n",
    "    def call(self, phone_number):\n",
    "        print(f'Звоню по номеру {phone_number}! Тип связи - {self.line_type}.')\n",
    "\n",
    "class MobilePhone(Phone):\n",
    "    pass\n",
    "\n",
    "mobile_phone = MobilePhone('сенсорный')\n",
    "\n",
    "mobile_phone.ring()\n"
   ]
  },
  {
   "cell_type": "markdown",
   "id": "e6b367d2",
   "metadata": {},
   "source": [
    "> Наследование позволяет избежать дублирования кода, так как общие элементы можно однажды описать в родительском классе, и они автоматически перейдут ко всем дочерним классам. "
   ]
  },
  {
   "cell_type": "markdown",
   "id": "014cffec",
   "metadata": {},
   "source": [
    "***\n",
    "## Переопределение атрибутов и методов\n",
    "\n",
    "Дочерний класс `MobilePhone` унаследовал всё-всё, что есть в родительском классе `Phone`, в том числе и атрибут `line_type` со значением проводной. Но мобильные телефоны для передачи связи используют не проводные линии, а беспроводные. Это можно отразить в вашем коде, ведь в дочернем классе можно переопределять и расширять атрибуты и методы, унаследованные от родительского класса. Для этого при описании дочернего класса нужно объявить атрибут или метод с таким же именем, как в родительском классе, и описать его по-новому."
   ]
  },
  {
   "cell_type": "code",
   "execution_count": 1,
   "id": "5cc2b705",
   "metadata": {},
   "outputs": [
    {
     "name": "stdout",
     "output_type": "stream",
     "text": [
      "проводной\n",
      "Дзззззыыыыыыыынь!\n",
      "беспроводной\n",
      "Дзынь-дзынь!\n"
     ]
    }
   ],
   "source": [
    "class Phone:\n",
    "\n",
    "    line_type = 'проводной'\n",
    "\n",
    "    def __init__(self, dial_type_value):\n",
    "        self.dial_type = dial_type_value\n",
    "\n",
    "    def ring(self):\n",
    "        print('Дзззззыыыыыыыынь!')\n",
    "\n",
    "    def call(self, phone_number):\n",
    "        print(f'Звоню по номеру {phone_number}! Тип связи - {self.line_type}.')\n",
    "\n",
    "class MobilePhone(Phone):\n",
    "    # Переопределить значение атрибута line_type класса Phone.\n",
    "    line_type = 'беспроводной'\n",
    "\n",
    "    # Переопределить метод ring() класса Phone.\n",
    "    def ring(self):\n",
    "        print('Дзынь-дзынь!')\n",
    "\n",
    "rotary_phone = Phone('дисковый')\n",
    "mobile_phone = MobilePhone('сенсорный')\n",
    "\n",
    "# Распечатать значение атрибута line_type для объекта класса Phone.\n",
    "print(rotary_phone.line_type)\n",
    "# Вызвать метод ring() для объекта класса Phone.\n",
    "rotary_phone.ring()\n",
    "\n",
    "# Распечатать значение атрибута line_type для объекта класса MobilePhone.\n",
    "print(mobile_phone.line_type)\n",
    "# Вызвать метод ring() для объекта класса MobilePhone.\n",
    "mobile_phone.ring()"
   ]
  },
  {
   "cell_type": "markdown",
   "id": "8e8ca3ad",
   "metadata": {},
   "source": [
    "> Объекты и родительского, и дочернего класса обращаются к одному и тому же атрибуту и методу, но результат получается разный."
   ]
  },
  {
   "cell_type": "markdown",
   "id": "09ade20c",
   "metadata": {},
   "source": [
    "***\n",
    "## Добавление новых атрибутов и методов"
   ]
  },
  {
   "cell_type": "markdown",
   "id": "4762795c",
   "metadata": {},
   "source": [
    "Для создания такого атрибута вам понадобится инициализатор класса. В дочернем классе его не нужно описывать с нуля — можно задействовать родительский инициализатор. Нужно лишь расширить его дополнительным кодом по такому плану:\n",
    "\n",
    "1. Объявить инициализатор класса `MobilePhone`.\n",
    "2. Добавить в него новый атрибут `network_type`.\n",
    "3. Вызвать родительский инициализатор. Для этого вам понадобится функция `super()`."
   ]
  },
  {
   "cell_type": "code",
   "execution_count": null,
   "id": "d35c8fef",
   "metadata": {},
   "outputs": [],
   "source": [
    "class Phone:\n",
    "\n",
    "    line_type = 'проводной'\n",
    "\n",
    "    def __init__(self, dial_type_value):\n",
    "        self.dial_type = dial_type_value\n",
    "\n",
    "    def ring(self):\n",
    "        print('Дзззззыыыыыыыынь!')\n",
    "\n",
    "    def call(self, phone_number):\n",
    "        print(f'Звоню по номеру {phone_number}! Тип связи - {self.line_type}.')\n",
    "\n",
    "class MobilePhone(Phone):\n",
    "    line_type = 'беспроводной'\n",
    "    battery_type = 'Li-ion'\n",
    "\n",
    "    # Инициализатор класса MobilePhone с новым параметром - network_type.\n",
    "    def __init__(self, dial_type_value, network_type):\n",
    "        # Вызов родительского инициализатора.\n",
    "        super().__init__(dial_type_value)\n",
    "        # Новый атрибут объекта.\n",
    "        self.network_type = network_type\n",
    "\n",
    "    def ring(self):\n",
    "        print('Дзынь-дзынь!')"
   ]
  },
  {
   "cell_type": "markdown",
   "id": "1a896af4",
   "metadata": {},
   "source": [
    "> В Python принято сначала вызывать родительский инициализатор, а затем инициализировать собственные атрибуты класса-наследника. Это позволяет правильно настроить базовый класс до того, как будут использоваться какие-либо его атрибуты в дочернем классе."
   ]
  },
  {
   "cell_type": "code",
   "execution_count": 3,
   "id": "eeb0d2c2",
   "metadata": {},
   "outputs": [
    {
     "name": "stdout",
     "output_type": "stream",
     "text": [
      "Li-ion\n",
      "LTE\n",
      "Игра запущена!\n"
     ]
    }
   ],
   "source": [
    "class Phone:\n",
    "\n",
    "    line_type = 'проводной'\n",
    "\n",
    "    def __init__(self, dial_type_value):\n",
    "        self.dial_type = dial_type_value\n",
    "\n",
    "    def ring(self):\n",
    "        print('Дзззззыыыыыыыынь!')\n",
    "\n",
    "    def call(self, phone_number):\n",
    "        print(f'Звоню по номеру {phone_number}! Тип связи - {self.line_type}.')\n",
    "\n",
    "class MobilePhone(Phone):\n",
    "    line_type = 'беспроводной'\n",
    "    battery_type = 'Li-ion'\n",
    "\n",
    "    def __init__(self, dial_type_value, network_type):\n",
    "        super().__init__(dial_type_value)\n",
    "        self.network_type = network_type\n",
    "\n",
    "    def ring(self):\n",
    "        print('Дзынь-дзынь!')\n",
    "\n",
    "    # Новый метод.\n",
    "    def start_game(self):\n",
    "        print('Игра запущена!')\n",
    "\n",
    "mobile_phone = MobilePhone('сенсорный', 'LTE')\n",
    "\n",
    "print(mobile_phone.battery_type)\n",
    "print(mobile_phone.network_type)\n",
    "mobile_phone.start_game()"
   ]
  },
  {
   "cell_type": "markdown",
   "id": "eed2db37",
   "metadata": {},
   "source": [
    "> У объектов дочерних классов есть доступ к атрибутам и методам родительского класса, а вот объекты родительского класса не могут воспользоваться возможностями дочернего. "
   ]
  },
  {
   "cell_type": "markdown",
   "id": "650d285b",
   "metadata": {},
   "source": [
    "***\n",
    "## И напоследок…\n",
    "\n",
    "Для класса `Phone` не указан родительский класс, но это не значит, что у него нет родителя."
   ]
  },
  {
   "cell_type": "markdown",
   "id": "6a4bb4db",
   "metadata": {},
   "source": [
    "> В Python все классы напрямую или через классы-родители — наследники встроенного базового класса `object`. Это значит, что все классы в Python могут использовать методы класса `object`. Например, знакомый вам метод `__str__()` определён именно в классе `object`."
   ]
  },
  {
   "cell_type": "markdown",
   "id": "16af41eb",
   "metadata": {},
   "source": [
    "***\n",
    "# Задание"
   ]
  },
  {
   "cell_type": "code",
   "execution_count": 8,
   "id": "a3279042",
   "metadata": {},
   "outputs": [
    {
     "name": "stdout",
     "output_type": "stream",
     "text": [
      "Начало неоплачиваемого отпуска: 2023-07-01, продолжительность: 5 дней.\n",
      "Остаток отпускных дней: 14.\n"
     ]
    }
   ],
   "source": [
    "from datetime import datetime, timedelta\n",
    "\n",
    "\n",
    "class Employee:\n",
    "    vacation_days = 28\n",
    "\n",
    "    def __init__(self, first_name, second_name, gender):\n",
    "        self.first_name = first_name\n",
    "        self.second_name = second_name\n",
    "        self.gender = gender\n",
    "        self.remaining_vacation_days = self.vacation_days\n",
    "\n",
    "    def consume_vacation(self, days):\n",
    "        self.remaining_vacation_days -= days\n",
    "\n",
    "    def get_vacation_details(self):\n",
    "        return f'Остаток отпускных дней: {self.remaining_vacation_days}.'\n",
    "    \n",
    "\n",
    "class FullTimeEmployee(Employee):\n",
    "    vacation_days = 28\n",
    "\n",
    "    def get_unpaid_vacation(self, start_date, day_value):\n",
    "        self.start_date = datetime.strptime(start_date, '%Y-%m-%d')\n",
    "        self.day_value = timedelta(days=day_value)\n",
    "        duration = datetime.date(self.start_date) - self.day_value\n",
    "        return f'Начало неоплачиваемого отпуска: {datetime.date(self.start_date)}, продолжительность: {self.day_value.days} дней.'\n",
    "\n",
    "\n",
    "class PartTimeEmployee(Employee):\n",
    "    vacation_days = 14\n",
    "\n",
    "\n",
    "full_time_employee = FullTimeEmployee('Роберт', 'Крузо', 'м')\n",
    "print(full_time_employee.get_unpaid_vacation('2023-07-01', 5))\n",
    "part_time_employee = PartTimeEmployee('Алёна', 'Пятницкая', 'ж')\n",
    "print(part_time_employee.get_vacation_details())"
   ]
  }
 ],
 "metadata": {
  "kernelspec": {
   "display_name": ".venv",
   "language": "python",
   "name": "python3"
  },
  "language_info": {
   "codemirror_mode": {
    "name": "ipython",
    "version": 3
   },
   "file_extension": ".py",
   "mimetype": "text/x-python",
   "name": "python",
   "nbconvert_exporter": "python",
   "pygments_lexer": "ipython3",
   "version": "3.11.0"
  }
 },
 "nbformat": 4,
 "nbformat_minor": 5
}
