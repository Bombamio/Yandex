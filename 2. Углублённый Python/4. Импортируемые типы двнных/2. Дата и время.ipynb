{
 "cells": [
  {
   "cell_type": "markdown",
   "id": "887f9f6c",
   "metadata": {},
   "source": [
    "# Python и время\n",
    "\n",
    "Компьютеры и программы обычно хранят время в секундах — и вычисления проводят именно в секундах: так проще выполнять арифметические операции. А результат вычислений всегда можно перевести в минуты, часы или годы, в зависимости от требований."
   ]
  },
  {
   "cell_type": "code",
   "execution_count": 1,
   "id": "4eec806c",
   "metadata": {},
   "outputs": [
    {
     "name": "stdout",
     "output_type": "stream",
     "text": [
      "Дней до дедлайна: 25\n"
     ]
    }
   ],
   "source": [
    "second = 1\n",
    "minute = 60 * second\n",
    "hour = 60 * minute\n",
    "day = 24 * hour\n",
    "\n",
    "# Тут считается, сколько секунд пройдёт \n",
    "# с начала года до 12 октября и до 6 ноября невисокосного года.\n",
    "# А потом находится разница между полученными значениями.\n",
    "difference_seconds = (31 * day + 28 * day + 31 * day + 30 * day + 31 * day + 30 * day + 31 * day + 31 * day + 30 * day + 31 * day + 6 * day) - (31 * day + 28 * day + 31 * day + 30 * day + 31 * day + 30 * day + 31 * day + 31 * day + 30 * day + 12 * day)\n",
    "\n",
    "# Чтобы узнать полное количество дней до дедлайна,\n",
    "# применяем целочисленное деление:\n",
    "difference_days = difference_seconds // day\n",
    "\n",
    "print('Дней до дедлайна:', difference_days)"
   ]
  },
  {
   "cell_type": "markdown",
   "id": "4ea88f5f",
   "metadata": {},
   "source": [
    "***\n",
    "# Unix-время\n",
    "\n",
    "**Unix-время** — это способ отсчёта времени компьютерами и программами. Единица измерения — секунды. Текущее время отсчитывается от «начала времён». \n",
    "\n",
    "В Unix time принята точка отсчёта: момент, когда время было равно 0 сек. Этот момент — полночь 1 января 1970 года: 00:00:00 01.01.1970. \n",
    "\n",
    "У этого момента времени есть и собственное название: **Unix epoch** (англ. «эпоха Unix»). С первой секунды 1970 года началась «эпоха Unix» — это примерно как понятие «наша эра» в европейском летосчислении, только точка отсчёта другая.\n",
    "\n",
    "Такие вычисления в Python могут выполнять, например функции, собранные в модуле **datetime**."
   ]
  },
  {
   "cell_type": "markdown",
   "id": "793f6e53",
   "metadata": {},
   "source": [
    "***\n",
    "# Работа с датами и временем в Python\n",
    "\n",
    "Модуль **datetime** встроен в стандартную библиотеку Python. Для работы с датами и временем модуль предлагает специальные типы данных, например `date`, `time` и `datetime`.\n",
    "\n",
    "# Дата: тип данных date\n",
    "\n",
    "Тип данных `date` предназначен для работы с датами. В значениях этого типа можно хранить год, месяц и день. Часы, минуты и секунды в этом типе данных не учитываются.\n",
    "\n",
    "Чтобы объявить дату, нужно:\n",
    "\n",
    "- импортировать тип данных `date` из модуля **datetime**;\n",
    "- объявить переменную типа `date`, передав параметры через запятую: первым аргументом — год, вторым — месяц, третьим — день."
   ]
  },
  {
   "cell_type": "code",
   "execution_count": 2,
   "id": "c1d3051f",
   "metadata": {},
   "outputs": [
    {
     "name": "stdout",
     "output_type": "stream",
     "text": [
      "Ваш дедлайн: 2023-11-06\n",
      "<class 'datetime.date'>\n"
     ]
    }
   ],
   "source": [
    "# Из модуля datetime импортирован тип данных date.\n",
    "from datetime import date\n",
    "\n",
    "# Переменной deadline присвоено значение типа date.\n",
    "# Если число, определяющее год, месяц или день, состоит из одного символа, \n",
    "# в аргументы передаётся именно один символ: 6, а не 06.\n",
    "deadline = date(2023, 11, 6)\n",
    "\n",
    "print('Ваш дедлайн:', deadline)\n",
    "print(type(deadline))"
   ]
  },
  {
   "cell_type": "markdown",
   "id": "ffc3b60e",
   "metadata": {},
   "source": [
    "***\n",
    "# Время: тип данных time\n",
    "\n",
    "Для работы с секундами, минутами и часами применяют тип данных `time`. В переменную этого типа не получится записать ни год, ни месяц, ни день.\n",
    "\n",
    "При описании переменной первым аргументом можно передать час, вторым минуту, третьим секунду. Можно передать и количество микросекунд. Микросекунда — одна миллионная часть секунды, 10⁻⁶ сек.\n",
    "\n",
    "Все аргументы являются опциональными. Это означает, что без указания каких-либо аргументов будут использоваться значения по умолчанию (0 часов, 0 минут, 0 секунд, 0 микросекунд).\n",
    "\n",
    "Работа с типом `time` сходна с работой с типом данных `date`:"
   ]
  },
  {
   "cell_type": "code",
   "execution_count": 4,
   "id": "b49a1420",
   "metadata": {},
   "outputs": [
    {
     "name": "stdout",
     "output_type": "stream",
     "text": [
      "Презентация проекта состоится в 09:15:00\n",
      "<class 'datetime.time'>\n"
     ]
    }
   ],
   "source": [
    "# Из модуля datetime импортирован нужный тип данных - на этот раз time.\n",
    "from datetime import time\n",
    "\n",
    "# Переменной meeting_time присвоено значение типа time.\n",
    "# Нулевые значения можно записывать одним или двумя нулями;\n",
    "# значения в диапазоне от 1 до 9 необходимо записывать \n",
    "# одним символом, без 0: 9, а не 09.\n",
    "meeting_time = time(9, 15, 00)\n",
    "\n",
    "print('Презентация проекта состоится в', meeting_time)\n",
    "print(type(meeting_time))"
   ]
  },
  {
   "cell_type": "markdown",
   "id": "1e6fbbd4",
   "metadata": {},
   "source": [
    "***\n",
    "# Дата и время в одной переменной: тип данных datetime\n",
    "\n",
    "Тип `datetime` позволяет сохранить дату и время как единое значение. Порядок аргументов такой: год, месяц, день, часы, минуты, секунды и микросекунды."
   ]
  },
  {
   "cell_type": "code",
   "execution_count": 5,
   "id": "a29e72a4",
   "metadata": {},
   "outputs": [
    {
     "name": "stdout",
     "output_type": "stream",
     "text": [
      "Ваш точный дедлайн: 2023-11-06 09:15:00\n",
      "<class 'datetime.datetime'>\n"
     ]
    }
   ],
   "source": [
    "# Из модуля datetime импортируется тип данных datetime.\n",
    "from datetime import datetime\n",
    "\n",
    "# Переменной exact_deadline присвоено значение типа datetime.\n",
    "exact_deadline = datetime(2023, 11, 6, 9, 15, 00) \n",
    "\n",
    "print('Ваш точный дедлайн:', exact_deadline)\n",
    "print(type(exact_deadline))"
   ]
  },
  {
   "cell_type": "markdown",
   "id": "06d64e61",
   "metadata": {},
   "source": [
    "> Чаще всего программисты работают именно с `datetime` — он более универсален. При необходимости из `datetime` можно получить типы `date` и `time`:"
   ]
  },
  {
   "cell_type": "code",
   "execution_count": 6,
   "id": "8d716f73",
   "metadata": {},
   "outputs": [
    {
     "name": "stdout",
     "output_type": "stream",
     "text": [
      "Ваш дедлайн: 2023-11-06\n",
      "Презентация проекта состоится в 09:15:00\n"
     ]
    }
   ],
   "source": [
    "from datetime import datetime\n",
    "\n",
    "exact_deadline = datetime(2023, 11, 6, 9, 15, 00)\n",
    "\n",
    "# Из типа datetime получен тип date.\n",
    "date_from_datetime = datetime.date(exact_deadline)\n",
    "print('Ваш дедлайн:', date_from_datetime)\n",
    "\n",
    "# Из типа datetime получен тип time.\n",
    "time_from_datetime = datetime.time(exact_deadline)\n",
    "print('Презентация проекта состоится в', time_from_datetime)"
   ]
  },
  {
   "cell_type": "markdown",
   "id": "846cad58",
   "metadata": {},
   "source": [
    "***\n",
    "# Работа с временем\n",
    "\n",
    "С типами `datetime`, `date` можно выполнять арифметические операции вычитания, чтобы найти разницу во времени, а также можно сравнивать значения дат и времени.\n",
    "***\n",
    "# Разница во времени\n",
    "\n",
    "Найдём разницу между датами и узнаем количество дней до дедлайна, используя тип `date`."
   ]
  },
  {
   "cell_type": "code",
   "execution_count": 7,
   "id": "53e8848d",
   "metadata": {},
   "outputs": [
    {
     "name": "stdout",
     "output_type": "stream",
     "text": [
      "Дней до дедлайна: 25 days, 0:00:00\n"
     ]
    }
   ],
   "source": [
    "from datetime import date\n",
    "\n",
    "deadline = date(2023, 11, 6)\n",
    "today = date(2023, 10, 12)\n",
    "print('Дней до дедлайна:', deadline - today)"
   ]
  },
  {
   "cell_type": "code",
   "execution_count": 8,
   "id": "b63a2047",
   "metadata": {},
   "outputs": [
    {
     "name": "stdout",
     "output_type": "stream",
     "text": [
      "Разность дат: 25 days, 0:00:00 <class 'datetime.timedelta'>\n",
      "Разность дат и времени: 24 days, 11:01:05 <class 'datetime.timedelta'>\n"
     ]
    }
   ],
   "source": [
    "from datetime import datetime, date\n",
    "\n",
    "deadline = date(2023, 11, 6)\n",
    "today = date(2023, 10, 12)\n",
    "\n",
    "deadline_detail = datetime(2023, 11, 6, 9, 15, 00)\n",
    "today_detail = datetime(2023, 10, 12, 22, 13, 55)\n",
    "\n",
    "print('Разность дат:', deadline - today, type(deadline - today))\n",
    "print('Разность дат и времени:', deadline_detail - today_detail, type(deadline_detail - today_detail))"
   ]
  },
  {
   "cell_type": "markdown",
   "id": "91438967",
   "metadata": {},
   "source": [
    "***\n",
    "# Промежуток времени: тип timedelta\n",
    "\n",
    "При вычитании значений типа date или datetime возвращается значение типа **timedelta**. Этот тип хранит не значение времени в настоящем, прошлом или будущем, а **продолжительность** некоего отрезка времени."
   ]
  },
  {
   "cell_type": "code",
   "execution_count": 9,
   "id": "b1f8d881",
   "metadata": {},
   "outputs": [
    {
     "name": "stdout",
     "output_type": "stream",
     "text": [
      "2023-11-11 19:00:00\n"
     ]
    }
   ],
   "source": [
    "from datetime import datetime, timedelta\n",
    "\n",
    "five_days = timedelta(days=5)  # Временной отрезок протяжённостью в 5 дней.\n",
    "ten_hours = timedelta(hours=10)  # Временной отрезок протяжённостью в 10 часов.\n",
    "\n",
    "# Эти отрезки времени можно, например,\n",
    "# прибавлять к значениям типа date или datetime или вычитать из них.\n",
    "deadline = datetime(2023, 11, 6, 9, 00, 00)\n",
    "# Переносим дедлайн на пять дней и десять часов:\n",
    "new_deadline = deadline + five_days + ten_hours\n",
    "\n",
    "print(new_deadline)"
   ]
  },
  {
   "cell_type": "code",
   "execution_count": 10,
   "id": "2fd73a5b",
   "metadata": {},
   "outputs": [
    {
     "name": "stdout",
     "output_type": "stream",
     "text": [
      "1992-01-12 09:00:00\n"
     ]
    }
   ],
   "source": [
    "from datetime import datetime, timedelta\n",
    "\n",
    "# Начальная дата (типа datetime):\n",
    "start_date = datetime(1990, 8, 30, 9, 0, 0)\n",
    "# Выясним, какая дата будет через 500 дней, для этого\n",
    "# к начальной дате прибавим временной период timedelta.\n",
    "end_date = start_date + timedelta(days=500)\n",
    "\n",
    "print(end_date)"
   ]
  },
  {
   "cell_type": "markdown",
   "id": "42a795c3",
   "metadata": {},
   "source": [
    "> У типа данных `timedelta` есть свой набор инструментов. Например, с помощью `total_seconds()` можно получить протяжённость `timedelta` в секундах, а с помощью `timedelta.days` (именно так, без скобок) — протяженность `timedelta` в днях (вернётся целое число дней, округлённое в меньшую сторону)."
   ]
  },
  {
   "cell_type": "code",
   "execution_count": 11,
   "id": "ea3e70c8",
   "metadata": {},
   "outputs": [
    {
     "name": "stdout",
     "output_type": "stream",
     "text": [
      "Тип holidays_length - это <class 'datetime.timedelta'>\n",
      "Протяжённость каникул в днях: 91\n",
      "Протяжённость каникул в секундах: 7862400.0\n"
     ]
    }
   ],
   "source": [
    "from datetime import datetime\n",
    "\n",
    "# Дата начала летних каникул:\n",
    "holidays_start = datetime(2024, 6, 1, 9, 0, 0)\n",
    "# Дата окончания летних каникул:\n",
    "holidays_end = datetime(2024, 8, 31, 9, 0, 0)\n",
    "\n",
    "# Посчитаем протяжённость каникул:\n",
    "holidays_length = holidays_end - holidays_start\n",
    "# Получим временной период от одной даты до другой - это и есть timedelta.\n",
    "# Проверим тип переменной, на всякий случай.\n",
    "print('Тип holidays_length - это', type(holidays_length))\n",
    "\n",
    "# А сколько это в днях?\n",
    "print('Протяжённость каникул в днях:', holidays_length.days)\n",
    "# А сколько это в секундах?\n",
    "print('Протяжённость каникул в секундах:', holidays_length.total_seconds())\n",
    "# total_seconds() возвращает число типа float, \n",
    "# так уж устроен тип timedelta ¯\\_(ツ)_/¯"
   ]
  },
  {
   "cell_type": "markdown",
   "id": "cb1d936f",
   "metadata": {},
   "source": [
    "***\n",
    "# Сравнение времени\n",
    "\n",
    "Значения даты и времени можно сравнивать по тому же принципу, что и обычные числа, — посредством операторов сравнения `<`, `>`, `==`. \n",
    "\n",
    "Логическая операция сравнения возвращает значение `True` или `False`:"
   ]
  },
  {
   "cell_type": "code",
   "execution_count": 12,
   "id": "e365d9fb",
   "metadata": {},
   "outputs": [
    {
     "name": "stdout",
     "output_type": "stream",
     "text": [
      "True\n"
     ]
    }
   ],
   "source": [
    "from datetime import datetime\n",
    "\n",
    "deadline = datetime(2023, 11, 6, 13, 00, 00)\n",
    "today = datetime(2023, 10, 12)\n",
    "\n",
    "print(deadline > today)"
   ]
  },
  {
   "cell_type": "markdown",
   "id": "ce370d51",
   "metadata": {},
   "source": [
    "> При сравнении типы операндов должны совпадать: нельзя значение типа `datetime` сравнивать со значением типа `date`. Чтобы код заработал, можно привести значение `datetime` к типу `date` (преобразовать значение `datetime` в `date`):"
   ]
  },
  {
   "cell_type": "code",
   "execution_count": 13,
   "id": "7e0366d0",
   "metadata": {},
   "outputs": [
    {
     "name": "stdout",
     "output_type": "stream",
     "text": [
      "True\n"
     ]
    }
   ],
   "source": [
    "from datetime import datetime, date\n",
    "\n",
    "deadline = datetime(2023, 11, 6, 13, 00, 00)\n",
    "today = date(2023, 10, 12)\n",
    "\n",
    "print(datetime.date(deadline) > today)"
   ]
  },
  {
   "cell_type": "markdown",
   "id": "7acfb668",
   "metadata": {},
   "source": [
    "***\n",
    "# Замена значения даты\n",
    "\n",
    "Чтобы изменить дату, час, месяц, год или другие значения в данных типа `datetime`, используется `replace()`:"
   ]
  },
  {
   "cell_type": "code",
   "execution_count": 14,
   "id": "2def8a9f",
   "metadata": {},
   "outputs": [
    {
     "name": "stdout",
     "output_type": "stream",
     "text": [
      "Исходная дата: 2023-08-13 03:00:00\n",
      "Изменённая дата: 2019-08-13 03:00:00\n"
     ]
    }
   ],
   "source": [
    "from datetime import datetime\n",
    "\n",
    "datetime1 = datetime(2023, 8, 13, 3, 0, 0)  # 13 августа 2023 года, 3 утра\n",
    "datetime2 = datetime.replace(datetime1, year=2019)  # 13 августа 2019 года, 3 утра\n",
    "\n",
    "print('Исходная дата:', datetime1)\n",
    "print('Изменённая дата:', datetime2)"
   ]
  },
  {
   "cell_type": "code",
   "execution_count": 16,
   "id": "a99c9d76",
   "metadata": {},
   "outputs": [
    {
     "name": "stdout",
     "output_type": "stream",
     "text": [
      "Сегодняшняя дата и текущее время через today(): 2025-03-19 12:15:22.967108 <class 'datetime.datetime'>\n",
      "Сегодняшняя дата и текущее время через now(): 2025-03-19 12:15:22.967108 <class 'datetime.datetime'>\n",
      "Сегодняшняя дата через date и today(): 2025-03-19 <class 'datetime.date'>\n"
     ]
    }
   ],
   "source": [
    "from datetime import datetime, date\n",
    "\n",
    "# При помощи today() получаем текущую дату и время без учёта временной зоны.\n",
    "today = datetime.today()\n",
    "\n",
    "# При помощи now() получаем текущую дату и время \n",
    "# с возможностью указать нужную временную зону.\n",
    "now = datetime.now()\n",
    "\n",
    "# При помощи today() и класса date получаем текущую дату.\n",
    "today_2 = date.today()\n",
    "\n",
    "print('Сегодняшняя дата и текущее время через today():', today, type(today))\n",
    "print('Сегодняшняя дата и текущее время через now():', now, type(now))\n",
    "print('Сегодняшняя дата через date и today():', today_2, type(today_2))"
   ]
  },
  {
   "cell_type": "markdown",
   "id": "aca0ec63",
   "metadata": {},
   "source": [
    "***\n",
    "# Форматирование времени\n",
    "\n",
    "При выводе даты и времени на печать можно настроить свой формат. Для этого используется функция `strftime()` (англ. string format time, «строковый формат времени»). Эта функция преобразует время в строку по заданному шаблону."
   ]
  },
  {
   "cell_type": "code",
   "execution_count": 18,
   "id": "ad3ab922",
   "metadata": {},
   "outputs": [
    {
     "name": "stdout",
     "output_type": "stream",
     "text": [
      "Ваш дедлайн: 06/11/2023 13:00\n"
     ]
    }
   ],
   "source": [
    "from datetime import datetime\n",
    "\n",
    "deadline = datetime(2023, 11, 6, 13, 0, 0)\n",
    "# Синтаксис: datetime.strftime(<дата>, 'шаблон_для_форматирования')\n",
    "deadline_as_str = datetime.strftime(deadline, '%d/%m/%Y %H:%M')\n",
    "print('Ваш дедлайн:', deadline_as_str)\n",
    "# Выведется:\n",
    "# Ваш дедлайн: 2023/11/06 13:00"
   ]
  },
  {
   "cell_type": "markdown",
   "id": "3ba0c6f5",
   "metadata": {},
   "source": [
    "***\n",
    "# Задание"
   ]
  },
  {
   "cell_type": "code",
   "execution_count": 20,
   "id": "f1721d56",
   "metadata": {},
   "outputs": [
    {
     "name": "stdout",
     "output_type": "stream",
     "text": [
      "День рождения: 08.06\n"
     ]
    }
   ],
   "source": [
    "from datetime import datetime\n",
    "\n",
    "birthday = datetime(1955, 6, 8, 23, 20, 00)\n",
    "# Вместо ... напишите шаблон.\n",
    "birthday_day_and_month = datetime.strftime(birthday, '%d.%m')\n",
    "print('День рождения:', birthday_day_and_month)"
   ]
  },
  {
   "cell_type": "markdown",
   "id": "ad6b4c9e",
   "metadata": {},
   "source": [
    "> Ещё одна востребованная функция для работы с форматом времени — `strptime()`. Она позволяет выполнить обратную операцию: преобразовать по заданному шаблону строку в тип данных `datetime`."
   ]
  },
  {
   "cell_type": "code",
   "execution_count": 21,
   "id": "6c4e164c",
   "metadata": {},
   "outputs": [
    {
     "name": "stdout",
     "output_type": "stream",
     "text": [
      "2023-08-14 04:01:00 <class 'datetime.datetime'>\n"
     ]
    }
   ],
   "source": [
    "from datetime import datetime\n",
    "# %Y - год, %m - месяц, %d - день, %H - часы, %M - минуты\n",
    "\n",
    "# Сохраняем в переменную строку с датой в странном формате.\n",
    "datetime_as_str = '14/08 2023 04-01'\n",
    "\n",
    "# Составляем шаблон %d/%m %Y %H-%M \n",
    "# и преобразуем строку в значение типа datetime.\n",
    "datetime_as_datetime = datetime.strptime(datetime_as_str, '%d/%m %Y %H-%M')\n",
    "\n",
    "# Смотрим, что получилось:\n",
    "print(datetime_as_datetime, type(datetime_as_datetime))"
   ]
  },
  {
   "cell_type": "code",
   "execution_count": 23,
   "id": "8fe1b4cb",
   "metadata": {},
   "outputs": [
    {
     "name": "stdout",
     "output_type": "stream",
     "text": [
      "2023-08-14 04:01:00 <class 'datetime.datetime'>\n"
     ]
    }
   ],
   "source": [
    "from datetime import datetime\n",
    "\n",
    "datetime_as_str = '2023-08-14 04:01'\n",
    "datetime_as_datetime = datetime.strptime(datetime_as_str, '%Y-%m-%d %H:%M')\n",
    "print(datetime_as_datetime, type(datetime_as_datetime))\n",
    "# Вывод на экран: ValueError: time data '2023-08-14 04:01' does not match format '%Y-%m-%d %H:%M:%S'"
   ]
  },
  {
   "cell_type": "markdown",
   "id": "547edd70",
   "metadata": {},
   "source": [
    "***\n",
    "# Задание"
   ]
  },
  {
   "cell_type": "code",
   "execution_count": 31,
   "id": "fbbfc0ee",
   "metadata": {},
   "outputs": [
    {
     "name": "stdout",
     "output_type": "stream",
     "text": [
      "От начала посевной до начала сбора урожая прошло 146 дней.\n"
     ]
    }
   ],
   "source": [
    "# Импортируйте тип datetime.\n",
    "from datetime import datetime\n",
    "\n",
    "\n",
    "def get_difference_in_days(datetime_str_1, datetime_str_2):\n",
    "    \n",
    "\n",
    "# Преобразуйте полученные в качестве аргументов функции строки\n",
    "# в тип datetime по нужному шаблону.\n",
    "# Вычислите разницу между двумя датами (получится тип timedelta)\n",
    "# и верните количество целых дней.\n",
    "    datetime_str_1 = datetime.strptime(datetime_str_1, '%Y/%m/%d %H:%M:%S')\n",
    "    datetime_str_2 = datetime.strptime(datetime_str_2, '%Y/%m/%d %H:%M:%S')\n",
    "    result = datetime_str_2 - datetime_str_1\n",
    "    return result.days\n",
    "\n",
    "difference = get_difference_in_days('2019/05/10 11:26:31', '2019/10/04 10:01:19')\n",
    "\n",
    "print('От начала посевной до начала сбора урожая прошло', difference, 'дней.')"
   ]
  }
 ],
 "metadata": {
  "kernelspec": {
   "display_name": "Python 3 (ipykernel)",
   "language": "python",
   "name": "python3"
  },
  "language_info": {
   "codemirror_mode": {
    "name": "ipython",
    "version": 3
   },
   "file_extension": ".py",
   "mimetype": "text/x-python",
   "name": "python",
   "nbconvert_exporter": "python",
   "pygments_lexer": "ipython3",
   "version": "3.9.13"
  }
 },
 "nbformat": 4,
 "nbformat_minor": 5
}
