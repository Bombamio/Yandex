{
 "cells": [
  {
   "cell_type": "code",
   "execution_count": 7,
   "id": "c31d8486",
   "metadata": {},
   "outputs": [
    {
     "name": "stdout",
     "output_type": "stream",
     "text": [
      "Сегодня 2024-01-01, понедельник, а послезавтра - среда.\n",
      "Сегодня 2024-01-02, вторник, а послезавтра - четверг.\n",
      "Сегодня 2024-01-03, среда, а послезавтра - пятница.\n",
      "Сегодня 2024-01-04, четверг, а послезавтра - суббота.\n",
      "Сегодня 2024-01-05, пятница, а послезавтра - воскресенье.\n",
      "Сегодня 2024-01-06, суббота, а послезавтра - понедельник.\n"
     ]
    }
   ],
   "source": [
    "# Пропишите нужные импорты.\n",
    "from datetime import datetime, timedelta\n",
    "\n",
    "def get_weekday_name(weekday_number):\n",
    "    # В зависимости от weekday_number функция должна вернуть название дня.\n",
    "    if weekday_number == 0:\n",
    "        return 'понедельник'\n",
    "    elif weekday_number == 1:\n",
    "        return 'вторник'\n",
    "    elif weekday_number == 2:\n",
    "        return 'среда'\n",
    "    elif weekday_number == 3:\n",
    "        return 'четверг'\n",
    "    elif weekday_number == 4:\n",
    "        return 'пятница'\n",
    "    elif weekday_number == 5:\n",
    "        return 'суббота'\n",
    "    elif weekday_number == 6:\n",
    "        return 'воскресенье'\n",
    "\n",
    "def get_day_after_tomorrow(date_string):\n",
    "    # С помощью шаблона преобразуйте date_string в значение типа datetime\n",
    "    now = datetime.strptime(date_string, '%Y-%m-%d')\n",
    "    # Получите день недели для now:\n",
    "    now_weekday = get_weekday_name(now.weekday())\n",
    "    # Вычислите послезавтрашнюю дату:\n",
    "    day_after_tomorrow = now + timedelta(days = 2)\n",
    "    # Получите день недели для day_after_tomorrow:\n",
    "    day_after_tomorrow_weekday = get_weekday_name(day_after_tomorrow.weekday())\n",
    "    return f'Сегодня {date_string}, {now_weekday}, а послезавтра - {day_after_tomorrow_weekday}.'\n",
    "\n",
    "\n",
    "# Проверьте работу программы, можете подставить свои значения.\n",
    "print(get_day_after_tomorrow('2024-01-01'))\n",
    "print(get_day_after_tomorrow('2024-01-02'))\n",
    "print(get_day_after_tomorrow('2024-01-03'))\n",
    "print(get_day_after_tomorrow('2024-01-04'))\n",
    "print(get_day_after_tomorrow('2024-01-05'))\n",
    "print(get_day_after_tomorrow('2024-01-06'))"
   ]
  },
  {
   "cell_type": "code",
   "execution_count": 26,
   "id": "a48c73d0",
   "metadata": {},
   "outputs": [
    {
     "name": "stdout",
     "output_type": "stream",
     "text": [
      "Вы пробежали за 02:02:02 и победили! \n",
      "Вы пробежали за 03:04:05 с отставанием от лидера на 1:02:03.\n"
     ]
    }
   ],
   "source": [
    "# Пропишите нужные импорты.\n",
    "from datetime import datetime\n",
    "\n",
    "# Допишите код функции.\n",
    "def get_results(leader_time, your_time):\n",
    "    # Сохраните формат времени как строку в переменную time_format:\n",
    "    time_format = '%H:%M:%S'\n",
    "    # Преобразуйте полученные в аргументах строки в объекты datetime:\n",
    "    leader_time_object = datetime.strptime(leader_time, time_format)\n",
    "    your_time_object = datetime.strptime(your_time, time_format)\n",
    "\n",
    "    # Если два объекта datetime равны, то получатель сообщения – лидер.\n",
    "    # Составьте и верните строку c сообщением для лидера.\n",
    "    if leader_time_object == your_time_object:\n",
    "        return f'Вы пробежали за {leader_time} и победили!'\n",
    "    else:\n",
    "        # В противном случае вычислите разницу\n",
    "        # между временем лидера и временем участника.\n",
    "        # Результатом будет значение типа timedelta.\n",
    "        difference = your_time_object - leader_time_object\n",
    "\n",
    "        # Верните сообщение с указанием времени участника\n",
    "        # и его отставания от лидера:\n",
    "        return f'Вы пробежали за {your_time} с отставанием от лидера на {difference}.'\n",
    "\n",
    "\n",
    "# Проверьте работу программы. Здесь вы можете подставить свои значения.\n",
    "print(get_results('02:02:02', '02:02:02'))\n",
    "print(get_results('02:02:02', '03:04:05'))"
   ]
  },
  {
   "cell_type": "code",
   "execution_count": 31,
   "id": "20dee020",
   "metadata": {},
   "outputs": [
    {
     "name": "stdout",
     "output_type": "stream",
     "text": [
      "Ежемесячный платёж: 2.45 ВтК.\n"
     ]
    }
   ],
   "source": [
    "# Импортируйте всё необходимое:\n",
    "from decimal import Decimal, getcontext\n",
    "\n",
    "# Установите требуемую точность вычислений:\n",
    "getcontext().prec = 3\n",
    "\n",
    "\n",
    "# Допишите код функции.\n",
    "def get_monthly_payment(total_sum, months_count, percents):\n",
    "    # Подсчитайте основную сумму ежемесячного платежа, без учёта процентов:\n",
    "    monthly_raw = total_sum / months_count\n",
    "\n",
    "    # Подсчитайте ежемесячный платёж по процентам банка,\n",
    "    # исходя из ежемесячной части основной суммы и процентной ставки:\n",
    "    monthly_addition = monthly_raw * percents * 0.01\n",
    "\n",
    "    # Подсчитайте общую сумму ежемесячного платежа:\n",
    "    total_per_month = Decimal(str(monthly_raw)) + Decimal(str(monthly_addition))\n",
    "    # Верните общую сумму ежемесячного платежа:\n",
    "    return total_per_month\n",
    "\n",
    "\n",
    "payment_value = get_monthly_payment(54, 24, 9)\n",
    "print('Ежемесячный платёж:', payment_value, 'ВтК.')"
   ]
  },
  {
   "cell_type": "code",
   "execution_count": null,
   "id": "284da490",
   "metadata": {},
   "outputs": [],
   "source": []
  }
 ],
 "metadata": {
  "kernelspec": {
   "display_name": "Python 3 (ipykernel)",
   "language": "python",
   "name": "python3"
  },
  "language_info": {
   "codemirror_mode": {
    "name": "ipython",
    "version": 3
   },
   "file_extension": ".py",
   "mimetype": "text/x-python",
   "name": "python",
   "nbconvert_exporter": "python",
   "pygments_lexer": "ipython3",
   "version": "3.9.13"
  }
 },
 "nbformat": 4,
 "nbformat_minor": 5
}
