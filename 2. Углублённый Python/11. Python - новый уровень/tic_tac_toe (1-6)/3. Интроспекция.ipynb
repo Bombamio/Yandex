{
 "cells": [
  {
   "cell_type": "markdown",
   "id": "82303c03",
   "metadata": {},
   "source": [
    "## Коротко об интроспекции\n",
    "\n",
    "Интроспекция в программировании — способность программы во время выполнения исследовать типы и свойства объектов, которые содержатся в программе. Это особенно полезно в языках с динамической типизацией, таких как Python, где о типах объектов ничего не известно до момента выполнения программы.\n",
    "\n",
    "В Python интроспекция реализована по-разному, например:\n",
    "\n",
    "* с помощью встроенных функций вроде `type()`, `dir()` и других;\n",
    "* через встроенные атрибуты объекта, например `__class__ или __dict__`;\n",
    "* через возможности дополнительных модулей, например `inspect`.\n",
    "\n",
    "В Python удобно пользоваться интроспекцией, ведь принцип «всё в программе — это объекты» предполагает, что любой объект хранит все данные о себе."
   ]
  },
  {
   "cell_type": "markdown",
   "id": "99680895",
   "metadata": {},
   "source": [
    "## Как узнать тип объекта\n",
    "\n",
    "Уже знакомая вам функция `type()` возвращает тип объекта, переданного в качестве аргумента. \n",
    "\n",
    "Например, можно узнать тип объекта `game`:"
   ]
  },
  {
   "cell_type": "code",
   "execution_count": 1,
   "id": "48ca281f",
   "metadata": {},
   "outputs": [
    {
     "name": "stdout",
     "output_type": "stream",
     "text": [
      "<class 'gameparts.parts.Board'>\n"
     ]
    }
   ],
   "source": [
    "from gameparts import Board\n",
    "\n",
    "game = Board()\n",
    "print(type(game))"
   ]
  },
  {
   "cell_type": "markdown",
   "id": "1e041d30",
   "metadata": {},
   "source": [
    "Можно сравнить значение, которое возвращает функция `type()`, с заданным типом и проверить, принадлежит ли объект этому типу. Для сравнения применяются операторы `==` и `is`:"
   ]
  },
  {
   "cell_type": "code",
   "execution_count": 2,
   "id": "5e7ed012",
   "metadata": {},
   "outputs": [
    {
     "name": "stdout",
     "output_type": "stream",
     "text": [
      "True\n",
      "True\n",
      "False\n"
     ]
    }
   ],
   "source": [
    "print(type(game) is Board)\n",
    "print(type(game) == Board)\n",
    "print(type(game) == str)"
   ]
  },
  {
   "cell_type": "markdown",
   "id": "233028ca",
   "metadata": {},
   "source": [
    "Определить, принадлежит ли экземпляр к определённому классу, можно и через функцию `isinstance()`:"
   ]
  },
  {
   "cell_type": "code",
   "execution_count": 3,
   "id": "5227a3f2",
   "metadata": {},
   "outputs": [
    {
     "name": "stdout",
     "output_type": "stream",
     "text": [
      "True\n",
      "False\n"
     ]
    }
   ],
   "source": [
    "from gameparts import Board\n",
    "\n",
    "game = Board()\n",
    "\n",
    "print(isinstance(game, Board))\n",
    "print(isinstance(game, str))"
   ]
  },
  {
   "cell_type": "markdown",
   "id": "6c164d44",
   "metadata": {},
   "source": [
    "> Применение `isinstance()` считается лучшей практикой.\n",
    "\n",
    "Есть ещё один знакомый вам способ интроспекции — с помощью атрибута `__class__` можно уточнить класс объекта:\n",
    "\n"
   ]
  },
  {
   "cell_type": "code",
   "execution_count": 4,
   "id": "8e736936",
   "metadata": {},
   "outputs": [
    {
     "name": "stdout",
     "output_type": "stream",
     "text": [
      "<class 'gameparts.parts.Board'>\n"
     ]
    }
   ],
   "source": [
    "from gameparts import Board\n",
    "\n",
    "game = Board()\n",
    "print(game.__class__)"
   ]
  },
  {
   "cell_type": "markdown",
   "id": "c451ca31",
   "metadata": {},
   "source": [
    "***\n",
    "## Функция `dir()`\n",
    "\n",
    "Функция `dir()` возвращает список атрибутов и методов, доступных для объекта:"
   ]
  },
  {
   "cell_type": "code",
   "execution_count": 5,
   "id": "6457de34",
   "metadata": {},
   "outputs": [
    {
     "name": "stdout",
     "output_type": "stream",
     "text": [
      "['__class__', '__delattr__', '__dict__', '__dir__', '__doc__', '__eq__', '__format__', '__ge__', '__getattribute__', '__getstate__', '__gt__', '__hash__', '__init__', '__init_subclass__', '__le__', '__lt__', '__module__', '__ne__', '__new__', '__reduce__', '__reduce_ex__', '__repr__', '__setattr__', '__sizeof__', '__str__', '__subclasshook__', '__weakref__', 'board', 'display', 'disprint', 'make_move']\n"
     ]
    }
   ],
   "source": [
    "from gameparts import Board\n",
    "\n",
    "game = Board()\n",
    "print(dir(game))"
   ]
  },
  {
   "cell_type": "markdown",
   "id": "5b19cee6",
   "metadata": {},
   "source": [
    "Значение, которое возвращает функция `dir()`, — это отсортированный в алфавитном порядке список, в котором есть всё:\n",
    "\n",
    "* атрибуты и методы,\n",
    "* собственное и унаследованное,\n",
    "* «магическое» и не очень.\n",
    "\n",
    "Этим списком можно воспользоваться для того, чтобы узнать, есть ли у объекта нужный атрибут или метод. Для этого обычно используется оператор `in`."
   ]
  },
  {
   "cell_type": "code",
   "execution_count": 6,
   "id": "98cf3749",
   "metadata": {},
   "outputs": [
    {
     "name": "stdout",
     "output_type": "stream",
     "text": [
      "True\n"
     ]
    }
   ],
   "source": [
    "from gameparts import Board\n",
    "\n",
    "game = Board()\n",
    "\n",
    "print('__str__' in dir(game))"
   ]
  },
  {
   "cell_type": "markdown",
   "id": "6632af66",
   "metadata": {},
   "source": [
    "> Ещё такую проверку можно выполнить при помощи функции `hasattr()`:"
   ]
  },
  {
   "cell_type": "code",
   "execution_count": 7,
   "id": "547e57a2",
   "metadata": {},
   "outputs": [
    {
     "name": "stdout",
     "output_type": "stream",
     "text": [
      "True\n"
     ]
    }
   ],
   "source": [
    "from gameparts import Board\n",
    "\n",
    "game = Board()\n",
    "\n",
    "print(hasattr(game, '__str__'))"
   ]
  },
  {
   "cell_type": "markdown",
   "id": "baad906b",
   "metadata": {},
   "source": [
    "Раз метод есть, можно его и переопределить. Пусть при вызове этого метода выводится строка `Объект игрового поля размером 3x3`. Размер поля лучше вынести в атрибут класса и задействовать его при формировании нужной строки.\n",
    "\n",
    "В коде в файла parts.py переопределите метод `__str__`:"
   ]
  },
  {
   "cell_type": "markdown",
   "id": "91820b0c",
   "metadata": {},
   "source": [
    "**Было:**"
   ]
  },
  {
   "cell_type": "code",
   "execution_count": null,
   "id": "9dd8bec5",
   "metadata": {},
   "outputs": [],
   "source": [
    "class Board:\n",
    "    def __init__(self):\n",
    "        self.board = [[' ' for _ in range(3)] for _ in range(3)]\n",
    "\n",
    "    def make_move(self, row, col, player):\n",
    "        self.board[row][col] = player\n",
    "\n",
    "    def display(self):\n",
    "        for row in self.board:\n",
    "            print('|'.join(row))\n",
    "            print('-' * 5)\n",
    "\n",
    "    def disprint(self):\n",
    "        if __name__ == '__main__':\n",
    "            print('Этот код выполняется только тогда, когда запускается файл с ним.')"
   ]
  },
  {
   "cell_type": "markdown",
   "id": "3672a3dc",
   "metadata": {},
   "source": [
    "**Стало:**"
   ]
  },
  {
   "cell_type": "code",
   "execution_count": null,
   "id": "06ba6174",
   "metadata": {},
   "outputs": [],
   "source": [
    "# gameparts/parts.py\n",
    "\n",
    "class Board:\n",
    "\n",
    "    # Новый атрибут.\n",
    "    field_size = 3\n",
    "\n",
    "    def __init__(self):\n",
    "        self.board = [\n",
    "            [' ' for _ in range(self.field_size)] for _ in range(self.field_size)\n",
    "        ]\n",
    "\n",
    "    def make_move(self, row, col, player):\n",
    "        self.board[row][col] = player\n",
    "\n",
    "    def display(self):\n",
    "        for row in self.board:\n",
    "            print('|'.join(row))\n",
    "            print('-' * 5)\n",
    "\n",
    "    # Переопределяем метод __str__.\n",
    "    def __str__(self):\n",
    "        return (\n",
    "            'Объект игрового поля размером '\n",
    "            f'{self.field_size}x{self.field_size}'\n",
    "        )"
   ]
  },
  {
   "cell_type": "markdown",
   "id": "e7feeb3a",
   "metadata": {},
   "source": [
    "***\n",
    "## Словарь `__dict__`\n",
    "\n",
    "Функция `dir()` возвращает все атрибуты и методы, доступные для объекта: как унаследованные от родительских классов, так и добавленные к конкретному экземпляру. \n",
    "\n",
    "А вот через словарь `__dict__`, доступный атрибуту `__class__`, можно получить атрибуты и методы, определённые только при создании объекта:"
   ]
  },
  {
   "cell_type": "code",
   "execution_count": 8,
   "id": "d1333d43",
   "metadata": {},
   "outputs": [
    {
     "name": "stdout",
     "output_type": "stream",
     "text": [
      "{'__module__': 'gameparts.parts', '__init__': <function Board.__init__ at 0x000001E9116D45E0>, 'make_move': <function Board.make_move at 0x000001E9116D4720>, 'display': <function Board.display at 0x000001E9116D47C0>, 'disprint': <function Board.disprint at 0x000001E9116D4860>, '__dict__': <attribute '__dict__' of 'Board' objects>, '__weakref__': <attribute '__weakref__' of 'Board' objects>, '__doc__': None}\n"
     ]
    }
   ],
   "source": [
    "from gameparts import Board\n",
    "\n",
    "game = Board()\n",
    "print(game.__class__.__dict__)"
   ]
  },
  {
   "cell_type": "markdown",
   "id": "5db6be23",
   "metadata": {},
   "source": [
    "***\n",
    "## Функция `inspect.getsource(object)`\n",
    "\n",
    "Функция `getsource()` модуля `inspect` позволяет получить код объекта, например функции или метода.\n",
    "\n",
    "Вот так можно получить код класса `Board`:"
   ]
  },
  {
   "cell_type": "code",
   "execution_count": 12,
   "id": "ca430d23",
   "metadata": {},
   "outputs": [
    {
     "name": "stdout",
     "output_type": "stream",
     "text": [
      "class Board:\n",
      "\n",
      "    # Новый атрибут.\n",
      "    field_size = 3\n",
      "\n",
      "    def __init__(self):\n",
      "        self.board = [\n",
      "            [' ' for _ in range(self.field_size)] for _ in range(self.field_size)\n",
      "        ]\n",
      "\n",
      "    def make_move(self, row, col, player):\n",
      "        self.board[row][col] = player\n",
      "\n",
      "    def display(self):\n",
      "        for row in self.board:\n",
      "            print('|'.join(row))\n",
      "            print('-' * 5)\n",
      "\n",
      "    # Переопределяем метод __str__.\n",
      "    def __str__(self):\n",
      "        return (\n",
      "            'Объект игрового поля размером '\n",
      "            f'{self.field_size}x{self.field_size}'\n",
      "        )\n",
      "    \n",
      "\n",
      "    def disprint(self):\n",
      "        if __name__ == '__main__':\n",
      "            print('Использую if __name__ == __main__')\n",
      "\n"
     ]
    }
   ],
   "source": [
    "# Из модуля inspect импортировать функцию getsource.\n",
    "from inspect import getsource\n",
    "\n",
    "from gameparts import Board\n",
    "\n",
    "game = Board()\n",
    "\n",
    "# Функция getsource() в работе.\n",
    "print(getsource(Board))"
   ]
  },
  {
   "cell_type": "markdown",
   "id": "a408d459",
   "metadata": {},
   "source": [
    "> В терминале будет выведен исходный код класса"
   ]
  },
  {
   "cell_type": "markdown",
   "id": "0364ec47",
   "metadata": {},
   "source": [
    "***\n",
    "## Функции `inspect.isfunction(object)` и `inspect.ismethod(object)`\n",
    "\n",
    "Функция `isfunction()` позволяет проверить, является ли переданный объект обычной функцией: "
   ]
  },
  {
   "cell_type": "code",
   "execution_count": 13,
   "id": "cd9ab421",
   "metadata": {},
   "outputs": [
    {
     "name": "stdout",
     "output_type": "stream",
     "text": [
      "False\n"
     ]
    }
   ],
   "source": [
    "# Из модуля inspect импортировать функцию isfunction.\n",
    "from inspect import isfunction\n",
    "\n",
    "from gameparts import Board\n",
    "\n",
    "game = Board()\n",
    "\n",
    "# display() - это функция?\n",
    "print(isfunction(game.display))"
   ]
  },
  {
   "cell_type": "markdown",
   "id": "2e64eead",
   "metadata": {},
   "source": [
    "А функцией `ismethod()` можно проверить, является ли переданный объект методом класса:"
   ]
  },
  {
   "cell_type": "code",
   "execution_count": 14,
   "id": "3ca5c10d",
   "metadata": {},
   "outputs": [
    {
     "name": "stdout",
     "output_type": "stream",
     "text": [
      "True\n"
     ]
    }
   ],
   "source": [
    "# Из модуля inspect импортировать функцию ismethod.\n",
    "from inspect import ismethod\n",
    "\n",
    "from gameparts import Board\n",
    "\n",
    "game = Board()\n",
    "\n",
    "# display() - это метод?\n",
    "print(ismethod(game.display))"
   ]
  },
  {
   "cell_type": "markdown",
   "id": "0306bcb4",
   "metadata": {},
   "source": [
    "***\n",
    "# Что в итоге\n",
    "\n",
    "* Интроспекция — способность программы исследовать свои собственные структуры и объекты во время выполнения.\n",
    "* Основные функции и атрибуты для получения информации об объектах:\n",
    "    * `type()` — возвращает тип объекта.\n",
    "    * `isinstance()` — проверяет, принадлежит ли объект определённому классу.\n",
    "    * `dir()` — показывает все атрибуты и методы объекта, включая унаследованные.\n",
    "    `__class__` и `__dict__` — дают информацию о классе объекта и его атрибутах и методах.\n",
    "* Использование модуля `inspect`:\n",
    "    * `getsource()` позволяет вывести код объекта (например, функции или метода).\n",
    "    * `isfunction()` и `ismethod()` помогают отличать функции от методов."
   ]
  }
 ],
 "metadata": {
  "kernelspec": {
   "display_name": ".venv",
   "language": "python",
   "name": "python3"
  },
  "language_info": {
   "codemirror_mode": {
    "name": "ipython",
    "version": 3
   },
   "file_extension": ".py",
   "mimetype": "text/x-python",
   "name": "python",
   "nbconvert_exporter": "python",
   "pygments_lexer": "ipython3",
   "version": "3.11.0"
  }
 },
 "nbformat": 4,
 "nbformat_minor": 5
}
