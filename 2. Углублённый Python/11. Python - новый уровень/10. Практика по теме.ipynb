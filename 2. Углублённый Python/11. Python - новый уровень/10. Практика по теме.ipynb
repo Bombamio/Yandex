{
 "cells": [
  {
   "cell_type": "markdown",
   "id": "1ce900ee",
   "metadata": {},
   "source": [
    "# Задание 1"
   ]
  },
  {
   "cell_type": "code",
   "execution_count": null,
   "id": "2f9e4198",
   "metadata": {},
   "outputs": [
    {
     "name": "stdout",
     "output_type": "stream",
     "text": [
      "python\n",
      "Некорректный формат даты в записи: Акакій Башмачкинъ, 23 марта 1791 года\n",
      "python\n",
      "Некорректный формат даты в записи: Яков Степанов, Двадцать шестое июля 1971\n",
      "python\n",
      "Некорректный формат даты в записи: Евгений Женин, 5 декабря 1984\n",
      "Корректных записей: 2\n",
      "Некорректных записей: 3\n"
     ]
    }
   ],
   "source": [
    "# Импортируйте необходимые модули.\n",
    "from datetime import datetime\n",
    "\n",
    "def validate_record(name: str, birthdate: str) -> bool:\n",
    "    # Напишите код, верните булево значение.\n",
    "    try:\n",
    "        if datetime.strptime(birthdate, '%d.%m.%Y'):\n",
    "            return True\n",
    "        \n",
    "    except ValueError:\n",
    "        print(f'Некорректный формат даты в записи: {name}, {birthdate}')\n",
    "        return False\n",
    "\n",
    "\n",
    "\n",
    "def process_people(entries: list[tuple]) -> dict:\n",
    "    # Объявите счётчики.\n",
    "    good_count = 0\n",
    "    bad_count = 0\n",
    "    entries = list(entries)\n",
    "    # Распакуйте кортежи из полученного списка entries.\n",
    "    # Каждую пару значений передайте в validate_record(),\n",
    "    # чтобы проверить корректность формата даты рождения.\n",
    "    # В зависимости от результата проверки увеличьте один из счётчиков.\n",
    "    for i in range(len(entries)):\n",
    "        if validate_record(entries[i][0], entries[i][1]):\n",
    "            good_count += 1\n",
    "        else:\n",
    "            bad_count += 1\n",
    "            \n",
    "\n",
    "    # Верните словарь.\n",
    "    return {'good':good_count, 'bad':bad_count}\n",
    "\n",
    "\n",
    "data = [\n",
    "    ('Акакій Башмачкинъ',    '23 марта 1791 года'),\n",
    "    ('Яков Степанов', 'Двадцать шестое июля 1971'),\n",
    "    ('Потап Алексеев', '16.09.1990'),\n",
    "    ('Евгений Женин', '5 декабря 1984'),\n",
    "    ('Кондрат Александров', '18.01.1994')\n",
    "] \n",
    "statistics = process_people(data)\n",
    "print(f'Корректных записей: {statistics[\"good\"]}')\n",
    "print(f'Некорректных записей: {statistics[\"bad\"]}')"
   ]
  },
  {
   "cell_type": "markdown",
   "id": "48682977",
   "metadata": {},
   "source": [
    "***\n",
    "# Задание 2"
   ]
  },
  {
   "cell_type": "code",
   "execution_count": 64,
   "id": "da7d851e",
   "metadata": {},
   "outputs": [
    {
     "name": "stdout",
     "output_type": "stream",
     "text": [
      "1-е занятие: 01.04.2025\n",
      "2-е занятие: 02.04.2025\n",
      "3-е занятие: 14.04.2025\n"
     ]
    }
   ],
   "source": [
    "from datetime import datetime\n",
    "from random import sample\n",
    "\n",
    "\n",
    "def choose_days():\n",
    "    # Определяем диапазон дат первой половины месяца.\n",
    "    first_month_half = list(range(1, 16))\n",
    "\n",
    "    # Выбор трёх случайных чисел:\n",
    "    random_days = sample(first_month_half, k=3)\n",
    "    # Cортировка этих чисел по возрастанию:\n",
    "    sorted_days = sorted(random_days)\n",
    "\n",
    "    # Получаем сегодняшнюю дату.\n",
    "    # На её основе будут генерироваться даты для занятий:\n",
    "    now = datetime.now()\n",
    "\n",
    "    # Чтобы было проще формировать сообщение, начнём цикл с 1.\n",
    "    for i in range(1, 4):\n",
    "        # Генерируем дату занятия, подменяя номер дня в сегодняшней дате.\n",
    "        practice_day = now.replace(day=sorted_days[i - 1]).strftime(\"%d.%m.%Y\")\n",
    "        print(f'{i}-е занятие: {practice_day}')\n",
    "\n",
    "\n",
    "choose_days()"
   ]
  },
  {
   "cell_type": "code",
   "execution_count": 57,
   "id": "a7dcaa98",
   "metadata": {},
   "outputs": [
    {
     "name": "stdout",
     "output_type": "stream",
     "text": [
      "[1, 2, 3]\n",
      "[2, 7, 15]\n"
     ]
    }
   ],
   "source": [
    "print(list(range(1,4)))\n",
    "\n",
    "first_month_half = list(range(1, 16))\n",
    "\n",
    "    # Выбор трёх случайных чисел:\n",
    "random_days = sample(first_month_half, k=3)\n",
    "print(sorted(random_days))"
   ]
  }
 ],
 "metadata": {
  "kernelspec": {
   "display_name": ".venv",
   "language": "python",
   "name": "python3"
  },
  "language_info": {
   "codemirror_mode": {
    "name": "ipython",
    "version": 3
   },
   "file_extension": ".py",
   "mimetype": "text/x-python",
   "name": "python",
   "nbconvert_exporter": "python",
   "pygments_lexer": "ipython3",
   "version": "3.11.0"
  }
 },
 "nbformat": 4,
 "nbformat_minor": 5
}
