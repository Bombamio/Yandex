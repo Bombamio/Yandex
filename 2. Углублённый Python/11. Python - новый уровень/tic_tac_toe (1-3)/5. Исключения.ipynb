{
 "cells": [
  {
   "cell_type": "markdown",
   "id": "332136a3",
   "metadata": {},
   "source": []
  },
  {
   "cell_type": "markdown",
   "id": "0a046f70",
   "metadata": {},
   "source": []
  },
  {
   "cell_type": "markdown",
   "id": "8cca4f27",
   "metadata": {},
   "source": []
  },
  {
   "cell_type": "markdown",
   "id": "3b95a4e7",
   "metadata": {},
   "source": []
  }
 ],
 "metadata": {
  "kernelspec": {
   "display_name": ".venv",
   "language": "python",
   "name": "python3"
  },
  "language_info": {
   "codemirror_mode": {
    "name": "ipython",
    "version": 3
   },
   "file_extension": ".py",
   "mimetype": "text/x-python",
   "name": "python",
   "nbconvert_exporter": "python",
   "pygments_lexer": "ipython3",
   "version": "3.11.0"
  }
 },
 "nbformat": 4,
 "nbformat_minor": 5
}
