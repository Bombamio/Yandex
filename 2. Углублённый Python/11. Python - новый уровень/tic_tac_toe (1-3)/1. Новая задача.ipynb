{
 "cells": [
  {
   "cell_type": "code",
   "execution_count": 2,
   "id": "5ff3725b",
   "metadata": {},
   "outputs": [
    {
     "name": "stdout",
     "output_type": "stream",
     "text": [
      " | | \n",
      "-----\n",
      " | | \n",
      "-----\n",
      " | | \n",
      "-----\n",
      "Ход сделан!\n",
      " | | \n",
      "-----\n",
      " |X| \n",
      "-----\n",
      " | | \n",
      "-----\n"
     ]
    }
   ],
   "source": [
    "class Board:\n",
    "    def __init__(self):\n",
    "        self.board = [[' ' for _ in range(3)] for _ in range(3)]\n",
    "\n",
    "    def make_move(self, row, col, player):\n",
    "        self.board[row][col] = player\n",
    "\n",
    "    def display(self):\n",
    "        for row in self.board:\n",
    "            print('|'.join(row))\n",
    "            print('-' * 5)\n",
    "\n",
    "\n",
    "game = Board()\n",
    "game.display()\n",
    "game.make_move(1, 1, 'X')\n",
    "print('Ход сделан!')\n",
    "game.display() "
   ]
  },
  {
   "cell_type": "code",
   "execution_count": null,
   "id": "9d8a0e2f",
   "metadata": {},
   "outputs": [],
   "source": []
  }
 ],
 "metadata": {
  "kernelspec": {
   "display_name": ".venv",
   "language": "python",
   "name": "python3"
  },
  "language_info": {
   "codemirror_mode": {
    "name": "ipython",
    "version": 3
   },
   "file_extension": ".py",
   "mimetype": "text/x-python",
   "name": "python",
   "nbconvert_exporter": "python",
   "pygments_lexer": "ipython3",
   "version": "3.11.0"
  }
 },
 "nbformat": 4,
 "nbformat_minor": 5
}
