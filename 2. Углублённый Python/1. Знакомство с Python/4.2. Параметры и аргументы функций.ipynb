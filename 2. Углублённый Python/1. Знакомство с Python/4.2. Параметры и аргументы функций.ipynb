{
 "cells": [
  {
   "cell_type": "markdown",
   "id": "8c8de1c6",
   "metadata": {},
   "source": [
    "# Параметры\n",
    "**Функция** — это самостоятельный фрагмент кода, микропрограмма в составе основной программы. Чтобы функция могла использовать в работе какие-то данные: \n",
    "\n",
    "- функция должна быть готова получить эти данные;\n",
    "- при вызове функции эти данные нужно передать в неё.\n",
    "\n",
    "Чтобы функция была готова получить данные, при объявлении функции указывают **параметры функции** — переменные, которые будут использованы в теле этой функции. Имена для параметров придумывает сам разработчик."
   ]
  },
  {
   "cell_type": "code",
   "execution_count": 1,
   "id": "f35699c0",
   "metadata": {},
   "outputs": [],
   "source": [
    "# У функции welcome() есть параметр name.\n",
    "def welcome(name):\n",
    "    # Параметр name можно использовать в теле функции как обычную переменную:\n",
    "    print('Добро пожаловать в программу,', name)"
   ]
  },
  {
   "cell_type": "markdown",
   "id": "c346933f",
   "metadata": {},
   "source": [
    "# Аргументы\n",
    "Значения для параметров передаются при вызове функций. Переданные значения называют **аргументами функции**."
   ]
  },
  {
   "cell_type": "code",
   "execution_count": 2,
   "id": "f185d349",
   "metadata": {},
   "outputs": [
    {
     "name": "stdout",
     "output_type": "stream",
     "text": [
      "Добро пожаловать в программу, Тоня\n"
     ]
    }
   ],
   "source": [
    "def welcome(name):\n",
    "    print('Добро пожаловать в программу,', name)\n",
    "\n",
    "# При вызове передаём аргумент 'Тоня'\n",
    "# для параметра name.\n",
    "welcome('Тоня')"
   ]
  },
  {
   "cell_type": "markdown",
   "id": "85853350",
   "metadata": {},
   "source": [
    "> Чтобы защититься от ошибок при «нехватке» аргументов, в объявлении функции любому параметру можно присвоить **значение по умолчанию**. Если при вызове функции ожидаемый аргумент не был передан, параметру будет передано значение по умолчанию.\n",
    "\n",
    "Значения параметров по умолчанию указываются при объявлении функции. "
   ]
  },
  {
   "cell_type": "code",
   "execution_count": null,
   "id": "2b50cbc6",
   "metadata": {},
   "outputs": [],
   "source": [
    "def function_name(param_1=default_val_1, param_2=default_val_2):"
   ]
  },
  {
   "cell_type": "code",
   "execution_count": 3,
   "id": "2b5a3520",
   "metadata": {},
   "outputs": [
    {
     "name": "stdout",
     "output_type": "stream",
     "text": [
      "Женя заготавливает на зиму разные продукты\n",
      "Пользователь заготавливает на зиму разные продукты\n"
     ]
    }
   ],
   "source": [
    "# Если при вызове забудут передать имя, значением name будет слово 'Пользователь';\n",
    "# а если не будет передано название продукта,\n",
    "# функция присвоит переменной product значение 'разные продукты'.\n",
    "def action(name='Пользователь', product='разные продукты'):\n",
    "    print(name, 'заготавливает на зиму', product)\n",
    "\n",
    "# Передаётся только один аргумент из двух.\n",
    "action('Женя')\n",
    "# А можно вызвать функцию вообще без аргументов - \n",
    "# и оба параметра примут значения по умолчанию.\n",
    "action()"
   ]
  },
  {
   "cell_type": "markdown",
   "id": "af15f87d",
   "metadata": {},
   "source": [
    "В общем случае опциональные параметры должны быть определены после обязательных. Например, вот так:"
   ]
  },
  {
   "cell_type": "code",
   "execution_count": null,
   "id": "79046592",
   "metadata": {},
   "outputs": [],
   "source": [
    "def function_name(required_param, optional_param=default_value):\n",
    "    # Тело функции "
   ]
  },
  {
   "cell_type": "markdown",
   "id": "97a732a6",
   "metadata": {},
   "source": [
    "Здесь `required_param` — это обязательный параметр, а `optional_param` — опциональный параметр со значением по умолчанию."
   ]
  },
  {
   "cell_type": "code",
   "execution_count": 5,
   "id": "41b2b710",
   "metadata": {},
   "outputs": [
    {
     "name": "stdout",
     "output_type": "stream",
     "text": [
      "Женя заготавливает на зиму 25 банок с надписью брюква\n"
     ]
    }
   ],
   "source": [
    "def action(quantity, name='Пользователь', product='разные продукты'):\n",
    "    print(name, 'заготавливает на зиму', quantity, 'банок с надписью', product)\n",
    "\n",
    "action(25, 'Женя', 'брюква') "
   ]
  },
  {
   "cell_type": "markdown",
   "id": "b2ae8dbb",
   "metadata": {},
   "source": [
    "Чтобы избежать неразберихи, при вызове функции можно передавать **именованные аргументы** — явно указывать, какому параметру какой аргумент соответствует."
   ]
  },
  {
   "cell_type": "code",
   "execution_count": 6,
   "id": "cc2b489a",
   "metadata": {},
   "outputs": [
    {
     "name": "stdout",
     "output_type": "stream",
     "text": [
      "Пользователь заготавливает на зиму авокадо\n",
      "Женя заготавливает на зиму фейхоа\n"
     ]
    }
   ],
   "source": [
    "def action(name = 'Пользователь', food = 'разные продукты'):\n",
    "    print(name, 'заготавливает на зиму', food)\n",
    "\n",
    "# Передан именованный аргумент: \n",
    "# явно указано, что значение 'авокадо' предназначено для параметра food.\n",
    "action(food = 'авокадо')  \n",
    "\n",
    "# Функция вызвана ещё раз: передано два именованных аргумента,\n",
    "# но не в том порядке, как они указаны в объявлении функции.\n",
    "action(food = 'фейхоа', name = 'Женя')"
   ]
  },
  {
   "cell_type": "markdown",
   "id": "20f10f5b",
   "metadata": {},
   "source": [
    "> Если при вызове функции указан хотя бы один **именованный аргумент** — передать после него **позиционный** нельзя."
   ]
  },
  {
   "cell_type": "code",
   "execution_count": 7,
   "id": "42c399c5",
   "metadata": {},
   "outputs": [
    {
     "name": "stdout",
     "output_type": "stream",
     "text": [
      "Женя заготавливает на зиму фейхоа\n"
     ]
    }
   ],
   "source": [
    "def action(name, food):\n",
    "    print(name, 'заготавливает на зиму', food)\n",
    "\n",
    "# Так нельзя: не сработает, возникнет ошибка.\n",
    "# action(name='Женя', 'фейхоа')\n",
    "\n",
    "# Можно так (сначала - позиционный, потом именованный аргумент):\n",
    "action('Женя', food='фейхоа')"
   ]
  },
  {
   "cell_type": "code",
   "execution_count": null,
   "id": "cd8351a2",
   "metadata": {},
   "outputs": [],
   "source": []
  }
 ],
 "metadata": {
  "kernelspec": {
   "display_name": "Python 3 (ipykernel)",
   "language": "python",
   "name": "python3"
  },
  "language_info": {
   "codemirror_mode": {
    "name": "ipython",
    "version": 3
   },
   "file_extension": ".py",
   "mimetype": "text/x-python",
   "name": "python",
   "nbconvert_exporter": "python",
   "pygments_lexer": "ipython3",
   "version": "3.9.13"
  }
 },
 "nbformat": 4,
 "nbformat_minor": 5
}
