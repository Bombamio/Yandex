{
 "cells": [
  {
   "cell_type": "markdown",
   "id": "9d2d66d7",
   "metadata": {},
   "source": [
    "# Начало, строки"
   ]
  },
  {
   "cell_type": "code",
   "execution_count": 9,
   "id": "a01f4af8",
   "metadata": {},
   "outputs": [
    {
     "name": "stdout",
     "output_type": "stream",
     "text": [
      "Июнь \n",
      "Июль \n",
      "Август \n"
     ]
    }
   ],
   "source": [
    "print('Июнь \\nИюль \\nАвгуст ')"
   ]
  },
  {
   "cell_type": "code",
   "execution_count": 3,
   "id": "4476a87b",
   "metadata": {},
   "outputs": [
    {
     "name": "stdout",
     "output_type": "stream",
     "text": [
      "2030\n",
      "Июнь\n",
      "Пн Вт Ср Чт Пт Сб Вс\n",
      "\n",
      "2030\n",
      "Июль\n",
      "Пн Вт Ср Чт Пт Сб Вс\n",
      "\n",
      "2030\n",
      "Август\n",
      "Пн Вт Ср Чт Пт Сб Вс\n"
     ]
    }
   ],
   "source": [
    "print('2030')\n",
    "print('Июнь')\n",
    "print('Пн Вт Ср Чт Пт Сб Вс')\n",
    "print('')\n",
    "print('2030')\n",
    "print('Июль')\n",
    "print('Пн Вт Ср Чт Пт Сб Вс')\n",
    "print('')\n",
    "print('2030')\n",
    "print('Август')\n",
    "print('Пн Вт Ср Чт Пт Сб Вс') "
   ]
  },
  {
   "cell_type": "code",
   "execution_count": 6,
   "id": "b9249ebd",
   "metadata": {},
   "outputs": [
    {
     "name": "stdout",
     "output_type": "stream",
     "text": [
      "Январь НОМЕР_ГОДА\n",
      "Пн Вт Ср Чт Пт Сб Вс\n",
      "      1  2  3  4  5 \n",
      "6  7  8  9  10 11 12 \n",
      "13 14 15 16 17 18 19 \n",
      "20 21 22 23 24 25 26 \n",
      "27 28 29 30 31 \n"
     ]
    }
   ],
   "source": [
    "print(\n",
    "    'Январь НОМЕР_ГОДА'\n",
    "    '\\nПн Вт Ср Чт Пт Сб Вс'\n",
    "    '\\n      1  2  3  4  5 '\n",
    "    '\\n6  7  8  9  10 11 12 '\n",
    "    '\\n13 14 15 16 17 18 19 '\n",
    "    '\\n20 21 22 23 24 25 26 '\n",
    "    '\\n27 28 29 30 31 '\n",
    ")"
   ]
  },
  {
   "cell_type": "code",
   "execution_count": 7,
   "id": "34b0a887",
   "metadata": {},
   "outputs": [
    {
     "name": "stdout",
     "output_type": "stream",
     "text": [
      "Сегодня\n",
      "отличный день,\n",
      "чтобы разобраться\n",
      "с переменными!\n"
     ]
    }
   ],
   "source": [
    "greeting = 'Сегодня'\n",
    "mood_statement = 'отличный день,'\n",
    "action_statement = 'чтобы разобраться'\n",
    "final_statement = 'с переменными!' \n",
    "\n",
    "print(greeting)\n",
    "print(mood_statement)\n",
    "print(action_statement)\n",
    "print(final_statement)"
   ]
  },
  {
   "cell_type": "code",
   "execution_count": 8,
   "id": "bd1440b6",
   "metadata": {
    "scrolled": true
   },
   "outputs": [
    {
     "name": "stdout",
     "output_type": "stream",
     "text": [
      "2030\n",
      "Июнь \n",
      "Пн Вт Ср Чт Пт Сб Вс \n",
      "\n",
      "2030\n",
      "Июль\n",
      "Пн Вт Ср Чт Пт Сб Вс \n",
      "\n",
      "2030\n",
      "Август\n",
      "Пн Вт Ср Чт Пт Сб Вс \n",
      "\n"
     ]
    }
   ],
   "source": [
    "year = '2030'\n",
    "month_1 = 'Июнь'\n",
    "month_2 = 'Июль'\n",
    "month_3 = 'Август'\n",
    "days_of_week = 'Пн Вт Ср Чт Пт Сб Вс' \n",
    "\n",
    "print(year)\n",
    "print(month_1)\n",
    "print(days_of_week)\n",
    "print('')\n",
    "\n",
    "print(year)\n",
    "print(month_2)\n",
    "print(days_of_week)\n",
    "print('')\n",
    "\n",
    "print(year)\n",
    "print(month_3)\n",
    "print(days_of_week)\n",
    "print('')"
   ]
  },
  {
   "cell_type": "code",
   "execution_count": null,
   "id": "645d62d6",
   "metadata": {},
   "outputs": [],
   "source": []
  }
 ],
 "metadata": {
  "kernelspec": {
   "display_name": "Python 3 (ipykernel)",
   "language": "python",
   "name": "python3"
  },
  "language_info": {
   "codemirror_mode": {
    "name": "ipython",
    "version": 3
   },
   "file_extension": ".py",
   "mimetype": "text/x-python",
   "name": "python",
   "nbconvert_exporter": "python",
   "pygments_lexer": "ipython3",
   "version": "3.9.13"
  }
 },
 "nbformat": 4,
 "nbformat_minor": 5
}
