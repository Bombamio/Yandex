{
 "cells": [
  {
   "cell_type": "markdown",
   "id": "87c78f11",
   "metadata": {},
   "source": [
    "**Модули в Python** — это наборы готовых функций, переменных и другого кода. Такие наборы предназначены для решения каких-то задач, объединённых общей темой. Они написаны разработчиками языка Python или сторонними программистами. \n",
    "\n",
    "При создании программы разработчик может подключить к своему коду нужный модуль — и ему станут доступны все инструменты, заготовленные в модуле. Подключение модуля к коду называется **«импорт»**: «импортировать модуль» — совершенно бытовая фраза в среде разработчиков. "
   ]
  },
  {
   "cell_type": "code",
   "execution_count": 1,
   "id": "33bc5535",
   "metadata": {},
   "outputs": [
    {
     "name": "stdout",
     "output_type": "stream",
     "text": [
      "16.0\n"
     ]
    }
   ],
   "source": [
    "# Импортируем модуль math в код:\n",
    "import math  # Без импорта функции модуля будут недоступны.\n",
    "\n",
    "\n",
    "# С помощью функции sqrt из модуля math\n",
    "# вычислим квадратный корень для 256, \n",
    "# присвоим результат переменной sqrt_num и напечатаем её:\n",
    "sqrt_num = math.sqrt(256)\n",
    "print(sqrt_num)"
   ]
  },
  {
   "cell_type": "markdown",
   "id": "e66da5b0",
   "metadata": {},
   "source": [
    "Чтобы вызвать функцию из импортированного модуля, к ней нужно обратиться через имя модуля: `имя_модуля.имя_функции`."
   ]
  },
  {
   "cell_type": "markdown",
   "id": "c888b0a7",
   "metadata": {},
   "source": [
    "## Точечная нотация\n",
    "Смысл точечной нотации — тот же, что и в любой другой адресации: указать адрес нужного объекта в иерархической системе. \n",
    "\n",
    "Например, адрес файла, сохранённого на компьютере, может выглядеть так:"
   ]
  },
  {
   "cell_type": "code",
   "execution_count": null,
   "id": "022c13c2",
   "metadata": {},
   "outputs": [],
   "source": [
    "# На диске C в папке Games расположена папка screenshots, в которой лежит файл i_won\n",
    "C:\\Games\\screenshots\\i_won.jpg "
   ]
  },
  {
   "cell_type": "markdown",
   "id": "47d65aa4",
   "metadata": {},
   "source": [
    "С помощью точечной нотации этот адрес был бы записан так:"
   ]
  },
  {
   "cell_type": "code",
   "execution_count": null,
   "id": "2bd16592",
   "metadata": {},
   "outputs": [],
   "source": [
    "# На диске C в папке Games расположена папка screenshots, в которой лежит файл i_won\n",
    "C.Games.screenshots.i_won "
   ]
  },
  {
   "cell_type": "code",
   "execution_count": 2,
   "id": "9c1a0445",
   "metadata": {},
   "outputs": [
    {
     "name": "stdout",
     "output_type": "stream",
     "text": [
      "Квадратный корень из 9 - это 3.0\n",
      "9 в квадрате - это 81.0\n",
      "3.141592653589793\n"
     ]
    }
   ],
   "source": [
    "# Импорт модуля.\n",
    "import math\n",
    "\n",
    "\n",
    "value = 9\n",
    "\n",
    "# Извлечение квадратного корня при помощи функции sqrt() из модуля math.\n",
    "result_1 = math.sqrt(value)\n",
    "print('Квадратный корень из 9 - это', result_1)\n",
    "\n",
    "# Получение квадрата (возведение в степень 2) заданного числа \n",
    "# при помощи функции pow() из модуля math.\n",
    "result_2 = math.pow(value, 2)\n",
    "print('9 в квадрате - это', result_2)\n",
    "\n",
    "# Вывод на экран значения числа пи: в модуле math оно хранится в переменной pi.\n",
    "print(math.pi)"
   ]
  },
  {
   "cell_type": "markdown",
   "id": "ec26a821",
   "metadata": {},
   "source": [
    "> При импорте разработчик может дать импортированному модулю собственное имя, какое понравится. Для этого применяют ключевое слово `as`: "
   ]
  },
  {
   "cell_type": "code",
   "execution_count": null,
   "id": "443edd1a",
   "metadata": {},
   "outputs": [],
   "source": [
    "import math as mt "
   ]
  },
  {
   "cell_type": "markdown",
   "id": "3035876c",
   "metadata": {},
   "source": [
    " Если нужен не весь код модуля, а лишь одна функция — лучше импортировать только её. "
   ]
  },
  {
   "cell_type": "code",
   "execution_count": 3,
   "id": "26ffa361",
   "metadata": {},
   "outputs": [
    {
     "name": "stdout",
     "output_type": "stream",
     "text": [
      "Квадратный корень из 9 - это 3.0\n"
     ]
    }
   ],
   "source": [
    "# Из_модуля math импортировать_функцию sqrt.\n",
    "from math import sqrt\n",
    "\n",
    "value = 9\n",
    "\n",
    "# Когда импортирована только отдельная функция, а не модуль целиком -\n",
    "# при вызове этой функции не нужно указывать имя \"родительского\" модуля:\n",
    "result_1 = sqrt(value)\n",
    "print('Квадратный корень из 9 - это', result_1)"
   ]
  },
  {
   "cell_type": "markdown",
   "id": "7c87f57b",
   "metadata": {},
   "source": [
    "- После импорта отдельной функции её вызывают, **не указывая имя модуля** перед названием функции."
   ]
  },
  {
   "cell_type": "markdown",
   "id": "a8cea5a4",
   "metadata": {},
   "source": [
    "> Функциям, импортированным из модуля, тоже можно задать псевдоним через `as`:"
   ]
  },
  {
   "cell_type": "code",
   "execution_count": null,
   "id": "f0e763c8",
   "metadata": {},
   "outputs": [],
   "source": [
    "from math import remainder as rmd "
   ]
  },
  {
   "cell_type": "markdown",
   "id": "05342911",
   "metadata": {},
   "source": [
    "Есть и ещё один способ импортировать содержимое модуля в код. По синтаксису этот способ похож на импорт отдельной функции из модуля, но он импортирует всё, что есть в модуле —  переменные, функции, всё-всё:"
   ]
  },
  {
   "cell_type": "code",
   "execution_count": null,
   "id": "6ac65c9f",
   "metadata": {},
   "outputs": [],
   "source": [
    "from math import *\n",
    "... "
   ]
  },
  {
   "cell_type": "markdown",
   "id": "34bd3cf7",
   "metadata": {},
   "source": [
    "> Символ `*` означает «всё, что есть», и в общем виде такая запись означает «`из` модуля `math` `импортируй` `всё`, что в нём есть»."
   ]
  },
  {
   "cell_type": "code",
   "execution_count": 24,
   "id": "15545644",
   "metadata": {},
   "outputs": [
    {
     "name": "stdout",
     "output_type": "stream",
     "text": [
      "Факториал 9 равен 362880\n"
     ]
    }
   ],
   "source": [
    "# Из модуля math импортируйте функцию, вычисляющую факториал числа,\n",
    "# и задайте ей псевдоним fact.\n",
    "from math import factorial as fact\n",
    "# Из модуля random импортируйте функцию, возвращающую случайное число,\n",
    "# и задайте ей псевдоним rnd.\n",
    "from random import randint as rnd\n",
    "\n",
    "# Вызовите функцию под псевдонимом rnd, присвойте результат её работы\n",
    "# переменной value. При вызове этой функции передайте такие параметры,\n",
    "# чтобы вернулось случайное значение в диапазоне от 1 до 10 включительно.\n",
    "value = rnd(1, 10)\n",
    "\n",
    "# Вызовите функцию под псевдонимом fact, аргументом передайте переменную value.\n",
    "result = fact(value)\n",
    "\n",
    "# Распечатайте результат в нужном формате.\n",
    "# Для печати нескольких значений перечислите их через запятую.\n",
    "print(f'Факториал {value} равен {result}')"
   ]
  },
  {
   "cell_type": "markdown",
   "id": "ddfbb6bc",
   "metadata": {},
   "source": [
    "**Документация по встроенным функциям Python.**\n",
    "\n",
    "https://docs.python.org/3.9/library/functions.html\n",
    "***\n",
    "**Документация по модулям стандартной библиотеки Python.**\n",
    "\n",
    "https://docs.python.org/3/library/index.html\n",
    "***\n",
    "**Документация к модулю math расположена на сайте с документацией Python**\n",
    "\n",
    "https://docs.python.org/3.9/library/math.html\n",
    "***"
   ]
  },
  {
   "cell_type": "code",
   "execution_count": null,
   "id": "58cebc15",
   "metadata": {},
   "outputs": [],
   "source": []
  }
 ],
 "metadata": {
  "kernelspec": {
   "display_name": "Python 3 (ipykernel)",
   "language": "python",
   "name": "python3"
  },
  "language_info": {
   "codemirror_mode": {
    "name": "ipython",
    "version": 3
   },
   "file_extension": ".py",
   "mimetype": "text/x-python",
   "name": "python",
   "nbconvert_exporter": "python",
   "pygments_lexer": "ipython3",
   "version": "3.9.13"
  }
 },
 "nbformat": 4,
 "nbformat_minor": 5
}
