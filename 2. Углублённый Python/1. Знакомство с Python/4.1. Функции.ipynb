{
 "cells": [
  {
   "cell_type": "markdown",
   "id": "fe6a64df",
   "metadata": {},
   "source": [
    "# Что такое функция\n",
    "**Функция** — это именованный блок кода, который выполняет конкретную задачу. Это программа в программе. Функции помогают организовать код в более мелкие, но при этом самодостаточные фрагменты.\n",
    "\n",
    "## Объявление функции\n",
    "1. Написать ключевое слово `def` (от англ. define — «определять, устанавливать»).\n",
    "2. Через пробел указать имя функции. Это имя придумывает разработчик.\n",
    "3. Затем поставить круглые скобки и двоеточие."
   ]
  },
  {
   "cell_type": "code",
   "execution_count": 6,
   "id": "31ba5b61",
   "metadata": {},
   "outputs": [
    {
     "name": "stdout",
     "output_type": "stream",
     "text": [
      "Эта строчка кода - вне функции!\n",
      "Добро пожаловать в программу!\n"
     ]
    }
   ],
   "source": [
    "# Объявление функции welcome().\n",
    "def welcome():\n",
    "    # Тело функции.\n",
    "    print('Добро пожаловать в программу!')\n",
    "\n",
    "# А эта строка не входит в тело функции: перед ней нет четырёх пробелов.\n",
    "print('Эта строчка кода - вне функции!')\n",
    "welcome()"
   ]
  },
  {
   "cell_type": "markdown",
   "id": "58a0db2b",
   "metadata": {},
   "source": [
    "> Чтобы создать пустую функцию и вместе с тем избежать ошибок, в тело пустой функции ставят «заглушку» — инструкцию `pass`. Инструкция `pass` — это оператор-заполнитель, который ничего не делает и используется для поддержания целостности структуры программы."
   ]
  },
  {
   "cell_type": "code",
   "execution_count": 7,
   "id": "db624c0a",
   "metadata": {},
   "outputs": [],
   "source": [
    "def empty():\n",
    "    pass  \n",
    "\n",
    "empty()"
   ]
  },
  {
   "cell_type": "markdown",
   "id": "52b7bdba",
   "metadata": {},
   "source": [
    "> Есть и другой вариант: вместо инструкции `pass` в тело пустой функции можно поставить значение Ellipsis (с англ. «многоточие»), оно записывается как три точки: `...`."
   ]
  },
  {
   "cell_type": "code",
   "execution_count": 8,
   "id": "cad8861c",
   "metadata": {},
   "outputs": [],
   "source": [
    "def empty():\n",
    "    # Тоже показывает отсутствие тела функции, но более лаконично.\n",
    "    ...  \n",
    "\n",
    "empty() "
   ]
  },
  {
   "cell_type": "markdown",
   "id": "94b5060d",
   "metadata": {},
   "source": [
    "Разница между `pass` и `...`:\n",
    "- `pass` — это инструкция, команда,\n",
    "- `...` — значение, которое можно присваивать переменным."
   ]
  },
  {
   "cell_type": "code",
   "execution_count": 9,
   "id": "e1f6f3d7",
   "metadata": {},
   "outputs": [
    {
     "name": "stdout",
     "output_type": "stream",
     "text": [
      "Значение переменной value: Ellipsis\n",
      "Тип переменной value: <class 'ellipsis'>\n"
     ]
    }
   ],
   "source": [
    "value = ...\n",
    "print('Значение переменной value:', value)\n",
    "\n",
    "print('Тип переменной value:', type(value))"
   ]
  },
  {
   "cell_type": "code",
   "execution_count": null,
   "id": "e200e34b",
   "metadata": {},
   "outputs": [],
   "source": []
  }
 ],
 "metadata": {
  "kernelspec": {
   "display_name": "Python 3 (ipykernel)",
   "language": "python",
   "name": "python3"
  },
  "language_info": {
   "codemirror_mode": {
    "name": "ipython",
    "version": 3
   },
   "file_extension": ".py",
   "mimetype": "text/x-python",
   "name": "python",
   "nbconvert_exporter": "python",
   "pygments_lexer": "ipython3",
   "version": "3.9.13"
  }
 },
 "nbformat": 4,
 "nbformat_minor": 5
}
