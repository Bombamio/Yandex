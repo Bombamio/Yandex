{
 "cells": [
  {
   "cell_type": "markdown",
   "id": "7f610ab5",
   "metadata": {},
   "source": [
    "# *Типы данных*"
   ]
  },
  {
   "cell_type": "markdown",
   "id": "1db9ac7d",
   "metadata": {},
   "source": [
    "# 1. Арифметические операции"
   ]
  },
  {
   "cell_type": "code",
   "execution_count": 1,
   "id": "5e599832",
   "metadata": {},
   "outputs": [
    {
     "name": "stdout",
     "output_type": "stream",
     "text": [
      "9\n",
      "5\n",
      "14\n",
      "3.5\n",
      "1\n",
      "1\n"
     ]
    }
   ],
   "source": [
    "value_1 = 7\n",
    "value_2 = 2\n",
    "\n",
    "# Начинаем арифметическое шоу!\n",
    "result_sum = value_1 + value_2       # Сложение.\n",
    "print(result_sum)\n",
    "\n",
    "result_diff = value_1 - value_2      # Вычитание.\n",
    "print(result_diff)\n",
    "\n",
    "result_multiply = value_1 * value_2  # Умножение.\n",
    "print(result_multiply)\n",
    "\n",
    "result_division = value_1 / value_2  # Деление.\n",
    "print(result_division)\n",
    "\n",
    "result_division = value_1 // value_1  # Целочисленное деление.\n",
    "print(result_division)\n",
    "\n",
    "result = value_1 % value_2 # Остаток от деления\n",
    "print(result)"
   ]
  },
  {
   "cell_type": "code",
   "execution_count": 2,
   "id": "7d03cdf9",
   "metadata": {},
   "outputs": [
    {
     "name": "stdout",
     "output_type": "stream",
     "text": [
      "Январь 2030 \n",
      "Количество дней: 31\n",
      "\n",
      "Февраль 2030 \n",
      "Количество дней: 28\n",
      "\n",
      "Март 2030 \n",
      "Количество дней: 31\n",
      "\n"
     ]
    }
   ],
   "source": [
    "year = 2030\n",
    "\n",
    "month_0 = 'Январь'\n",
    "month_1 = 'Февраль'\n",
    "month_2 = 'Март'\n",
    "\n",
    "# Количество дней по месяцам:\n",
    "days_in_month_0 = 31  # Для января.\n",
    "days_in_month_1 = 28  # Для февраля.\n",
    "days_in_month_2 = 31  # Для марта.\n",
    "\n",
    "# Ниже этого комментария напечатайте информацию о феврале.\n",
    "# Соблюдайте формат, указанный в условии.\n",
    "\n",
    "print(month_0, year, f'\\nКоличество дней: {days_in_month_0}\\n')\n",
    "print(month_1, year, f'\\nКоличество дней: {days_in_month_1}\\n')\n",
    "print(month_2, year, f'\\nКоличество дней: {days_in_month_2}\\n')"
   ]
  },
  {
   "cell_type": "code",
   "execution_count": 3,
   "id": "9e36fdbb",
   "metadata": {},
   "outputs": [
    {
     "name": "stdout",
     "output_type": "stream",
     "text": [
      "Раз - два - три - четыре - пять\n",
      "Полз питон ложиться спать\n"
     ]
    }
   ],
   "source": [
    "one = 'Раз'\n",
    "two = 'два'\n",
    "three = 'три'\n",
    "four = 'четыре'\n",
    "five = 'пять'\n",
    "dash = '-'\n",
    "\n",
    "print(one, dash, two, dash, three, dash, four, dash, five)\n",
    "print('Полз питон ложиться спать')"
   ]
  },
  {
   "cell_type": "markdown",
   "id": "caae20a6",
   "metadata": {},
   "source": [
    "## Изменение символа переноса в функции print() на иное значение "
   ]
  },
  {
   "cell_type": "code",
   "execution_count": 4,
   "id": "5e069235",
   "metadata": {},
   "outputs": [
    {
     "name": "stdout",
     "output_type": "stream",
     "text": [
      "Путь джедая Python — труден, но весело джедаю!\n"
     ]
    }
   ],
   "source": [
    "# Вместо переноса строки печатаем пробел, тире и ещё один пробел.\n",
    "print('Путь джедая Python', end=' — ')  \n",
    "print('труден, но весело джедаю!')"
   ]
  },
  {
   "cell_type": "markdown",
   "id": "50b30873",
   "metadata": {},
   "source": [
    "# 2. True or False"
   ]
  },
  {
   "cell_type": "code",
   "execution_count": 5,
   "id": "51ce3afa",
   "metadata": {},
   "outputs": [
    {
     "name": "stdout",
     "output_type": "stream",
     "text": [
      "Делится ли value_1 на value_2 без остатка? True\n"
     ]
    }
   ],
   "source": [
    "# Присвоим значения двум переменным:\n",
    "value_1 = 646\n",
    "value_2 = 38\n",
    "\n",
    "# ...проверим, равен ли нулю остаток от деления value_1 на value_2.\n",
    "# Переменной result присвоим результат логического выражения:\n",
    "result = value_1 % value_2 == 0\n",
    "\n",
    "# Напечатаем результат:\n",
    "print('Делится ли value_1 на value_2 без остатка?', result)"
   ]
  },
  {
   "cell_type": "markdown",
   "id": "24c2f139",
   "metadata": {},
   "source": [
    "## Операторы сравнения\n",
    "\n",
    "- больше >,\n",
    "- больше или равно >=,\n",
    "- меньше <,\n",
    "- меньше или равно <=,\n",
    "- равно ==,\n",
    "- не равно !=."
   ]
  },
  {
   "cell_type": "markdown",
   "id": "4ef775ac",
   "metadata": {},
   "source": [
    "- `==` Равно: проверяет, что два значения равны.\n",
    "\n",
    "> Например: `x == 5` вернёт `True`, если x равно 5.\n",
    "- `!=` Не равно: проверяет, что два значения не равны.\n",
    "\n",
    "> Например: `x != 5` вернёт `True`, если x равно 6.\n",
    "- `<` Строго меньше: проверяет, что левое значение меньше правого.\n",
    "\n",
    "> Например: `x < 5` вернёт `True`, если x меньше 5.\n",
    "- `>` Строго больше: проверяет, что левое значение больше правого.\n",
    "\n",
    "> Например: `x > 5` вернёт `True`, если x больше 5.\n",
    "- `<=` Меньше или равно: проверяет, что левое значение меньше правого или равно ему.\n",
    "\n",
    "> Например: `x <= 5` вернёт `True`, если x меньше или равно 5.\n",
    "- `>=` Больше или равно: проверяет, что левое значение больше правого или равно ему.\n",
    "\n",
    "> Например: `x >= 5` вернёт `True`, если x больше или равно 5."
   ]
  },
  {
   "cell_type": "markdown",
   "id": "54c21053",
   "metadata": {},
   "source": [
    "## Тонкости нейминга\n",
    "\n",
    " По имени переменной любой разработчик должен, хотя бы в общих чертах, понять, какие значения могут быть у переменной.\n",
    " \n",
    " Имена переменных, предназначенных для булевых значений, зачастую начинают со слова is: например, `is_lion_full` — «сыт ли лев?», `is_not_ok` — «не в порядке?», `is_winter` — «зима ли?». \n",
    " \n",
    "- `is_lion_full = True` — «да, лев сыт»;\n",
    "- `is_winter = False` — «нет, не зима»."
   ]
  },
  {
   "cell_type": "markdown",
   "id": "34dbdf21",
   "metadata": {},
   "source": [
    "# 3. Списки"
   ]
  },
  {
   "cell_type": "code",
   "execution_count": 6,
   "id": "2c8e6a35",
   "metadata": {},
   "outputs": [
    {
     "name": "stdout",
     "output_type": "stream",
     "text": [
      "Список bag: ['шлем', 'свитер', 'шайба', 'пластырь', 'бутерброд', 'телефон', 'коньки']\n",
      "Список descending_list: [5, 4, 3, 2, 1, 0]\n",
      "Список выражений expressions: [4, 5, False]\n",
      "Список переменных variables: [100, 200, 300]\n"
     ]
    }
   ],
   "source": [
    "# Список строк:\n",
    "bag = ['шлем', 'свитер', 'шайба', 'пластырь', 'бутерброд', 'телефон', 'коньки']\n",
    "\n",
    "# Список чисел:\n",
    "descending_list = [5, 4, 3, 2, 1, 0]\n",
    "\n",
    "# Список выражений (арифметических и логических):\n",
    "expressions = [2*2, 2+3, 2>4]\n",
    "\n",
    "first = 100\n",
    "second = 200\n",
    "third = 300\n",
    "\n",
    "# Список переменных:\n",
    "variables = [first, second, third]\n",
    "\n",
    "# Печатаем списки:\n",
    "print('Список bag:', bag)\n",
    "print('Список descending_list:', descending_list)\n",
    "# При печати списка выражений будут напечатаны не сами выражения, \n",
    "# а результаты их вычисления:\n",
    "print('Список выражений expressions:', expressions)\n",
    "\n",
    "# При печати списка переменных будут напечатаны не имена переменных, \n",
    "# а их значения:\n",
    "print('Список переменных variables:', variables)"
   ]
  },
  {
   "cell_type": "markdown",
   "id": "c524c783",
   "metadata": {},
   "source": [
    "> Выражение `искомое_значение in список` — это логическое выражение, возвращающее `True` или `False`."
   ]
  },
  {
   "cell_type": "code",
   "execution_count": 7,
   "id": "b456f380",
   "metadata": {},
   "outputs": [
    {
     "name": "stdout",
     "output_type": "stream",
     "text": [
      "Есть ли бутерброд? True\n",
      "Есть ли глобус? False\n"
     ]
    }
   ],
   "source": [
    "bag = ['шлем', 'свитер', 'шайба', 'пластырь', 'бутерброд', 'телефон', 'коньки']\n",
    "\n",
    "result_1 = 'бутерброд' in bag  # Есть ли значение 'бутерброд' в списке bag?\n",
    "# Печатаем:\n",
    "print('Есть ли бутерброд?',result_1)\n",
    "\n",
    "result_2 = 'глобус' in bag  # Есть ли значение 'глобус' в списке bag?\n",
    "# Печатаем:\n",
    "print('Есть ли глобус?', result_2)"
   ]
  },
  {
   "cell_type": "markdown",
   "id": "fafe2ebc",
   "metadata": {},
   "source": [
    "## Заданеие 1 из 3"
   ]
  },
  {
   "cell_type": "code",
   "execution_count": 8,
   "id": "ba678654",
   "metadata": {},
   "outputs": [
    {
     "name": "stdout",
     "output_type": "stream",
     "text": [
      "Длина списка - 12\n",
      "Список месяцев: ['Январь', 'Февраль', 'Март', 'Апрель', 'Май', 'Июнь', 'Июль', 'Август', 'Сентябрь', 'Октябрь', 'Ноябрь', 'Декабрь']\n"
     ]
    }
   ],
   "source": [
    "months = ['Январь', 'Февраль', 'Март', 'Апрель', 'Май', 'Июнь', 'Июль', 'Август', 'Сентябрь', 'Октябрь', 'Ноябрь', 'Декабрь']\n",
    "\n",
    "# Вычислите длину списка и выведите её вместо многоточия.\n",
    "print('Длина списка -', len(months))\n",
    "# Напечатайте список months (на месте многоточия).\n",
    "print('Список месяцев:', months)"
   ]
  },
  {
   "cell_type": "markdown",
   "id": "e210ca9f",
   "metadata": {},
   "source": [
    "## Задание 2 из 3 "
   ]
  },
  {
   "cell_type": "code",
   "execution_count": 9,
   "id": "ef7202a3",
   "metadata": {},
   "outputs": [
    {
     "name": "stdout",
     "output_type": "stream",
     "text": [
      "Зима: Декабрь Январь Февраль\n",
      "Весна: Март Апрель Май\n",
      "Лето: Июнь Июль Август\n",
      "Осень: Сентябрь Октябрь Ноябрь\n"
     ]
    }
   ],
   "source": [
    "months = ['Январь', 'Февраль', 'Март', 'Апрель', 'Май', 'Июнь', 'Июль', 'Август', 'Сентябрь', 'Октябрь', 'Ноябрь', 'Декабрь']\n",
    "\n",
    "print('Зима:', months[-1], months[0], months[1])\n",
    "print('Весна:', months[2], months[3], months[4])\n",
    "print('Лето:', months[5], months[6], months[7])\n",
    "print('Осень:', months[8], months[9], months[10])"
   ]
  },
  {
   "cell_type": "markdown",
   "id": "f18e0d61",
   "metadata": {},
   "source": [
    "## Задание 3 из 3"
   ]
  },
  {
   "cell_type": "code",
   "execution_count": 10,
   "id": "f63ef26a",
   "metadata": {},
   "outputs": [
    {
     "name": "stdout",
     "output_type": "stream",
     "text": [
      "Есть ли Мартобрь в списке? Ответ: False\n"
     ]
    }
   ],
   "source": [
    "months = ['Январь', 'Февраль', 'Март', 'Апрель', 'Май', 'Июнь', 'Июль', 'Август', 'Сентябрь', 'Октябрь', 'Ноябрь', 'Декабрь']\n",
    "\n",
    "# Проверка на наличие значения 'Мартобрь' в списке:\n",
    "print('Есть ли Мартобрь в списке? Ответ:', 'Мартобль' in months)"
   ]
  },
  {
   "cell_type": "markdown",
   "id": "e80990e3",
   "metadata": {},
   "source": [
    "# 4. Преобразование типов"
   ]
  },
  {
   "cell_type": "markdown",
   "id": "f2d7e208",
   "metadata": {},
   "source": [
    "## Преобразование числа в строку\n",
    ">Так, чтобы превратить число в строку — применяют функцию `str()`."
   ]
  },
  {
   "cell_type": "code",
   "execution_count": 11,
   "id": "3483def7",
   "metadata": {},
   "outputs": [
    {
     "name": "stdout",
     "output_type": "stream",
     "text": [
      "100 яблок\n"
     ]
    }
   ],
   "source": [
    "value = 100\n",
    "text = ' яблок'\n",
    "\n",
    "# При конкатенации преобразуем значение переменной value в строку:\n",
    "sentence_0 = str(value) + text\n",
    "print(sentence_0)"
   ]
  },
  {
   "cell_type": "markdown",
   "id": "1106332a",
   "metadata": {},
   "source": [
    "## Преобразование строки в число\n",
    ">Для приведения строки к целому числу применяют функцию  `int()`."
   ]
  },
  {
   "cell_type": "code",
   "execution_count": 12,
   "id": "1c8227fe",
   "metadata": {},
   "outputs": [
    {
     "name": "stdout",
     "output_type": "stream",
     "text": [
      "600\n"
     ]
    }
   ],
   "source": [
    "one_hundred = '100'\n",
    "five_hundred = '500'\n",
    "# С помощью int() приводим каждое значение к числу:\n",
    "result = int(one_hundred) + int(five_hundred)\n",
    "\n",
    "print(result)"
   ]
  },
  {
   "cell_type": "markdown",
   "id": "162cefe2",
   "metadata": {},
   "source": [
    "*Примеры приведения одних типов данных к другим*"
   ]
  },
  {
   "cell_type": "code",
   "execution_count": 13,
   "id": "e9522ec5",
   "metadata": {},
   "outputs": [
    {
     "name": "stdout",
     "output_type": "stream",
     "text": [
      "Строка в список: ['с', 'л', 'о', 'н']\n",
      "Ноль в булево значение: False\n",
      "Число 100 в булево значение: True\n",
      "Строка «слон» в булево значение: True\n",
      "Пустая строка в булево значение: False\n"
     ]
    }
   ],
   "source": [
    "# Объявим несколько переменных разного типа:\n",
    "elephant = 'слон'  # Строка.\n",
    "empty = ''         # Пустая строка.\n",
    "zero = 0           # Число.\n",
    "one_hundred = 100  # Число.\n",
    "\n",
    "# Строку можно преобразовать в список: каждая буква станет элементом списка.\n",
    "# Для этого применяется функция list().\n",
    "result_0 = list(elephant)\n",
    "print('Строка в список:', result_0)\n",
    "\n",
    "# Число можно превратить в значение типа bool: все числа, кроме нуля,\n",
    "# превратятся в True, а ноль преобразуется в False. \n",
    "result_1 = bool(zero)\n",
    "print('Ноль в булево значение:', result_1)\n",
    "\n",
    "result_2 = bool(one_hundred)\n",
    "print('Число 100 в булево значение:', result_2)\n",
    "\n",
    "# Строку тоже можно привести к bool. Любая непустая строка превратится в True:\n",
    "result_3 = bool(elephant)\n",
    "print('Строка «слон» в булево значение:', result_3)\n",
    "\n",
    "# Пустая строка превратится в False:\n",
    "result_4 = bool(empty)\n",
    "print('Пустая строка в булево значение:', result_4)"
   ]
  },
  {
   "cell_type": "markdown",
   "id": "0b58ff5a",
   "metadata": {},
   "source": [
    "## Задание"
   ]
  },
  {
   "cell_type": "code",
   "execution_count": 16,
   "id": "b077a449",
   "metadata": {},
   "outputs": [
    {
     "name": "stdout",
     "output_type": "stream",
     "text": [
      "Сегодняшнее число: 11, месяц: Ноябрь, год: 2030\n"
     ]
    }
   ],
   "source": [
    "# Пользователь вводит нужный ему год, например - 2030\n",
    "year = 2030\n",
    "\n",
    "# Названия месяцев в списке:\n",
    "months = ['Январь', 'Февраль', 'Март', 'Апрель', 'Май', 'Июнь', 'Июль', 'Август', 'Сентябрь', 'Октябрь', 'Ноябрь', 'Декабрь']\n",
    "\n",
    "# Готовим строку с сегодняшней датой:\n",
    "today = 'Сегодняшнее число: ' + str(11) + ', месяц: ' + months[10] + ', год: ' + str(year)\n",
    "\n",
    "# Печатаем результат:\n",
    "print(today)"
   ]
  },
  {
   "cell_type": "code",
   "execution_count": null,
   "id": "7e2af216",
   "metadata": {},
   "outputs": [],
   "source": []
  }
 ],
 "metadata": {
  "kernelspec": {
   "display_name": "Python 3 (ipykernel)",
   "language": "python",
   "name": "python3"
  },
  "language_info": {
   "codemirror_mode": {
    "name": "ipython",
    "version": 3
   },
   "file_extension": ".py",
   "mimetype": "text/x-python",
   "name": "python",
   "nbconvert_exporter": "python",
   "pygments_lexer": "ipython3",
   "version": "3.9.13"
  }
 },
 "nbformat": 4,
 "nbformat_minor": 5
}
