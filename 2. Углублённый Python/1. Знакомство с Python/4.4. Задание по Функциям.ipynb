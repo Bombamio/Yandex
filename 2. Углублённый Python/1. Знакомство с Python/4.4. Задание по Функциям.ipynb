{
 "cells": [
  {
   "cell_type": "markdown",
   "id": "8008c1ac",
   "metadata": {},
   "source": [
    "**1.Чтобы оценить затраты на обслуживание огорода, необходимо уточнить его размеры.**\n",
    "\n",
    "Предполагается, что огороды всегда прямоугольные.\n",
    "\n",
    "Напишите две функции:\n",
    "- функция `get_rectangle_area()` должна получить на вход длину и ширину огорода и вернуть его площадь;\n",
    "- функция `get_rectangle_perimeter()` должна получить на вход длину и ширину огорода и вернуть его периметр.\n",
    "Функции должны не печатать результат, а **возвращать** его.\n",
    "\n",
    "В коде заготовлены значения длины и ширины. Вызовите функции `get_rectangle_area()` и `get_rectangle_perimeter()` с аргументами `length` и `width` и напечатайте результаты вызовов в таком формате (только числа будут другие):\n",
    "\n",
    "    Площадь: 32\n",
    "    Периметр: 24"
   ]
  },
  {
   "cell_type": "markdown",
   "id": "24bbdd88",
   "metadata": {},
   "source": [
    "# Код:"
   ]
  },
  {
   "cell_type": "code",
   "execution_count": 4,
   "id": "df34a795",
   "metadata": {},
   "outputs": [
    {
     "name": "stdout",
     "output_type": "stream",
     "text": [
      "Площадь: 50\n",
      "Периметр: 30\n"
     ]
    }
   ],
   "source": [
    "def get_rectangle_area(length, width):\n",
    "    area = length * width\n",
    "    return area\n",
    "\n",
    "def get_rectangle_perimeter(length, width):\n",
    "    perimeter = 2 * (length + width)\n",
    "    return perimeter\n",
    "\n",
    "# Длина прямоугольника.\n",
    "length = 5\n",
    "# Ширина прямоугольника.\n",
    "width = 10\n",
    "\n",
    "print(f'Площадь: {get_rectangle_area(length, width)}')\n",
    "print(f'Периметр: {get_rectangle_perimeter(length, width)}')"
   ]
  },
  {
   "cell_type": "markdown",
   "id": "3c634413",
   "metadata": {},
   "source": [
    "**2. Правильный полив — ключ к здоровью растений!**\n",
    "\n",
    "Разные виды овощей требуют разного количества воды, и поливать огород надо по науке. \n",
    "\n",
    "Известно, сколько воды требуется для одного растения каждого вида, — и теперь нужна программа, которая рассчитает общее количество воды, необходимое для полива нескольких растений.\n",
    "\n",
    "Например, на один куст огурцов нужно 3 литра воды. На огороде — 20 таких кустов. Программа должна провести вычисления: `3 * 20` — и напечатать понятно оформленный ответ.\n",
    "\n",
    "Напишите функцию `calculate_watering()`, которая принимает три параметра:\n",
    "\n",
    "1. `plant_type`: название растения (например, «Помидоры» или «Ананасы»).\n",
    "2. `number_of_plants`: общее количество растений.\n",
    "3. `volume_per_plant`: количество воды в литрах, необходимое для одного растения. Это необязательный параметр. Значение этого параметра по умолчанию должно быть 2.5 (такого объёма воды в среднем должно хватить любому растению).\n",
    "\n",
    "Функция calculate_watering() должна вычислить общее количество воды, необходимое для полива, и напечатать строку:\n",
    "\n",
    "> <название_растения> <количество_растений> шт.: для полива требуется <количество_воды> л воды.\n",
    "\n",
    "Функция `calculate_watering()` не должна возвращать никаких значений."
   ]
  },
  {
   "cell_type": "markdown",
   "id": "d63510ad",
   "metadata": {},
   "source": [
    "### Например:"
   ]
  },
  {
   "cell_type": "code",
   "execution_count": null,
   "id": "49c941ad",
   "metadata": {},
   "outputs": [],
   "source": [
    "# При таком вызове:\n",
    "calculate_watering('Огурцы', 20, 3)\n",
    "\n",
    "# ...функция calculate_watering() должна напечатать строку\n",
    "# Огурцы 20 шт.: для полива требуется 60 л воды."
   ]
  },
  {
   "cell_type": "markdown",
   "id": "2fbe5c7c",
   "metadata": {},
   "source": [
    "# Код:"
   ]
  },
  {
   "cell_type": "code",
   "execution_count": 7,
   "id": "f5ddf8c5",
   "metadata": {},
   "outputs": [
    {
     "name": "stdout",
     "output_type": "stream",
     "text": [
      "Артишоки 20 шт.: для полива требуется 80 л воды.\n",
      "Кивано 15 шт.: для полива требуется 37.5 л воды.\n",
      "Тыквы 15 шт.: для полива требуется 37.5 л воды.\n"
     ]
    }
   ],
   "source": [
    "# Опишите параметры функции calculate_watering().\n",
    "def calculate_watering(plant_type, number_of_plants, volume_per_plant = 2.5):\n",
    "    number_of_water = volume_per_plant * number_of_plants\n",
    "    print(f'{plant_type} {number_of_plants} шт.: для полива требуется {number_of_water} л воды.')\n",
    "\n",
    "# Не изменяйте код ниже этого комментария: \n",
    "# если ваша функция написана правильно - эти вызовы должны успешно сработать.\n",
    "\n",
    "# Вызов функции с позиционными аргументами:\n",
    "calculate_watering('Артишоки', 20, 4)\n",
    "\n",
    "# Вызов функции с позиционными аргументами, без опционального:\n",
    "calculate_watering('Кивано', 15)\n",
    "\n",
    "# Вызов функции с именованными аргументами, без опционального:\n",
    "calculate_watering(number_of_plants=15, plant_type='Тыквы')"
   ]
  },
  {
   "cell_type": "code",
   "execution_count": null,
   "id": "0d318147",
   "metadata": {},
   "outputs": [],
   "source": []
  }
 ],
 "metadata": {
  "kernelspec": {
   "display_name": "Python 3 (ipykernel)",
   "language": "python",
   "name": "python3"
  },
  "language_info": {
   "codemirror_mode": {
    "name": "ipython",
    "version": 3
   },
   "file_extension": ".py",
   "mimetype": "text/x-python",
   "name": "python",
   "nbconvert_exporter": "python",
   "pygments_lexer": "ipython3",
   "version": "3.9.13"
  }
 },
 "nbformat": 4,
 "nbformat_minor": 5
}
