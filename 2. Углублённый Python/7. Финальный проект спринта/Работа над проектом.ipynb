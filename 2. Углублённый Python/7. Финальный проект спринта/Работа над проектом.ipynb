{
 "cells": [
  {
   "cell_type": "markdown",
   "id": "37fb5e09",
   "metadata": {},
   "source": [
    "# Решение задания"
   ]
  },
  {
   "cell_type": "code",
   "execution_count": null,
   "id": "06c0cca6",
   "metadata": {},
   "outputs": [],
   "source": [
    "import datetime\n",
    "from decimal import Decimal\n",
    "\n",
    "\n",
    "goods = {}\n",
    "DATE_FORMAT = '%Y-%m-%d'\n",
    "\n",
    "\n",
    "def add(items, title, amount, expiration_date=None):\n",
    "    if title not in items:\n",
    "        items[title] = []\n",
    "    expiration_date = datetime.datetime.strptime(\n",
    "        expiration_date, \n",
    "        DATE_FORMAT\n",
    "    ).date() if expiration_date else expiration_date\n",
    "    items[title].append(\n",
    "    {'amount': amount, 'expiration_date': expiration_date}\n",
    "    )\n",
    "\n",
    "\n",
    "def add_by_note(items, note):\n",
    "    parts = str.split(note, ' ')\n",
    "    if len(parts[-1].split('-')) == 3:\n",
    "        expiration_date = parts[-1]\n",
    "        amount = Decimal(parts[-2])\n",
    "        title = str.join(' ', parts[0:-2])\n",
    "        add(items, title, amount, expiration_date)\n",
    "    else:\n",
    "        amount = Decimal(parts[-1])\n",
    "        title = str.join(' ', parts[0:-1])\n",
    "        add(items, title, amount)\n",
    "\n",
    "\n",
    "def find(items, needle):\n",
    "    found = []\n",
    "    keys = list(items.keys())\n",
    "    for title in keys:\n",
    "        if title.lower().find(needle.lower()) > -1:\n",
    "            found.append(title)\n",
    "    return found\n",
    "\n",
    "\n",
    "def get_amount(items, needle): \n",
    "    value = Decimal('0')\n",
    "    for found in find(items, needle):\n",
    "        for title in items[found]:\n",
    "            for amount in title.values():\n",
    "                if type(amount) == Decimal:\n",
    "                    value += amount\n",
    "    return value\n",
    "\n",
    "\n",
    "def get_expired(items, in_advance_days=0):\n",
    "    # today = datetime.date.today()\n",
    "    # today = datetime.date(2023, 12, 10)\n",
    "    expired = []\n",
    "    today = datetime.date.today()\n",
    "    for title in items.keys():\n",
    "        end_list = [title, Decimal(0)]        \n",
    "        for i in range(len(items[title])):\n",
    "            date = items[title][i]['expiration_date']            \n",
    "            if type(date) == datetime.date:                \n",
    "                if date - today <= datetime.timedelta(days=in_advance_days):\n",
    "                    end_list[1] += items[title][i]['amount']\n",
    "        if end_list[1] != Decimal(0):\n",
    "            expired.append(tuple(end_list)) \n",
    "    return expired"
   ]
  },
  {
   "cell_type": "markdown",
   "id": "c219b434",
   "metadata": {},
   "source": [
    "***\n",
    "# Функция add()"
   ]
  },
  {
   "cell_type": "markdown",
   "id": "fed8847a",
   "metadata": {},
   "source": [
    "## Пример продуктов в списке"
   ]
  },
  {
   "cell_type": "code",
   "execution_count": 2,
   "id": "5dbdb3c4",
   "metadata": {},
   "outputs": [
    {
     "ename": "NameError",
     "evalue": "name 'add' is not defined",
     "output_type": "error",
     "traceback": [
      "\u001b[1;31m---------------------------------------------------------------------------\u001b[0m",
      "\u001b[1;31mNameError\u001b[0m                                 Traceback (most recent call last)",
      "\u001b[1;32m~\\AppData\\Local\\Temp\\ipykernel_6996\\2628915477.py\u001b[0m in \u001b[0;36m<module>\u001b[1;34m\u001b[0m\n\u001b[0;32m     11\u001b[0m }\n\u001b[0;32m     12\u001b[0m \u001b[1;33m\u001b[0m\u001b[0m\n\u001b[1;32m---> 13\u001b[1;33m \u001b[0madd\u001b[0m\u001b[1;33m(\u001b[0m\u001b[0mgoods\u001b[0m\u001b[1;33m,\u001b[0m \u001b[1;34m'Пельмени Универсальные'\u001b[0m\u001b[1;33m,\u001b[0m \u001b[0mDecimal\u001b[0m\u001b[1;33m(\u001b[0m\u001b[1;34m'2'\u001b[0m\u001b[1;33m)\u001b[0m\u001b[1;33m,\u001b[0m \u001b[1;34m'2023-10-28'\u001b[0m\u001b[1;33m)\u001b[0m\u001b[1;33m\u001b[0m\u001b[1;33m\u001b[0m\u001b[0m\n\u001b[0m",
      "\u001b[1;31mNameError\u001b[0m: name 'add' is not defined"
     ]
    }
   ],
   "source": [
    "goods = {\n",
    "    'Пельмени Универсальные': [\n",
    "        # Первая партия продукта 'Пельмени Универсальные':\n",
    "        {'amount': Decimal('0.5'), 'expiration_date': datetime.date(2023, 7, 15)},\n",
    "        # Вторая партия продукта 'Пельмени Универсальные':\n",
    "        {'amount': Decimal('2'), 'expiration_date': datetime.date(2023, 8, 1)},\n",
    "    ],\n",
    "    'Вода': [\n",
    "        {'amount': Decimal('1.5'), 'expiration_date': None}\n",
    "    ],\n",
    "}\n",
    "\n",
    "add(goods, 'Пельмени Универсальные', Decimal('2'), '2023-10-28')"
   ]
  },
  {
   "cell_type": "code",
   "execution_count": 6,
   "id": "2c5e1f67",
   "metadata": {},
   "outputs": [
    {
     "name": "stdout",
     "output_type": "stream",
     "text": [
      "{'Пельмени Универсальные': [{'amount': Decimal('2'), 'expiration_date': datetime.date(2023, 10, 28)}], 'Яйца': [{'amount': Decimal('10'), 'expiration_date': datetime.date(2023, 9, 30)}, {'amount': Decimal('3'), 'expiration_date': datetime.date(2023, 10, 15)}], 'Вода': [{'amount': Decimal('2.5'), 'expiration_date': None}]}\n"
     ]
    }
   ],
   "source": [
    "import datetime as dt\n",
    "from decimal import Decimal\n",
    "\n",
    "\n",
    "goods = {}\n",
    "DATE_FORMAT = '%Y-%m-%d'\n",
    "\n",
    "\n",
    "def add(items, title, amount, expiration_date=None):\n",
    "    if title not in items:\n",
    "        items[title] = []\n",
    "    expiration_date = dt.datetime.strptime(\n",
    "        expiration_date, \n",
    "        DATE_FORMAT\n",
    "    ).date() if expiration_date else expiration_date\n",
    "    items[title].append(\n",
    "    {'amount': amount, 'expiration_date': expiration_date}\n",
    "    )\n",
    "    \n",
    "add(goods, 'Пельмени Универсальные', Decimal('2'), '2023-10-28')\n",
    "add(goods, 'Яйца', Decimal('10'), '2023-9-30')\n",
    "add(goods, 'Яйца', Decimal('3'), '2023-10-15')\n",
    "add(goods, 'Вода', Decimal('2.5'))\n",
    "print(goods)"
   ]
  },
  {
   "cell_type": "markdown",
   "id": "59f64db4",
   "metadata": {},
   "source": [
    "***\n",
    "# Функция add_by_note()"
   ]
  },
  {
   "cell_type": "code",
   "execution_count": null,
   "id": "b0c898f6",
   "metadata": {},
   "outputs": [],
   "source": [
    "# <название> <количество> <срок годности>\n",
    "Яйца 4 2023-07-15"
   ]
  },
  {
   "cell_type": "code",
   "execution_count": null,
   "id": "ce5a2156",
   "metadata": {},
   "outputs": [
    {
     "name": "stdout",
     "output_type": "stream",
     "text": [
      "{'Яйца гусиные': [{'amount': Decimal('4'), 'expiration_date': datetime.date(2023, 7, 15)}]}\n"
     ]
    }
   ],
   "source": [
    "import datetime\n",
    "from decimal import Decimal\n",
    "\n",
    "# Холодильник пуст:\n",
    "goods = {}\n",
    "DATE_FORMAT = '%Y-%m-%d'\n",
    "\n",
    "\n",
    "def add_by_note(items, note):\n",
    "    parts = str.split(note, ' ')\n",
    "    if len(parts[-1].split('-')) == 3:\n",
    "        expiration_date = parts[-1]\n",
    "        amount = Decimal(parts[-2])\n",
    "        title = str.join(' ', parts[0:-2])\n",
    "        add(items, title, amount, expiration_date)\n",
    "    else:\n",
    "        amount = Decimal(parts[-1])\n",
    "        title = str.join(' ', parts[0:-1])\n",
    "        add(items, title, amount)\n",
    "    \n",
    "add_by_note(goods, 'Яйца гусиные 4 2023-07-15')\n",
    "print(goods)"
   ]
  },
  {
   "cell_type": "markdown",
   "id": "49163a4d",
   "metadata": {},
   "source": [
    "***\n",
    "# Функция def find()"
   ]
  },
  {
   "cell_type": "code",
   "execution_count": null,
   "id": "f7985726",
   "metadata": {},
   "outputs": [
    {
     "name": "stdout",
     "output_type": "stream",
     "text": [
      "['Яйца', 'Яйца гусиные']\n"
     ]
    }
   ],
   "source": [
    "import datetime\n",
    "from decimal import Decimal\n",
    "\n",
    "\n",
    "goods = {\n",
    "    'Яйца': [{'amount': Decimal('1'), 'expiration_date': datetime.date(2023, 6, 24)}],\n",
    "    'Яйца гусиные': [{'amount': Decimal('4'), 'expiration_date': datetime.date(2023, 7, 15)}],\n",
    "    'Морковь': [{'amount': Decimal('2'), 'expiration_date': datetime.date(2023, 8, 6)}]\n",
    "}\n",
    "\n",
    "def find(items, needle):\n",
    "    found = []\n",
    "    keys = list(items.keys())\n",
    "    for title in keys:\n",
    "        if title.lower().find(needle.lower()) > -1:\n",
    "            found.append(title)\n",
    "    return found\n",
    "            \n",
    "print(find(goods, 'Яйц'))            "
   ]
  },
  {
   "cell_type": "markdown",
   "id": "77d4fc5d",
   "metadata": {},
   "source": [
    "***\n",
    "# Функция get_amount()"
   ]
  },
  {
   "cell_type": "code",
   "execution_count": 34,
   "id": "a7940388",
   "metadata": {},
   "outputs": [
    {
     "name": "stdout",
     "output_type": "stream",
     "text": [
      "106\n",
      "5\n"
     ]
    }
   ],
   "source": [
    "import datetime\n",
    "from decimal import Decimal\n",
    "\n",
    "goods = {\n",
    "    'Яйца': [{'amount': Decimal('1'), 'expiration_date': None}],\n",
    "    \n",
    "    'Яйца фабрика №1': [{'amount': Decimal('100'), 'expiration_date': None}],\n",
    "    'Яйца фабрика №3': [{'amount': Decimal('5'), 'expiration_date': None}],\n",
    "    \n",
    "    'Морковь': [\n",
    "        {'amount': Decimal('2'), 'expiration_date': datetime.date(2023, 8, 1)},\n",
    "        {'amount': Decimal('3'), 'expiration_date': datetime.date(2023, 8, 6)}\n",
    "    ],\n",
    "    'Вода': [{'amount': Decimal('2.5'), 'expiration_date': None}]\n",
    "}\n",
    "\n",
    "\n",
    "def get_amount(items, needle): \n",
    "    value = Decimal('0')\n",
    "    for found in find(items, needle):\n",
    "        for title in items[found]:\n",
    "            for amount in title.values():\n",
    "                if type(amount) == Decimal:\n",
    "                    value += amount\n",
    "    return value\n",
    "    \n",
    "\n",
    "\n",
    "print(get_amount(goods, 'яйца'))\n",
    "# Вывод: 1\n",
    "print(get_amount(goods, 'морковь'))\n",
    "# Вывод: 5"
   ]
  },
  {
   "cell_type": "markdown",
   "id": "319f6d43",
   "metadata": {},
   "source": [
    "***\n",
    "# Функция get_expired()"
   ]
  },
  {
   "cell_type": "code",
   "execution_count": 22,
   "id": "caa90348",
   "metadata": {},
   "outputs": [
    {
     "name": "stdout",
     "output_type": "stream",
     "text": [
      "2023-12-09\n",
      "[{'amount': Decimal('1'), 'expiration_date': None}, {'amount': Decimal('1'), 'expiration_date': datetime.date(2023, 12, 9)}]\n",
      "None\n"
     ]
    }
   ],
   "source": [
    "import datetime\n",
    "from decimal import Decimal\n",
    "\n",
    "goods = {\n",
    "    'Хлеб': [\n",
    "        {'amount': Decimal('1'), 'expiration_date': None},\n",
    "        {\n",
    "            'amount': Decimal('1'), \n",
    "            'expiration_date': datetime.date(2023, 12, 9)\n",
    "        }\n",
    "    ],\n",
    "    'Яйца': [\n",
    "        {\n",
    "            'amount': Decimal('2'),\n",
    "            'expiration_date': datetime.date(2023, 12, 12)\n",
    "        },\n",
    "        {\n",
    "            'amount': Decimal('3'),\n",
    "            'expiration_date': datetime.date(2023, 12, 11)\n",
    "        }\n",
    "    ],\n",
    "    'Вода': [{'amount': Decimal('100'), 'expiration_date': None}]\n",
    "}\n",
    "\n",
    "def get_expired(items, in_advance_days=0):\n",
    "    #dt.date.today()\n",
    "    expired = []\n",
    "    today = datetime.date(2023, 12, 10)\n",
    "    for title in items:\n",
    "        for i in range(len(items[title])):\n",
    "            date = items[title][i]['expiration_date']\n",
    "            amount = items[title][i]['amount']\n",
    "            if type(date) == datetime.date:\n",
    "                \n",
    "                if date - today <= dt.timedelta(days=in_advance_days):\n",
    "                    print(date)\n",
    "                    print(str(items[title]))\n",
    "       \n",
    "\n",
    "                \n",
    "                \n",
    "print(get_expired(goods))"
   ]
  },
  {
   "cell_type": "code",
   "execution_count": 33,
   "id": "8de2891d",
   "metadata": {},
   "outputs": [
    {
     "name": "stdout",
     "output_type": "stream",
     "text": [
      "[['Хлеб', Decimal('1')], ['Яйца', Decimal('5')]]\n"
     ]
    }
   ],
   "source": [
    "import datetime\n",
    "from decimal import Decimal\n",
    "\n",
    "goods = {\n",
    "    'Хлеб': [\n",
    "        {'amount': Decimal('1'), 'expiration_date': None},\n",
    "        {\n",
    "            'amount': Decimal('1'), \n",
    "            'expiration_date': datetime.date(2023, 12, 9)\n",
    "        }\n",
    "    ],\n",
    "    'Яйца': [\n",
    "        {\n",
    "            'amount': Decimal('2'),\n",
    "            'expiration_date': datetime.date(2023, 12, 12)\n",
    "        },\n",
    "        {\n",
    "            'amount': Decimal('3'),\n",
    "            'expiration_date': datetime.date(2023, 12, 11)\n",
    "        }\n",
    "    ],\n",
    "    'Вода': [{'amount': Decimal('100'), 'expiration_date': None}]\n",
    "}\n",
    "\n",
    "def get_expired(items, in_advance_days=0):\n",
    "    # today = datetime.date.today()\n",
    "    # today = datetime.date(2023, 12, 10)\n",
    "    expired = []\n",
    "    today = datetime.date(2023, 12, 10)\n",
    "    if in_advance_days == None:\n",
    "        in_advance_days = 0\n",
    "    for title in items.keys():\n",
    "        end_list = [title, Decimal(0)]        \n",
    "        for i in range(len(items[title])):\n",
    "            date = items[title][i]['expiration_date']            \n",
    "            if type(date) == datetime.date:                \n",
    "                if date - today <= datetime.timedelta(days=in_advance_days):\n",
    "                    end_list[1] += items[title][i]['amount']\n",
    "        if end_list[1] != Decimal(0):\n",
    "            expired.append(end_list) \n",
    "    return expired\n",
    "       \n",
    "\n",
    "                \n",
    "                \n",
    "print(get_expired(goods, 2))"
   ]
  },
  {
   "cell_type": "code",
   "execution_count": null,
   "id": "fb42c6ef",
   "metadata": {},
   "outputs": [],
   "source": [
    "# Если функция вызвана 10 декабря 2023 года\n",
    "print(get_expired(goods))\n",
    "# Вывод: [('Хлеб', Decimal('1'))]\n",
    "print(get_expired(goods, 1))\n",
    "# Вывод: [('Хлеб', Decimal('1')), ('Яйца', Decimal('3'))]\n",
    "print(get_expired(goods, 2))\n",
    "# Вывод: [('Хлеб', Decimal('1')), ('Яйца', Decimal('5'))]"
   ]
  }
 ],
 "metadata": {
  "kernelspec": {
   "display_name": ".venv",
   "language": "python",
   "name": "python3"
  },
  "language_info": {
   "codemirror_mode": {
    "name": "ipython",
    "version": 3
   },
   "file_extension": ".py",
   "mimetype": "text/x-python",
   "name": "python",
   "nbconvert_exporter": "python",
   "pygments_lexer": "ipython3",
   "version": "3.12.7"
  }
 },
 "nbformat": 4,
 "nbformat_minor": 5
}
