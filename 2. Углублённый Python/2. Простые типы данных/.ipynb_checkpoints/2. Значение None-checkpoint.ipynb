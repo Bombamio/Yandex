{
 "cells": [
  {
   "cell_type": "markdown",
   "id": "de8c415a",
   "metadata": {},
   "source": [
    "Тип `NoneType` — это отдельный тип данных, к этому типу относится лишь одно значение: `None`. \n",
    "\n",
    "Например, данные типа «число» могут быть бесконечно разнообразны (`5`, `-101`, `0`, `42` — это всё значения для типа `int`), а в `NoneType` такого разнообразия нет и быть не может: «ничего» — оно всегда одно и то же, `None`. Это отсутствие какого бы то ни было значения.\n",
    "\n",
    "`None` означает «ничего», и это «ничего» можно присвоить переменной."
   ]
  },
  {
   "cell_type": "code",
   "execution_count": null,
   "id": "d1eec2ec",
   "metadata": {},
   "outputs": [],
   "source": [
    "# Переменная jar_of_vegetables содержит \"ничего\".\n",
    "jar_of_vegetables = None"
   ]
  }
 ],
 "metadata": {
  "kernelspec": {
   "display_name": "Python 3 (ipykernel)",
   "language": "python",
   "name": "python3"
  },
  "language_info": {
   "codemirror_mode": {
    "name": "ipython",
    "version": 3
   },
   "file_extension": ".py",
   "mimetype": "text/x-python",
   "name": "python",
   "nbconvert_exporter": "python",
   "pygments_lexer": "ipython3",
   "version": "3.9.13"
  }
 },
 "nbformat": 4,
 "nbformat_minor": 5
}
