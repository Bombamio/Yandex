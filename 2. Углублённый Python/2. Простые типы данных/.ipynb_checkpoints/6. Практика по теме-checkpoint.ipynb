{
 "cells": [
  {
   "cell_type": "markdown",
   "id": "20b821d3",
   "metadata": {},
   "source": [
    "**1. Архитектурному бюро «Если не мы, то КОТ» поручили построить бассейны в городе N. Чтобы дело шло быстрее, было решено автоматизировать подсчёт количества плиток для облицовки стенок и дна бассейнов.**\n",
    "\n",
    "Нужно создать программу, которая будет вычислять количество плиток для облицовки бассейнов — в зависимости от длины, ширины и глубины бассейна. \n",
    "\n",
    "Размер одной плитки — 1 х 1 метр. Бассейны могут иметь квадратную или прямоугольную форму.\n",
    "\n",
    "Напишите функцию `count_tiles()`, которая принимает на вход три параметра:\n",
    "\n",
    "- глубину бассейна — `dep` (от англ. depth, «глубина»);\n",
    "- длину бассейна — `leng` (от англ. length, «длина»);\n",
    "- ширину бассейна — `wid` (от англ. width, «ширина»); это необязательный аргумент. Установите для него значение по умолчанию `None`. Если этот аргумент не передан при вызове функции — в теле функции установите ширину равной длине.\n",
    "\n",
    "Функция должна вернуть суммарное количество плиток, необходимых для облицовки четырёх стен и дна бассейна."
   ]
  },
  {
   "cell_type": "code",
   "execution_count": 1,
   "id": "06ae2e81",
   "metadata": {},
   "outputs": [
    {
     "data": {
      "text/plain": [
       "20"
      ]
     },
     "execution_count": 1,
     "metadata": {},
     "output_type": "execute_result"
    }
   ],
   "source": [
    "2 * 2 + 4 * 2 * 2"
   ]
  },
  {
   "cell_type": "code",
   "execution_count": 2,
   "id": "b9ab2d38",
   "metadata": {},
   "outputs": [
    {
     "data": {
      "text/plain": [
       "16"
      ]
     },
     "execution_count": 2,
     "metadata": {},
     "output_type": "execute_result"
    }
   ],
   "source": [
    "1*2*2 + 1*3*2 + 2*3"
   ]
  },
  {
   "cell_type": "code",
   "execution_count": 3,
   "id": "452e029e",
   "metadata": {},
   "outputs": [
    {
     "data": {
      "text/plain": [
       "47"
      ]
     },
     "execution_count": 3,
     "metadata": {},
     "output_type": "execute_result"
    }
   ],
   "source": [
    "2*5*2 + 2*2*3 + 5*3"
   ]
  },
  {
   "cell_type": "code",
   "execution_count": 6,
   "id": "b6d350a6",
   "metadata": {},
   "outputs": [
    {
     "name": "stdout",
     "output_type": "stream",
     "text": [
      "Потребуется плиток: 20\n",
      "Потребуется плиток: 16\n",
      "Потребуется плиток: 47\n"
     ]
    }
   ],
   "source": [
    "# Вместо многоточия укажите необходимые параметры.\n",
    "def count_tiles(dep, leng, wid=None):\n",
    "    # Опишите условие для случая, когда ширина бассейна не указана.\n",
    "    if wid == None:\n",
    "        result = (dep * leng * 4) + (leng**2)\n",
    "\n",
    "    # Посчитайте, сколько понадобится плиток для стенок и дна бассейна.\n",
    "    else:\n",
    "        result = (dep * leng * 2) + (dep * wid * 2) + (leng * wid)\n",
    "\n",
    "    # Верните результат работы функции.\n",
    "    return result\n",
    "\n",
    "\n",
    "total_tiles_1 = count_tiles(2, 2)\n",
    "print('Потребуется плиток:', total_tiles_1)\n",
    "# Должно быть напечатано: Потребуется плиток: 20\n",
    "\n",
    "total_tiles_2 = count_tiles(1, 2, 3)\n",
    "print('Потребуется плиток:', total_tiles_2)\n",
    "# Должно быть напечатано: Потребуется плиток: 16\n",
    "\n",
    "total_tiles_3 = count_tiles(2, 5, 3)\n",
    "print('Потребуется плиток:', total_tiles_3)\n",
    "# Должно быть напечатано: Потребуется плиток: 47"
   ]
  },
  {
   "cell_type": "code",
   "execution_count": 53,
   "id": "cede36a7",
   "metadata": {},
   "outputs": [
    {
     "name": "stdout",
     "output_type": "stream",
     "text": [
      "Потребуется 20 плиток\n"
     ]
    }
   ],
   "source": [
    "# Код этой функции не меняйте.\n",
    "def count_tiles(dep, leng, wid=None):\n",
    "    if wid is None:\n",
    "        wid = leng\n",
    "\n",
    "    short_sides = 2 * wid * dep\n",
    "    long_sides = 2 * leng * dep\n",
    "    bottom = leng * wid\n",
    "    total = short_sides + long_sides + bottom\n",
    "\n",
    "    return total\n",
    "\n",
    "\n",
    "# Допишите код функции.\n",
    "def make_word(count):\n",
    "    if count % 10 == 1 and count != 11:\n",
    "        return 'плитка'\n",
    "    \n",
    "    elif count % 10 == 2 and count != 12:\n",
    "        return 'плитки'\n",
    "    \n",
    "    elif count % 10 == 3 and count != 13:\n",
    "        return 'плитки'\n",
    "    \n",
    "    elif count % 10 == 4 and count != 14:\n",
    "        return 'плитки'\n",
    "    \n",
    "    else:\n",
    "        return 'плиток'\n",
    "\n",
    "\n",
    "# Вычисляем количество плиток:\n",
    "total_tiles = count_tiles(2, 2, 2)\n",
    "\n",
    "# Полученное число передаём в make_word(),\n",
    "# чтобы подобрать нужное склонение для слова \"плитка\":\n",
    "correct_word = make_word(total_tiles)\n",
    "\n",
    "# Печатаем итоговую фразу, в которой применяем число плиток total_tiles\n",
    "# и слово \"плитка\" в правильном склонении (correct_word):\n",
    "print('Потребуется', total_tiles, correct_word)"
   ]
  },
  {
   "cell_type": "code",
   "execution_count": 72,
   "id": "89bfe49b",
   "metadata": {},
   "outputs": [
    {
     "name": "stdout",
     "output_type": "stream",
     "text": [
      "4\n",
      "Все люди из очереди поместятся в бассейн.\n",
      "10\n",
      "Люди из очереди не поместятся в бассейн.\n"
     ]
    }
   ],
   "source": [
    "def error_check(chek):\n",
    "    if chek < 0:\n",
    "        return chek * -1 \n",
    "    else:\n",
    "        return chek\n",
    "\n",
    "# Вместо многоточия укажите параметры num, leng и wid.\n",
    "# Параметру wid присвойте значение по умолчанию.\n",
    "def check_pool_capacity(num, leng, wid=None):\n",
    "    \n",
    "    \n",
    "# Проверьте параметр num на отрицательное значение.\n",
    "    num = error_check(num)\n",
    "# Проверьте параметр leng на отрицательное значение.\n",
    "    leng = error_check(leng)\n",
    "# Проверьте значение параметра wid.\n",
    "    if wid != None:\n",
    "        wid = error_check(wid) \n",
    "    \n",
    "# Вычислите площадь бассейна и проверьте,\n",
    "# помещаются ли в бассейне все люди из очереди.\n",
    "# Верните True или False в зависимости от результата проверки.\n",
    "    if wid == None:\n",
    "        area = leng**2\n",
    "    else:\n",
    "        area = leng * wid\n",
    "    \n",
    "    if num <= area * 2:\n",
    "        return True \n",
    "    else:\n",
    "        return False\n",
    "\n",
    "# Код ниже полностью рабочий, он вам пригодится для проверки вашей работы.\n",
    "\n",
    "# Функция, которая принимает на вход True или False\n",
    "# и печатает текстовое сообщение.\n",
    "def show_result(is_ok):\n",
    "    if is_ok:  # Если передано True:\n",
    "        print('Все люди из очереди поместятся в бассейн.')\n",
    "    else:  # Если передано False:\n",
    "        print('Люди из очереди не поместятся в бассейн.')\n",
    "\n",
    "\n",
    "# Вызываем check_pool_capacity() с двумя аргументами.\n",
    "# Этот вызов должен вернуть True (4 чел. в бассейн 2х2).\n",
    "is_capacity_ok = check_pool_capacity(4, 2)\n",
    "# Передаём результат вызова на вход show_result()\n",
    "show_result(is_capacity_ok)\n",
    "\n",
    "# Вызываем check_pool_capacity() с тремя аргументами.\n",
    "# Этот вызов должен вернуть False (25 чел. в бассейн 5х2).\n",
    "is_capacity_ok = check_pool_capacity(25, 5, 2)\n",
    "# Передаём результат вызова на вход show_result()\n",
    "show_result(is_capacity_ok)\n",
    "\n",
    "# При необходимости добавьте свои вызовы аналогичным образом."
   ]
  },
  {
   "cell_type": "code",
   "execution_count": 64,
   "id": "5e555991",
   "metadata": {},
   "outputs": [
    {
     "name": "stdout",
     "output_type": "stream",
     "text": [
      "5\n"
     ]
    }
   ],
   "source": [
    "def error_chek(chek):\n",
    "    if chek < 0:\n",
    "        return chek * -1 \n",
    "    else:\n",
    "        return chek\n",
    "print(error_chek(5))"
   ]
  },
  {
   "cell_type": "code",
   "execution_count": null,
   "id": "6eff691f",
   "metadata": {},
   "outputs": [],
   "source": []
  }
 ],
 "metadata": {
  "kernelspec": {
   "display_name": "Python 3 (ipykernel)",
   "language": "python",
   "name": "python3"
  },
  "language_info": {
   "codemirror_mode": {
    "name": "ipython",
    "version": 3
   },
   "file_extension": ".py",
   "mimetype": "text/x-python",
   "name": "python",
   "nbconvert_exporter": "python",
   "pygments_lexer": "ipython3",
   "version": "3.9.13"
  }
 },
 "nbformat": 4,
 "nbformat_minor": 5
}
