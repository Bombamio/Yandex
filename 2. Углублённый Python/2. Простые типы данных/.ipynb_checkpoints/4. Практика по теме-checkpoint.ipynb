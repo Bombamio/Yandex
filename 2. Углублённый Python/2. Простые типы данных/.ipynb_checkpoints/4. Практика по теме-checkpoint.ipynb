{
 "cells": [
  {
   "cell_type": "markdown",
   "id": "bbf1dd62",
   "metadata": {},
   "source": [
    "# Задача 1\n",
    "\n",
    "Перед важной презентацией Стас записал на доске пример кода, но в какой-то момент в офисе все стали кидаться тряпками, и в результате операторы в коде оказались стёрты, а на доске остались только числа. \n",
    "\n",
    "Стас помнил, что значение переменной `result` равно пяти.\n",
    "\n",
    "Расставьте операторы и (при необходимости) скобки так, чтобы функция `solve_expression()` возвращала `True`. Числа нельзя изменять, переставлять или удалять."
   ]
  },
  {
   "cell_type": "code",
   "execution_count": 28,
   "id": "b550822f",
   "metadata": {},
   "outputs": [
    {
     "name": "stdout",
     "output_type": "stream",
     "text": [
      "Верно посчитано? True\n"
     ]
    }
   ],
   "source": [
    "def solve_expression():\n",
    "    result = 2 // 9 + 4 + 1\n",
    "    return result == 5\n",
    "\n",
    "\n",
    "print('Верно посчитано?', solve_expression())"
   ]
  },
  {
   "cell_type": "code",
   "execution_count": 27,
   "id": "34287740",
   "metadata": {},
   "outputs": [
    {
     "data": {
      "text/plain": [
       "5"
      ]
     },
     "execution_count": 27,
     "metadata": {},
     "output_type": "execute_result"
    }
   ],
   "source": [
    "2 // 9 + 4 + 1"
   ]
  },
  {
   "cell_type": "markdown",
   "id": "b9fb1240",
   "metadata": {},
   "source": [
    "***\n",
    "# Задача 2\n",
    "\n",
    "Расставьте между числами операторы сравнения так, чтобы функция `compare()` возвращала True. Не изменяйте числа и их порядок."
   ]
  },
  {
   "cell_type": "code",
   "execution_count": 29,
   "id": "fa8981e9",
   "metadata": {},
   "outputs": [
    {
     "name": "stdout",
     "output_type": "stream",
     "text": [
      "Верно? True\n"
     ]
    }
   ],
   "source": [
    "def compare():\n",
    "    result = (2 < 9 == 9 > 4 > 1)\n",
    "    return result\n",
    "\n",
    "answer = compare()\n",
    "print('Верно?', answer)"
   ]
  }
 ],
 "metadata": {
  "kernelspec": {
   "display_name": "Python 3 (ipykernel)",
   "language": "python",
   "name": "python3"
  },
  "language_info": {
   "codemirror_mode": {
    "name": "ipython",
    "version": 3
   },
   "file_extension": ".py",
   "mimetype": "text/x-python",
   "name": "python",
   "nbconvert_exporter": "python",
   "pygments_lexer": "ipython3",
   "version": "3.9.13"
  }
 },
 "nbformat": 4,
 "nbformat_minor": 5
}
