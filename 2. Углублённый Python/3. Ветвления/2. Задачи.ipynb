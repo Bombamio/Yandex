{
 "cells": [
  {
   "cell_type": "markdown",
   "id": "3c6c34fb",
   "metadata": {},
   "source": [
    "**Допишите функцию `get_season()`: она должна**\n",
    "\n",
    "- принимать название месяца в виде строки в нижнем регистре (например: `'июнь'`);\n",
    "- возвращать название сезона в нижнем регистре (вернёт `'лето'`, если передан аргумент `'июнь'`);\n",
    "- возвращать сообщение `'Ошибка в написании месяца!'`, если в функцию передано название месяца в неподходящем регистре (`'оКтЯбРь'`), название несуществующего месяца (`'новогодырь'`) или любое другое слово (`'котик'`).\n",
    "\n",
    "Программа должна быть готова принять название любого из двенадцати месяцев.\n",
    "\n",
    "Для решения задачи в функции `get_season()` примените ветвление.\n",
    "\n",
    "У этой задачи есть несколько разных решений, однако тесты ожидают решение именно через конструкцию `if...elif... ...elif...else`."
   ]
  },
  {
   "cell_type": "code",
   "execution_count": 2,
   "id": "752e19e0",
   "metadata": {},
   "outputs": [
    {
     "name": "stdout",
     "output_type": "stream",
     "text": [
      "лето\n",
      "Ошибка в написании месяца!\n"
     ]
    }
   ],
   "source": [
    "# Функция get_season() принимает на вход название месяца;\n",
    "# функция должна вернуть название сезона, к которому принадлежит месяц\n",
    "# или строку \"Ошибка в написании месяца!\".\n",
    "\n",
    "# Допишите функцию:\n",
    "def get_season(month_name):\n",
    "    if month_name == 'январь':    # 1\n",
    "        return 'зима'\n",
    "    elif month_name == 'февраль':  # 2\n",
    "        return 'зима' \n",
    "    elif month_name == 'март':  # 3\n",
    "        return 'весна' \n",
    "    elif month_name == 'апрель':  # 4\n",
    "        return 'весна'     \n",
    "    elif month_name == 'май':  # 5\n",
    "        return 'весна'     \n",
    "    elif month_name == 'июнь':  # 6\n",
    "        return 'лето'\n",
    "    elif month_name == 'июль':  # 7\n",
    "        return 'лето' \n",
    "    elif month_name == 'август':  # 8\n",
    "        return 'лето' \n",
    "    elif month_name == 'сентябрь':  # 9\n",
    "        return 'осень' \n",
    "    elif month_name == 'октябрь':  # 10\n",
    "        return 'осень' \n",
    "    elif month_name == 'ноябрь':  # 11\n",
    "        return 'осень' \n",
    "    elif month_name == 'декабрь':  # 12\n",
    "        return 'зима'   \n",
    "    else:                   # Вывод ошибки\n",
    "        return 'Ошибка в написании месяца!'\n",
    "\n",
    "        \n",
    "# Вызовем функцию и напечатаем результат.\n",
    "print(get_season('июнь'))\n",
    "print(get_season('мартобрь'))\n",
    "# На экран должно быть выведено:\n",
    "# лето\n",
    "# Ошибка в написании месяца!"
   ]
  }
 ],
 "metadata": {
  "kernelspec": {
   "display_name": "Python 3",
   "language": "python",
   "name": "python3"
  },
  "language_info": {
   "codemirror_mode": {
    "name": "ipython",
    "version": 3
   },
   "file_extension": ".py",
   "mimetype": "text/x-python",
   "name": "python",
   "nbconvert_exporter": "python",
   "pygments_lexer": "ipython3",
   "version": "3.11.0"
  }
 },
 "nbformat": 4,
 "nbformat_minor": 5
}
