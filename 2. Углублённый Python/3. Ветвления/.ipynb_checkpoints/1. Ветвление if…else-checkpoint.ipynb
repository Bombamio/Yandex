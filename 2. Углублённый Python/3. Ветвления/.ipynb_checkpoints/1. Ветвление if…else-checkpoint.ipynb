{
 "cells": [
  {
   "cell_type": "markdown",
   "id": "9eaee115",
   "metadata": {},
   "source": [
    "**Условный оператор** `if` (англ. «если») задаёт определённое поведение программы в зависимости от установленных условий. В общем виде логика его работы такова: «если условие истинно, выполни указанный код, а если ложно, займись чем-нибудь другим»."
   ]
  },
  {
   "cell_type": "code",
   "execution_count": null,
   "id": "4d61b21d",
   "metadata": {},
   "outputs": [],
   "source": [
    "if <условие>:\n",
    "    ...  # Тело отбивается отступом, чтобы Python знал, \n",
    "    ...  # что этот код относится к оператору ветвления."
   ]
  },
  {
   "cell_type": "markdown",
   "id": "3ce32a9f",
   "metadata": {},
   "source": [
    "# Конструкция if...else\n",
    "\n",
    "Оператор ветвления может обработать и те случаи, когда условие ложно. После тела оператора `if` можно написать дополнительный блок кода, который выполнится только в том случае, если условие вернуло `False`."
   ]
  },
  {
   "cell_type": "code",
   "execution_count": null,
   "id": "daa403c2",
   "metadata": {},
   "outputs": [],
   "source": [
    "if <условие>:\n",
    "    ...  # Тело оператора if: код, который выполнится, \n",
    "    ...  # если условие возвращает True.\n",
    "else:\n",
    "    ...  # Тело оператора else: код, который выполнится, \n",
    "    ...  # если условие возвращает False."
   ]
  },
  {
   "cell_type": "markdown",
   "id": "f3caf98b",
   "metadata": {},
   "source": [
    "# Конструкция if...elif...else\n",
    "\n",
    "Ветвление с дополнительными проверками можно упростить. Можно добавить в ветвление столько условий, сколько нужно, — и при этом не увеличить вложенность кода."
   ]
  },
  {
   "cell_type": "code",
   "execution_count": null,
   "id": "82098426",
   "metadata": {},
   "outputs": [],
   "source": [
    "if <условие>:\n",
    "    ...  # Тело оператора if: код, который выполнится, \n",
    "    ...  # если условие возвращает True.\n",
    "elif <условие_1>:\n",
    "    ...  # Тело оператора elif: этот код выполнится, \n",
    "    ...  # если условие в if возвращает False, а условие_1 в elif возвращает True.\n",
    "elif <условие_2>:\n",
    "    ...  # Тело оператора elif: этот код выполнится, \n",
    "    ...  # если <условие> в if возвращает False, \n",
    "    ...  # <условие 1> в elif тоже возвращает False,\n",
    "    ...  # а <условие_2> в elif возвращает True.\n",
    "else:\n",
    "    ...  # Тело оператора else: этот код выполнится, если\n",
    "    ...  # условие в if возвращает False и условия во всех блоках elif\n",
    "    ...  # тоже возвращают False. "
   ]
  },
  {
   "cell_type": "markdown",
   "id": "958b88bd",
   "metadata": {},
   "source": [
    "**Оператор** `elif` (от англ. «иначе-если») работает по принципу «если условие в `if` вернуло `False` — проверить на другое условие». Синтаксис и принцип работы этого оператора — такой же, как у `if`: "
   ]
  },
  {
   "cell_type": "code",
   "execution_count": 1,
   "id": "ad254543",
   "metadata": {},
   "outputs": [
    {
     "name": "stdout",
     "output_type": "stream",
     "text": [
      "Площадь первой грядки равна второй!\n",
      "Сравниваются две грядки площадью 0 кв. м! Зачем вам это?\n",
      "Сравнение грядок завершено!\n"
     ]
    }
   ],
   "source": [
    "def rectangle_area(length, width):\n",
    "    return length * width\n",
    "\n",
    "area_1 = rectangle_area(5, 0)\n",
    "area_2 = rectangle_area(7, 0)\n",
    "\n",
    "if area_1 < area_2:\n",
    "    print('Площадь первой грядки меньше второй!')\n",
    "elif area_1 > area_2:\n",
    "    print('Площадь первой грядки больше второй!')\n",
    "else:\n",
    "    # Код в этом блоке выполнится только в том случае,\n",
    "    # если все условия (и в if, и в elif) вернули False.\n",
    "    # Это случится, только если area_1 == area_2. Обрабатываем этот случай:\n",
    "    print('Площадь первой грядки равна второй!')\n",
    "    # А тут без вложенного if не обойтись... пока что:\n",
    "    if area_1 == 0:\n",
    "        print('Сравниваются две грядки площадью 0 кв. м! Зачем вам это?')\n",
    "\n",
    "print('Сравнение грядок завершено!')"
   ]
  },
  {
   "cell_type": "markdown",
   "id": "6d899e5b",
   "metadata": {},
   "source": [
    "> При работе с конструкцией `if...elif...else` нужно помнить, что Python читает код ветвления сверху вниз, и, как только встретится первое условие, возвращающее `True`, сработает код в теле этого условия, а в следующие блоки `elif` и `else` Python даже заглядывать не станет."
   ]
  },
  {
   "cell_type": "markdown",
   "id": "ad2c31c7",
   "metadata": {},
   "source": [
    "***\n",
    "## Особенности проверки истинности в логических выражениях\n",
    "\n",
    "Когда Python оценивает логическое выражение, одни значения он интерпретирует как «истинные» `True`, а другие — как «ложные» `False`.\n",
    "\n",
    "> Есть ситуации, когда нужно знать, как Python определяет истинность. Например, любое ненулевое число (положительное или отрицательное) всегда интерпретируется Python как `True`: эта же логика заложена в приведении чисел к типу `bool`."
   ]
  },
  {
   "cell_type": "code",
   "execution_count": 2,
   "id": "c54c808c",
   "metadata": {},
   "outputs": [
    {
     "name": "stdout",
     "output_type": "stream",
     "text": [
      "Урожай получен!\n",
      "Проверка окончена.\n"
     ]
    }
   ],
   "source": [
    "total_harvest_value = 120\n",
    "\n",
    "# Если значение переменной total_harvest_value не равно нулю, None\n",
    "# или пустой строке, то выражение if total_harvest_value вернёт True.\n",
    "if total_harvest_value:\n",
    "    print('Урожай получен!')\n",
    "else:\n",
    "    print('Урожая нет!')\n",
    "\n",
    "print('Проверка окончена.')"
   ]
  },
  {
   "cell_type": "markdown",
   "id": "7141706e",
   "metadata": {},
   "source": [
    "> Число `0`, пустые строки `''` и значение `None` соответствуют `False`:"
   ]
  },
  {
   "cell_type": "code",
   "execution_count": 4,
   "id": "0881447d",
   "metadata": {},
   "outputs": [
    {
     "name": "stdout",
     "output_type": "stream",
     "text": [
      "Урожая нет!\n",
      "Проверка окончена.\n"
     ]
    }
   ],
   "source": [
    "total_harvest_value = 0\n",
    "\n",
    "if total_harvest_value:\n",
    "    print('Урожай получен!')\n",
    "else:\n",
    "    print('Урожая нет!')\n",
    "\n",
    "print('Проверка окончена.')"
   ]
  },
  {
   "cell_type": "markdown",
   "id": "e10b3394",
   "metadata": {},
   "source": [
    "***\n",
    "## Тернарный оператор\n",
    "\n",
    "Когда на основе условия нужно выбрать одно из двух значений, вместо стандартного `if...else` можно использовать тернарный оператор. Это более короткий и компактный способ записи условных выражений."
   ]
  },
  {
   "cell_type": "code",
   "execution_count": null,
   "id": "73e70254",
   "metadata": {},
   "outputs": [],
   "source": [
    "<действие_если_True> if <условие> else <действие_если_False>"
   ]
  },
  {
   "cell_type": "code",
   "execution_count": 5,
   "id": "1c52e983",
   "metadata": {},
   "outputs": [
    {
     "name": "stdout",
     "output_type": "stream",
     "text": [
      "Урожай получен!\n",
      "Проверка окончена.\n"
     ]
    }
   ],
   "source": [
    "total_harvest_value = 120\n",
    "\n",
    "if total_harvest_value:\n",
    "    print('Урожай получен!')\n",
    "else:\n",
    "    print('Урожая нет!')\n",
    "\n",
    "print('Проверка окончена.')"
   ]
  },
  {
   "cell_type": "code",
   "execution_count": 6,
   "id": "3f67bc67",
   "metadata": {},
   "outputs": [
    {
     "name": "stdout",
     "output_type": "stream",
     "text": [
      "Урожай получен!\n",
      "Проверка окончена.\n"
     ]
    }
   ],
   "source": [
    "total_harvest_value = 120\n",
    "\n",
    "# …четырёхстрочный код превращается в одну строку!\n",
    "print('Урожай получен!') if total_harvest_value else print('Урожая нет!')\n",
    "\n",
    "print('Проверка окончена.')"
   ]
  }
 ],
 "metadata": {
  "kernelspec": {
   "display_name": "Python 3 (ipykernel)",
   "language": "python",
   "name": "python3"
  },
  "language_info": {
   "codemirror_mode": {
    "name": "ipython",
    "version": 3
   },
   "file_extension": ".py",
   "mimetype": "text/x-python",
   "name": "python",
   "nbconvert_exporter": "python",
   "pygments_lexer": "ipython3",
   "version": "3.9.13"
  }
 },
 "nbformat": 4,
 "nbformat_minor": 5
}
