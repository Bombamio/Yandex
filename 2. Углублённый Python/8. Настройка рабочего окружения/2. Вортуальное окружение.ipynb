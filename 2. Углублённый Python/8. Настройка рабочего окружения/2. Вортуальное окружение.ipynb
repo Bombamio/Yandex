{
 "cells": [
  {
   "cell_type": "markdown",
   "metadata": {},
   "source": [
    "# Как установить\n",
    "\n",
    "Установить модули можно через специальную программу, она была установлена вместе с Python. Это система управления пакетами Python — **pip**.\n",
    "\n",
    "Для установки модуля или библиотеки при помощи пакетного менеджера нужно выполнить команду в терминале. \n",
    "\n",
    "В общем виде эта команда выглядит так:"
   ]
  },
  {
   "cell_type": "code",
   "execution_count": null,
   "metadata": {
    "vscode": {
     "languageId": "bat"
    }
   },
   "outputs": [],
   "source": [
    "pip install <название модуля>"
   ]
  },
  {
   "cell_type": "markdown",
   "metadata": {},
   "source": [
    "# Установка pytest\n",
    "\n",
    "В активированное виртуальное окружение проекта *first_project* установите библиотеку pytest. Для этого в терминале можно выполнить команду:"
   ]
  },
  {
   "cell_type": "code",
   "execution_count": 2,
   "metadata": {
    "vscode": {
     "languageId": "bat"
    }
   },
   "outputs": [
    {
     "name": "stdout",
     "output_type": "stream",
     "text": [
      "Requirement already satisfied: pytest==7.1.3 in c:\\users\\iliae\\appdata\\local\\programs\\python\\python311\\lib\\site-packages (7.1.3)\n",
      "Requirement already satisfied: attrs>=19.2.0 in c:\\users\\iliae\\appdata\\local\\programs\\python\\python311\\lib\\site-packages (from pytest==7.1.3) (22.1.0)\n",
      "Requirement already satisfied: iniconfig in c:\\users\\iliae\\appdata\\local\\programs\\python\\python311\\lib\\site-packages (from pytest==7.1.3) (2.1.0)\n",
      "Requirement already satisfied: packaging in c:\\users\\iliae\\appdata\\local\\programs\\python\\python311\\lib\\site-packages (from pytest==7.1.3) (21.3)\n",
      "Requirement already satisfied: pluggy<2.0,>=0.12 in c:\\users\\iliae\\appdata\\local\\programs\\python\\python311\\lib\\site-packages (from pytest==7.1.3) (1.5.0)\n",
      "Requirement already satisfied: py>=1.8.2 in c:\\users\\iliae\\appdata\\local\\programs\\python\\python311\\lib\\site-packages (from pytest==7.1.3) (1.11.0)\n",
      "Requirement already satisfied: tomli>=1.0.0 in c:\\users\\iliae\\appdata\\local\\programs\\python\\python311\\lib\\site-packages (from pytest==7.1.3) (2.2.1)\n",
      "Requirement already satisfied: colorama in c:\\users\\iliae\\appdata\\local\\programs\\python\\python311\\lib\\site-packages (from pytest==7.1.3) (0.4.6)\n",
      "Requirement already satisfied: pyparsing!=3.0.5,>=2.0.2 in c:\\users\\iliae\\appdata\\local\\programs\\python\\python311\\lib\\site-packages (from packaging->pytest==7.1.3) (3.0.9)\n",
      "Note: you may need to restart the kernel to use updated packages.\n"
     ]
    },
    {
     "name": "stderr",
     "output_type": "stream",
     "text": [
      "\n",
      "[notice] A new release of pip available: 22.3.1 -> 25.0.1\n",
      "[notice] To update, run: python.exe -m pip install --upgrade pip\n"
     ]
    }
   ],
   "source": [
    "pip install pytest==7.1.3"
   ]
  },
  {
   "cell_type": "markdown",
   "metadata": {},
   "source": [
    "> Если не указывать версию библиотеки — будет установлена самая свежая версия:"
   ]
  },
  {
   "cell_type": "markdown",
   "metadata": {},
   "source": [
    "# Видеолекция: работа в виртуальном окружении"
   ]
  },
  {
   "cell_type": "markdown",
   "metadata": {},
   "source": [
    "https://practicum.yandex.com/learn/python-developer-plus/courses/9188a184-b6ff-408e-bca6-624ff8679c43/sprints/547080/topics/ee0c9b48-489c-461a-bee5-179abffbe8f0/lessons/15955083-f695-4529-b497-f6ee5e1edae7/"
   ]
  }
 ],
 "metadata": {
  "kernelspec": {
   "display_name": "Python 3",
   "language": "python",
   "name": "python3"
  },
  "language_info": {
   "codemirror_mode": {
    "name": "ipython",
    "version": 3
   },
   "file_extension": ".py",
   "mimetype": "text/x-python",
   "name": "python",
   "nbconvert_exporter": "python",
   "pygments_lexer": "ipython3",
   "version": "3.11.0"
  }
 },
 "nbformat": 4,
 "nbformat_minor": 2
}
