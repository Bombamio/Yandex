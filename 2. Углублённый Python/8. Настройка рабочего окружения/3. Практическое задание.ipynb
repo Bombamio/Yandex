{
 "cells": [
  {
   "cell_type": "markdown",
   "metadata": {},
   "source": [
    "Функция `find_max_even_number()` принимает на вход список чисел и возвращает максимальное чётное значение из этого списка.\n",
    "\n",
    "Вызовите эту функцию несколько раз с разными аргументами, проверьте её работу. \n",
    "\n",
    "* Найдите ошибки, исправьте их\n",
    "* Добавьте аннотации типов для параметра функции и возвращаемого значения\n",
    "* Приведите код в соответствие с PEP 8 и код-стайлу Практикума — в этом поможет шпаргалка по оформлению кода.\n",
    "\n",
    "Обратите внимание:\n",
    "\n",
    "* на логику работы программы — проверьте, выполняет ли функция ту работу, которая заявлена в docstring;\n",
    "* на расположение и состав импортов;\n",
    "* на названия параметра функции;\n",
    "* на именование переменных в теле функции;\n",
    "* на соблюдение PEP 8 и код-стайла Практикума: проверьте длину строк, отступы, кавычки."
   ]
  },
  {
   "cell_type": "code",
   "execution_count": 2,
   "metadata": {},
   "outputs": [
    {
     "name": "stdout",
     "output_type": "stream",
     "text": [
      "Максимальное чётное число: 4\n"
     ]
    }
   ],
   "source": [
    "def find_max_even_number(numbers: list[int]) -> int:\n",
    "    even_numbers: list[int] = []\n",
    "\n",
    "    for number in numbers:\n",
    "        if number % 2 == 0:\n",
    "            even_numbers.append(number)\n",
    "    return max(even_numbers)\n",
    "\n",
    "\n",
    "max_even: list[int] = find_max_even_number([1, 2, 3, 4, 5])\n",
    "print(f'Максимальное чётное число: {max_even}')"
   ]
  },
  {
   "cell_type": "code",
   "execution_count": 1,
   "metadata": {},
   "outputs": [
    {
     "name": "stdout",
     "output_type": "stream",
     "text": [
      "Максимальное чётное число: 4\n"
     ]
    }
   ],
   "source": [
    "def find_max_even_number(numbers: list[int]) -> int:\n",
    "    current_max: int = 0\n",
    "\n",
    "    for number in numbers:\n",
    "        if number % 2 == 0:\n",
    "            current_max = max(number, current_max)\n",
    "    return current_max\n",
    "\n",
    "\n",
    "max_even = find_max_even_number([1, 2, 3, 4, 5])\n",
    "print(f'Максимальное чётное число: {max_even}')"
   ]
  },
  {
   "cell_type": "code",
   "execution_count": null,
   "metadata": {},
   "outputs": [],
   "source": []
  }
 ],
 "metadata": {
  "kernelspec": {
   "display_name": "Python 3",
   "language": "python",
   "name": "python3"
  },
  "language_info": {
   "codemirror_mode": {
    "name": "ipython",
    "version": 3
   },
   "file_extension": ".py",
   "mimetype": "text/x-python",
   "name": "python",
   "nbconvert_exporter": "python",
   "pygments_lexer": "ipython3",
   "version": "3.11.0"
  }
 },
 "nbformat": 4,
 "nbformat_minor": 2
}
