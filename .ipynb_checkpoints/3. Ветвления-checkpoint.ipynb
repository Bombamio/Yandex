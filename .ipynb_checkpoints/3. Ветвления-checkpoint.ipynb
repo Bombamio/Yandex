{
 "cells": [
  {
   "cell_type": "markdown",
   "id": "998bd7e9",
   "metadata": {},
   "source": [
    "# Ветвления"
   ]
  },
  {
   "cell_type": "markdown",
   "id": "d1e687bb",
   "metadata": {},
   "source": [
    "Ветвление — это конструкция, которая позволяет выполнить один из нескольких вариантов кода программы в зависимости от того, истинно ли условие или ложно:\n",
    "\n",
    "    если условие соблюдено:\n",
    "        выполняй эту часть кода\n",
    "    \n",
    "    если условие не выполняется:\n",
    "        выполняй эту часть кода "
   ]
  },
  {
   "cell_type": "markdown",
   "id": "64ea55d2",
   "metadata": {},
   "source": [
    "## Как описывается ветвление\n",
    "    if <условие>:\n",
    "        <Код, который выполнится, если <условие> истинно>\n",
    "        <Здесь может быть сколько угодно строк кода.>\n",
    "        # Внимание: код после if должен быть отбит четырьмя\n",
    "        пробелами\n",
    "        # от начала строки. "
   ]
  },
  {
   "cell_type": "code",
   "execution_count": null,
   "id": "a2a53c7b",
   "metadata": {},
   "outputs": [],
   "source": []
  }
 ],
 "metadata": {
  "kernelspec": {
   "display_name": "Python 3 (ipykernel)",
   "language": "python",
   "name": "python3"
  },
  "language_info": {
   "codemirror_mode": {
    "name": "ipython",
    "version": 3
   },
   "file_extension": ".py",
   "mimetype": "text/x-python",
   "name": "python",
   "nbconvert_exporter": "python",
   "pygments_lexer": "ipython3",
   "version": "3.9.13"
  }
 },
 "nbformat": 4,
 "nbformat_minor": 5
}
