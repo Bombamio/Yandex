{
 "cells": [
  {
   "cell_type": "markdown",
   "id": "ea895e1b",
   "metadata": {},
   "source": [
    "## Создание базы данных и таблиц\n",
    "\n",
    "Логика, по которой программа работает с базой данных, в общем виде выглядит так:\n",
    "\n",
    "1. Подключиться к базе данных, «создать соединение».\n",
    "\n",
    "2. Подготовить SQL-запросы.\n",
    "\n",
    "3. Выполнить запросы.\n",
    "\n",
    "4. Закрыть соединение с БД.\n",
    "\n",
    "Например, вот как будет выглядеть код для создания таблиц `video_products` и `directors` в файле базы данных *db.sqlite*:"
   ]
  },
  {
   "cell_type": "code",
   "execution_count": 1,
   "id": "5473a9a8",
   "metadata": {},
   "outputs": [],
   "source": [
    "import sqlite3\n",
    "\n",
    "# Если в текущей директории нет файла db.sqlite - \n",
    "# он будет создан; одновременно будет создано и соединение с базой данных.\n",
    "# Если файл существует, функция connect просто подключится к базе.\n",
    "con = sqlite3.connect('db.sqlite')\n",
    "\n",
    "# Создаём специальный объект cursor для работы с БД.\n",
    "# Вся дальнейшая работа будет вестись через методы этого объекта.\n",
    "cur = con.cursor()\n",
    "\n",
    "# Готовим SQL-запросы.\n",
    "# Для читаемости запрос обрамлён в тройные кавычки и разбит построчно.\n",
    "query_1 = '''\n",
    "CREATE TABLE IF NOT EXISTS directors(\n",
    "    id INTEGER PRIMARY KEY,\n",
    "    full_name TEXT,\n",
    "    birth_year INTEGER\n",
    ");\n",
    "'''\n",
    "query_2 = '''\n",
    "CREATE TABLE IF NOT EXISTS video_products(\n",
    "    id INTEGER PRIMARY KEY,\n",
    "    title TEXT,\n",
    "    product_type TEXT,\n",
    "    release_year INTEGER\n",
    ");\n",
    "'''\n",
    "\n",
    "# Применяем запросы.\n",
    "cur.execute(query_1)\n",
    "cur.execute(query_2)\n",
    "\n",
    "# Закрываем соединение с БД.\n",
    "con.close()"
   ]
  },
  {
   "cell_type": "markdown",
   "id": "680cad91",
   "metadata": {},
   "source": [
    "* Инструкция `con = sqlite3.connect('db.sqlite')` создаёт подключение к базе данных, указанной в аргументе функции `.connect()`. Если по заданному пути нет файла базы данных с таким именем — никакой ошибки не возникнет: файл базы данных будет создан автоматически.\n",
    "\n",
    "* Метод `execute()` принимает одиночный SQL-запрос в виде python-строки, заключённой в тройные кавычки. Нужно создать две таблицы — значит, вызываем метод `execute()` дважды.\n",
    "\n",
    "* Условие `IF NOT EXISTS` проверяет, нет ли в БД таблицы с переданным в запросе названием. Если такой таблицы нет — сработает инструкция `CREATE`, и таблица будет создана.\n",
    "\n",
    "> В базе данных SQLite не может быть двух таблиц с одинаковым названием. Поэтому перед созданием таблицы нужно установить условие `IF NOT EXISTS`. В результате новая таблица будет создана только в том случае, если таблицы с таким именем в базе нет."
   ]
  },
  {
   "cell_type": "markdown",
   "id": "63b6fa76",
   "metadata": {},
   "source": [
    "***\n",
    "## Резидентные базы\n",
    "\n",
    "Базу данных можно создать не в файле, а в памяти компьютера; такие базы называют резидентными.\n",
    "\n",
    "Резидентная база создаётся так:\n",
    "\n",
    "```py\n",
    "con = sqlite3.connect(':memory:')\n",
    "```\n",
    "\n",
    "После закрытия соединения резидентная база данных удаляется из памяти. Такие базы могут быть полезны для отладки и тестирования кода."
   ]
  },
  {
   "cell_type": "markdown",
   "id": "0adf36e4",
   "metadata": {},
   "source": [
    "***\n",
    "## Несколько SQL-запросов сразу\n",
    "\n",
    "Для одновременного выполнения нескольких SQL-запросов в модуле sqlite3 есть метод `executescript()`. С его помощью запросы на создание двух таблиц можно записать компактнее:\n",
    "\n",
    "```py\n",
    "...\n",
    "\n",
    "query = '''\n",
    "CREATE TABLE IF NOT EXISTS directors(\n",
    "    id INTEGER PRIMARY KEY,\n",
    "    full_name TEXT,\n",
    "    birth_year INTEGER\n",
    ");\n",
    "\n",
    "CREATE TABLE IF NOT EXISTS video_products(\n",
    "    id INTEGER PRIMARY KEY,\n",
    "    title TEXT,\n",
    "    product_type TEXT,\n",
    "    release_year INTEGER\n",
    ");\n",
    "'''\n",
    "\n",
    "cur.executescript(query)\n",
    "\n",
    "...\n",
    "```"
   ]
  },
  {
   "cell_type": "markdown",
   "id": "66a82f2e",
   "metadata": {},
   "source": [
    "***\n",
    "## Заполнение таблицы: INSERT\n",
    "\n",
    "Теперь заполним таблицу данными; сделаем это с помощью того же метода `execute()`, но на этот раз передадим в него команду `INSERT` с нужными данными:"
   ]
  },
  {
   "cell_type": "code",
   "execution_count": 2,
   "id": "dd35a32a",
   "metadata": {},
   "outputs": [],
   "source": [
    "...\n",
    "con = sqlite3.connect('db.sqlite')\n",
    "cur = con.cursor()\n",
    "\n",
    "query = '''\n",
    "    INSERT INTO video_products(id, title, product_type, release_year)\n",
    "    VALUES (1, 'Весёлые мелодии', 'Мультсериал', 1930);\n",
    "'''\n",
    "cur.execute(query)\n",
    "con.commit()\n",
    "con.close()"
   ]
  },
  {
   "cell_type": "markdown",
   "id": "c1fad166",
   "metadata": {},
   "source": [
    "В метод `execute()` можно было бы передать и обычную f-строку с соответствующими параметрами, однако такой синтаксис небезопасен и может стать причиной взлома через механизм [SQL-инъекций](https://docs.python.org/3/library/sqlite3.html#how-to-use-placeholders-to-bind-values-in-sql-queries).\n",
    "\n",
    "Для защиты от попыток взлома используется специальный синтаксис: в метод `execute()` значения полей можно передавать в виде кортежа.\n",
    "\n",
    "Для этого:\n",
    "\n",
    "* в первом аргументе передаётся запрос `INSERT` с количеством ячеек таблицы; ячейки обозначаются вопросительными знаками через запятую; например, четыре вопросительных знака обозначают четыре ячейки;\n",
    "\n",
    "* во втором аргументе передаётся кортеж со значениями полей. Модуль SQLite поймёт всё с полуслова и разместит значения в соответствующие ячейки.\n",
    "\n",
    "Добавим в таблицу `video_products` новую запись. В таблице четыре поля; значит, в первом аргументе передаём запрос, где после `VALUES` — четыре вопросительных знака:"
   ]
  },
  {
   "cell_type": "code",
   "execution_count": 3,
   "id": "d09be668",
   "metadata": {},
   "outputs": [],
   "source": [
    "con = sqlite3.connect('db.sqlite')\n",
    "cur = con.cursor()\n",
    "\n",
    "cur.execute(\n",
    "    'INSERT INTO video_products VALUES(?, ?, ?, ?);',\n",
    "    (2, 'Весёлая мелодия', 'Мультсериал', 1930)\n",
    ")\n",
    "\n",
    "con.commit()\n",
    "con.close()"
   ]
  },
  {
   "cell_type": "markdown",
   "id": "a8a977e8",
   "metadata": {},
   "source": [
    "Данные будут добавлены, а лазейка для злоумышленников будет закрыта.\n",
    "\n",
    "Кроме того, с помощью подобного синтаксиса можно добавить несколько записей сразу, для этого применяют метод-shortcut `executemany()`.\n",
    "\n",
    "Первым аргументом в метод `executemany()` передаётся запрос с указанием количества заполняемых ячеек, а вторым — список, каждый элемент которого — это кортеж со значениями полей. \n",
    "\n",
    "Этот способ позволяет быстро и просто создать несколько записей: "
   ]
  },
  {
   "cell_type": "code",
   "execution_count": 4,
   "id": "91eaefc3",
   "metadata": {},
   "outputs": [],
   "source": [
    "con = sqlite3.connect('db.sqlite')\n",
    "cur = con.cursor()\n",
    "\n",
    "directors = [\n",
    "    (1, 'Текс Эйвери', 1908),\n",
    "    (2, 'Роберт Земекис', 1952),\n",
    "    (3, 'Джерри Чиникей', 1912),\n",
    "]\n",
    "video_products = [\n",
    "    (3, 'Весёлые мелодии', 'Мультсериал', 1930),\n",
    "    (4, 'Кто подставил кролика Роджера', 'Фильм', 1988),\n",
    "    (5, 'Безумные мелодии Луни Тюнз', 'Мультсериал', 1931),\n",
    "    (6, 'Розовая пантера: Контроль за вредителями', 'Мультфильм', 1969)\n",
    "]\n",
    "\n",
    "cur.executemany('INSERT INTO directors VALUES(?, ?, ?);', directors)\n",
    "cur.executemany('INSERT INTO video_products VALUES(?, ?, ?, ?);', video_products)\n",
    "\n",
    "con.commit()\n",
    "con.close()"
   ]
  },
  {
   "cell_type": "markdown",
   "id": "4de7d62d",
   "metadata": {},
   "source": [
    "> При выполнении запросов на добавление или изменение данных в таблицах, например, при выполнении инструкции `INSERT`, должен вызываться метод `commit()`; если не вызвать этот метод — изменения не будут сохранены в базе данных."
   ]
  },
  {
   "cell_type": "code",
   "execution_count": null,
   "id": "4da01387",
   "metadata": {},
   "outputs": [],
   "source": [
    "import sqlite3\n",
    "\n",
    "con = sqlite3.connect('db.sqlite')\n",
    "cur = con.cursor()\n",
    "\n",
    "query_1 = '''\n",
    "CREATE TABLE IF NOT EXISTS ice_cream(\n",
    "    title TEXT,\n",
    "    description TEXT,\n",
    "    category TEXT\n",
    ");\n",
    "'''\n",
    "\n",
    "ice_cream = [\n",
    "    ('Классический пломбир',\n",
    "     'Настоящее мороженое, для истинных ценителей вкуса. Если на столе появляется пломбир — это не надолго.',\n",
    "     'Обычное',\n",
    "     ),\n",
    "    ('Мороженое с кузнечиками',\n",
    "     'В колумбийском стиле: с добавлением карамелизованных кузнечиков.',\n",
    "     'Экзотическое',\n",
    "     ),\n",
    "    ('Мороженое со вкусом сыра чеддер',\n",
    "     'Вкус настоящего сыра в вафельном стаканчике.',\n",
    "     'Экзотическое',\n",
    "     ),\n",
    "    ('Пломбир 1937',\n",
    "     'Пломбир по рецепту 1937 года Московского хладокомбината',\n",
    "     'Обычное'\n",
    "     ),\n",
    "]\n",
    "\n",
    "cur.executemany('INSERT INTO ice_cream VALUES(?, ?, ?);', ice_cream)\n",
    "\n",
    "cur.execute(query_1)\n",
    "con.close()"
   ]
  }
 ],
 "metadata": {
  "kernelspec": {
   "display_name": ".venv",
   "language": "python",
   "name": "python3"
  },
  "language_info": {
   "codemirror_mode": {
    "name": "ipython",
    "version": 3
   },
   "file_extension": ".py",
   "mimetype": "text/x-python",
   "name": "python",
   "nbconvert_exporter": "python",
   "pygments_lexer": "ipython3",
   "version": "3.12.7"
  }
 },
 "nbformat": 4,
 "nbformat_minor": 5
}
