{
 "cells": [
  {
   "cell_type": "markdown",
   "id": "04443c35",
   "metadata": {},
   "source": [
    "Продолжим эксперименты с таблицами и связями между ними. В нашей фильмотеке каждое произведение может относиться к одному из типов: мультфильм, фильм, сериал или мультсериал. \n",
    "\n",
    "![alt text](https://pictures.s3.yandex.net/resources/S2_156_1682533755.png)\n",
    "\n",
    "Перечень типов сохраним в таблице **product_types**; к этой таблице должна «тянуться» связь от **video_products**. \n",
    "\n",
    "Не будем перегружать таблицу **video_products** лишними полями: забудем на время про поле `original_title_id` и сосредоточимся на связи с **product_types**.\n",
    "\n",
    "В таблице video_products создадим FK-поле `type_id`.\n",
    "\n",
    "![alt text](https://pictures.s3.yandex.net/resources/S02_226_1685551234.png)\n"
   ]
  },
  {
   "cell_type": "markdown",
   "id": "53d0bc49",
   "metadata": {},
   "source": [
    "Кинолента может относиться только к одному типу; для любого фильма обязательно должен быть указан его тип — значение поля `type_id` не может быть `NULL`. \n",
    "\n",
    "К одному типу может относиться много фильмов из таблицы **video_products**. Но может оказаться и так, что тип фильма есть, но в таблице **video_products** нет ни одного фильма такого типа.\n",
    "\n",
    "Это связь «многие к одному»: «много фильмов привязаны к одному типу».\n",
    "\n",
    "В SQL создание такой связи описывается так: \n",
    "\n",
    "```sql\n",
    "CREATE TABLE IF NOT EXISTS video_products(\n",
    "...\n",
    "type_id INTEGER NOT NULL,\n",
    "FOREIGN KEY(type_id) REFERENCES product_types(id)\n",
    "...);\n",
    "```\n",
    "\n",
    "В переводе на русский:\n",
    "\n",
    "* создай поле `type_id` целочисленного типа; это поле не должно быть пустым: `NOT NULL`;\n",
    "\n",
    "* объяви это поле внешним ключом, связанным с первичным ключом другой таблицы — с полем `id` таблицы **product_types**.\n",
    "\n",
    "Для поля `type_id` не указан параметр `UNIQUE`; таким образом, несколько записей из **video_products** могут ссылаться на одну и ту же запись в **product_types**. \n",
    "\n",
    "В Python создание связанных таблиц **video_products** и **product_types** будет выглядеть так:"
   ]
  },
  {
   "cell_type": "code",
   "execution_count": 1,
   "id": "f8283f44",
   "metadata": {},
   "outputs": [],
   "source": [
    "import sqlite3\n",
    "\n",
    "con = sqlite3.connect('db.sqlite')\n",
    "cur = con.cursor()\n",
    "\n",
    "cur.executescript('''\n",
    "CREATE TABLE IF NOT EXISTS product_types(\n",
    "    id INTEGER PRIMARY KEY,\n",
    "    name TEXT NOT NULL\n",
    ");\n",
    "CREATE TABLE IF NOT EXISTS video_products(\n",
    "    id INTEGER PRIMARY KEY,\n",
    "    name TEXT NOT NULL,\n",
    "    type_id INTEGER NOT NULL,\n",
    "    FOREIGN KEY(type_id) REFERENCES product_types(id)\n",
    ");\n",
    "''')\n",
    "\n",
    "con.close()"
   ]
  },
  {
   "cell_type": "markdown",
   "id": "c64a6c51",
   "metadata": {},
   "source": [
    "Заполним таблицы данными; значение поля `type_id` в каждой записи таблицы video_products — это `id` определённой записи в таблице product_types:"
   ]
  },
  {
   "cell_type": "code",
   "execution_count": null,
   "id": "3bd61def",
   "metadata": {},
   "outputs": [],
   "source": [
    "import sqlite3\n",
    "\n",
    "con = sqlite3.connect('db.sqlite')\n",
    "cur = con.cursor()\n",
    "\n",
    "video_products = [\n",
    "    (1, 'Безумные мелодии Луни Тюнз', 2),\n",
    "    (2, 'Весёлые мелодии', 2),\n",
    "    (3, 'Кто подставил кролика Роджера', 3),\n",
    "    (4, 'Хороший, плохой, злой', 3),\n",
    "    (5, 'Последний киногерой', 3),\n",
    "    (6, 'Она написала убийство', 4),\n",
    "    (7, 'Миссис Харрис едет в Париж', 3),\n",
    "]\n",
    "product_types = [\n",
    "    (1, 'Мультфильм'),\n",
    "    (2, 'Мультсериал'),\n",
    "    (3, 'Фильм'),\n",
    "    (4, 'Сериал'),\n",
    "]\n",
    "cur.executemany('INSERT INTO product_types VALUES(?, ?);', product_types)\n",
    "cur.executemany('INSERT INTO video_products VALUES(?, ?, ?);', video_products)\n",
    "\n",
    "con.commit()\n",
    "con.close()"
   ]
  },
  {
   "cell_type": "markdown",
   "id": "39bbbb3b",
   "metadata": {},
   "source": [
    "Выбрать все названия кинолент из категории 'Фильм' можно таким запросом: \n",
    "\n",
    "```sql\n",
    "SELECT video_products.name,\n",
    "       product_types.name\n",
    "FROM video_products,\n",
    "     product_types\n",
    "WHERE video_products.type_id = product_types.id AND product_types.name = 'Фильм';\n",
    "```"
   ]
  },
  {
   "cell_type": "code",
   "execution_count": null,
   "id": "a2f59b04",
   "metadata": {},
   "outputs": [],
   "source": [
    "import sqlite3\n",
    "\n",
    "con = sqlite3.connect('db.sqlite')\n",
    "cur = con.cursor()\n",
    "\n",
    "cur.executescript('''\n",
    "CREATE TABLE IF NOT EXISTS categories (\n",
    "    id INTEGER PRIMARY KEY,\n",
    "    slug TEXT NOT NULL\n",
    ");\n",
    "\n",
    "CREATE TABLE IF NOT EXISTS ice_cream(\n",
    "    id INTEGER PRIMARY KEY,\n",
    "    title TEXT NOT NULL,\n",
    "    description TEXT,\n",
    "    price REAL NOT NULL,\n",
    "    category_id INTEGER NOT NULL,\n",
    "    FOREIGN KEY(category_id) REFERENCES categories(id)\n",
    ");\n",
    "''')\n",
    "\n",
    "con.close()"
   ]
  },
  {
   "cell_type": "code",
   "execution_count": null,
   "id": "21ce2fdd",
   "metadata": {},
   "outputs": [],
   "source": [
    "import sqlite3\n",
    "\n",
    "con = sqlite3.connect('db.sqlite')\n",
    "cur = con.cursor()\n",
    "\n",
    "results = cur.execute('''\n",
    "SELECT ice_cream.title,\n",
    "       categories.slug,\n",
    "       MAX(ice_cream.price)\n",
    "FROM ice_cream,\n",
    "     categories\n",
    "WHERE \n",
    "    ice_cream.category_id = categories.id\n",
    "GROUP BY categories.slug\n",
    "ORDER BY ice_cream.price DESC;\n",
    "''')\n",
    "\n",
    "for result in results:\n",
    "    print(result)\n",
    "\n",
    "con.close()"
   ]
  }
 ],
 "metadata": {
  "kernelspec": {
   "display_name": ".venv",
   "language": "python",
   "name": "python3"
  },
  "language_info": {
   "codemirror_mode": {
    "name": "ipython",
    "version": 3
   },
   "file_extension": ".py",
   "mimetype": "text/x-python",
   "name": "python",
   "nbconvert_exporter": "python",
   "pygments_lexer": "ipython3",
   "version": "3.12.7"
  }
 },
 "nbformat": 4,
 "nbformat_minor": 5
}
