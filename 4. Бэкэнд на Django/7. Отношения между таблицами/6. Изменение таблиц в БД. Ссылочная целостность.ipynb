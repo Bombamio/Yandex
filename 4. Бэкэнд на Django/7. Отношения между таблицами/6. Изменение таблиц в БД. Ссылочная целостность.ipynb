{
 "cells": [
  {
   "cell_type": "markdown",
   "id": "4901e0d5",
   "metadata": {},
   "source": [
    "На основе всех проведённых экспериментов можно собрать базу данных из пяти связанных таблиц.\n",
    "\n",
    "![alt text](https://pictures.s3.yandex.net/resources/S02_234_1678067370.png)\n",
    "\n",
    "\n"
   ]
  },
  {
   "cell_type": "markdown",
   "id": "36d24057",
   "metadata": {},
   "source": [
    "***\n",
    "## Изменение таблицы: ALTER TABLE\n",
    "\n",
    "Структуру таблиц можно изменять: можно добавлять, переименовывать или удалять колонки; таблицы можно переименовывать или удалять. Это делается командой `ALTER TABLE имя_таблицы описание_операции`.\n",
    "\n",
    "**Переименование таблицы:**\n",
    "\n",
    "```sql\n",
    "ALTER TABLE <имя таблицы>\n",
    "RENAME TO <новое имя таблицы>; \n",
    "```\n",
    "**Добавление колонки:**\n",
    "\n",
    "```sql\n",
    "ALTER TABLE <название таблицы> \n",
    "ADD COLUMN <имя колонки> <тип колонки>; \n",
    "```\n",
    "\n",
    "По умолчанию SQLite добавляет новую колонку в конец списка колонок.\n",
    "\n",
    "**Переименование колонки:**\n",
    "\n",
    "```sql\n",
    "ALTER TABLE <название таблицы>\n",
    "RENAME COLUMN <старое имя колонки>\n",
    "TO <новое имя колонки>; \n",
    "```\n",
    "\n",
    "**Удаление колонки:**\n",
    "\n",
    "В классическом SQL сработает вот такая конструкция:\n",
    "\n",
    "```sql\n",
    "ALTER TABLE <название таблицы>\n",
    "DROP COLUMN <имя колонки>;\n",
    "```"
   ]
  },
  {
   "cell_type": "markdown",
   "id": "10758f2c",
   "metadata": {},
   "source": [
    "Но в SQLite удаление колонок доступно только с версии 3.35.0. Для более старых версий для удаления колонки приходится идти сложным путём:\n",
    "\n",
    "1. Создать копию таблицы, но без той колонки, которую нужно удалить.\n",
    "\n",
    "2. Перенести в новую таблицу информацию из исходной таблицы.\n",
    "\n",
    "3. Удалить исходную таблицу.\n",
    "\n",
    "4. Переименовать созданную.\n",
    "\n",
    "Документация SQLite [даст более детальную и глубокую информацию по работе с колонками](https://www.sqlite.org/lang_altertable.html)."
   ]
  },
  {
   "cell_type": "markdown",
   "id": "e9123631",
   "metadata": {},
   "source": [
    "***\n",
    "## Удаление таблиц\n",
    "\n",
    "Команда для  удаления таблицы выглядит так:\n",
    "\n",
    "```sql\n",
    "DROP TABLE <имя таблицы>; \n",
    "```\n",
    "\n",
    "***\n",
    "## Ссылочная целостность данных\n",
    "\n",
    "При удалении таблиц возникает серьёзная опасность: помимо того, что будут удалены данные, может быть нарушена **ссылочная целостность** базы. На удаляемую таблицу могут ссылаться другие таблицы; ссылки останутся, а таблицы не станет. База перестанет работать.\n",
    "\n",
    "Удалим для эксперимента таблицу **original_titles**:\n",
    "```sql\n",
    "DROP TABLE original_titles; \n",
    "```\n",
    "\n",
    "Ничего хорошего не получится: ссылка из колонки `original_title_id` таблицы **video_products** повиснет в воздухе:\n",
    "\n",
    "![alt text](https://pictures.s3.yandex.net/resources/S02_235_1678067517.png)\n"
   ]
  },
  {
   "cell_type": "markdown",
   "id": "b8671d06",
   "metadata": {},
   "source": [
    "Подобная же история может случиться и при удалении колонок, и при их переименовании.\n",
    "\n",
    "При изменении первичных и внешних ключей важно соблюдать **ссылочную целостность данных** (referential integrity). Основная идея в том, чтобы не было «битых», ведущих в никуда ссылок на другие таблицы.\n",
    "\n",
    "Вот примеры нарушений целостности данных:\n",
    "\n",
    "* **Аномалия удаления** (deletion anomaly): если из таблицы удалена строка, на которую ссылается внешний ключ.\n",
    "\n",
    "* **Аномалия вставки** (insertion anomaly): если добавлена запись с внешним ключом, но этот внешний ключ не соответствует ни одному первичному ключу из связанной таблицы.\n",
    "\n",
    "* **Аномалии обновления** (update anomaly): при изменении данных в одной строке они могут прийти в противоречие с данными из другой строки: например, изменён PK, на который ссылается FK из другой таблицы.\n",
    "\n",
    "\n",
    "[Шпоргалка](https://code.s3.yandex.net/Python-dev/cheatsheets/028-sql-shpora/028-sql-shpora.html)"
   ]
  },
  {
   "cell_type": "code",
   "execution_count": null,
   "id": "3a787d47",
   "metadata": {},
   "outputs": [],
   "source": [
    "import sqlite3\n",
    "\n",
    "con = sqlite3.connect('db.sqlite')\n",
    "cur = con.cursor()\n",
    "\n",
    "cur.executescript('''\n",
    "ALTER TABLE ice_cream \n",
    "ADD COLUMN is_published INTEGER;\n",
    "                  \n",
    "ALTER TABLE ice_cream \n",
    "ADD COLUMN is_on_main INTEGER;\n",
    "''')\n",
    "\n",
    "con.close()"
   ]
  },
  {
   "cell_type": "code",
   "execution_count": null,
   "id": "3fa998d9",
   "metadata": {},
   "outputs": [],
   "source": [
    "import sqlite3\n",
    "\n",
    "con = sqlite3.connect('db.sqlite')\n",
    "cur = con.cursor()\n",
    "\n",
    "cur.executescript('''\n",
    "ALTER TABLE ice_cream \n",
    "RENAME COLUMN description\n",
    "TO specification;\n",
    "''')\n",
    "\n",
    "con.close()"
   ]
  },
  {
   "cell_type": "code",
   "execution_count": null,
   "id": "858840c5",
   "metadata": {},
   "outputs": [],
   "source": [
    "import sqlite3\n",
    "\n",
    "con = sqlite3.connect('db.sqlite')\n",
    "cur = con.cursor()\n",
    "\n",
    "cur.executescript('''\n",
    "DROP TABLE ice_cream;\n",
    "''')\n",
    "\n",
    "con.close()"
   ]
  }
 ],
 "metadata": {
  "kernelspec": {
   "display_name": ".venv",
   "language": "python",
   "name": "python3"
  },
  "language_info": {
   "name": "python",
   "version": "3.12.7"
  }
 },
 "nbformat": 4,
 "nbformat_minor": 5
}
