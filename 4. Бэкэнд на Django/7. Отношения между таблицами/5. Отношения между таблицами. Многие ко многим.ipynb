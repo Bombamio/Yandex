{
 "cells": [
  {
   "cell_type": "markdown",
   "id": "ac2317db",
   "metadata": {},
   "source": [
    "![alt text](https://pictures.s3.yandex.net/resources/S2_141_1_1682533873.png)\n",
    "\n",
    "![alt text](https://pictures.s3.yandex.net/resources/S2_160_1682533887.png)\n",
    "\n",
    "![alt text](https://pictures.s3.yandex.net/resources/S02_227_1685551410.png)\n",
    "\n",
    "Для сериала «Она написала убийство» в нашей базе указано целых три режиссёра, и чтобы указать их — в поле `director_id` пришлось бы перечислить несколько id. Однако в одной ячейке типа INTEGER должно храниться только одно число.\n",
    "\n",
    "На практике такую связь организуют через промежуточную таблицу: в ней сопоставляют идентификаторы записей из связываемых таблиц.\n",
    "\n",
    "![alt text](https://pictures.s3.yandex.net/resources/image_1741774731.png)"
   ]
  },
  {
   "cell_type": "markdown",
   "id": "c573eb28",
   "metadata": {},
   "source": [
    "Промежуточная таблица названа по именам таблиц, которые через неё связаны: **directors__video_products**. \n",
    "\n",
    "Она содержит\n",
    "\n",
    "* поле `director_id` типа `FOREIGN KEY`, ссылающееся на колонку `id` в таблице **directors**;\n",
    "\n",
    "* поле `video_product_id` типа `FOREIGN KEY`, ссылающееся на колонку `id` в таблице **video_products**.\n",
    "\n",
    "В итоге каждая запись промежуточной таблицы ссылается на записи в таблицах **directors** и **video_products**. Связь построена!\n",
    "\n",
    "![alt text](https://pictures.s3.yandex.net/resources/S2_161_1682533906.png)\n"
   ]
  },
  {
   "cell_type": "markdown",
   "id": "613d7581",
   "metadata": {},
   "source": [
    "Любой режиссёр может снять один фильм только один раз. Значит, каждая пара «фильм — режиссёр» уникальна в пределах таблицы. А уникальные значения могут служить первичными ключами записей.\n",
    "\n",
    "Поэтому здесь в качестве `PRIMARY KEY `используется сочетание `(director_id, video_product_id)` — эта пара уникальна в пределах таблицы. Сочетание значений этих полей служит **композитным** первичным ключом. \n",
    "\n",
    "Создать таблицу с композитным первичным ключом можно так:\n",
    "\n",
    "```sql\n",
    "CREATE TABLE IF NOT EXISTS video_products(\n",
    "    id INTEGER PRIMARY KEY,\n",
    "    title TEXT NOT NULL\n",
    ");\n",
    "\n",
    "CREATE TABLE IF NOT EXISTS directors(\n",
    "    id INTEGER PRIMARY KEY,\n",
    "    full_name TEXT NOT NULL\n",
    ");\n",
    "\n",
    "CREATE TABLE IF NOT EXISTS directors__video_products(    \n",
    "    director_id INTEGER NOT NULL,\n",
    "    video_product_id INTEGER NOT NULL,\n",
    "    -- Пару полей назначаем композитным первичным ключом:\n",
    "    PRIMARY KEY (director_id, video_product_id),\n",
    "    FOREIGN KEY(director_id) REFERENCES directors(id),\n",
    "    FOREIGN KEY(video_product_id) REFERENCES video_products(id)\n",
    "); \n",
    "```\n",
    "\n",
    "Вольный перевод SQL-запроса на русский язык:\n",
    "\n",
    "* создаём таблицы **video_products** и **directors** и промежуточную таблицу **directors__video_products**;\n",
    "\n",
    "* в промежуточной таблице указываем связь между записями двух таблиц;\n",
    "\n",
    "* в таблице **directors__video_products** создаём композитный первичный ключ из полей `director_id` и `video_product_id`; при этом решается и вторая задача: теперь каждая пара полей будет уникальна в пределах таблицы, и никто не сможет повторно связать фильм с режиссёром.\n",
    "\n",
    "Теперь любую запись из таблицы **directors** можно связать с несколькими фильмами из **video_products**, а фильм можно связать с несколькими режиссёрами."
   ]
  },
  {
   "cell_type": "code",
   "execution_count": null,
   "id": "e940f0a2",
   "metadata": {},
   "outputs": [],
   "source": [
    "import sqlite3\n",
    "\n",
    "con = sqlite3.connect('db.sqlite')\n",
    "cur = con.cursor()\n",
    "\n",
    "cur.executescript('''\n",
    "CREATE TABLE IF NOT EXISTS toppings(\n",
    "id INTEGER PRIMARY KEY,\n",
    "title TEXT NOT NULL\n",
    ");\n",
    "\n",
    "CREATE TABLE IF NOT EXISTS ice_cream(\n",
    "id INTEGER PRIMARY KEY,\n",
    "title TEXT NOT NULL\n",
    ");\n",
    "\n",
    "CREATE TABLE IF NOT EXISTS ice_cream_toppings(    \n",
    "    id INTEGER PRIMARY KEY,\n",
    "    ice_cream_id INTEGER NOT NULL,\n",
    "    topping_id INTEGER NOT NULL,\n",
    "    PRIMARY KEY (ice_cream_id, topping_id),\n",
    "    FOREIGN KEY(ice_cream_id) REFERENCES ice_cream(id),\n",
    "    FOREIGN KEY(topping_id) REFERENCES toppings(id)\n",
    ");\n",
    "\n",
    "\n",
    "''')\n",
    "\n",
    "con.close()"
   ]
  }
 ],
 "metadata": {
  "kernelspec": {
   "display_name": ".venv",
   "language": "python",
   "name": "python3"
  },
  "language_info": {
   "name": "python",
   "version": "3.12.7"
  }
 },
 "nbformat": 4,
 "nbformat_minor": 5
}
