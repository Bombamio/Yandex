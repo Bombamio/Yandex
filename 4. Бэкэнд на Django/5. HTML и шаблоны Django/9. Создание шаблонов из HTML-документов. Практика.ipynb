{
 "cells": [
  {
   "cell_type": "markdown",
   "id": "f9f405fc",
   "metadata": {},
   "source": [
    "## Как сделать пункты меню активными\n",
    "\n",
    "Пользователь должен понимать, в каком разделе сайта он находится. Для этого текущий пункт меню «подсвечивают» — например, выделяют его цветом. В коде это обычно реализуют так: к нужному элементу добавляют класс `active` и свойства этого класса описывают в CSS.\n",
    "\n",
    "В Bootstrap необходимые стили уже описаны, так что можно просто указать нужный класс.\n",
    "\n",
    "Вот так можно подсветить пункт меню «Главная»:\n",
    "\n",
    "```html\n",
    "<li class=\"nav-item\">\n",
    "  <a class=\"nav-link active\" href=\"{% url 'homepage:index' %}\">Главная</a>\n",
    "</li>\n",
    "```\n",
    "\n",
    "Но навигация сохранена в отдельном шаблоне и подключена через `{{% include %}}`; значит, один и тот же шаблон с навигацией будет применён и для главной страницы, и для всех остальных. Как узнать, какой пункт меню подсвечивать?\n",
    "\n",
    "Django позволяет узнать имя view-функции, которая вызвала текущий шаблон. Это имя доступно в переменной шаблона `{{ request.resolver_match.view_name }}`.\n",
    "\n",
    "Чтобы решить, подсвечивать пункт меню или нет, достаточно выполнить проверку: если адрес view-функции, вызвавшей шаблон, совпадёт с `homepage:index`, то в тег `<a>` нужно дописать класс `active`.\n",
    "\n",
    "```html\n",
    "<li class=\"nav-item\">\n",
    "  <a class=\"nav-link     \n",
    "     {% if request.resolver_match.view_name  == 'homepage:index' %}\n",
    "       active\n",
    "     {% endif %}\"\n",
    "     href=\"{% url 'homepage:index' %}\">\n",
    "     Главная\n",
    "  </a>\n",
    "</li>\n",
    "```\n",
    "\n",
    "Если проводить такую проверку в каждом пункте меню, код будет громоздким. Сократить его поможет тег шаблонов `{% with ... as ... %}`. Этот тег позволяет для любого выражения создать короткий синоним: `{% with очень_длинное_выражение as синоним %}`; этот синоним можно применять до закрывающего тега `{% endwith %}`. \n",
    "\n",
    "В области действия тега `{% with %}` имя `view_name` будет применяться вместо выражения `request.resolver_match.view_name`:\n",
    "\n",
    "```html\n",
    "<!-- Создаём синоним для выражения request.resolver_match.view_name -->\n",
    "{% with request.resolver_match.view_name as view_name %}\n",
    "...\n",
    "<li class=\"nav-item\">\n",
    "  <a class=\"nav-link {% if view_name  == 'homepage:index' %}active{% endif %}\"\n",
    "     href=\"{% url 'homepage:index' %}\">\n",
    "     Главная\n",
    "  </a>\n",
    "</li>\n",
    "...\n",
    "{% endwith %}\n",
    "```"
   ]
  },
  {
   "cell_type": "markdown",
   "id": "44dba190",
   "metadata": {},
   "source": []
  },
  {
   "cell_type": "markdown",
   "id": "451b8533",
   "metadata": {},
   "source": []
  }
 ],
 "metadata": {
  "kernelspec": {
   "display_name": ".venv",
   "language": "python",
   "name": "python3"
  },
  "language_info": {
   "name": "python",
   "version": "3.12.7"
  }
 },
 "nbformat": 4,
 "nbformat_minor": 5
}
