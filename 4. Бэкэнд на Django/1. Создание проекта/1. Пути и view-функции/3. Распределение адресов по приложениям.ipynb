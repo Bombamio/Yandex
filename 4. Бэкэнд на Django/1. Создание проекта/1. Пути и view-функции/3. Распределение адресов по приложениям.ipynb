{
 "cells": [
  {
   "cell_type": "markdown",
   "id": "7c1dd4ef",
   "metadata": {},
   "source": [
    "Самое главное в [шпоргалке](https://code.s3.yandex.net/Python-dev/cheatsheets/024-django-puti-i-view-funktsii-shpora/024-django-puti-i-view-funktsii-shpora.html)"
   ]
  }
 ],
 "metadata": {
  "kernelspec": {
   "display_name": ".venv",
   "language": "python",
   "name": "python3"
  },
  "language_info": {
   "name": "python",
   "version": "3.12.7"
  }
 },
 "nbformat": 4,
 "nbformat_minor": 5
}
