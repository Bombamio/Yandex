{
 "cells": [
  {
   "cell_type": "markdown",
   "id": "e494f6e9",
   "metadata": {},
   "source": [
    "Решим новую задачу: добавим временны́е метки ко всем записям; для каждой записи каждой таблицы будем сохранять время создания записи и время последнего изменения.\n",
    "\n",
    "Для этого добавим во все таблицы поля `created_at` (время создания) и `modified_at` (время последнего изменения):"
   ]
  },
  {
   "cell_type": "code",
   "execution_count": null,
   "id": "2a9dc48c",
   "metadata": {},
   "outputs": [],
   "source": [
    "from django.db import models\n",
    "\n",
    "...\n",
    "\n",
    "class VideoProduct(BaseModel):\n",
    "    ...\n",
    "    created_at = models.DateTimeField(auto_now_add=True)\n",
    "    modified_at = models.DateTimeField(auto_now_add=False, auto_now=True)"
   ]
  },
  {
   "cell_type": "markdown",
   "id": "034d5753",
   "metadata": {},
   "source": [
    "Во всех моделях надо описать совершенно одинаковые поля; но дублирование кода — это дурной тон и нарушение принципа DRY. Повторов можно избежать: для этого в Django ORM применяют наследование от абстрактных моделей. \n",
    "\n",
    "Практический смысл абстрактной модели в том, что в ней можно задать определённый набор свойств, затем унаследовать от неё другие модели — и все эти модели получат свойства, заданные в абстрактной модели-родителе.\n",
    "\n",
    "Чтобы не запутаться в назначении классов, в названиях абстрактных моделей обычно используют слово Model: *BaseModel*, *CartModel*, *ProductModel*.\n",
    "\n",
    "Опишем первую абстрактную модель — `BaseModel`; в ней определим класс `Meta` — внутренний класс, в котором описывают дополнительные настройки модели. \n",
    "\n",
    "Класс `Meta` необязательный, он требуется не во всех классах, но в абстрактных моделях он необходим — именно в `Meta` модель объявляется абстрактной:"
   ]
  },
  {
   "cell_type": "code",
   "execution_count": null,
   "id": "1c32765e",
   "metadata": {},
   "outputs": [],
   "source": [
    "class BaseModel(models.Model):\n",
    "    \"\"\"\n",
    "    Абстрактная модель. \n",
    "    Добавляет к модели дату создания и последнего изменения. \n",
    "    \"\"\"\n",
    "    # Параметр auto_now_add=True означает\n",
    "    # \"при СОЗДАНИИ записи автоматически записывать в это поле текущее время\".\n",
    "    created_at = models.DateTimeField(auto_now_add=True)\n",
    "    # Параметр auto_now=True означает\n",
    "    # \"при ИЗМЕНЕНИИ записи автоматически записывать в это поле текущее время\".\n",
    "    modified_at = models.DateTimeField(auto_now_add=False, auto_now=True)\n",
    "\n",
    "    # С помощью необязательного внутреннего класса Meta можно добавить\n",
    "    # к модели дополнительные настройки. \n",
    "    class Meta:\n",
    "        # Эта строка объявляет модель абстрактной:\n",
    "        abstract = True"
   ]
  },
  {
   "cell_type": "markdown",
   "id": "14dd7dfa",
   "metadata": {},
   "source": [
    "Унаследуем `VideoProduct` от `BaseModel` — и в модели `VideoProduct` не придётся явно описывать поля `created_at` и `modified_at`: "
   ]
  },
  {
   "cell_type": "code",
   "execution_count": null,
   "id": "65baec21",
   "metadata": {},
   "outputs": [],
   "source": [
    "...\n",
    "\n",
    "class VideoProduct(BaseModel):\n",
    "    title = models.CharField(max_length=128)"
   ]
  },
  {
   "cell_type": "markdown",
   "id": "038cf3c8",
   "metadata": {},
   "source": [
    "Python поддерживает множественное наследование: можно создать несколько абстрактных моделей и наследоваться от них, просто перечислив их имена через запятую."
   ]
  },
  {
   "cell_type": "code",
   "execution_count": null,
   "id": "5d4ba2ab",
   "metadata": {},
   "outputs": [],
   "source": [
    "...\n",
    "\n",
    "class BaseModel(models.Model):\n",
    "    created_at = models.DateTimeField(auto_now_add=True)\n",
    "    modified_at = models.DateTimeField(auto_now_add=False, auto_now=True)\n",
    "\n",
    "    class Meta:\n",
    "        abstract = True\n",
    "\n",
    "class CommonInfoBaseModel(models.Model):\n",
    "    name = models.CharField(max_length=128)\n",
    "    description = models.TextField()\n",
    "    \n",
    "    class Meta:\n",
    "        abstract = True\n",
    "\n",
    "# В этой модели явно описано только поле bottle_volume, но за счёт наследования\n",
    "# модель будет содержать и поля \n",
    "# created_at, modified_at, name и description:\n",
    "class BottledMilk(BaseModel, CommonInfoBaseModel):\n",
    "    bottle_volume = models.IntegerField()\n",
    "\n",
    "# А тут явным образом описано только поле weight; \n",
    "# остальные поля будут также унаследованы от базовых моделей:\n",
    "class Cheese(BaseModel, CommonInfoBaseModel):\n",
    "    weight = models.IntegerField()\n",
    "\n",
    "# Для этой модели нужны поля только одного базового класса:\n",
    "class Employee(BaseModel):\n",
    "    first_name = models.CharField(max_length=128)\n",
    "    second_name = models.CharField(max_length=128)\n",
    "    role = models.CharField(max_length=128)\n"
   ]
  },
  {
   "cell_type": "markdown",
   "id": "a502f91a",
   "metadata": {},
   "source": [
    "Одну абстрактную модель можно наследовать от другой. При этом наследники абстрактных классов не будут по умолчанию абстрактными. Для этого в модели-наследнике тоже нужно указать атрибут `abstract = True`:"
   ]
  },
  {
   "cell_type": "code",
   "execution_count": null,
   "id": "d91b1ff8",
   "metadata": {},
   "outputs": [],
   "source": [
    "class BaseModel(models.Model):\n",
    "    created_at = models.DateTimeField(auto_now_add=True)\n",
    "    modified_at = models.DateTimeField(auto_now_add=False, auto_now=True)\n",
    "\n",
    "    class Meta:\n",
    "        abstract = True\n",
    "\n",
    "class CommonInfoBaseModel(BaseModel):\n",
    "    name = models.CharField(max_length=128)\n",
    "    description = models.TextField()\n",
    "    \n",
    "    class Meta:\n",
    "        abstract = True"
   ]
  },
  {
   "cell_type": "markdown",
   "id": "dd1e5a68",
   "metadata": {},
   "source": [
    "Наследование от абстрактных моделей — хорошая практика, но в работе необходимо следовать здравому смыслу и создавать абстрактные модели лишь в тех случаях, когда они действительно нужны, например — когда в нескольких классах повторяется один и тот же код.\n",
    "\n",
    "***\n",
    "## Хозяйке на заметку\n",
    "\n",
    "Много интересного про `class Meta` можно [увидеть в документации](https://docs.djangoproject.com/en/3.2/ref/models/options/)."
   ]
  }
 ],
 "metadata": {
  "kernelspec": {
   "display_name": ".venv (3.12.7)",
   "language": "python",
   "name": "python3"
  },
  "language_info": {
   "name": "python",
   "version": "3.12.7"
  }
 },
 "nbformat": 4,
 "nbformat_minor": 5
}
