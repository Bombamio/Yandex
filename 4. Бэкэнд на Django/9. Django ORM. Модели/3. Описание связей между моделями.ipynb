{
 "cells": [
  {
   "cell_type": "markdown",
   "id": "2dfbf057",
   "metadata": {},
   "source": [
    "***\n",
    "## Модели, связанные «один к одному»\n",
    "\n",
    "Продолжаем развивать проект ACME: создадим модель для оригинальных названий фильмов; назовём её `OriginalTitle` и свяжем с моделью `VideoProduct` «один к одному».\n",
    "\n",
    "При описании связанных моделей важен порядок, в котором они размещены в коде: синтаксис описания связи отличается в зависимости от того, какая модель описана первой, а какая — второй.\n",
    "\n",
    "Модель `VideoProduct` ссылается на модель `OriginalTitle`. Чтобы модели `VideoProduct` было на что сослаться — сперва опишем модель `OriginalTitle`, а ниже — `VideoProduct`:"
   ]
  },
  {
   "cell_type": "code",
   "execution_count": null,
   "id": "bbb3bdf5",
   "metadata": {},
   "outputs": [],
   "source": [
    "# cinema/models.py\n",
    "from django.db import models\n",
    "\n",
    "class OriginalTitle(models.Model):\n",
    "    title = models.CharField(max_length=128)\n",
    "\n",
    "class VideoProduct(models.Model):\n",
    "    title = models.CharField(max_length=128)\n",
    "    # Описываем поле, ссылающееся на модель OriginalTitle:\n",
    "    original_title = models.OneToOneField(\n",
    "        # На какую модель ссылаемся\n",
    "        OriginalTitle,\n",
    "        # Поведение при удалении:\n",
    "        # если оригинальное имя будет удалено,\n",
    "        # то и сам фильм будет удалён. \n",
    "        on_delete=models.CASCADE\n",
    "    )"
   ]
  },
  {
   "cell_type": "markdown",
   "id": "39c6b5d1",
   "metadata": {},
   "source": [
    "***\n",
    "## Ссылающуюся модель можно описать выше той, на которую она ссылается.\n",
    "\n",
    "В этом случае имя модели, на которую ведёт ссылка, нужно указать в кавычках:"
   ]
  },
  {
   "cell_type": "code",
   "execution_count": null,
   "id": "96b26735",
   "metadata": {},
   "outputs": [],
   "source": [
    "# cinema/models.py\n",
    "from django.db import models\n",
    "\n",
    "class VideoProduct(models.Model):\n",
    "    title = models.CharField(max_length=128)\n",
    "    original_title = models.OneToOneField(\n",
    "        'OriginalTitle',  # Имя связанной модели заключаем в кавычки.\n",
    "        on_delete=models.CASCADE\n",
    "    )\n",
    "\n",
    "# Модель OriginalTitle описана позже, чем VideoProduct.\n",
    "class OriginalTitle(models.Model):\n",
    "    title = models.CharField(max_length=128)"
   ]
  },
  {
   "cell_type": "markdown",
   "id": "a84b3a18",
   "metadata": {},
   "source": [
    "***\n",
    "При миграции Django ORM создаст такие запросы:\n",
    "\n",
    "```sql\n",
    "CREATE TABLE \"cinema_originaltitle\" \n",
    "(\"id\" integer NOT NULL PRIMARY KEY AUTOINCREMENT,\n",
    "\"title\" varchar(128) NOT NULL\n",
    ");\n",
    "\n",
    "CREATE TABLE \"cinema_videoproduct\" \n",
    "(\"id\" integer NOT NULL PRIMARY KEY AUTOINCREMENT, \n",
    "\"title\" varchar(128) NOT NULL, \n",
    "\"original_title_id\" bigint NOT NULL UNIQUE REFERENCES \"cinema_originaltitle\" (\"id\")\n",
    ");\n",
    "```\n",
    "\n",
    "Чудеса с именами: имя поля `original_title` Django ORM превратил в `original_title_id`, приклеив к нему суффикс `_id`. \n",
    "\n",
    "Переведём SQL-запрос на русский язык:\n",
    "\n",
    "1. Создай таблицу `cinema_originaltitle` с такими полями:\n",
    "\n",
    "* `id` — автоинкрементный первичный ключ типа `integer`. При добавлении каждой новой записи значение в этом поле будет автоматически увеличиваться на единицу. Django ORM автоматически создаёт такое поле для каждой модели.\n",
    "\n",
    "* `title` — обязательное поле (`NOT NULL`) типа «строка»; длина строки — не более 128 символов.\n",
    "\n",
    "2. Создай таблицу `cinema_videoproduct` с такими полями:\n",
    "\n",
    "* `id` — автоинкрементный первичный ключ типа `integer`.\n",
    "\n",
    "* `title` — обязательное поле (`NOT NULL`), строка не больше 128 символов;\n",
    "\n",
    "* `original_title_id` — внешний ключ типа `bigint` (большое целое число).\n",
    "\n",
    "    Тип `bigint` похож на тип `integer`; разница в том, что `integer` не может принимать значения более 2147483647, а у `bigint` этого ограничения нет. При большом количестве записей значение id может и преодолеть лимит, установленный для `integer`.\n",
    "\n",
    "    Поле `original_title_id` обязательное (не может быть `NULL`), с уникальным (`UNIQUE`) в пределах таблицы значением; в параметре `REFERENCES \"cinema_originaltitle\" (\"id\")` описано, что это поле ссылается на колонку `id` таблицы `cinema_originaltitle`.\n",
    "\n",
    "После наполнения данными таблицы, созданные Django ORM, будут выглядеть примерно так:\n",
    "\n",
    "![alt text](https://pictures.s3.yandex.net/resources/image_1707808940.png)"
   ]
  },
  {
   "cell_type": "markdown",
   "id": "5b31996e",
   "metadata": {},
   "source": [
    "***\n",
    "## Обязательный аргумент для ссылающихся полей: on_delete\n",
    "\n",
    "Инструкция `on_delete=models.CASCADE` в модели `VideoProduct` устанавливает такие правила: если удаляется запись из `cinema_originaltitle` — будет удалена и ссылающаяся на неё запись из таблицы `cinema_videoproduct`.\n",
    "\n",
    "Есть и другой вариант: при удалении оригинального названия из таблицы `cinema_originaltitle` запись в таблице `cinema_videoproduct` можно сохранить; но для этого нужно сделать так, чтобы запись из `cinema_videoproduct` никуда не ссылалась (оригинального названия-то нет); в поле `original_title_id` этой записи нужно установить `NULL`.\n",
    "\n",
    "Для этого в описании поля модели нужно задать параметр `on_delete=models.SET_NULL`. При удалении объекта, на который ведёт ссылка, в ссылающихся записях вместо ссылки на объект будет установлен `NULL`. Чтобы провернуть этот фокус с `SET_NULL` — поле `original_title_id` должно принимать значение `NULL`; для этого в описании поля модели указывают аргумент `null=True`:"
   ]
  },
  {
   "cell_type": "code",
   "execution_count": null,
   "id": "7e10d647",
   "metadata": {},
   "outputs": [],
   "source": [
    "class VideoProduct(models.Model):\n",
    "    ...\n",
    "    original_title = models.OneToOneField(\n",
    "        OriginalTitle,  \n",
    "        on_delete=models.SET_NULL,\n",
    "        null=True\n",
    "    )"
   ]
  },
  {
   "cell_type": "markdown",
   "id": "50cdd03a",
   "metadata": {},
   "source": [
    "Для `on_delete` есть и другие аргументы:  `SET_DEFAULT`, `PROTECT` , `RESTRICT` и `DO_NOTHING`. \n",
    "\n",
    "***\n",
    "## Модели, связанные «многие к одному»\n",
    "\n",
    "Продолжаем строить базу данных: создадим модель `ProductType`, которая будет описывать тип фильма. Связь между моделями `VideoProduct` и `ProductType` должна быть «многие к одному»: много фильмов могут относиться к одному типу.\n",
    "\n",
    "![alt text](https://pictures.s3.yandex.net/resources/image_1707808954.png)\n",
    "\n",
    "Сначала опишем модель `ProductType`, а следом — `VideoProduct`, которая ссылается на `ProductType`. \n",
    "\n",
    "Связь «многие к одному» указывается  с помощью класса `ForeignKey`:"
   ]
  },
  {
   "cell_type": "code",
   "execution_count": null,
   "id": "da1a2be0",
   "metadata": {},
   "outputs": [],
   "source": [
    "# cinema/models.py\n",
    "from django.db import models\n",
    "\n",
    "class ProductType(models.Model):\n",
    "    title = models.CharField(max_length=128)\n",
    "\n",
    "class VideoProduct(models.Model):\n",
    "    title = models.CharField(max_length=128)\n",
    "    product_type = models.ForeignKey(\n",
    "        ProductType,\n",
    "        on_delete=models.CASCADE\n",
    "    )"
   ]
  },
  {
   "cell_type": "markdown",
   "id": "21fd5be0",
   "metadata": {},
   "source": [
    "***\n",
    "## Cвязь N:M «на коленке»\n",
    "\n",
    "Оригинальные значения и типы фильмов подключили, осталось разобраться с режиссёрами. Создадим таблицу и для них.\n",
    "\n",
    "У фильма может быть один режиссёр, а может быть целая команда, и всех их нужно связать с фильмом. Однако каждый режиссёр может быть автором нескольких фильмов.\n",
    "\n",
    "Получается, записи таблиц фильмов и режиссёров должны быть связаны как «многие ко многим».\n",
    "\n",
    "Такую связь можно создать через вспомогательную промежуточную таблицу:\n",
    "\n",
    "![alt text](https://pictures.s3.yandex.net/resources/S02_236_1679038813.png)\n",
    "\n",
    "Создадим модель `Director` (в ней будем хранить информацию о режиссёрах) и модель для промежуточной таблицы `—DirectorVideoProduct`: в каждой записи этой таблицы будут сопоставлены `id` фильма и `id` связанного с ним режиссёра."
   ]
  },
  {
   "cell_type": "code",
   "execution_count": null,
   "id": "3e262448",
   "metadata": {},
   "outputs": [],
   "source": [
    "from django.db import models\n",
    "\n",
    "class VideoProduct(models.Model):\n",
    "    title = models.CharField(max_length=128)\n",
    "\n",
    "class Director(models.Model):\n",
    "    full_name = models.CharField(max_length=128)\n",
    "\n",
    "class DirectorVideoProduct(models.Model):\n",
    "    video_product = models.ForeignKey(VideoProduct, on_delete=models.CASCADE)\n",
    "    director = models.ForeignKey(Director, on_delete=models.CASCADE)"
   ]
  },
  {
   "cell_type": "markdown",
   "id": "42f44b66",
   "metadata": {},
   "source": [
    "***\n",
    "## Связь N:M в Django ORM\n",
    "\n",
    "В Django ORM для создания связи «многие ко многим» предусмотрен тип поля `ManyToManyField`:"
   ]
  },
  {
   "cell_type": "code",
   "execution_count": null,
   "id": "cbdf0bef",
   "metadata": {},
   "outputs": [],
   "source": [
    "from django.db import models\n",
    "\n",
    "class Director(models.Model):\n",
    "    full_name = models.CharField(max_length=128)\n",
    "\n",
    "class VideoProduct(models.Model):\n",
    "    title = models.CharField(max_length=128)\n",
    "    directors = models.ManyToManyField(Director)  # Вот оно, поле! "
   ]
  },
  {
   "cell_type": "markdown",
   "id": "28b8d217",
   "metadata": {},
   "source": [
    "Увидев инструкцию `models.ManyToManyField`, Django ORM поймёт, что без промежуточной таблицы не обойтись — и сам создаст её, не заставляя разработчика загромождать код вспомогательными моделями. \n",
    "\n",
    "SQL-запрос будет выглядеть почти так же, как и в предыдущем примере, где промежуточная таблица была описана вручную. Единственная разница — Django ORM создаст индекс по составному первичному ключу `'videoproduct_id'`, `'director_id'`.\n",
    "\n",
    "В большинстве случаев стандартное поле `ManyToManyField` — это всё, что нужно для связи «многие ко многим». Но иногда в промежуточной модели требуется создать дополнительное поле, например, чтобы охарактеризовать связь между двумя моделями. В нашем примере в таком поле можно хранить информацию о дате начала работы конкретного режиссёра над конкретной картиной или причину, по которой для работы над фильмом выбрали именно этого режиссёра.\n",
    "\n",
    "При использовании поля `ManyToManyField` Django ORM позволяет указать промежуточную модель, которая будет использоваться для управления отношениями «многие ко многим». В этой модели можно описать и дополнительные поля (например, добавить поле для текста, описывающего эту связь). \n",
    "\n",
    "Промежуточная модель указывается при описании поля `ManyToManyField` при помощи параметра `through`. Для нашего кинематографического примера код будет выглядеть так:\n",
    "\n"
   ]
  },
  {
   "cell_type": "code",
   "execution_count": null,
   "id": "927d60ae",
   "metadata": {},
   "outputs": [],
   "source": [
    "from django.db import models\n",
    "\n",
    "class Director(models.Model):\n",
    "    full_name = models.CharField(max_length=128)\n",
    "\n",
    "class VideoProduct(models.Model):\n",
    "    title = models.CharField(max_length=128)\n",
    "    # Параметр through указывает, какую модель надо назначить промежуточной:\n",
    "    directors = models.ManyToManyField(Director, through='Partnership')\n",
    "\n",
    "class Partnership(models.Model):\n",
    "    # Поле, ссылающееся на модель Director:\n",
    "    director = models.ForeignKey(Director, on_delete=models.CASCADE)\n",
    "    # Поле, ссылающееся на модель VideoProduct:\n",
    "    videoproduct = models.ForeignKey(VideoProduct, on_delete=models.CASCADE)\n",
    "    # Дополнительные поля:\n",
    "    # дата начала работы режиссёра над фильмом...\n",
    "    date_joined = models.DateField()\n",
    "    # ...и история о том, почему на фильм пригласили именно этого режиссёра.\n",
    "    invite_reason = models.CharField(max_length=300)"
   ]
  },
  {
   "cell_type": "markdown",
   "id": "3dbceee6",
   "metadata": {},
   "source": [
    "В описании модели-посредника необходимо явно указать внешние ключи для моделей, связанных «многие ко многим» (в нашем примере это поля `director` и `videoproduct`). Это явное объявление и определяет, как связаны две модели.\n",
    "\n",
    "При создании связи N:M разработчики в большинстве случаев применяют поле `ManyToManyField` (с параметром `through` или без него); при использовании этого поля Django ORM заметно упрощает работу со связанными моделями, предоставляя разработчику множество дополнительных инструментов, которых не получить, создав связь «на коленке». \n",
    "\n",
    "***\n",
    "## Хозяйке на заметку\n",
    "\n",
    "* О том, как работают значения `SET_DEFAULT`, `PROTECT` , `RESTRICT` и `DO_NOTHING` для `on_delete`, можно узнать [в документации](https://docs.djangoproject.com/en/3.2/ref/models/fields/#django.db.models.CASCADE)."
   ]
  },
  {
   "cell_type": "markdown",
   "id": "13d1c81f",
   "metadata": {},
   "source": [
    "***\n",
    "## Имя для обратной связи между таблицами\n",
    "\n",
    "Если в модели описаны поля, для которых указан тип `ForeignKey`, то объекты связанной модели получают специальный интерфейс, через который можно получить доступ к объектам исходной модели. Для этого используется опциональный параметр `related_name`. \n",
    "\n",
    "Этот параметр позволяет задать имя атрибута, используемого для обратной связи от связанной модели к модели, которая определяет отношение.\n",
    "\n",
    "Вот пример использования `related_name`:"
   ]
  },
  {
   "cell_type": "code",
   "execution_count": null,
   "id": "2d965634",
   "metadata": {},
   "outputs": [],
   "source": [
    "from django.db import models\n",
    "\n",
    "class Author(models.Model):\n",
    "    name = models.CharField(max_length=100)\n",
    "\n",
    "class Book(models.Model):\n",
    "    title = models.CharField(max_length=100)\n",
    "    author = models.ForeignKey(Author, on_delete=models.CASCADE, related_name='books')"
   ]
  },
  {
   "cell_type": "markdown",
   "id": "27646612",
   "metadata": {},
   "source": [
    "В этом примере, у модели `Book` есть поле `author`, связанное с моделью `Author` через `ForeignKey`. Параметр `related_name='books'` указывает, что для доступа ко всем книгам автора, связанным с объектом модели `Author`, можно использовать атрибут `books`. Например вот так:\n",
    "\n",
    "```py\n",
    "author = Author.objects.get(name='Александр Пушкин')\n",
    "pushkin_books = author.books.all() \n",
    "```\n",
    "\n",
    "Если не указывать `related_name`, то для доступа к связанным книгам пришлось бы использовать имя `book_set`. Такое имя генерируется автоматически добавлением постфикса «_set» к имени модели.\n",
    "\n",
    "```py\n",
    "pushkin_books = author.book_set.all() \n",
    "```\n",
    "\n",
    "Использование `related_name` удобно в случаях, когда:\n",
    "\n",
    "* необходимо предоставить более понятное и читаемое имя для доступа к связанным объектам вместо использования автоматически сгенерированных имен.\n",
    "\n",
    "* в случае, когда у модели есть несколько полей, связанных с другой моделью и `related_name` помогает различать имена обратных связей и предотвращает возможные конфликты имен."
   ]
  }
 ],
 "metadata": {
  "kernelspec": {
   "display_name": ".venv",
   "language": "python",
   "name": "python3"
  },
  "language_info": {
   "name": "python",
   "version": "3.12.7"
  }
 },
 "nbformat": 4,
 "nbformat_minor": 5
}
