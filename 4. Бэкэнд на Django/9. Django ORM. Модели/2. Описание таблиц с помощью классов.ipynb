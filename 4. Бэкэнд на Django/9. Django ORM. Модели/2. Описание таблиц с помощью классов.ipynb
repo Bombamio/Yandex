{
 "cells": [
  {
   "cell_type": "markdown",
   "id": "b5142731",
   "metadata": {},
   "source": [
    "За подключение и настройку БД в проекте отвечает константа `DATABASES` в *settings.py*\n",
    "\n",
    "```py\n",
    "# <название проекта>/settings.py\n",
    "\n",
    "DATABASES = {\n",
    "    'default': {\n",
    "        # К проекту по умолчанию подключена СУБД SQLite:  \n",
    "        'ENGINE': 'django.db.backends.sqlite3',\n",
    "        # Файл с базой данных находится в одной папке с manage.py.\n",
    "        'NAME': BASE_DIR / 'db.sqlite3',\n",
    "    }\n",
    "}\n",
    "```\n",
    "\n",
    "Прелесть Django состоит в том, что если появится необходимость подключить к проекту другую БД — будет достаточно поменять настройки в *settings.py*, а больше ничего менять не придётся. "
   ]
  },
  {
   "cell_type": "markdown",
   "id": "2c189f1c",
   "metadata": {},
   "source": [
    "***\n",
    "## Первая модель для первой таблицы\n",
    "Таблицы БД создаются с помощью ORM в два этапа:\n",
    "\n",
    "1. **Описание структуры** БД: в специальных Python-классах (их принято называть **моделями**) описывают типы полей и связи между таблицами.\n",
    "\n",
    "2. **Создание и выполнение миграций**: при выполнении миграций Django ORM на основе моделей создаёт таблицы в БД.\n",
    "\n",
    "Начнём работу с создания таблицы с фильмами: в приложении **cinema** создадим модель `VideoProduct` с одним полем: `title` (название фильма или другого видеопродукта).\n",
    "\n",
    "Модели наследуются от класса `Model` из модуля `models`. "
   ]
  },
  {
   "cell_type": "code",
   "execution_count": null,
   "id": "057a83b3",
   "metadata": {},
   "outputs": [],
   "source": [
    "# cinema/models.py\n",
    "# Импортируем модуль с классом Model, от которого будем наследовать модели:\n",
    "from django.db import models\n",
    "\n",
    "class VideoProduct(models.Model):\n",
    "    title = models.CharField(max_length=128)"
   ]
  },
  {
   "cell_type": "markdown",
   "id": "55846b74",
   "metadata": {},
   "source": [
    "При выполнении миграций на основе этой модели Django ORM создаст и отправит такой SQL-запрос: \n",
    "\n",
    "```sql\n",
    "CREATE TABLE \"cinema_videoproduct\" (\n",
    "  \"id\" integer NOT NULL PRIMARY KEY AUTOINCREMENT,\n",
    "  \"title\" varchar(128) NOT NULL\n",
    ");\n",
    "```\n",
    "\n",
    "В результате этого запроса в базе данных будет создана таблица **cinema_videoproduct**. \n",
    "\n",
    "* Из названия приложения `Cinema` и названия модели `VideoProduct` Django ORM сгенерировал название для таблицы: `cinema_videoproduct`.\n",
    "\n",
    "* В модели описано лишь одно поле, но в запросе видно, что будет создано два поля. Django ORM автоматически создаёт поле `id` — **первичный ключ** типа `INTEGER`. Параметр `AUTOINCREMENT` указывает, что для каждой новой записи значение этого числового поля будет автоматически увеличиваться на единицу.\n",
    "\n",
    "* Поле `title` будет создано на основе атрибута `title` модели `VideoProduct`.\n",
    "\n",
    "    Тип этого поля определён классом `CharField(max_length=128)`; в синтаксисе SQL тип этого поля превратится в `VARCHAR`, длина строки будет ограничена: не более 128 символов. Значение `NOT NULL` добавлено автоматически, по умолчанию."
   ]
  },
  {
   "cell_type": "markdown",
   "id": "2cc5b50b",
   "metadata": {},
   "source": [
    "***\n",
    "## Типы полей в Django\n",
    "При описании поля модели его тип указывается при помощи специальных классов. Вот несколько популярных типов (в скобках — название аналогичного типа в SQL):\n",
    "\n",
    "* `models.IntegerField()` — натуральное число (INTEGER);\n",
    "\n",
    "* `models.FloatField()` — число с плавающей точкой (REAL);\n",
    "\n",
    "* `models.BooleanField()` — булев тип `False`/`True` (BOOL);\n",
    "\n",
    "* `models.CharField()` — строка (текстовое поле с ограничением по числу символов) (VARCHAR);\n",
    "\n",
    "* `models.TextField()` — текстовое поле (TEXT);\n",
    "\n",
    "* `models.DateField()` — дата, как `datetime.date` в Python (DATE);\n",
    "\n",
    "* `models.DateTimeField()` — дата и время, как `datetime.datetime` в Python (DATETIME);\n",
    "\n",
    "* `models.SlugField()` — «слаг», для строк, состоящих только из цифр, букв латиницы и символов `-` и `_`. Обычно слаг используют для создания человекочитаемых URL;\n",
    "\n",
    "* `models.ImageField()` — для изображений. "
   ]
  },
  {
   "cell_type": "markdown",
   "id": "8e34aa55",
   "metadata": {},
   "source": [
    "***\n",
    "## Хозяйке на заметку\n",
    "\n",
    "* Как подключить базу данных к проекту: описание в [официальной документации](https://docs.djangoproject.com/en/3.2/ref/databases/).\n",
    "\n",
    "* В Django есть [множество типов полей БД](https://docs.djangoproject.com/en/3.2/ref/models/fields/#field-types) на все случаи жизни."
   ]
  }
 ],
 "metadata": {
  "kernelspec": {
   "display_name": ".venv (3.12.7)",
   "language": "python",
   "name": "python3"
  },
  "language_info": {
   "name": "python",
   "version": "3.12.7"
  }
 },
 "nbformat": 4,
 "nbformat_minor": 5
}
